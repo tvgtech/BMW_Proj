{
 "cells": [
  {
   "cell_type": "markdown",
   "metadata": {},
   "source": [
    "__Hoja de trabajo Proyecto BMW - Esther__"
   ]
  },
  {
   "cell_type": "code",
   "execution_count": 76,
   "metadata": {},
   "outputs": [],
   "source": [
    "import pandas as pd\n",
    "import numpy as np\n",
    "import matplotlib.pyplot as plt\n",
    "import seaborn as sns\n"
   ]
  },
  {
   "cell_type": "markdown",
   "metadata": {},
   "source": [
    "1.Importar dataset"
   ]
  },
  {
   "cell_type": "code",
   "execution_count": 77,
   "metadata": {},
   "outputs": [],
   "source": [
    "df_bmw = pd.read_csv('dataset/bmw_pricing_v3.csv')"
   ]
  },
  {
   "cell_type": "code",
   "execution_count": 78,
   "metadata": {},
   "outputs": [
    {
     "data": {
      "text/html": [
       "<div>\n",
       "<style scoped>\n",
       "    .dataframe tbody tr th:only-of-type {\n",
       "        vertical-align: middle;\n",
       "    }\n",
       "\n",
       "    .dataframe tbody tr th {\n",
       "        vertical-align: top;\n",
       "    }\n",
       "\n",
       "    .dataframe thead th {\n",
       "        text-align: right;\n",
       "    }\n",
       "</style>\n",
       "<table border=\"1\" class=\"dataframe\">\n",
       "  <thead>\n",
       "    <tr style=\"text-align: right;\">\n",
       "      <th></th>\n",
       "      <th>marca</th>\n",
       "      <th>modelo</th>\n",
       "      <th>km</th>\n",
       "      <th>potencia</th>\n",
       "      <th>fecha_registro</th>\n",
       "      <th>tipo_gasolina</th>\n",
       "      <th>color</th>\n",
       "      <th>tipo_coche</th>\n",
       "      <th>volante_regulable</th>\n",
       "      <th>aire_acondicionado</th>\n",
       "      <th>camara_trasera</th>\n",
       "      <th>asientos_traseros_plegables</th>\n",
       "      <th>elevalunas_electrico</th>\n",
       "      <th>bluetooth</th>\n",
       "      <th>gps</th>\n",
       "      <th>alerta_lim_velocidad</th>\n",
       "      <th>precio</th>\n",
       "      <th>fecha_venta</th>\n",
       "    </tr>\n",
       "  </thead>\n",
       "  <tbody>\n",
       "    <tr>\n",
       "      <th>3310</th>\n",
       "      <td>BMW</td>\n",
       "      <td>525</td>\n",
       "      <td>132285.0</td>\n",
       "      <td>160.0</td>\n",
       "      <td>2013-07-01</td>\n",
       "      <td>diesel</td>\n",
       "      <td>black</td>\n",
       "      <td>sedan</td>\n",
       "      <td>False</td>\n",
       "      <td>NaN</td>\n",
       "      <td>False</td>\n",
       "      <td>NaN</td>\n",
       "      <td>True</td>\n",
       "      <td>False</td>\n",
       "      <td>True</td>\n",
       "      <td>NaN</td>\n",
       "      <td>20600.0</td>\n",
       "      <td>2018-06-01</td>\n",
       "    </tr>\n",
       "    <tr>\n",
       "      <th>4226</th>\n",
       "      <td>BMW</td>\n",
       "      <td>X3</td>\n",
       "      <td>161729.0</td>\n",
       "      <td>100.0</td>\n",
       "      <td>NaN</td>\n",
       "      <td>diesel</td>\n",
       "      <td>brown</td>\n",
       "      <td>suv</td>\n",
       "      <td>True</td>\n",
       "      <td>True</td>\n",
       "      <td>False</td>\n",
       "      <td>NaN</td>\n",
       "      <td>False</td>\n",
       "      <td>False</td>\n",
       "      <td>True</td>\n",
       "      <td>False</td>\n",
       "      <td>13800.0</td>\n",
       "      <td>2018-05-01</td>\n",
       "    </tr>\n",
       "    <tr>\n",
       "      <th>1839</th>\n",
       "      <td>BMW</td>\n",
       "      <td>116</td>\n",
       "      <td>147717.0</td>\n",
       "      <td>101.0</td>\n",
       "      <td>NaN</td>\n",
       "      <td>petrol</td>\n",
       "      <td>NaN</td>\n",
       "      <td>hatchback</td>\n",
       "      <td>True</td>\n",
       "      <td>True</td>\n",
       "      <td>False</td>\n",
       "      <td>False</td>\n",
       "      <td>False</td>\n",
       "      <td>NaN</td>\n",
       "      <td>True</td>\n",
       "      <td>True</td>\n",
       "      <td>8400.0</td>\n",
       "      <td>2018-03-01</td>\n",
       "    </tr>\n",
       "    <tr>\n",
       "      <th>2921</th>\n",
       "      <td>BMW</td>\n",
       "      <td>320</td>\n",
       "      <td>159143.0</td>\n",
       "      <td>120.0</td>\n",
       "      <td>NaN</td>\n",
       "      <td>diesel</td>\n",
       "      <td>NaN</td>\n",
       "      <td>NaN</td>\n",
       "      <td>True</td>\n",
       "      <td>True</td>\n",
       "      <td>False</td>\n",
       "      <td>NaN</td>\n",
       "      <td>True</td>\n",
       "      <td>NaN</td>\n",
       "      <td>True</td>\n",
       "      <td>True</td>\n",
       "      <td>14500.0</td>\n",
       "      <td>2018-04-01</td>\n",
       "    </tr>\n",
       "    <tr>\n",
       "      <th>2498</th>\n",
       "      <td>BMW</td>\n",
       "      <td>520</td>\n",
       "      <td>172022.0</td>\n",
       "      <td>135.0</td>\n",
       "      <td>NaN</td>\n",
       "      <td>diesel</td>\n",
       "      <td>grey</td>\n",
       "      <td>sedan</td>\n",
       "      <td>False</td>\n",
       "      <td>True</td>\n",
       "      <td>False</td>\n",
       "      <td>False</td>\n",
       "      <td>False</td>\n",
       "      <td>False</td>\n",
       "      <td>False</td>\n",
       "      <td>True</td>\n",
       "      <td>15600.0</td>\n",
       "      <td>2018-07-01</td>\n",
       "    </tr>\n",
       "  </tbody>\n",
       "</table>\n",
       "</div>"
      ],
      "text/plain": [
       "     marca modelo        km  potencia fecha_registro tipo_gasolina  color  \\\n",
       "3310   BMW    525  132285.0     160.0     2013-07-01        diesel  black   \n",
       "4226   BMW     X3  161729.0     100.0            NaN        diesel  brown   \n",
       "1839   BMW    116  147717.0     101.0            NaN        petrol    NaN   \n",
       "2921   BMW    320  159143.0     120.0            NaN        diesel    NaN   \n",
       "2498   BMW    520  172022.0     135.0            NaN        diesel   grey   \n",
       "\n",
       "     tipo_coche volante_regulable aire_acondicionado camara_trasera  \\\n",
       "3310      sedan             False                NaN          False   \n",
       "4226        suv              True               True          False   \n",
       "1839  hatchback              True               True          False   \n",
       "2921        NaN              True               True          False   \n",
       "2498      sedan             False               True          False   \n",
       "\n",
       "     asientos_traseros_plegables elevalunas_electrico bluetooth    gps  \\\n",
       "3310                         NaN                 True     False   True   \n",
       "4226                         NaN                False     False   True   \n",
       "1839                       False                False       NaN   True   \n",
       "2921                         NaN                 True       NaN   True   \n",
       "2498                       False                False     False  False   \n",
       "\n",
       "     alerta_lim_velocidad   precio fecha_venta  \n",
       "3310                  NaN  20600.0  2018-06-01  \n",
       "4226                False  13800.0  2018-05-01  \n",
       "1839                 True   8400.0  2018-03-01  \n",
       "2921                 True  14500.0  2018-04-01  \n",
       "2498                 True  15600.0  2018-07-01  "
      ]
     },
     "execution_count": 78,
     "metadata": {},
     "output_type": "execute_result"
    }
   ],
   "source": [
    "df_bmw.sample(5)"
   ]
  },
  {
   "cell_type": "code",
   "execution_count": 79,
   "metadata": {},
   "outputs": [
    {
     "data": {
      "text/plain": [
       "(4843, 18)"
      ]
     },
     "execution_count": 79,
     "metadata": {},
     "output_type": "execute_result"
    }
   ],
   "source": [
    "df_bmw.shape"
   ]
  },
  {
   "cell_type": "code",
   "execution_count": 80,
   "metadata": {},
   "outputs": [
    {
     "name": "stdout",
     "output_type": "stream",
     "text": [
      "<class 'pandas.core.frame.DataFrame'>\n",
      "RangeIndex: 4843 entries, 0 to 4842\n",
      "Data columns (total 18 columns):\n",
      " #   Column                       Non-Null Count  Dtype  \n",
      "---  ------                       --------------  -----  \n",
      " 0   marca                        3873 non-null   object \n",
      " 1   modelo                       4840 non-null   object \n",
      " 2   km                           4841 non-null   float64\n",
      " 3   potencia                     4842 non-null   float64\n",
      " 4   fecha_registro               2420 non-null   object \n",
      " 5   tipo_gasolina                4838 non-null   object \n",
      " 6   color                        4398 non-null   object \n",
      " 7   tipo_coche                   3383 non-null   object \n",
      " 8   volante_regulable            4839 non-null   object \n",
      " 9   aire_acondicionado           4357 non-null   object \n",
      " 10  camara_trasera               4841 non-null   object \n",
      " 11  asientos_traseros_plegables  1452 non-null   object \n",
      " 12  elevalunas_electrico         4841 non-null   object \n",
      " 13  bluetooth                    4115 non-null   object \n",
      " 14  gps                          4843 non-null   bool   \n",
      " 15  alerta_lim_velocidad         4115 non-null   object \n",
      " 16  precio                       4837 non-null   float64\n",
      " 17  fecha_venta                  4842 non-null   object \n",
      "dtypes: bool(1), float64(3), object(14)\n",
      "memory usage: 648.1+ KB\n"
     ]
    }
   ],
   "source": [
    "df_bmw.info()"
   ]
  },
  {
   "cell_type": "markdown",
   "metadata": {},
   "source": [
    "Primeros comentarios:\n",
    "1. Varias columnas con nulos\n",
    "2. Campos fechas tipo 'object'\n",
    "3. Solo el campo 'gps' es tipo booleano, en cambio campos como volante_regulable, aire_acondicionado, camara_trasera...alerta_lim_velocidad son 'objects' a pesar de tener valores 'True/False' "
   ]
  },
  {
   "cell_type": "code",
   "execution_count": 81,
   "metadata": {},
   "outputs": [],
   "source": [
    "#cambio las fechas a date_time\n",
    "for i in [\"fecha_registro\",\"fecha_venta\"]:\n",
    "    df_bmw[i]=pd.to_datetime(df_bmw[i])"
   ]
  },
  {
   "cell_type": "code",
   "execution_count": 82,
   "metadata": {},
   "outputs": [
    {
     "name": "stdout",
     "output_type": "stream",
     "text": [
      "<class 'pandas.core.frame.DataFrame'>\n",
      "RangeIndex: 4843 entries, 0 to 4842\n",
      "Data columns (total 18 columns):\n",
      " #   Column                       Non-Null Count  Dtype         \n",
      "---  ------                       --------------  -----         \n",
      " 0   marca                        3873 non-null   object        \n",
      " 1   modelo                       4840 non-null   object        \n",
      " 2   km                           4841 non-null   float64       \n",
      " 3   potencia                     4842 non-null   float64       \n",
      " 4   fecha_registro               2420 non-null   datetime64[ns]\n",
      " 5   tipo_gasolina                4838 non-null   object        \n",
      " 6   color                        4398 non-null   object        \n",
      " 7   tipo_coche                   3383 non-null   object        \n",
      " 8   volante_regulable            4839 non-null   object        \n",
      " 9   aire_acondicionado           4357 non-null   object        \n",
      " 10  camara_trasera               4841 non-null   object        \n",
      " 11  asientos_traseros_plegables  1452 non-null   object        \n",
      " 12  elevalunas_electrico         4841 non-null   object        \n",
      " 13  bluetooth                    4115 non-null   object        \n",
      " 14  gps                          4843 non-null   bool          \n",
      " 15  alerta_lim_velocidad         4115 non-null   object        \n",
      " 16  precio                       4837 non-null   float64       \n",
      " 17  fecha_venta                  4842 non-null   datetime64[ns]\n",
      "dtypes: bool(1), datetime64[ns](2), float64(3), object(12)\n",
      "memory usage: 648.1+ KB\n"
     ]
    }
   ],
   "source": [
    "df_bmw.info()"
   ]
  },
  {
   "cell_type": "markdown",
   "metadata": {},
   "source": [
    "2. Analizamos duplicados"
   ]
  },
  {
   "cell_type": "code",
   "execution_count": 83,
   "metadata": {},
   "outputs": [
    {
     "data": {
      "text/plain": [
       "(0, 18)"
      ]
     },
     "execution_count": 83,
     "metadata": {},
     "output_type": "execute_result"
    }
   ],
   "source": [
    "df_bmw[df_bmw.duplicated()].shape"
   ]
  },
  {
   "cell_type": "markdown",
   "metadata": {},
   "source": [
    "Comentarios: sin duplicados"
   ]
  },
  {
   "cell_type": "markdown",
   "metadata": {},
   "source": [
    "3 .Analizar nulos\n"
   ]
  },
  {
   "cell_type": "code",
   "execution_count": 84,
   "metadata": {},
   "outputs": [
    {
     "data": {
      "text/plain": [
       "marca                           970\n",
       "modelo                            3\n",
       "km                                2\n",
       "potencia                          1\n",
       "fecha_registro                 2423\n",
       "tipo_gasolina                     5\n",
       "color                           445\n",
       "tipo_coche                     1460\n",
       "volante_regulable                 4\n",
       "aire_acondicionado              486\n",
       "camara_trasera                    2\n",
       "asientos_traseros_plegables    3391\n",
       "elevalunas_electrico              2\n",
       "bluetooth                       728\n",
       "gps                               0\n",
       "alerta_lim_velocidad            728\n",
       "precio                            6\n",
       "fecha_venta                       1\n",
       "dtype: int64"
      ]
     },
     "execution_count": 84,
     "metadata": {},
     "output_type": "execute_result"
    }
   ],
   "source": [
    "df_bmw.isnull().sum()"
   ]
  },
  {
   "cell_type": "markdown",
   "metadata": {},
   "source": [
    "3.1. Analizamos los campos con más nulos"
   ]
  },
  {
   "cell_type": "markdown",
   "metadata": {},
   "source": [
    "3.1.1. MARCA: vemos que solo tiene dos valores 'BMW' y 'nan'. Por lo tanto como no aporta información, la borramos (haciendo una copia antes)\n"
   ]
  },
  {
   "cell_type": "code",
   "execution_count": 85,
   "metadata": {},
   "outputs": [
    {
     "data": {
      "text/plain": [
       "array([nan, 'BMW'], dtype=object)"
      ]
     },
     "execution_count": 85,
     "metadata": {},
     "output_type": "execute_result"
    }
   ],
   "source": [
    "df_bmw['marca'].unique()"
   ]
  },
  {
   "cell_type": "code",
   "execution_count": 86,
   "metadata": {},
   "outputs": [],
   "source": [
    "df_bmw1 =  df_bmw.copy()"
   ]
  },
  {
   "cell_type": "code",
   "execution_count": 87,
   "metadata": {},
   "outputs": [],
   "source": [
    "del(df_bmw1['marca'])"
   ]
  },
  {
   "cell_type": "code",
   "execution_count": 88,
   "metadata": {},
   "outputs": [
    {
     "data": {
      "text/plain": [
       "modelo                            3\n",
       "km                                2\n",
       "potencia                          1\n",
       "fecha_registro                 2423\n",
       "tipo_gasolina                     5\n",
       "color                           445\n",
       "tipo_coche                     1460\n",
       "volante_regulable                 4\n",
       "aire_acondicionado              486\n",
       "camara_trasera                    2\n",
       "asientos_traseros_plegables    3391\n",
       "elevalunas_electrico              2\n",
       "bluetooth                       728\n",
       "gps                               0\n",
       "alerta_lim_velocidad            728\n",
       "precio                            6\n",
       "fecha_venta                       1\n",
       "dtype: int64"
      ]
     },
     "execution_count": 88,
     "metadata": {},
     "output_type": "execute_result"
    }
   ],
   "source": [
    "df_bmw1.isnull().sum()"
   ]
  },
  {
   "cell_type": "code",
   "execution_count": 89,
   "metadata": {},
   "outputs": [
    {
     "data": {
      "text/plain": [
       "(4843, 17)"
      ]
     },
     "execution_count": 89,
     "metadata": {},
     "output_type": "execute_result"
    }
   ],
   "source": [
    "df_bmw1.shape"
   ]
  },
  {
   "cell_type": "markdown",
   "metadata": {},
   "source": [
    "3.1.2 FECHA REGISTO: columna con demasiados nulos. La eliminamos."
   ]
  },
  {
   "cell_type": "code",
   "execution_count": 90,
   "metadata": {},
   "outputs": [
    {
     "data": {
      "text/plain": [
       "fecha_registro\n",
       "NaT           50.030973\n",
       "2013-07-01     1.920297\n",
       "2014-03-01     1.713814\n",
       "2014-05-01     1.672517\n",
       "2013-01-01     1.610572\n",
       "                ...    \n",
       "2007-01-01     0.020648\n",
       "1990-03-01     0.020648\n",
       "2006-11-01     0.020648\n",
       "1994-01-01     0.020648\n",
       "2005-09-01     0.020648\n",
       "Name: proportion, Length: 181, dtype: float64"
      ]
     },
     "execution_count": 90,
     "metadata": {},
     "output_type": "execute_result"
    }
   ],
   "source": [
    "df_bmw1['fecha_registro'].value_counts(dropna = False, normalize = True) * 100"
   ]
  },
  {
   "cell_type": "code",
   "execution_count": 91,
   "metadata": {},
   "outputs": [],
   "source": [
    "df_bmw2 =  df_bmw1.copy()"
   ]
  },
  {
   "cell_type": "code",
   "execution_count": 92,
   "metadata": {},
   "outputs": [
    {
     "data": {
      "text/plain": [
       "(4843, 17)"
      ]
     },
     "execution_count": 92,
     "metadata": {},
     "output_type": "execute_result"
    }
   ],
   "source": [
    "df_bmw2.shape"
   ]
  },
  {
   "cell_type": "code",
   "execution_count": 93,
   "metadata": {},
   "outputs": [],
   "source": [
    "del(df_bmw2['fecha_registro'])"
   ]
  },
  {
   "cell_type": "code",
   "execution_count": 94,
   "metadata": {},
   "outputs": [
    {
     "data": {
      "text/plain": [
       "modelo                            3\n",
       "km                                2\n",
       "potencia                          1\n",
       "tipo_gasolina                     5\n",
       "color                           445\n",
       "tipo_coche                     1460\n",
       "volante_regulable                 4\n",
       "aire_acondicionado              486\n",
       "camara_trasera                    2\n",
       "asientos_traseros_plegables    3391\n",
       "elevalunas_electrico              2\n",
       "bluetooth                       728\n",
       "gps                               0\n",
       "alerta_lim_velocidad            728\n",
       "precio                            6\n",
       "fecha_venta                       1\n",
       "dtype: int64"
      ]
     },
     "execution_count": 94,
     "metadata": {},
     "output_type": "execute_result"
    }
   ],
   "source": [
    "df_bmw2.isnull().sum()"
   ]
  },
  {
   "cell_type": "markdown",
   "metadata": {},
   "source": [
    "3.1.3 COLOR: Muchos nulos, pero no creo que se deba borrar la columna por contener información relevante. Les asigno el valor 'sin color'"
   ]
  },
  {
   "cell_type": "code",
   "execution_count": 95,
   "metadata": {},
   "outputs": [
    {
     "data": {
      "text/plain": [
       "color\n",
       "black     30.951889\n",
       "grey      22.093744\n",
       "blue      13.359488\n",
       "white      9.993805\n",
       "NaN        9.188520\n",
       "brown      6.235804\n",
       "silver     6.029321\n",
       "red        0.970473\n",
       "beige      0.763989\n",
       "green      0.289077\n",
       "orange     0.123890\n",
       "Name: proportion, dtype: float64"
      ]
     },
     "execution_count": 95,
     "metadata": {},
     "output_type": "execute_result"
    }
   ],
   "source": [
    "df_bmw2['color'].value_counts(dropna = False, normalize = True) * 100"
   ]
  },
  {
   "cell_type": "code",
   "execution_count": null,
   "metadata": {},
   "outputs": [],
   "source": [
    "df_bmw2[df_bmw2['color'].isnull()]"
   ]
  },
  {
   "cell_type": "code",
   "execution_count": 97,
   "metadata": {},
   "outputs": [],
   "source": [
    "df_bmw3 = df_bmw2.copy()"
   ]
  },
  {
   "cell_type": "code",
   "execution_count": 98,
   "metadata": {},
   "outputs": [],
   "source": [
    "df_bmw3['color'].fillna('sin color', inplace=True)"
   ]
  },
  {
   "cell_type": "code",
   "execution_count": 99,
   "metadata": {},
   "outputs": [
    {
     "data": {
      "text/plain": [
       "modelo                            3\n",
       "km                                2\n",
       "potencia                          1\n",
       "tipo_gasolina                     5\n",
       "color                             0\n",
       "tipo_coche                     1460\n",
       "volante_regulable                 4\n",
       "aire_acondicionado              486\n",
       "camara_trasera                    2\n",
       "asientos_traseros_plegables    3391\n",
       "elevalunas_electrico              2\n",
       "bluetooth                       728\n",
       "gps                               0\n",
       "alerta_lim_velocidad            728\n",
       "precio                            6\n",
       "fecha_venta                       1\n",
       "dtype: int64"
      ]
     },
     "execution_count": 99,
     "metadata": {},
     "output_type": "execute_result"
    }
   ],
   "source": [
    "df_bmw3.isnull().sum()"
   ]
  },
  {
   "cell_type": "markdown",
   "metadata": {},
   "source": [
    "3.1.4 TIPO_COCHE: Muchos nulos, pero no creo que se deba borrar la columna por contener información relevante. Les asigno el valor 'sin tipo_coche'"
   ]
  },
  {
   "cell_type": "code",
   "execution_count": 100,
   "metadata": {},
   "outputs": [
    {
     "data": {
      "text/plain": [
       "tipo_coche\n",
       "NaN            30.146603\n",
       "estate         22.857733\n",
       "sedan          16.952302\n",
       "suv            15.589511\n",
       "hatchback      10.076399\n",
       "subcompact      1.589924\n",
       "coupe           1.569275\n",
       "convertible     0.619451\n",
       "van             0.598802\n",
       "Name: proportion, dtype: float64"
      ]
     },
     "execution_count": 100,
     "metadata": {},
     "output_type": "execute_result"
    }
   ],
   "source": [
    "df_bmw3['tipo_coche'].value_counts(dropna = False, normalize = True) * 100"
   ]
  },
  {
   "cell_type": "code",
   "execution_count": 101,
   "metadata": {},
   "outputs": [],
   "source": [
    "df_bmw3['tipo_coche'].fillna('sin tipo_coche', inplace=True)"
   ]
  },
  {
   "cell_type": "markdown",
   "metadata": {},
   "source": [
    "3.1.5 AIRE_ACONDICIONADO: Varios nulos, pero no creo que se deba borrar la columna por contener información relevante. Les asigno el valor 'sin info aire_acondicionado'"
   ]
  },
  {
   "cell_type": "code",
   "execution_count": 102,
   "metadata": {},
   "outputs": [
    {
     "data": {
      "text/plain": [
       "aire_acondicionado\n",
       "True     71.546562\n",
       "False    18.418336\n",
       "NaN      10.035102\n",
       "Name: proportion, dtype: float64"
      ]
     },
     "execution_count": 102,
     "metadata": {},
     "output_type": "execute_result"
    }
   ],
   "source": [
    "df_bmw3['aire_acondicionado'].value_counts(dropna = False, normalize = True) * 100"
   ]
  },
  {
   "cell_type": "code",
   "execution_count": 103,
   "metadata": {},
   "outputs": [],
   "source": [
    "df_bmw3['aire_acondicionado'].fillna('sin info aire_acondicionado', inplace=True)"
   ]
  },
  {
   "cell_type": "markdown",
   "metadata": {},
   "source": [
    "3.1.6 ASIENTOS_PLEGABLES: Columna no relevante con muchos nulos. La elimino."
   ]
  },
  {
   "cell_type": "code",
   "execution_count": 104,
   "metadata": {},
   "outputs": [
    {
     "data": {
      "text/plain": [
       "asientos_traseros_plegables\n",
       "NaN      70.018584\n",
       "False    23.745612\n",
       "True      6.235804\n",
       "Name: proportion, dtype: float64"
      ]
     },
     "execution_count": 104,
     "metadata": {},
     "output_type": "execute_result"
    }
   ],
   "source": [
    "df_bmw3['asientos_traseros_plegables'].value_counts(dropna = False, normalize = True) * 100"
   ]
  },
  {
   "cell_type": "code",
   "execution_count": 105,
   "metadata": {},
   "outputs": [],
   "source": [
    "df_bmw4 = df_bmw3.copy()"
   ]
  },
  {
   "cell_type": "code",
   "execution_count": 106,
   "metadata": {},
   "outputs": [],
   "source": [
    "del(df_bmw4['asientos_traseros_plegables'])"
   ]
  },
  {
   "cell_type": "markdown",
   "metadata": {},
   "source": [
    "3.1.7 BLUETOOTH: Varios nulos, pero no creo que se deba borrar la columna por contener información relevante. Les asigno el valor 'sin info bluetooth'"
   ]
  },
  {
   "cell_type": "code",
   "execution_count": 107,
   "metadata": {},
   "outputs": [
    {
     "data": {
      "text/plain": [
       "bluetooth\n",
       "False    64.402230\n",
       "True     20.565765\n",
       "NaN      15.032005\n",
       "Name: proportion, dtype: float64"
      ]
     },
     "execution_count": 107,
     "metadata": {},
     "output_type": "execute_result"
    }
   ],
   "source": [
    "df_bmw4['bluetooth'].value_counts(dropna = False, normalize = True) * 100"
   ]
  },
  {
   "cell_type": "code",
   "execution_count": 108,
   "metadata": {},
   "outputs": [],
   "source": [
    "df_bmw4['bluetooth'].fillna('sin info bluetooth', inplace=True)"
   ]
  },
  {
   "cell_type": "markdown",
   "metadata": {},
   "source": [
    "3.1.8 ALERTA_LIM_VELOCIDAD: Varios nulos, pero no creo que se deba borrar la columna por contener información relevante. Les asigno el valor 'sin info alerta_lim_velocidad'"
   ]
  },
  {
   "cell_type": "code",
   "execution_count": 109,
   "metadata": {},
   "outputs": [
    {
     "data": {
      "text/plain": [
       "alerta_lim_velocidad\n",
       "True     46.252323\n",
       "False    38.715672\n",
       "NaN      15.032005\n",
       "Name: proportion, dtype: float64"
      ]
     },
     "execution_count": 109,
     "metadata": {},
     "output_type": "execute_result"
    }
   ],
   "source": [
    "df_bmw4['alerta_lim_velocidad'].value_counts(dropna = False, normalize = True) * 100"
   ]
  },
  {
   "cell_type": "code",
   "execution_count": 110,
   "metadata": {},
   "outputs": [],
   "source": [
    "df_bmw4['alerta_lim_velocidad'].fillna('sin info alerta_lim_velocidad', inplace=True)"
   ]
  },
  {
   "cell_type": "code",
   "execution_count": 111,
   "metadata": {},
   "outputs": [
    {
     "data": {
      "text/plain": [
       "modelo                  3\n",
       "km                      2\n",
       "potencia                1\n",
       "tipo_gasolina           5\n",
       "color                   0\n",
       "tipo_coche              0\n",
       "volante_regulable       4\n",
       "aire_acondicionado      0\n",
       "camara_trasera          2\n",
       "elevalunas_electrico    2\n",
       "bluetooth               0\n",
       "gps                     0\n",
       "alerta_lim_velocidad    0\n",
       "precio                  6\n",
       "fecha_venta             1\n",
       "dtype: int64"
      ]
     },
     "execution_count": 111,
     "metadata": {},
     "output_type": "execute_result"
    }
   ],
   "source": [
    "df_bmw4.isnull().sum()"
   ]
  },
  {
   "cell_type": "code",
   "execution_count": 119,
   "metadata": {},
   "outputs": [
    {
     "data": {
      "text/plain": [
       "(4843, 15)"
      ]
     },
     "execution_count": 119,
     "metadata": {},
     "output_type": "execute_result"
    }
   ],
   "source": [
    "df_bmw4.isnull().shape"
   ]
  },
  {
   "cell_type": "markdown",
   "metadata": {},
   "source": [
    "3.2 Analizamos las categorías con muy pocos nulos: modelo, km, potencia, tipo_gasolina, volante_regulable, camara_trasera, elevalunas_electrico, precio, fecha_venta"
   ]
  },
  {
   "cell_type": "code",
   "execution_count": 120,
   "metadata": {},
   "outputs": [],
   "source": [
    "col_few_nulls = ['modelo', 'km', 'potencia', 'tipo_gasolina', 'volante_regulable', 'camara_trasera', 'elevalunas_electrico', 'precio', 'fecha_venta']"
   ]
  },
  {
   "cell_type": "code",
   "execution_count": 127,
   "metadata": {},
   "outputs": [
    {
     "name": "stdout",
     "output_type": "stream",
     "text": [
      "25\n",
      "0.5162089613875697\n"
     ]
    }
   ],
   "source": [
    "num_rows_nulls = len(df_bmw4[df_bmw4['modelo'].isnull() | df_bmw4['km'].isnull() | df_bmw4['tipo_gasolina'].isnull() | df_bmw4['volante_regulable'].isnull() | df_bmw4['camara_trasera'].isnull() | df_bmw4['elevalunas_electrico'].isnull() | df_bmw4['precio'].isnull() | df_bmw4['fecha_venta'].isnull()]) \n",
    "print(num_rows_nulls)\n",
    "print(num_rows_nulls / df_bmw4.shape[0] * 100)"
   ]
  },
  {
   "cell_type": "code",
   "execution_count": null,
   "metadata": {},
   "outputs": [],
   "source": [
    "df_num_rows_nulls = df_bmw4[df_bmw4['modelo'].isnull() | df_bmw4['km'].isnull() | df_bmw4['tipo_gasolina'].isnull() | df_bmw4['volante_regulable'].isnull() | df_bmw4['camara_trasera'].isnull() | df_bmw4['elevalunas_electrico'].isnull() | df_bmw4['precio'].isnull() | df_bmw4['fecha_venta'].isnull()] \n",
    "df_num_rows_nulls"
   ]
  },
  {
   "cell_type": "markdown",
   "metadata": {},
   "source": [
    "Al ser tan pocas filas las que tienen alguno de estos campos a nulo, las elimino"
   ]
  },
  {
   "cell_type": "code",
   "execution_count": 128,
   "metadata": {},
   "outputs": [
    {
     "data": {
      "text/plain": [
       "(4843, 15)"
      ]
     },
     "execution_count": 128,
     "metadata": {},
     "output_type": "execute_result"
    }
   ],
   "source": [
    "df_bmw5 = df_bmw4.copy()\n",
    "df_bmw5.shape"
   ]
  },
  {
   "cell_type": "code",
   "execution_count": 130,
   "metadata": {},
   "outputs": [
    {
     "data": {
      "text/plain": [
       "(4817, 15)"
      ]
     },
     "execution_count": 130,
     "metadata": {},
     "output_type": "execute_result"
    }
   ],
   "source": [
    "df_bmw5.dropna(subset = col_few_nulls, inplace=True)\n",
    "df_bmw5.shape"
   ]
  },
  {
   "cell_type": "code",
   "execution_count": 131,
   "metadata": {},
   "outputs": [
    {
     "data": {
      "text/plain": [
       "modelo                  0\n",
       "km                      0\n",
       "potencia                0\n",
       "tipo_gasolina           0\n",
       "color                   0\n",
       "tipo_coche              0\n",
       "volante_regulable       0\n",
       "aire_acondicionado      0\n",
       "camara_trasera          0\n",
       "elevalunas_electrico    0\n",
       "bluetooth               0\n",
       "gps                     0\n",
       "alerta_lim_velocidad    0\n",
       "precio                  0\n",
       "fecha_venta             0\n",
       "dtype: int64"
      ]
     },
     "execution_count": 131,
     "metadata": {},
     "output_type": "execute_result"
    }
   ],
   "source": [
    "df_bmw5.isnull().sum()"
   ]
  }
 ],
 "metadata": {
  "kernelspec": {
   "display_name": "Python 3",
   "language": "python",
   "name": "python3"
  },
  "language_info": {
   "codemirror_mode": {
    "name": "ipython",
    "version": 3
   },
   "file_extension": ".py",
   "mimetype": "text/x-python",
   "name": "python",
   "nbconvert_exporter": "python",
   "pygments_lexer": "ipython3",
   "version": "3.12.0"
  }
 },
 "nbformat": 4,
 "nbformat_minor": 2
}
