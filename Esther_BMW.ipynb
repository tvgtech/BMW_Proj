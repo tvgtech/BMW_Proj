{
 "cells": [
  {
   "cell_type": "markdown",
   "metadata": {},
   "source": [
    "__Hoja de trabajo Proyecto BMW - Esther__"
   ]
  },
  {
   "cell_type": "code",
   "execution_count": 235,
   "metadata": {},
   "outputs": [],
   "source": [
    "import pandas as pd\n",
    "import numpy as np\n",
    "import matplotlib.pyplot as plt\n",
    "import seaborn as sns\n"
   ]
  },
  {
   "cell_type": "markdown",
   "metadata": {},
   "source": [
    "1.Importar dataset"
   ]
  },
  {
   "cell_type": "code",
   "execution_count": 236,
   "metadata": {},
   "outputs": [],
   "source": [
    "df_bmw = pd.read_csv('dataset/bmw_pricing_v3.csv')"
   ]
  },
  {
   "cell_type": "code",
   "execution_count": 237,
   "metadata": {},
   "outputs": [
    {
     "data": {
      "text/html": [
       "<div>\n",
       "<style scoped>\n",
       "    .dataframe tbody tr th:only-of-type {\n",
       "        vertical-align: middle;\n",
       "    }\n",
       "\n",
       "    .dataframe tbody tr th {\n",
       "        vertical-align: top;\n",
       "    }\n",
       "\n",
       "    .dataframe thead th {\n",
       "        text-align: right;\n",
       "    }\n",
       "</style>\n",
       "<table border=\"1\" class=\"dataframe\">\n",
       "  <thead>\n",
       "    <tr style=\"text-align: right;\">\n",
       "      <th></th>\n",
       "      <th>marca</th>\n",
       "      <th>modelo</th>\n",
       "      <th>km</th>\n",
       "      <th>potencia</th>\n",
       "      <th>fecha_registro</th>\n",
       "      <th>tipo_gasolina</th>\n",
       "      <th>color</th>\n",
       "      <th>tipo_coche</th>\n",
       "      <th>volante_regulable</th>\n",
       "      <th>aire_acondicionado</th>\n",
       "      <th>camara_trasera</th>\n",
       "      <th>asientos_traseros_plegables</th>\n",
       "      <th>elevalunas_electrico</th>\n",
       "      <th>bluetooth</th>\n",
       "      <th>gps</th>\n",
       "      <th>alerta_lim_velocidad</th>\n",
       "      <th>precio</th>\n",
       "      <th>fecha_venta</th>\n",
       "    </tr>\n",
       "  </thead>\n",
       "  <tbody>\n",
       "    <tr>\n",
       "      <th>2136</th>\n",
       "      <td>BMW</td>\n",
       "      <td>116</td>\n",
       "      <td>12580.0</td>\n",
       "      <td>85.0</td>\n",
       "      <td>NaN</td>\n",
       "      <td>diesel</td>\n",
       "      <td>silver</td>\n",
       "      <td>hatchback</td>\n",
       "      <td>False</td>\n",
       "      <td>NaN</td>\n",
       "      <td>False</td>\n",
       "      <td>NaN</td>\n",
       "      <td>False</td>\n",
       "      <td>False</td>\n",
       "      <td>True</td>\n",
       "      <td>False</td>\n",
       "      <td>9200.0</td>\n",
       "      <td>2018-05-01</td>\n",
       "    </tr>\n",
       "    <tr>\n",
       "      <th>1561</th>\n",
       "      <td>BMW</td>\n",
       "      <td>520</td>\n",
       "      <td>193438.0</td>\n",
       "      <td>120.0</td>\n",
       "      <td>2014-01-01</td>\n",
       "      <td>diesel</td>\n",
       "      <td>grey</td>\n",
       "      <td>estate</td>\n",
       "      <td>True</td>\n",
       "      <td>True</td>\n",
       "      <td>False</td>\n",
       "      <td>NaN</td>\n",
       "      <td>True</td>\n",
       "      <td>False</td>\n",
       "      <td>True</td>\n",
       "      <td>True</td>\n",
       "      <td>16400.0</td>\n",
       "      <td>2018-07-01</td>\n",
       "    </tr>\n",
       "    <tr>\n",
       "      <th>2634</th>\n",
       "      <td>BMW</td>\n",
       "      <td>520</td>\n",
       "      <td>107714.0</td>\n",
       "      <td>140.0</td>\n",
       "      <td>NaN</td>\n",
       "      <td>diesel</td>\n",
       "      <td>black</td>\n",
       "      <td>sedan</td>\n",
       "      <td>False</td>\n",
       "      <td>True</td>\n",
       "      <td>False</td>\n",
       "      <td>False</td>\n",
       "      <td>True</td>\n",
       "      <td>False</td>\n",
       "      <td>True</td>\n",
       "      <td>False</td>\n",
       "      <td>16800.0</td>\n",
       "      <td>2018-02-01</td>\n",
       "    </tr>\n",
       "    <tr>\n",
       "      <th>3285</th>\n",
       "      <td>BMW</td>\n",
       "      <td>520</td>\n",
       "      <td>177762.0</td>\n",
       "      <td>135.0</td>\n",
       "      <td>NaN</td>\n",
       "      <td>diesel</td>\n",
       "      <td>black</td>\n",
       "      <td>NaN</td>\n",
       "      <td>True</td>\n",
       "      <td>True</td>\n",
       "      <td>False</td>\n",
       "      <td>NaN</td>\n",
       "      <td>True</td>\n",
       "      <td>True</td>\n",
       "      <td>True</td>\n",
       "      <td>True</td>\n",
       "      <td>18400.0</td>\n",
       "      <td>2018-06-01</td>\n",
       "    </tr>\n",
       "    <tr>\n",
       "      <th>975</th>\n",
       "      <td>BMW</td>\n",
       "      <td>M550</td>\n",
       "      <td>145348.0</td>\n",
       "      <td>280.0</td>\n",
       "      <td>2014-07-01</td>\n",
       "      <td>diesel</td>\n",
       "      <td>blue</td>\n",
       "      <td>estate</td>\n",
       "      <td>False</td>\n",
       "      <td>True</td>\n",
       "      <td>False</td>\n",
       "      <td>NaN</td>\n",
       "      <td>True</td>\n",
       "      <td>True</td>\n",
       "      <td>True</td>\n",
       "      <td>True</td>\n",
       "      <td>37100.0</td>\n",
       "      <td>2018-04-01</td>\n",
       "    </tr>\n",
       "  </tbody>\n",
       "</table>\n",
       "</div>"
      ],
      "text/plain": [
       "     marca modelo        km  potencia fecha_registro tipo_gasolina   color  \\\n",
       "2136   BMW    116   12580.0      85.0            NaN        diesel  silver   \n",
       "1561   BMW    520  193438.0     120.0     2014-01-01        diesel    grey   \n",
       "2634   BMW    520  107714.0     140.0            NaN        diesel   black   \n",
       "3285   BMW    520  177762.0     135.0            NaN        diesel   black   \n",
       "975    BMW   M550  145348.0     280.0     2014-07-01        diesel    blue   \n",
       "\n",
       "     tipo_coche volante_regulable aire_acondicionado camara_trasera  \\\n",
       "2136  hatchback             False                NaN          False   \n",
       "1561     estate              True               True          False   \n",
       "2634      sedan             False               True          False   \n",
       "3285        NaN              True               True          False   \n",
       "975      estate             False               True          False   \n",
       "\n",
       "     asientos_traseros_plegables elevalunas_electrico bluetooth   gps  \\\n",
       "2136                         NaN                False     False  True   \n",
       "1561                         NaN                 True     False  True   \n",
       "2634                       False                 True     False  True   \n",
       "3285                         NaN                 True      True  True   \n",
       "975                          NaN                 True      True  True   \n",
       "\n",
       "     alerta_lim_velocidad   precio fecha_venta  \n",
       "2136                False   9200.0  2018-05-01  \n",
       "1561                 True  16400.0  2018-07-01  \n",
       "2634                False  16800.0  2018-02-01  \n",
       "3285                 True  18400.0  2018-06-01  \n",
       "975                  True  37100.0  2018-04-01  "
      ]
     },
     "execution_count": 237,
     "metadata": {},
     "output_type": "execute_result"
    }
   ],
   "source": [
    "df_bmw.sample(5)"
   ]
  },
  {
   "cell_type": "code",
   "execution_count": 238,
   "metadata": {},
   "outputs": [
    {
     "data": {
      "text/plain": [
       "(4843, 18)"
      ]
     },
     "execution_count": 238,
     "metadata": {},
     "output_type": "execute_result"
    }
   ],
   "source": [
    "df_bmw.shape"
   ]
  },
  {
   "cell_type": "code",
   "execution_count": 239,
   "metadata": {},
   "outputs": [
    {
     "name": "stdout",
     "output_type": "stream",
     "text": [
      "<class 'pandas.core.frame.DataFrame'>\n",
      "RangeIndex: 4843 entries, 0 to 4842\n",
      "Data columns (total 18 columns):\n",
      " #   Column                       Non-Null Count  Dtype  \n",
      "---  ------                       --------------  -----  \n",
      " 0   marca                        3873 non-null   object \n",
      " 1   modelo                       4840 non-null   object \n",
      " 2   km                           4841 non-null   float64\n",
      " 3   potencia                     4842 non-null   float64\n",
      " 4   fecha_registro               2420 non-null   object \n",
      " 5   tipo_gasolina                4838 non-null   object \n",
      " 6   color                        4398 non-null   object \n",
      " 7   tipo_coche                   3383 non-null   object \n",
      " 8   volante_regulable            4839 non-null   object \n",
      " 9   aire_acondicionado           4357 non-null   object \n",
      " 10  camara_trasera               4841 non-null   object \n",
      " 11  asientos_traseros_plegables  1452 non-null   object \n",
      " 12  elevalunas_electrico         4841 non-null   object \n",
      " 13  bluetooth                    4115 non-null   object \n",
      " 14  gps                          4843 non-null   bool   \n",
      " 15  alerta_lim_velocidad         4115 non-null   object \n",
      " 16  precio                       4837 non-null   float64\n",
      " 17  fecha_venta                  4842 non-null   object \n",
      "dtypes: bool(1), float64(3), object(14)\n",
      "memory usage: 648.1+ KB\n"
     ]
    }
   ],
   "source": [
    "df_bmw.info()"
   ]
  },
  {
   "cell_type": "markdown",
   "metadata": {},
   "source": [
    "Primeros comentarios:\n",
    "1. Varias columnas con nulos\n",
    "2. Campos fechas tipo 'object'\n",
    "3. Solo el campo 'gps' es tipo booleano, en cambio campos como volante_regulable, aire_acondicionado, camara_trasera...alerta_lim_velocidad son 'objects' a pesar de tener valores 'True/False' "
   ]
  },
  {
   "cell_type": "code",
   "execution_count": 240,
   "metadata": {},
   "outputs": [],
   "source": [
    "#cambio las fechas a date_time\n",
    "for i in [\"fecha_registro\",\"fecha_venta\"]:\n",
    "    df_bmw[i]=pd.to_datetime(df_bmw[i])"
   ]
  },
  {
   "cell_type": "code",
   "execution_count": 241,
   "metadata": {},
   "outputs": [
    {
     "name": "stdout",
     "output_type": "stream",
     "text": [
      "<class 'pandas.core.frame.DataFrame'>\n",
      "RangeIndex: 4843 entries, 0 to 4842\n",
      "Data columns (total 18 columns):\n",
      " #   Column                       Non-Null Count  Dtype         \n",
      "---  ------                       --------------  -----         \n",
      " 0   marca                        3873 non-null   object        \n",
      " 1   modelo                       4840 non-null   object        \n",
      " 2   km                           4841 non-null   float64       \n",
      " 3   potencia                     4842 non-null   float64       \n",
      " 4   fecha_registro               2420 non-null   datetime64[ns]\n",
      " 5   tipo_gasolina                4838 non-null   object        \n",
      " 6   color                        4398 non-null   object        \n",
      " 7   tipo_coche                   3383 non-null   object        \n",
      " 8   volante_regulable            4839 non-null   object        \n",
      " 9   aire_acondicionado           4357 non-null   object        \n",
      " 10  camara_trasera               4841 non-null   object        \n",
      " 11  asientos_traseros_plegables  1452 non-null   object        \n",
      " 12  elevalunas_electrico         4841 non-null   object        \n",
      " 13  bluetooth                    4115 non-null   object        \n",
      " 14  gps                          4843 non-null   bool          \n",
      " 15  alerta_lim_velocidad         4115 non-null   object        \n",
      " 16  precio                       4837 non-null   float64       \n",
      " 17  fecha_venta                  4842 non-null   datetime64[ns]\n",
      "dtypes: bool(1), datetime64[ns](2), float64(3), object(12)\n",
      "memory usage: 648.1+ KB\n"
     ]
    }
   ],
   "source": [
    "df_bmw.info()"
   ]
  },
  {
   "cell_type": "markdown",
   "metadata": {},
   "source": [
    "2. Análisis duplicados"
   ]
  },
  {
   "cell_type": "code",
   "execution_count": 242,
   "metadata": {},
   "outputs": [
    {
     "data": {
      "text/plain": [
       "(0, 18)"
      ]
     },
     "execution_count": 242,
     "metadata": {},
     "output_type": "execute_result"
    }
   ],
   "source": [
    "df_bmw[df_bmw.duplicated()].shape"
   ]
  },
  {
   "cell_type": "markdown",
   "metadata": {},
   "source": [
    "Comentarios: sin duplicados"
   ]
  },
  {
   "cell_type": "markdown",
   "metadata": {},
   "source": [
    "3. Análisis nulos"
   ]
  },
  {
   "cell_type": "code",
   "execution_count": 243,
   "metadata": {},
   "outputs": [
    {
     "data": {
      "text/plain": [
       "marca                           970\n",
       "modelo                            3\n",
       "km                                2\n",
       "potencia                          1\n",
       "fecha_registro                 2423\n",
       "tipo_gasolina                     5\n",
       "color                           445\n",
       "tipo_coche                     1460\n",
       "volante_regulable                 4\n",
       "aire_acondicionado              486\n",
       "camara_trasera                    2\n",
       "asientos_traseros_plegables    3391\n",
       "elevalunas_electrico              2\n",
       "bluetooth                       728\n",
       "gps                               0\n",
       "alerta_lim_velocidad            728\n",
       "precio                            6\n",
       "fecha_venta                       1\n",
       "dtype: int64"
      ]
     },
     "execution_count": 243,
     "metadata": {},
     "output_type": "execute_result"
    }
   ],
   "source": [
    "df_bmw.isnull().sum()"
   ]
  },
  {
   "cell_type": "markdown",
   "metadata": {},
   "source": [
    "3.1. Analizamos los campos con más nulos"
   ]
  },
  {
   "cell_type": "markdown",
   "metadata": {},
   "source": [
    "3.1.1. MARCA: vemos que solo tiene dos valores 'BMW' y 'nan'. Por lo tanto como no aporta información, la borramos (haciendo una copia antes)\n"
   ]
  },
  {
   "cell_type": "code",
   "execution_count": 244,
   "metadata": {},
   "outputs": [
    {
     "data": {
      "text/plain": [
       "array([nan, 'BMW'], dtype=object)"
      ]
     },
     "execution_count": 244,
     "metadata": {},
     "output_type": "execute_result"
    }
   ],
   "source": [
    "df_bmw['marca'].unique()"
   ]
  },
  {
   "cell_type": "code",
   "execution_count": 245,
   "metadata": {},
   "outputs": [],
   "source": [
    "df_bmw1 =  df_bmw.copy()"
   ]
  },
  {
   "cell_type": "code",
   "execution_count": 246,
   "metadata": {},
   "outputs": [],
   "source": [
    "del(df_bmw1['marca'])"
   ]
  },
  {
   "cell_type": "code",
   "execution_count": 247,
   "metadata": {},
   "outputs": [
    {
     "data": {
      "text/plain": [
       "modelo                            3\n",
       "km                                2\n",
       "potencia                          1\n",
       "fecha_registro                 2423\n",
       "tipo_gasolina                     5\n",
       "color                           445\n",
       "tipo_coche                     1460\n",
       "volante_regulable                 4\n",
       "aire_acondicionado              486\n",
       "camara_trasera                    2\n",
       "asientos_traseros_plegables    3391\n",
       "elevalunas_electrico              2\n",
       "bluetooth                       728\n",
       "gps                               0\n",
       "alerta_lim_velocidad            728\n",
       "precio                            6\n",
       "fecha_venta                       1\n",
       "dtype: int64"
      ]
     },
     "execution_count": 247,
     "metadata": {},
     "output_type": "execute_result"
    }
   ],
   "source": [
    "df_bmw1.isnull().sum()"
   ]
  },
  {
   "cell_type": "code",
   "execution_count": 248,
   "metadata": {},
   "outputs": [
    {
     "data": {
      "text/plain": [
       "(4843, 17)"
      ]
     },
     "execution_count": 248,
     "metadata": {},
     "output_type": "execute_result"
    }
   ],
   "source": [
    "df_bmw1.shape"
   ]
  },
  {
   "cell_type": "markdown",
   "metadata": {},
   "source": [
    "3.1.2 FECHA REGISTO: columna con demasiados nulos. La eliminamos."
   ]
  },
  {
   "cell_type": "code",
   "execution_count": 249,
   "metadata": {},
   "outputs": [
    {
     "data": {
      "text/plain": [
       "fecha_registro\n",
       "NaT           50.030973\n",
       "2013-07-01     1.920297\n",
       "2014-03-01     1.713814\n",
       "2014-05-01     1.672517\n",
       "2013-01-01     1.610572\n",
       "                ...    \n",
       "2007-01-01     0.020648\n",
       "1990-03-01     0.020648\n",
       "2006-11-01     0.020648\n",
       "1994-01-01     0.020648\n",
       "2005-09-01     0.020648\n",
       "Name: proportion, Length: 181, dtype: float64"
      ]
     },
     "execution_count": 249,
     "metadata": {},
     "output_type": "execute_result"
    }
   ],
   "source": [
    "df_bmw1['fecha_registro'].value_counts(dropna = False, normalize = True) * 100"
   ]
  },
  {
   "cell_type": "code",
   "execution_count": 250,
   "metadata": {},
   "outputs": [],
   "source": [
    "df_bmw2 =  df_bmw1.copy()"
   ]
  },
  {
   "cell_type": "code",
   "execution_count": 251,
   "metadata": {},
   "outputs": [
    {
     "data": {
      "text/plain": [
       "(4843, 17)"
      ]
     },
     "execution_count": 251,
     "metadata": {},
     "output_type": "execute_result"
    }
   ],
   "source": [
    "df_bmw2.shape"
   ]
  },
  {
   "cell_type": "code",
   "execution_count": 252,
   "metadata": {},
   "outputs": [],
   "source": [
    "del(df_bmw2['fecha_registro'])"
   ]
  },
  {
   "cell_type": "code",
   "execution_count": 253,
   "metadata": {},
   "outputs": [
    {
     "data": {
      "text/plain": [
       "modelo                            3\n",
       "km                                2\n",
       "potencia                          1\n",
       "tipo_gasolina                     5\n",
       "color                           445\n",
       "tipo_coche                     1460\n",
       "volante_regulable                 4\n",
       "aire_acondicionado              486\n",
       "camara_trasera                    2\n",
       "asientos_traseros_plegables    3391\n",
       "elevalunas_electrico              2\n",
       "bluetooth                       728\n",
       "gps                               0\n",
       "alerta_lim_velocidad            728\n",
       "precio                            6\n",
       "fecha_venta                       1\n",
       "dtype: int64"
      ]
     },
     "execution_count": 253,
     "metadata": {},
     "output_type": "execute_result"
    }
   ],
   "source": [
    "df_bmw2.isnull().sum()"
   ]
  },
  {
   "cell_type": "markdown",
   "metadata": {},
   "source": [
    "3.1.3 COLOR: Muchos nulos, pero no creo que se deba borrar la columna por contener información relevante. Les asigno el valor 'sin color'"
   ]
  },
  {
   "cell_type": "code",
   "execution_count": 254,
   "metadata": {},
   "outputs": [
    {
     "data": {
      "text/plain": [
       "color\n",
       "black     30.951889\n",
       "grey      22.093744\n",
       "blue      13.359488\n",
       "white      9.993805\n",
       "NaN        9.188520\n",
       "brown      6.235804\n",
       "silver     6.029321\n",
       "red        0.970473\n",
       "beige      0.763989\n",
       "green      0.289077\n",
       "orange     0.123890\n",
       "Name: proportion, dtype: float64"
      ]
     },
     "execution_count": 254,
     "metadata": {},
     "output_type": "execute_result"
    }
   ],
   "source": [
    "df_bmw2['color'].value_counts(dropna = False, normalize = True) * 100"
   ]
  },
  {
   "cell_type": "code",
   "execution_count": 255,
   "metadata": {},
   "outputs": [
    {
     "data": {
      "text/html": [
       "<div>\n",
       "<style scoped>\n",
       "    .dataframe tbody tr th:only-of-type {\n",
       "        vertical-align: middle;\n",
       "    }\n",
       "\n",
       "    .dataframe tbody tr th {\n",
       "        vertical-align: top;\n",
       "    }\n",
       "\n",
       "    .dataframe thead th {\n",
       "        text-align: right;\n",
       "    }\n",
       "</style>\n",
       "<table border=\"1\" class=\"dataframe\">\n",
       "  <thead>\n",
       "    <tr style=\"text-align: right;\">\n",
       "      <th></th>\n",
       "      <th>modelo</th>\n",
       "      <th>km</th>\n",
       "      <th>potencia</th>\n",
       "      <th>tipo_gasolina</th>\n",
       "      <th>color</th>\n",
       "      <th>tipo_coche</th>\n",
       "      <th>volante_regulable</th>\n",
       "      <th>aire_acondicionado</th>\n",
       "      <th>camara_trasera</th>\n",
       "      <th>asientos_traseros_plegables</th>\n",
       "      <th>elevalunas_electrico</th>\n",
       "      <th>bluetooth</th>\n",
       "      <th>gps</th>\n",
       "      <th>alerta_lim_velocidad</th>\n",
       "      <th>precio</th>\n",
       "      <th>fecha_venta</th>\n",
       "    </tr>\n",
       "  </thead>\n",
       "  <tbody>\n",
       "    <tr>\n",
       "      <th>14</th>\n",
       "      <td>120</td>\n",
       "      <td>174631.0</td>\n",
       "      <td>120.0</td>\n",
       "      <td>diesel</td>\n",
       "      <td>NaN</td>\n",
       "      <td>convertible</td>\n",
       "      <td>True</td>\n",
       "      <td>True</td>\n",
       "      <td>False</td>\n",
       "      <td>False</td>\n",
       "      <td>False</td>\n",
       "      <td>False</td>\n",
       "      <td>True</td>\n",
       "      <td>False</td>\n",
       "      <td>10500.0</td>\n",
       "      <td>2018-04-01</td>\n",
       "    </tr>\n",
       "    <tr>\n",
       "      <th>18</th>\n",
       "      <td>325</td>\n",
       "      <td>205474.0</td>\n",
       "      <td>145.0</td>\n",
       "      <td>diesel</td>\n",
       "      <td>NaN</td>\n",
       "      <td>NaN</td>\n",
       "      <td>True</td>\n",
       "      <td>True</td>\n",
       "      <td>False</td>\n",
       "      <td>NaN</td>\n",
       "      <td>True</td>\n",
       "      <td>NaN</td>\n",
       "      <td>True</td>\n",
       "      <td>NaN</td>\n",
       "      <td>11000.0</td>\n",
       "      <td>2018-04-01</td>\n",
       "    </tr>\n",
       "    <tr>\n",
       "      <th>25</th>\n",
       "      <td>318</td>\n",
       "      <td>196092.0</td>\n",
       "      <td>85.0</td>\n",
       "      <td>petrol</td>\n",
       "      <td>NaN</td>\n",
       "      <td>convertible</td>\n",
       "      <td>True</td>\n",
       "      <td>False</td>\n",
       "      <td>False</td>\n",
       "      <td>False</td>\n",
       "      <td>False</td>\n",
       "      <td>False</td>\n",
       "      <td>False</td>\n",
       "      <td>False</td>\n",
       "      <td>1800.0</td>\n",
       "      <td>2018-05-01</td>\n",
       "    </tr>\n",
       "    <tr>\n",
       "      <th>36</th>\n",
       "      <td>318</td>\n",
       "      <td>187294.0</td>\n",
       "      <td>105.0</td>\n",
       "      <td>petrol</td>\n",
       "      <td>NaN</td>\n",
       "      <td>convertible</td>\n",
       "      <td>True</td>\n",
       "      <td>False</td>\n",
       "      <td>False</td>\n",
       "      <td>False</td>\n",
       "      <td>False</td>\n",
       "      <td>True</td>\n",
       "      <td>True</td>\n",
       "      <td>NaN</td>\n",
       "      <td>2400.0</td>\n",
       "      <td>2018-06-01</td>\n",
       "    </tr>\n",
       "    <tr>\n",
       "      <th>47</th>\n",
       "      <td>420</td>\n",
       "      <td>20996.0</td>\n",
       "      <td>135.0</td>\n",
       "      <td>petrol</td>\n",
       "      <td>NaN</td>\n",
       "      <td>coupe</td>\n",
       "      <td>True</td>\n",
       "      <td>False</td>\n",
       "      <td>False</td>\n",
       "      <td>NaN</td>\n",
       "      <td>True</td>\n",
       "      <td>False</td>\n",
       "      <td>True</td>\n",
       "      <td>False</td>\n",
       "      <td>21400.0</td>\n",
       "      <td>2018-04-01</td>\n",
       "    </tr>\n",
       "    <tr>\n",
       "      <th>...</th>\n",
       "      <td>...</td>\n",
       "      <td>...</td>\n",
       "      <td>...</td>\n",
       "      <td>...</td>\n",
       "      <td>...</td>\n",
       "      <td>...</td>\n",
       "      <td>...</td>\n",
       "      <td>...</td>\n",
       "      <td>...</td>\n",
       "      <td>...</td>\n",
       "      <td>...</td>\n",
       "      <td>...</td>\n",
       "      <td>...</td>\n",
       "      <td>...</td>\n",
       "      <td>...</td>\n",
       "      <td>...</td>\n",
       "    </tr>\n",
       "    <tr>\n",
       "      <th>4757</th>\n",
       "      <td>X4</td>\n",
       "      <td>61989.0</td>\n",
       "      <td>140.0</td>\n",
       "      <td>diesel</td>\n",
       "      <td>NaN</td>\n",
       "      <td>NaN</td>\n",
       "      <td>False</td>\n",
       "      <td>False</td>\n",
       "      <td>False</td>\n",
       "      <td>NaN</td>\n",
       "      <td>False</td>\n",
       "      <td>NaN</td>\n",
       "      <td>False</td>\n",
       "      <td>True</td>\n",
       "      <td>28600.0</td>\n",
       "      <td>2018-09-01</td>\n",
       "    </tr>\n",
       "    <tr>\n",
       "      <th>4777</th>\n",
       "      <td>X5</td>\n",
       "      <td>285669.0</td>\n",
       "      <td>173.0</td>\n",
       "      <td>diesel</td>\n",
       "      <td>NaN</td>\n",
       "      <td>NaN</td>\n",
       "      <td>True</td>\n",
       "      <td>True</td>\n",
       "      <td>False</td>\n",
       "      <td>NaN</td>\n",
       "      <td>True</td>\n",
       "      <td>False</td>\n",
       "      <td>True</td>\n",
       "      <td>True</td>\n",
       "      <td>9300.0</td>\n",
       "      <td>2018-09-01</td>\n",
       "    </tr>\n",
       "    <tr>\n",
       "      <th>4805</th>\n",
       "      <td>218 Active Tourer</td>\n",
       "      <td>35382.0</td>\n",
       "      <td>110.0</td>\n",
       "      <td>diesel</td>\n",
       "      <td>NaN</td>\n",
       "      <td>van</td>\n",
       "      <td>False</td>\n",
       "      <td>NaN</td>\n",
       "      <td>False</td>\n",
       "      <td>NaN</td>\n",
       "      <td>False</td>\n",
       "      <td>NaN</td>\n",
       "      <td>True</td>\n",
       "      <td>True</td>\n",
       "      <td>13100.0</td>\n",
       "      <td>2018-02-01</td>\n",
       "    </tr>\n",
       "    <tr>\n",
       "      <th>4818</th>\n",
       "      <td>X3</td>\n",
       "      <td>110039.0</td>\n",
       "      <td>130.0</td>\n",
       "      <td>diesel</td>\n",
       "      <td>NaN</td>\n",
       "      <td>NaN</td>\n",
       "      <td>False</td>\n",
       "      <td>NaN</td>\n",
       "      <td>False</td>\n",
       "      <td>NaN</td>\n",
       "      <td>False</td>\n",
       "      <td>False</td>\n",
       "      <td>True</td>\n",
       "      <td>False</td>\n",
       "      <td>1300.0</td>\n",
       "      <td>2018-05-01</td>\n",
       "    </tr>\n",
       "    <tr>\n",
       "      <th>4825</th>\n",
       "      <td>225 Active Tourer</td>\n",
       "      <td>33300.0</td>\n",
       "      <td>170.0</td>\n",
       "      <td>petrol</td>\n",
       "      <td>NaN</td>\n",
       "      <td>van</td>\n",
       "      <td>True</td>\n",
       "      <td>True</td>\n",
       "      <td>False</td>\n",
       "      <td>NaN</td>\n",
       "      <td>False</td>\n",
       "      <td>False</td>\n",
       "      <td>False</td>\n",
       "      <td>True</td>\n",
       "      <td>19200.0</td>\n",
       "      <td>2018-05-01</td>\n",
       "    </tr>\n",
       "  </tbody>\n",
       "</table>\n",
       "<p>445 rows × 16 columns</p>\n",
       "</div>"
      ],
      "text/plain": [
       "                 modelo        km  potencia tipo_gasolina color   tipo_coche  \\\n",
       "14                  120  174631.0     120.0        diesel   NaN  convertible   \n",
       "18                  325  205474.0     145.0        diesel   NaN          NaN   \n",
       "25                  318  196092.0      85.0        petrol   NaN  convertible   \n",
       "36                  318  187294.0     105.0        petrol   NaN  convertible   \n",
       "47                  420   20996.0     135.0        petrol   NaN        coupe   \n",
       "...                 ...       ...       ...           ...   ...          ...   \n",
       "4757                 X4   61989.0     140.0        diesel   NaN          NaN   \n",
       "4777                 X5  285669.0     173.0        diesel   NaN          NaN   \n",
       "4805  218 Active Tourer   35382.0     110.0        diesel   NaN          van   \n",
       "4818                 X3  110039.0     130.0        diesel   NaN          NaN   \n",
       "4825  225 Active Tourer   33300.0     170.0        petrol   NaN          van   \n",
       "\n",
       "     volante_regulable aire_acondicionado camara_trasera  \\\n",
       "14                True               True          False   \n",
       "18                True               True          False   \n",
       "25                True              False          False   \n",
       "36                True              False          False   \n",
       "47                True              False          False   \n",
       "...                ...                ...            ...   \n",
       "4757             False              False          False   \n",
       "4777              True               True          False   \n",
       "4805             False                NaN          False   \n",
       "4818             False                NaN          False   \n",
       "4825              True               True          False   \n",
       "\n",
       "     asientos_traseros_plegables elevalunas_electrico bluetooth    gps  \\\n",
       "14                         False                False     False   True   \n",
       "18                           NaN                 True       NaN   True   \n",
       "25                         False                False     False  False   \n",
       "36                         False                False      True   True   \n",
       "47                           NaN                 True     False   True   \n",
       "...                          ...                  ...       ...    ...   \n",
       "4757                         NaN                False       NaN  False   \n",
       "4777                         NaN                 True     False   True   \n",
       "4805                         NaN                False       NaN   True   \n",
       "4818                         NaN                False     False   True   \n",
       "4825                         NaN                False     False  False   \n",
       "\n",
       "     alerta_lim_velocidad   precio fecha_venta  \n",
       "14                  False  10500.0  2018-04-01  \n",
       "18                    NaN  11000.0  2018-04-01  \n",
       "25                  False   1800.0  2018-05-01  \n",
       "36                    NaN   2400.0  2018-06-01  \n",
       "47                  False  21400.0  2018-04-01  \n",
       "...                   ...      ...         ...  \n",
       "4757                 True  28600.0  2018-09-01  \n",
       "4777                 True   9300.0  2018-09-01  \n",
       "4805                 True  13100.0  2018-02-01  \n",
       "4818                False   1300.0  2018-05-01  \n",
       "4825                 True  19200.0  2018-05-01  \n",
       "\n",
       "[445 rows x 16 columns]"
      ]
     },
     "execution_count": 255,
     "metadata": {},
     "output_type": "execute_result"
    }
   ],
   "source": [
    "df_bmw2[df_bmw2['color'].isnull()]"
   ]
  },
  {
   "cell_type": "code",
   "execution_count": 256,
   "metadata": {},
   "outputs": [],
   "source": [
    "df_bmw3 = df_bmw2.copy()"
   ]
  },
  {
   "cell_type": "code",
   "execution_count": 257,
   "metadata": {},
   "outputs": [],
   "source": [
    "df_bmw3['color'].fillna('sin color', inplace=True)"
   ]
  },
  {
   "cell_type": "code",
   "execution_count": 258,
   "metadata": {},
   "outputs": [
    {
     "data": {
      "text/plain": [
       "modelo                            3\n",
       "km                                2\n",
       "potencia                          1\n",
       "tipo_gasolina                     5\n",
       "color                             0\n",
       "tipo_coche                     1460\n",
       "volante_regulable                 4\n",
       "aire_acondicionado              486\n",
       "camara_trasera                    2\n",
       "asientos_traseros_plegables    3391\n",
       "elevalunas_electrico              2\n",
       "bluetooth                       728\n",
       "gps                               0\n",
       "alerta_lim_velocidad            728\n",
       "precio                            6\n",
       "fecha_venta                       1\n",
       "dtype: int64"
      ]
     },
     "execution_count": 258,
     "metadata": {},
     "output_type": "execute_result"
    }
   ],
   "source": [
    "df_bmw3.isnull().sum()"
   ]
  },
  {
   "cell_type": "markdown",
   "metadata": {},
   "source": [
    "3.1.4 TIPO_COCHE: Muchos nulos, pero no creo que se deba borrar la columna por contener información relevante. Les asigno el valor 'sin tipo_coche'"
   ]
  },
  {
   "cell_type": "code",
   "execution_count": 259,
   "metadata": {},
   "outputs": [
    {
     "data": {
      "text/plain": [
       "tipo_coche\n",
       "NaN            30.146603\n",
       "estate         22.857733\n",
       "sedan          16.952302\n",
       "suv            15.589511\n",
       "hatchback      10.076399\n",
       "subcompact      1.589924\n",
       "coupe           1.569275\n",
       "convertible     0.619451\n",
       "van             0.598802\n",
       "Name: proportion, dtype: float64"
      ]
     },
     "execution_count": 259,
     "metadata": {},
     "output_type": "execute_result"
    }
   ],
   "source": [
    "df_bmw3['tipo_coche'].value_counts(dropna = False, normalize = True) * 100"
   ]
  },
  {
   "cell_type": "code",
   "execution_count": 260,
   "metadata": {},
   "outputs": [],
   "source": [
    "df_bmw3['tipo_coche'].fillna('sin tipo_coche', inplace=True)"
   ]
  },
  {
   "cell_type": "markdown",
   "metadata": {},
   "source": [
    "3.1.5 AIRE_ACONDICIONADO: Varios nulos, pero no creo que se deba borrar la columna por contener información relevante. Les asigno el valor 'sin info aire_acondicionado'"
   ]
  },
  {
   "cell_type": "code",
   "execution_count": 261,
   "metadata": {},
   "outputs": [
    {
     "data": {
      "text/plain": [
       "aire_acondicionado\n",
       "True     71.546562\n",
       "False    18.418336\n",
       "NaN      10.035102\n",
       "Name: proportion, dtype: float64"
      ]
     },
     "execution_count": 261,
     "metadata": {},
     "output_type": "execute_result"
    }
   ],
   "source": [
    "df_bmw3['aire_acondicionado'].value_counts(dropna = False, normalize = True) * 100"
   ]
  },
  {
   "cell_type": "code",
   "execution_count": 262,
   "metadata": {},
   "outputs": [],
   "source": [
    "df_bmw3['aire_acondicionado'].fillna('sin info aire_acondicionado', inplace=True)"
   ]
  },
  {
   "cell_type": "markdown",
   "metadata": {},
   "source": [
    "3.1.6 ASIENTOS_PLEGABLES: Columna no relevante con muchos nulos. La elimino."
   ]
  },
  {
   "cell_type": "code",
   "execution_count": 263,
   "metadata": {},
   "outputs": [
    {
     "data": {
      "text/plain": [
       "asientos_traseros_plegables\n",
       "NaN      70.018584\n",
       "False    23.745612\n",
       "True      6.235804\n",
       "Name: proportion, dtype: float64"
      ]
     },
     "execution_count": 263,
     "metadata": {},
     "output_type": "execute_result"
    }
   ],
   "source": [
    "df_bmw3['asientos_traseros_plegables'].value_counts(dropna = False, normalize = True) * 100"
   ]
  },
  {
   "cell_type": "code",
   "execution_count": 264,
   "metadata": {},
   "outputs": [],
   "source": [
    "df_bmw4 = df_bmw3.copy()"
   ]
  },
  {
   "cell_type": "code",
   "execution_count": 265,
   "metadata": {},
   "outputs": [],
   "source": [
    "del(df_bmw4['asientos_traseros_plegables'])"
   ]
  },
  {
   "cell_type": "markdown",
   "metadata": {},
   "source": [
    "3.1.7 BLUETOOTH: Columna no relevante con muchos nulos. La elimino."
   ]
  },
  {
   "cell_type": "code",
   "execution_count": 266,
   "metadata": {},
   "outputs": [
    {
     "data": {
      "text/plain": [
       "bluetooth\n",
       "False    64.402230\n",
       "True     20.565765\n",
       "NaN      15.032005\n",
       "Name: proportion, dtype: float64"
      ]
     },
     "execution_count": 266,
     "metadata": {},
     "output_type": "execute_result"
    }
   ],
   "source": [
    "df_bmw4['bluetooth'].value_counts(dropna = False, normalize = True) * 100"
   ]
  },
  {
   "cell_type": "code",
   "execution_count": 267,
   "metadata": {},
   "outputs": [],
   "source": [
    "del(df_bmw4['bluetooth'])"
   ]
  },
  {
   "cell_type": "markdown",
   "metadata": {},
   "source": [
    "3.1.8 ALERTA_LIM_VELOCIDAD: Columna no relevante con muchos nulos. La elimino."
   ]
  },
  {
   "cell_type": "code",
   "execution_count": 268,
   "metadata": {},
   "outputs": [
    {
     "data": {
      "text/plain": [
       "alerta_lim_velocidad\n",
       "True     46.252323\n",
       "False    38.715672\n",
       "NaN      15.032005\n",
       "Name: proportion, dtype: float64"
      ]
     },
     "execution_count": 268,
     "metadata": {},
     "output_type": "execute_result"
    }
   ],
   "source": [
    "df_bmw4['alerta_lim_velocidad'].value_counts(dropna = False, normalize = True) * 100"
   ]
  },
  {
   "cell_type": "code",
   "execution_count": 269,
   "metadata": {},
   "outputs": [],
   "source": [
    "del(df_bmw4['alerta_lim_velocidad'])"
   ]
  },
  {
   "cell_type": "code",
   "execution_count": 270,
   "metadata": {},
   "outputs": [
    {
     "data": {
      "text/plain": [
       "modelo                  3\n",
       "km                      2\n",
       "potencia                1\n",
       "tipo_gasolina           5\n",
       "color                   0\n",
       "tipo_coche              0\n",
       "volante_regulable       4\n",
       "aire_acondicionado      0\n",
       "camara_trasera          2\n",
       "elevalunas_electrico    2\n",
       "gps                     0\n",
       "precio                  6\n",
       "fecha_venta             1\n",
       "dtype: int64"
      ]
     },
     "execution_count": 270,
     "metadata": {},
     "output_type": "execute_result"
    }
   ],
   "source": [
    "df_bmw4.isnull().sum()"
   ]
  },
  {
   "cell_type": "code",
   "execution_count": 271,
   "metadata": {},
   "outputs": [
    {
     "data": {
      "text/plain": [
       "(4843, 13)"
      ]
     },
     "execution_count": 271,
     "metadata": {},
     "output_type": "execute_result"
    }
   ],
   "source": [
    "df_bmw4.isnull().shape"
   ]
  },
  {
   "cell_type": "markdown",
   "metadata": {},
   "source": [
    "3.2 Analizamos las categorías con muy pocos nulos: modelo, km, potencia, tipo_gasolina, volante_regulable, camara_trasera, elevalunas_electrico, precio, fecha_venta"
   ]
  },
  {
   "cell_type": "code",
   "execution_count": 272,
   "metadata": {},
   "outputs": [],
   "source": [
    "col_few_nulls = ['modelo', 'km', 'potencia', 'tipo_gasolina', 'volante_regulable', 'camara_trasera', 'elevalunas_electrico', 'precio', 'fecha_venta']"
   ]
  },
  {
   "cell_type": "code",
   "execution_count": 273,
   "metadata": {},
   "outputs": [
    {
     "name": "stdout",
     "output_type": "stream",
     "text": [
      "25\n",
      "0.5162089613875697\n"
     ]
    }
   ],
   "source": [
    "num_rows_nulls = len(df_bmw4[df_bmw4['modelo'].isnull() | df_bmw4['km'].isnull() | df_bmw4['tipo_gasolina'].isnull() | df_bmw4['volante_regulable'].isnull() | df_bmw4['camara_trasera'].isnull() | df_bmw4['elevalunas_electrico'].isnull() | df_bmw4['precio'].isnull() | df_bmw4['fecha_venta'].isnull()]) \n",
    "print(num_rows_nulls)\n",
    "print(num_rows_nulls / df_bmw4.shape[0] * 100)"
   ]
  },
  {
   "cell_type": "code",
   "execution_count": 274,
   "metadata": {},
   "outputs": [
    {
     "data": {
      "text/html": [
       "<div>\n",
       "<style scoped>\n",
       "    .dataframe tbody tr th:only-of-type {\n",
       "        vertical-align: middle;\n",
       "    }\n",
       "\n",
       "    .dataframe tbody tr th {\n",
       "        vertical-align: top;\n",
       "    }\n",
       "\n",
       "    .dataframe thead th {\n",
       "        text-align: right;\n",
       "    }\n",
       "</style>\n",
       "<table border=\"1\" class=\"dataframe\">\n",
       "  <thead>\n",
       "    <tr style=\"text-align: right;\">\n",
       "      <th></th>\n",
       "      <th>modelo</th>\n",
       "      <th>km</th>\n",
       "      <th>potencia</th>\n",
       "      <th>tipo_gasolina</th>\n",
       "      <th>color</th>\n",
       "      <th>tipo_coche</th>\n",
       "      <th>volante_regulable</th>\n",
       "      <th>aire_acondicionado</th>\n",
       "      <th>camara_trasera</th>\n",
       "      <th>elevalunas_electrico</th>\n",
       "      <th>gps</th>\n",
       "      <th>precio</th>\n",
       "      <th>fecha_venta</th>\n",
       "    </tr>\n",
       "  </thead>\n",
       "  <tbody>\n",
       "    <tr>\n",
       "      <th>63</th>\n",
       "      <td>640</td>\n",
       "      <td>69695.0</td>\n",
       "      <td>230.0</td>\n",
       "      <td>diesel</td>\n",
       "      <td>sin color</td>\n",
       "      <td>coupe</td>\n",
       "      <td>True</td>\n",
       "      <td>True</td>\n",
       "      <td>False</td>\n",
       "      <td>NaN</td>\n",
       "      <td>True</td>\n",
       "      <td>36300.0</td>\n",
       "      <td>2018-02-01</td>\n",
       "    </tr>\n",
       "    <tr>\n",
       "      <th>66</th>\n",
       "      <td>320</td>\n",
       "      <td>93066.0</td>\n",
       "      <td>135.0</td>\n",
       "      <td>diesel</td>\n",
       "      <td>black</td>\n",
       "      <td>coupe</td>\n",
       "      <td>NaN</td>\n",
       "      <td>False</td>\n",
       "      <td>False</td>\n",
       "      <td>True</td>\n",
       "      <td>True</td>\n",
       "      <td>11900.0</td>\n",
       "      <td>2018-06-01</td>\n",
       "    </tr>\n",
       "    <tr>\n",
       "      <th>82</th>\n",
       "      <td>420</td>\n",
       "      <td>54993.0</td>\n",
       "      <td>135.0</td>\n",
       "      <td>NaN</td>\n",
       "      <td>black</td>\n",
       "      <td>sin tipo_coche</td>\n",
       "      <td>False</td>\n",
       "      <td>False</td>\n",
       "      <td>False</td>\n",
       "      <td>False</td>\n",
       "      <td>False</td>\n",
       "      <td>18400.0</td>\n",
       "      <td>2018-03-01</td>\n",
       "    </tr>\n",
       "    <tr>\n",
       "      <th>117</th>\n",
       "      <td>420</td>\n",
       "      <td>174740.0</td>\n",
       "      <td>135.0</td>\n",
       "      <td>diesel</td>\n",
       "      <td>sin color</td>\n",
       "      <td>coupe</td>\n",
       "      <td>True</td>\n",
       "      <td>True</td>\n",
       "      <td>True</td>\n",
       "      <td>True</td>\n",
       "      <td>True</td>\n",
       "      <td>NaN</td>\n",
       "      <td>2018-05-01</td>\n",
       "    </tr>\n",
       "    <tr>\n",
       "      <th>173</th>\n",
       "      <td>NaN</td>\n",
       "      <td>146338.0</td>\n",
       "      <td>105.0</td>\n",
       "      <td>diesel</td>\n",
       "      <td>black</td>\n",
       "      <td>sin tipo_coche</td>\n",
       "      <td>False</td>\n",
       "      <td>True</td>\n",
       "      <td>False</td>\n",
       "      <td>False</td>\n",
       "      <td>True</td>\n",
       "      <td>13300.0</td>\n",
       "      <td>2018-08-01</td>\n",
       "    </tr>\n",
       "    <tr>\n",
       "      <th>185</th>\n",
       "      <td>320</td>\n",
       "      <td>186697.0</td>\n",
       "      <td>135.0</td>\n",
       "      <td>NaN</td>\n",
       "      <td>white</td>\n",
       "      <td>estate</td>\n",
       "      <td>False</td>\n",
       "      <td>False</td>\n",
       "      <td>False</td>\n",
       "      <td>False</td>\n",
       "      <td>False</td>\n",
       "      <td>2400.0</td>\n",
       "      <td>2018-04-01</td>\n",
       "    </tr>\n",
       "    <tr>\n",
       "      <th>273</th>\n",
       "      <td>318</td>\n",
       "      <td>195032.0</td>\n",
       "      <td>100.0</td>\n",
       "      <td>diesel</td>\n",
       "      <td>grey</td>\n",
       "      <td>sin tipo_coche</td>\n",
       "      <td>NaN</td>\n",
       "      <td>sin info aire_acondicionado</td>\n",
       "      <td>False</td>\n",
       "      <td>False</td>\n",
       "      <td>True</td>\n",
       "      <td>4900.0</td>\n",
       "      <td>2018-01-01</td>\n",
       "    </tr>\n",
       "    <tr>\n",
       "      <th>291</th>\n",
       "      <td>520</td>\n",
       "      <td>163675.0</td>\n",
       "      <td>135.0</td>\n",
       "      <td>diesel</td>\n",
       "      <td>sin color</td>\n",
       "      <td>estate</td>\n",
       "      <td>True</td>\n",
       "      <td>True</td>\n",
       "      <td>NaN</td>\n",
       "      <td>True</td>\n",
       "      <td>True</td>\n",
       "      <td>14900.0</td>\n",
       "      <td>2018-01-01</td>\n",
       "    </tr>\n",
       "    <tr>\n",
       "      <th>305</th>\n",
       "      <td>535</td>\n",
       "      <td>148738.0</td>\n",
       "      <td>230.0</td>\n",
       "      <td>diesel</td>\n",
       "      <td>grey</td>\n",
       "      <td>estate</td>\n",
       "      <td>True</td>\n",
       "      <td>True</td>\n",
       "      <td>True</td>\n",
       "      <td>NaN</td>\n",
       "      <td>True</td>\n",
       "      <td>28800.0</td>\n",
       "      <td>2018-01-01</td>\n",
       "    </tr>\n",
       "    <tr>\n",
       "      <th>409</th>\n",
       "      <td>316</td>\n",
       "      <td>160619.0</td>\n",
       "      <td>85.0</td>\n",
       "      <td>diesel</td>\n",
       "      <td>black</td>\n",
       "      <td>estate</td>\n",
       "      <td>False</td>\n",
       "      <td>True</td>\n",
       "      <td>NaN</td>\n",
       "      <td>True</td>\n",
       "      <td>True</td>\n",
       "      <td>11700.0</td>\n",
       "      <td>2018-04-01</td>\n",
       "    </tr>\n",
       "    <tr>\n",
       "      <th>444</th>\n",
       "      <td>318</td>\n",
       "      <td>111622.0</td>\n",
       "      <td>100.0</td>\n",
       "      <td>NaN</td>\n",
       "      <td>black</td>\n",
       "      <td>estate</td>\n",
       "      <td>True</td>\n",
       "      <td>True</td>\n",
       "      <td>False</td>\n",
       "      <td>False</td>\n",
       "      <td>True</td>\n",
       "      <td>15400.0</td>\n",
       "      <td>2018-02-01</td>\n",
       "    </tr>\n",
       "    <tr>\n",
       "      <th>459</th>\n",
       "      <td>520</td>\n",
       "      <td>NaN</td>\n",
       "      <td>135.0</td>\n",
       "      <td>diesel</td>\n",
       "      <td>black</td>\n",
       "      <td>sin tipo_coche</td>\n",
       "      <td>True</td>\n",
       "      <td>True</td>\n",
       "      <td>True</td>\n",
       "      <td>True</td>\n",
       "      <td>True</td>\n",
       "      <td>20300.0</td>\n",
       "      <td>2018-02-01</td>\n",
       "    </tr>\n",
       "    <tr>\n",
       "      <th>480</th>\n",
       "      <td>318</td>\n",
       "      <td>170350.0</td>\n",
       "      <td>105.0</td>\n",
       "      <td>NaN</td>\n",
       "      <td>white</td>\n",
       "      <td>sin tipo_coche</td>\n",
       "      <td>False</td>\n",
       "      <td>True</td>\n",
       "      <td>False</td>\n",
       "      <td>False</td>\n",
       "      <td>True</td>\n",
       "      <td>10200.0</td>\n",
       "      <td>2018-02-01</td>\n",
       "    </tr>\n",
       "    <tr>\n",
       "      <th>489</th>\n",
       "      <td>320</td>\n",
       "      <td>227691.0</td>\n",
       "      <td>135.0</td>\n",
       "      <td>diesel</td>\n",
       "      <td>black</td>\n",
       "      <td>sin tipo_coche</td>\n",
       "      <td>NaN</td>\n",
       "      <td>True</td>\n",
       "      <td>False</td>\n",
       "      <td>False</td>\n",
       "      <td>True</td>\n",
       "      <td>10500.0</td>\n",
       "      <td>2018-02-01</td>\n",
       "    </tr>\n",
       "    <tr>\n",
       "      <th>524</th>\n",
       "      <td>520</td>\n",
       "      <td>163803.0</td>\n",
       "      <td>135.0</td>\n",
       "      <td>diesel</td>\n",
       "      <td>grey</td>\n",
       "      <td>estate</td>\n",
       "      <td>False</td>\n",
       "      <td>True</td>\n",
       "      <td>True</td>\n",
       "      <td>False</td>\n",
       "      <td>True</td>\n",
       "      <td>NaN</td>\n",
       "      <td>2018-02-01</td>\n",
       "    </tr>\n",
       "    <tr>\n",
       "      <th>539</th>\n",
       "      <td>316</td>\n",
       "      <td>34489.0</td>\n",
       "      <td>85.0</td>\n",
       "      <td>diesel</td>\n",
       "      <td>black</td>\n",
       "      <td>estate</td>\n",
       "      <td>True</td>\n",
       "      <td>False</td>\n",
       "      <td>False</td>\n",
       "      <td>False</td>\n",
       "      <td>True</td>\n",
       "      <td>NaN</td>\n",
       "      <td>2018-02-01</td>\n",
       "    </tr>\n",
       "    <tr>\n",
       "      <th>549</th>\n",
       "      <td>318</td>\n",
       "      <td>157129.0</td>\n",
       "      <td>100.0</td>\n",
       "      <td>diesel</td>\n",
       "      <td>blue</td>\n",
       "      <td>estate</td>\n",
       "      <td>True</td>\n",
       "      <td>sin info aire_acondicionado</td>\n",
       "      <td>True</td>\n",
       "      <td>True</td>\n",
       "      <td>True</td>\n",
       "      <td>NaN</td>\n",
       "      <td>2018-03-01</td>\n",
       "    </tr>\n",
       "    <tr>\n",
       "      <th>569</th>\n",
       "      <td>320</td>\n",
       "      <td>166866.0</td>\n",
       "      <td>120.0</td>\n",
       "      <td>diesel</td>\n",
       "      <td>blue</td>\n",
       "      <td>sin tipo_coche</td>\n",
       "      <td>True</td>\n",
       "      <td>True</td>\n",
       "      <td>False</td>\n",
       "      <td>True</td>\n",
       "      <td>True</td>\n",
       "      <td>NaN</td>\n",
       "      <td>2018-03-01</td>\n",
       "    </tr>\n",
       "    <tr>\n",
       "      <th>584</th>\n",
       "      <td>320</td>\n",
       "      <td>114771.0</td>\n",
       "      <td>135.0</td>\n",
       "      <td>diesel</td>\n",
       "      <td>blue</td>\n",
       "      <td>sin tipo_coche</td>\n",
       "      <td>False</td>\n",
       "      <td>True</td>\n",
       "      <td>False</td>\n",
       "      <td>False</td>\n",
       "      <td>True</td>\n",
       "      <td>NaN</td>\n",
       "      <td>2018-03-01</td>\n",
       "    </tr>\n",
       "    <tr>\n",
       "      <th>594</th>\n",
       "      <td>525</td>\n",
       "      <td>269290.0</td>\n",
       "      <td>120.0</td>\n",
       "      <td>diesel</td>\n",
       "      <td>silver</td>\n",
       "      <td>sin tipo_coche</td>\n",
       "      <td>True</td>\n",
       "      <td>False</td>\n",
       "      <td>True</td>\n",
       "      <td>False</td>\n",
       "      <td>True</td>\n",
       "      <td>4200.0</td>\n",
       "      <td>NaT</td>\n",
       "    </tr>\n",
       "    <tr>\n",
       "      <th>614</th>\n",
       "      <td>318</td>\n",
       "      <td>201626.0</td>\n",
       "      <td>105.0</td>\n",
       "      <td>diesel</td>\n",
       "      <td>black</td>\n",
       "      <td>sin tipo_coche</td>\n",
       "      <td>NaN</td>\n",
       "      <td>sin info aire_acondicionado</td>\n",
       "      <td>False</td>\n",
       "      <td>True</td>\n",
       "      <td>True</td>\n",
       "      <td>11700.0</td>\n",
       "      <td>2018-03-01</td>\n",
       "    </tr>\n",
       "    <tr>\n",
       "      <th>630</th>\n",
       "      <td>318</td>\n",
       "      <td>147558.0</td>\n",
       "      <td>105.0</td>\n",
       "      <td>NaN</td>\n",
       "      <td>white</td>\n",
       "      <td>estate</td>\n",
       "      <td>False</td>\n",
       "      <td>sin info aire_acondicionado</td>\n",
       "      <td>False</td>\n",
       "      <td>False</td>\n",
       "      <td>False</td>\n",
       "      <td>100.0</td>\n",
       "      <td>2018-03-01</td>\n",
       "    </tr>\n",
       "    <tr>\n",
       "      <th>4766</th>\n",
       "      <td>NaN</td>\n",
       "      <td>115566.0</td>\n",
       "      <td>105.0</td>\n",
       "      <td>diesel</td>\n",
       "      <td>silver</td>\n",
       "      <td>suv</td>\n",
       "      <td>False</td>\n",
       "      <td>True</td>\n",
       "      <td>False</td>\n",
       "      <td>True</td>\n",
       "      <td>True</td>\n",
       "      <td>14900.0</td>\n",
       "      <td>2018-09-01</td>\n",
       "    </tr>\n",
       "    <tr>\n",
       "      <th>4802</th>\n",
       "      <td>NaN</td>\n",
       "      <td>118640.0</td>\n",
       "      <td>110.0</td>\n",
       "      <td>diesel</td>\n",
       "      <td>white</td>\n",
       "      <td>sin tipo_coche</td>\n",
       "      <td>False</td>\n",
       "      <td>False</td>\n",
       "      <td>False</td>\n",
       "      <td>False</td>\n",
       "      <td>False</td>\n",
       "      <td>800.0</td>\n",
       "      <td>2018-03-01</td>\n",
       "    </tr>\n",
       "    <tr>\n",
       "      <th>4811</th>\n",
       "      <td>X3</td>\n",
       "      <td>NaN</td>\n",
       "      <td>190.0</td>\n",
       "      <td>diesel</td>\n",
       "      <td>blue</td>\n",
       "      <td>van</td>\n",
       "      <td>True</td>\n",
       "      <td>True</td>\n",
       "      <td>True</td>\n",
       "      <td>True</td>\n",
       "      <td>True</td>\n",
       "      <td>19500.0</td>\n",
       "      <td>2018-07-01</td>\n",
       "    </tr>\n",
       "  </tbody>\n",
       "</table>\n",
       "</div>"
      ],
      "text/plain": [
       "     modelo        km  potencia tipo_gasolina      color      tipo_coche  \\\n",
       "63      640   69695.0     230.0        diesel  sin color           coupe   \n",
       "66      320   93066.0     135.0        diesel      black           coupe   \n",
       "82      420   54993.0     135.0           NaN      black  sin tipo_coche   \n",
       "117     420  174740.0     135.0        diesel  sin color           coupe   \n",
       "173     NaN  146338.0     105.0        diesel      black  sin tipo_coche   \n",
       "185     320  186697.0     135.0           NaN      white          estate   \n",
       "273     318  195032.0     100.0        diesel       grey  sin tipo_coche   \n",
       "291     520  163675.0     135.0        diesel  sin color          estate   \n",
       "305     535  148738.0     230.0        diesel       grey          estate   \n",
       "409     316  160619.0      85.0        diesel      black          estate   \n",
       "444     318  111622.0     100.0           NaN      black          estate   \n",
       "459     520       NaN     135.0        diesel      black  sin tipo_coche   \n",
       "480     318  170350.0     105.0           NaN      white  sin tipo_coche   \n",
       "489     320  227691.0     135.0        diesel      black  sin tipo_coche   \n",
       "524     520  163803.0     135.0        diesel       grey          estate   \n",
       "539     316   34489.0      85.0        diesel      black          estate   \n",
       "549     318  157129.0     100.0        diesel       blue          estate   \n",
       "569     320  166866.0     120.0        diesel       blue  sin tipo_coche   \n",
       "584     320  114771.0     135.0        diesel       blue  sin tipo_coche   \n",
       "594     525  269290.0     120.0        diesel     silver  sin tipo_coche   \n",
       "614     318  201626.0     105.0        diesel      black  sin tipo_coche   \n",
       "630     318  147558.0     105.0           NaN      white          estate   \n",
       "4766    NaN  115566.0     105.0        diesel     silver             suv   \n",
       "4802    NaN  118640.0     110.0        diesel      white  sin tipo_coche   \n",
       "4811     X3       NaN     190.0        diesel       blue             van   \n",
       "\n",
       "     volante_regulable           aire_acondicionado camara_trasera  \\\n",
       "63                True                         True          False   \n",
       "66                 NaN                        False          False   \n",
       "82               False                        False          False   \n",
       "117               True                         True           True   \n",
       "173              False                         True          False   \n",
       "185              False                        False          False   \n",
       "273                NaN  sin info aire_acondicionado          False   \n",
       "291               True                         True            NaN   \n",
       "305               True                         True           True   \n",
       "409              False                         True            NaN   \n",
       "444               True                         True          False   \n",
       "459               True                         True           True   \n",
       "480              False                         True          False   \n",
       "489                NaN                         True          False   \n",
       "524              False                         True           True   \n",
       "539               True                        False          False   \n",
       "549               True  sin info aire_acondicionado           True   \n",
       "569               True                         True          False   \n",
       "584              False                         True          False   \n",
       "594               True                        False           True   \n",
       "614                NaN  sin info aire_acondicionado          False   \n",
       "630              False  sin info aire_acondicionado          False   \n",
       "4766             False                         True          False   \n",
       "4802             False                        False          False   \n",
       "4811              True                         True           True   \n",
       "\n",
       "     elevalunas_electrico    gps   precio fecha_venta  \n",
       "63                    NaN   True  36300.0  2018-02-01  \n",
       "66                   True   True  11900.0  2018-06-01  \n",
       "82                  False  False  18400.0  2018-03-01  \n",
       "117                  True   True      NaN  2018-05-01  \n",
       "173                 False   True  13300.0  2018-08-01  \n",
       "185                 False  False   2400.0  2018-04-01  \n",
       "273                 False   True   4900.0  2018-01-01  \n",
       "291                  True   True  14900.0  2018-01-01  \n",
       "305                   NaN   True  28800.0  2018-01-01  \n",
       "409                  True   True  11700.0  2018-04-01  \n",
       "444                 False   True  15400.0  2018-02-01  \n",
       "459                  True   True  20300.0  2018-02-01  \n",
       "480                 False   True  10200.0  2018-02-01  \n",
       "489                 False   True  10500.0  2018-02-01  \n",
       "524                 False   True      NaN  2018-02-01  \n",
       "539                 False   True      NaN  2018-02-01  \n",
       "549                  True   True      NaN  2018-03-01  \n",
       "569                  True   True      NaN  2018-03-01  \n",
       "584                 False   True      NaN  2018-03-01  \n",
       "594                 False   True   4200.0         NaT  \n",
       "614                  True   True  11700.0  2018-03-01  \n",
       "630                 False  False    100.0  2018-03-01  \n",
       "4766                 True   True  14900.0  2018-09-01  \n",
       "4802                False  False    800.0  2018-03-01  \n",
       "4811                 True   True  19500.0  2018-07-01  "
      ]
     },
     "execution_count": 274,
     "metadata": {},
     "output_type": "execute_result"
    }
   ],
   "source": [
    "df_num_rows_nulls = df_bmw4[df_bmw4['modelo'].isnull() | df_bmw4['km'].isnull() | df_bmw4['tipo_gasolina'].isnull() | df_bmw4['volante_regulable'].isnull() | df_bmw4['camara_trasera'].isnull() | df_bmw4['elevalunas_electrico'].isnull() | df_bmw4['precio'].isnull() | df_bmw4['fecha_venta'].isnull()] \n",
    "df_num_rows_nulls"
   ]
  },
  {
   "cell_type": "markdown",
   "metadata": {},
   "source": [
    "Al ser tan pocas filas las que tienen alguno de estos campos a nulo, las elimino"
   ]
  },
  {
   "cell_type": "code",
   "execution_count": 275,
   "metadata": {},
   "outputs": [
    {
     "data": {
      "text/plain": [
       "(4843, 13)"
      ]
     },
     "execution_count": 275,
     "metadata": {},
     "output_type": "execute_result"
    }
   ],
   "source": [
    "df_bmw5 = df_bmw4.copy()\n",
    "df_bmw5.shape"
   ]
  },
  {
   "cell_type": "code",
   "execution_count": 276,
   "metadata": {},
   "outputs": [
    {
     "data": {
      "text/plain": [
       "(4817, 13)"
      ]
     },
     "execution_count": 276,
     "metadata": {},
     "output_type": "execute_result"
    }
   ],
   "source": [
    "df_bmw5.dropna(subset = col_few_nulls, inplace=True)\n",
    "df_bmw5.shape"
   ]
  },
  {
   "cell_type": "code",
   "execution_count": 277,
   "metadata": {},
   "outputs": [],
   "source": [
    "df_bmw5.reset_index(drop=True, inplace=True)"
   ]
  },
  {
   "cell_type": "code",
   "execution_count": 278,
   "metadata": {},
   "outputs": [
    {
     "data": {
      "text/plain": [
       "modelo                  0\n",
       "km                      0\n",
       "potencia                0\n",
       "tipo_gasolina           0\n",
       "color                   0\n",
       "tipo_coche              0\n",
       "volante_regulable       0\n",
       "aire_acondicionado      0\n",
       "camara_trasera          0\n",
       "elevalunas_electrico    0\n",
       "gps                     0\n",
       "precio                  0\n",
       "fecha_venta             0\n",
       "dtype: int64"
      ]
     },
     "execution_count": 278,
     "metadata": {},
     "output_type": "execute_result"
    }
   ],
   "source": [
    "df_bmw5.isnull().sum()"
   ]
  },
  {
   "cell_type": "markdown",
   "metadata": {},
   "source": [
    "4. Análisis univariable"
   ]
  },
  {
   "cell_type": "code",
   "execution_count": 279,
   "metadata": {},
   "outputs": [
    {
     "name": "stdout",
     "output_type": "stream",
     "text": [
      "<class 'pandas.core.frame.DataFrame'>\n",
      "RangeIndex: 4817 entries, 0 to 4816\n",
      "Data columns (total 13 columns):\n",
      " #   Column                Non-Null Count  Dtype         \n",
      "---  ------                --------------  -----         \n",
      " 0   modelo                4817 non-null   object        \n",
      " 1   km                    4817 non-null   float64       \n",
      " 2   potencia              4817 non-null   float64       \n",
      " 3   tipo_gasolina         4817 non-null   object        \n",
      " 4   color                 4817 non-null   object        \n",
      " 5   tipo_coche            4817 non-null   object        \n",
      " 6   volante_regulable     4817 non-null   object        \n",
      " 7   aire_acondicionado    4817 non-null   object        \n",
      " 8   camara_trasera        4817 non-null   object        \n",
      " 9   elevalunas_electrico  4817 non-null   object        \n",
      " 10  gps                   4817 non-null   bool          \n",
      " 11  precio                4817 non-null   float64       \n",
      " 12  fecha_venta           4817 non-null   datetime64[ns]\n",
      "dtypes: bool(1), datetime64[ns](1), float64(3), object(8)\n",
      "memory usage: 456.4+ KB\n"
     ]
    }
   ],
   "source": [
    "df_bmw5.info()"
   ]
  },
  {
   "cell_type": "code",
   "execution_count": 280,
   "metadata": {},
   "outputs": [
    {
     "name": "stdout",
     "output_type": "stream",
     "text": [
      "\n",
      " modelo ['118' 'M4' '320' '420' '425' '335' '325' 'Z4' '120' '220' '650' '135'\n",
      " '218' '318' '430' 'M3' '330' '225' 'M235' '316' '435' '640'\n",
      " '640 Gran Coupé' '435 Gran Coupé' 'i8' '630' '430 Gran Coupé' '635' '520'\n",
      " '525' '530' '535' '320 Gran Turismo' '518' '116' '328' '523' 'X3' 'M550'\n",
      " '528' '325 Gran Turismo' '125' '318 Gran Turismo' '420 Gran Coupé' 'i3'\n",
      " '114' '520 Gran Turismo' '530 Gran Turismo' 'M135' '418 Gran Coupé'\n",
      " '330 Gran Turismo' '335 Gran Turismo' '730' '123' '535 Gran Turismo'\n",
      " '740' '750' 'ActiveHybrid 5' '735' 'M5' 'X5' 'X1' 'X4' 'X6' 'X6 M' 'X5 M'\n",
      " 'X5 M50' '218 Active Tourer' '218 Gran Tourer' '216' '220 Active Tourer'\n",
      " '216 Gran Tourer' '216 Active Tourer' ' Active Tourer'\n",
      " '225 Active Tourer' '214 Gran Tourer'] \n",
      "\n",
      "\n",
      " km [140411.  13929. 183297. ...  19633.  27920. 195840.] \n",
      "\n",
      "\n",
      " potencia [100. 317. 120. 135. 160. 225. 145. 105. 125. 130. 270. 110. 140. 180.\n",
      "  85. 190. 236. 240. 250. 230. 309. 170. 142. 155. 210. 122. 200.  90.\n",
      " 150. 141. 173. 137. 280. 112. 189.  80. 119.  95. 220. 107. 127.  25.\n",
      "  70. 192. 101.  75. 239. 235.  87.  66.  77. 195. 183. 233. 121. 224.\n",
      " 412.   0. 423. 300. 261.] \n",
      "\n",
      "\n",
      " tipo_gasolina ['diesel' 'petrol' 'hybrid_petrol' 'Diesel' 'electro'] \n",
      "\n",
      "\n",
      " color ['black' 'grey' 'white' 'red' 'silver' 'blue' 'sin color' 'orange' 'beige'\n",
      " 'brown' 'green'] \n",
      "\n",
      "\n",
      " tipo_coche ['sin tipo_coche' 'convertible' 'coupe' 'estate' 'hatchback' 'sedan'\n",
      " 'subcompact' 'suv' 'van'] \n",
      "\n",
      "\n",
      " volante_regulable [True False] \n",
      "\n",
      "\n",
      " aire_acondicionado [True False 'sin info aire_acondicionado'] \n",
      "\n",
      "\n",
      " camara_trasera [False True] \n",
      "\n",
      "\n",
      " elevalunas_electrico [True False] \n",
      "\n",
      "\n",
      " gps [ True False] \n",
      "\n",
      "\n",
      " precio [1.130e+04 6.970e+04 1.020e+04 2.510e+04 3.340e+04 1.710e+04 1.240e+04\n",
      " 6.100e+03 6.200e+03 1.730e+04 1.930e+04 1.330e+04 2.170e+04 3.630e+04\n",
      " 1.050e+04 8.300e+03 2.190e+04 9.200e+03 1.100e+04 7.700e+03 1.680e+04\n",
      " 3.100e+04 2.630e+04 2.330e+04 2.080e+04 1.800e+03 3.010e+04 2.870e+04\n",
      " 6.500e+03 1.110e+04 9.900e+03 9.500e+03 2.750e+04 5.500e+03 6.300e+03\n",
      " 2.400e+03 6.800e+03 2.420e+04 1.180e+04 3.430e+04 1.210e+04 1.580e+04\n",
      " 8.000e+03 9.000e+03 2.430e+04 2.600e+03 2.140e+04 2.620e+04 8.400e+03\n",
      " 7.500e+03 2.380e+04 2.650e+04 2.770e+04 1.830e+04 2.300e+03 3.020e+04\n",
      " 1.000e+03 1.900e+04 3.050e+04 2.860e+04 3.890e+04 3.210e+04 4.700e+04\n",
      " 5.520e+04 1.610e+04 1.950e+04 5.360e+04 2.800e+04 2.240e+04 3.200e+04\n",
      " 2.640e+04 8.600e+03 3.150e+04 3.990e+04 8.900e+03 1.690e+04 3.000e+04\n",
      " 8.200e+03 3.690e+04 2.340e+04 2.300e+04 9.520e+04 2.320e+04 2.530e+04\n",
      " 2.700e+04 2.250e+04 3.100e+03 1.460e+04 2.610e+04 8.700e+03 2.350e+04\n",
      " 2.680e+04 2.200e+04 2.180e+04 3.650e+04 1.780e+04 3.070e+04 4.580e+04\n",
      " 2.760e+04 1.290e+04 2.410e+04 8.500e+03 1.700e+04 7.600e+03 9.300e+03\n",
      " 2.500e+04 1.250e+04 1.670e+04 2.920e+04 3.570e+04 1.070e+04 1.280e+04\n",
      " 2.700e+03 1.500e+04 1.090e+04 2.310e+04 5.400e+03 1.170e+04 1.650e+04\n",
      " 1.140e+04 1.310e+04 1.450e+04 1.270e+04 2.130e+04 6.000e+03 7.900e+03\n",
      " 8.000e+02 1.820e+04 1.440e+04 1.100e+03 1.220e+04 1.150e+04 1.860e+04\n",
      " 1.190e+04 1.120e+04 9.400e+03 1.890e+04 2.370e+04 1.540e+04 1.370e+04\n",
      " 1.800e+04 1.360e+04 1.300e+04 2.020e+04 1.260e+04 1.200e+03 1.510e+04\n",
      " 1.200e+04 1.430e+04 4.300e+03 1.060e+04 1.420e+04 1.560e+04 1.010e+04\n",
      " 1.490e+04 5.100e+03 7.300e+03 1.040e+04 1.000e+04 1.630e+04 8.800e+03\n",
      " 3.900e+03 3.000e+03 1.480e+04 1.520e+04 1.810e+04 6.400e+03 9.600e+03\n",
      " 1.400e+03 1.230e+04 1.320e+04 1.920e+04 2.060e+04 1.380e+04 2.030e+04\n",
      " 2.210e+04 1.640e+04 1.990e+04 1.980e+04 2.000e+04 2.550e+04 1.770e+04\n",
      " 2.560e+04 2.670e+04 1.080e+04 5.000e+03 3.130e+04 1.340e+04 9.700e+03\n",
      " 1.740e+04 3.800e+03 1.570e+04 2.520e+04 1.550e+04 1.620e+04 2.580e+04\n",
      " 2.090e+04 2.740e+04 2.390e+04 4.500e+03 9.800e+03 6.600e+03 1.880e+04\n",
      " 2.050e+04 1.500e+03 1.390e+04 5.800e+03 1.840e+04 2.480e+04 6.900e+03\n",
      " 1.160e+04 3.060e+04 3.390e+04 3.600e+03 3.600e+04 5.000e+02 7.200e+03\n",
      " 2.070e+04 2.270e+04 1.960e+04 2.220e+04 1.000e+02 1.760e+04 2.010e+04\n",
      " 2.290e+04 4.000e+03 2.880e+04 2.150e+04 1.400e+04 2.260e+04 1.530e+04\n",
      " 1.300e+03 1.900e+03 5.700e+03 4.400e+03 1.410e+04 7.400e+03 3.700e+03\n",
      " 5.600e+03 7.100e+03 6.700e+03 4.200e+03 8.100e+03 4.900e+03 2.120e+04\n",
      " 2.960e+04 7.800e+03 2.690e+04 3.710e+04 7.000e+03 3.500e+03 2.280e+04\n",
      " 2.490e+04 3.200e+03 2.100e+03 2.840e+04 1.470e+04 1.590e+04 5.300e+03\n",
      " 2.500e+03 2.820e+04 1.750e+04 4.800e+03 2.730e+04 2.980e+04 2.110e+04\n",
      " 4.600e+03 4.000e+02 1.600e+03 2.890e+04 2.040e+04 4.090e+04 3.300e+03\n",
      " 9.100e+03 9.000e+02 2.440e+04 1.660e+04 2.570e+04 3.080e+04 2.950e+04\n",
      " 2.800e+03 1.870e+04 2.230e+04 2.450e+04 1.720e+04 2.590e+04 3.450e+04\n",
      " 1.030e+04 4.050e+04 2.470e+04 3.090e+04 4.000e+04 2.360e+04 2.810e+04\n",
      " 3.030e+04 3.930e+04 3.310e+04 3.280e+04 2.400e+04 2.000e+02 7.000e+02\n",
      " 1.940e+04 3.330e+04 3.720e+04 3.270e+04 2.460e+04 2.830e+04 4.070e+04\n",
      " 3.670e+04 6.250e+04 4.460e+04 3.400e+04 4.300e+04 3.190e+04 2.790e+04\n",
      " 3.530e+04 5.830e+04 1.970e+04 3.400e+03 2.710e+04 6.370e+04 1.850e+04\n",
      " 2.160e+04 3.870e+04 2.940e+04 7.500e+04 5.120e+04 3.460e+04 3.490e+04\n",
      " 6.540e+04 5.240e+04 3.800e+04 3.260e+04 1.600e+04 4.700e+03 3.920e+04\n",
      " 3.620e+04 1.910e+04 3.140e+04 4.730e+04 6.830e+04 1.790e+04 2.930e+04\n",
      " 5.200e+03 2.780e+04 5.150e+04 6.870e+04 4.110e+04 4.160e+04 4.270e+04\n",
      " 3.520e+04 3.110e+04 6.000e+02 3.810e+04 4.370e+04 6.430e+04 4.280e+04\n",
      " 3.320e+04 3.380e+04 3.250e+04 4.120e+04 3.880e+04 4.190e+04 3.640e+04\n",
      " 4.820e+04 4.340e+04 3.180e+04 3.770e+04 4.400e+04 3.750e+04 3.480e+04\n",
      " 3.300e+04 5.220e+04 3.420e+04 4.330e+04 3.510e+04 4.990e+04 4.970e+04\n",
      " 1.350e+04 4.740e+04 3.900e+04 5.710e+04 6.310e+04 4.200e+04 3.780e+04\n",
      " 5.550e+04 5.530e+04 4.220e+04 8.240e+04 4.430e+04 3.500e+04 3.590e+04\n",
      " 4.130e+04 4.410e+04 4.630e+04 4.650e+04 5.930e+04 3.560e+04 4.240e+04\n",
      " 3.360e+04 4.380e+04 4.470e+04 3.550e+04 4.880e+04 3.350e+04 3.610e+04\n",
      " 5.000e+04 3.220e+04 3.540e+04 3.940e+04 3.840e+04 3.580e+04 3.740e+04\n",
      " 4.910e+04 4.210e+04 2.910e+04 2.900e+04 4.610e+04 4.530e+04 4.660e+04\n",
      " 3.170e+04 3.950e+04 4.550e+04 5.570e+04 6.120e+04 4.360e+04 4.640e+04\n",
      " 5.060e+04 1.428e+05 3.910e+04 2.990e+04 7.310e+04 6.070e+04 6.660e+04\n",
      " 1.785e+05 5.900e+03 4.510e+04] \n",
      "\n",
      "\n",
      " fecha_venta <DatetimeArray>\n",
      "['2018-01-01 00:00:00', '2018-02-01 00:00:00', '2018-04-01 00:00:00',\n",
      " '2018-03-01 00:00:00', '2018-09-01 00:00:00', '2018-05-01 00:00:00',\n",
      " '2018-06-01 00:00:00', '2018-07-01 00:00:00', '2018-08-01 00:00:00',\n",
      " '2007-08-01 00:00:00', '2010-04-01 00:00:00', '2009-04-01 00:00:00',\n",
      " '2008-06-01 00:00:00']\n",
      "Length: 13, dtype: datetime64[ns] \n",
      "\n"
     ]
    }
   ],
   "source": [
    "for i in df_bmw5:\n",
    "    print('\\n',i,df_bmw5[i].unique(),'\\n')"
   ]
  },
  {
   "cell_type": "markdown",
   "metadata": {},
   "source": [
    "Vamos a crear columnas de las varibles con valores True/False al tipo entero para que las considere boolenas:"
   ]
  },
  {
   "cell_type": "code",
   "execution_count": 281,
   "metadata": {},
   "outputs": [],
   "source": [
    "col_booleans = ['volante_regulable', 'camara_trasera', 'elevalunas_electrico', 'gps']\n",
    "\n",
    "for i in col_booleans:\n",
    "    df_bmw5[i+'_BOOL'] = df_bmw5[i].astype(int)"
   ]
  },
  {
   "cell_type": "code",
   "execution_count": 282,
   "metadata": {},
   "outputs": [
    {
     "name": "stdout",
     "output_type": "stream",
     "text": [
      "<class 'pandas.core.frame.DataFrame'>\n",
      "RangeIndex: 4817 entries, 0 to 4816\n",
      "Data columns (total 17 columns):\n",
      " #   Column                     Non-Null Count  Dtype         \n",
      "---  ------                     --------------  -----         \n",
      " 0   modelo                     4817 non-null   object        \n",
      " 1   km                         4817 non-null   float64       \n",
      " 2   potencia                   4817 non-null   float64       \n",
      " 3   tipo_gasolina              4817 non-null   object        \n",
      " 4   color                      4817 non-null   object        \n",
      " 5   tipo_coche                 4817 non-null   object        \n",
      " 6   volante_regulable          4817 non-null   object        \n",
      " 7   aire_acondicionado         4817 non-null   object        \n",
      " 8   camara_trasera             4817 non-null   object        \n",
      " 9   elevalunas_electrico       4817 non-null   object        \n",
      " 10  gps                        4817 non-null   bool          \n",
      " 11  precio                     4817 non-null   float64       \n",
      " 12  fecha_venta                4817 non-null   datetime64[ns]\n",
      " 13  volante_regulable_BOOL     4817 non-null   int32         \n",
      " 14  camara_trasera_BOOL        4817 non-null   int32         \n",
      " 15  elevalunas_electrico_BOOL  4817 non-null   int32         \n",
      " 16  gps_BOOL                   4817 non-null   int32         \n",
      "dtypes: bool(1), datetime64[ns](1), float64(3), int32(4), object(8)\n",
      "memory usage: 531.7+ KB\n"
     ]
    }
   ],
   "source": [
    "df_bmw5.info()"
   ]
  },
  {
   "cell_type": "code",
   "execution_count": 283,
   "metadata": {},
   "outputs": [],
   "source": [
    "df_bmw6 = df_bmw5.copy()"
   ]
  },
  {
   "cell_type": "code",
   "execution_count": 284,
   "metadata": {},
   "outputs": [],
   "source": [
    "for i in col_booleans:\n",
    "    del(df_bmw6[i])"
   ]
  },
  {
   "cell_type": "code",
   "execution_count": 285,
   "metadata": {},
   "outputs": [
    {
     "name": "stdout",
     "output_type": "stream",
     "text": [
      "<class 'pandas.core.frame.DataFrame'>\n",
      "RangeIndex: 4817 entries, 0 to 4816\n",
      "Data columns (total 13 columns):\n",
      " #   Column                     Non-Null Count  Dtype         \n",
      "---  ------                     --------------  -----         \n",
      " 0   modelo                     4817 non-null   object        \n",
      " 1   km                         4817 non-null   float64       \n",
      " 2   potencia                   4817 non-null   float64       \n",
      " 3   tipo_gasolina              4817 non-null   object        \n",
      " 4   color                      4817 non-null   object        \n",
      " 5   tipo_coche                 4817 non-null   object        \n",
      " 6   aire_acondicionado         4817 non-null   object        \n",
      " 7   precio                     4817 non-null   float64       \n",
      " 8   fecha_venta                4817 non-null   datetime64[ns]\n",
      " 9   volante_regulable_BOOL     4817 non-null   int32         \n",
      " 10  camara_trasera_BOOL        4817 non-null   int32         \n",
      " 11  elevalunas_electrico_BOOL  4817 non-null   int32         \n",
      " 12  gps_BOOL                   4817 non-null   int32         \n",
      "dtypes: datetime64[ns](1), float64(3), int32(4), object(5)\n",
      "memory usage: 414.1+ KB\n"
     ]
    }
   ],
   "source": [
    "df_bmw6.info()"
   ]
  },
  {
   "cell_type": "code",
   "execution_count": 286,
   "metadata": {},
   "outputs": [],
   "source": [
    "target= [\"precio\"]\n",
    "def obtener_lista_variables(dataset):\n",
    "    lista_numericas=[]\n",
    "    lista_boolean=[]\n",
    "    lista_categoricas=[]\n",
    "    for i in dataset:\n",
    "        if    (dataset[i].dtype.kind==\"f\" or dataset[i].dtype.kind==\"i\") and len(dataset[i].unique())!= 2  and i not in target:\n",
    "              lista_numericas.append(i)\n",
    "        elif  (dataset[i].dtype.kind==\"f\" or dataset[i].dtype.kind==\"i\")  and len(dataset[i].unique())== 2  and i not in target:\n",
    "              lista_boolean.append(i)\n",
    "        elif  (dataset[i].dtype.kind==\"O\")  and i not in target:\n",
    "              lista_categoricas.append(i)\n",
    "\n",
    "    return lista_numericas, lista_boolean, lista_categoricas"
   ]
  },
  {
   "cell_type": "code",
   "execution_count": 287,
   "metadata": {},
   "outputs": [],
   "source": [
    "lnum, lbool, lcat= obtener_lista_variables(df_bmw6)"
   ]
  },
  {
   "cell_type": "code",
   "execution_count": 288,
   "metadata": {},
   "outputs": [
    {
     "name": "stdout",
     "output_type": "stream",
     "text": [
      "13 total de variables\n",
      "1 variable a predecir\n",
      "5 variables categóricas\n",
      "4 variables boolean\n",
      "2 variables numéricas\n"
     ]
    }
   ],
   "source": [
    "print(len(df_bmw6.columns), \"total de variables\")\n",
    "print(len(target), \"variable a predecir\")\n",
    "print(len(lcat), \"variables categóricas\")\n",
    "print(len(lbool), \"variables boolean\")\n",
    "print(len(lnum), \"variables numéricas\")"
   ]
  },
  {
   "cell_type": "markdown",
   "metadata": {},
   "source": [
    "4.1. Analizar las variables numéricas"
   ]
  },
  {
   "cell_type": "code",
   "execution_count": null,
   "metadata": {},
   "outputs": [],
   "source": [
    "lnum"
   ]
  },
  {
   "cell_type": "code",
   "execution_count": null,
   "metadata": {},
   "outputs": [],
   "source": [
    "df_bmw6[['km','potencia']].describe()"
   ]
  },
  {
   "cell_type": "code",
   "execution_count": 334,
   "metadata": {},
   "outputs": [
    {
     "name": "stdout",
     "output_type": "stream",
     "text": [
      "[[<Axes: title={'center': 'km'}>]]\n"
     ]
    },
    {
     "data": {
      "image/png": "[encoded data removed]",
      "text/plain": [
       "<Figure size 640x480 with 1 Axes>"
      ]
     },
     "metadata": {},
     "output_type": "display_data"
    }
   ],
   "source": [
    "print(df_bmw6.hist('km', bins = 50))"
   ]
  },
  {
   "cell_type": "code",
   "execution_count": 300,
   "metadata": {},
   "outputs": [
    {
     "data": {
      "text/plain": [
       "count    4.817000e+03\n",
       "mean     1.409353e+05\n",
       "std      6.024268e+04\n",
       "min     -6.400000e+01\n",
       "25%      1.027580e+05\n",
       "50%      1.409910e+05\n",
       "75%      1.752350e+05\n",
       "max      1.000376e+06\n",
       "Name: km, dtype: float64"
      ]
     },
     "execution_count": 300,
     "metadata": {},
     "output_type": "execute_result"
    }
   ],
   "source": [
    "df_bmw6['km'].describe()"
   ]
  },
  {
   "cell_type": "markdown",
   "metadata": {},
   "source": [
    "Observamos que el valor mínimo de 'km' es < 0 y que hay outliers más allá del 0.5e6"
   ]
  },
  {
   "cell_type": "code",
   "execution_count": 329,
   "metadata": {},
   "outputs": [
    {
     "data": {
      "text/html": [
       "<div>\n",
       "<style scoped>\n",
       "    .dataframe tbody tr th:only-of-type {\n",
       "        vertical-align: middle;\n",
       "    }\n",
       "\n",
       "    .dataframe tbody tr th {\n",
       "        vertical-align: top;\n",
       "    }\n",
       "\n",
       "    .dataframe thead th {\n",
       "        text-align: right;\n",
       "    }\n",
       "</style>\n",
       "<table border=\"1\" class=\"dataframe\">\n",
       "  <thead>\n",
       "    <tr style=\"text-align: right;\">\n",
       "      <th></th>\n",
       "      <th>modelo</th>\n",
       "      <th>km</th>\n",
       "      <th>potencia</th>\n",
       "      <th>tipo_gasolina</th>\n",
       "      <th>color</th>\n",
       "      <th>tipo_coche</th>\n",
       "      <th>aire_acondicionado</th>\n",
       "      <th>precio</th>\n",
       "      <th>fecha_venta</th>\n",
       "      <th>volante_regulable_BOOL</th>\n",
       "      <th>camara_trasera_BOOL</th>\n",
       "      <th>elevalunas_electrico_BOOL</th>\n",
       "      <th>gps_BOOL</th>\n",
       "    </tr>\n",
       "  </thead>\n",
       "  <tbody>\n",
       "    <tr>\n",
       "      <th>539</th>\n",
       "      <td>520</td>\n",
       "      <td>484615.0</td>\n",
       "      <td>120.0</td>\n",
       "      <td>diesel</td>\n",
       "      <td>blue</td>\n",
       "      <td>estate</td>\n",
       "      <td>True</td>\n",
       "      <td>8300.0</td>\n",
       "      <td>2018-03-01</td>\n",
       "      <td>1</td>\n",
       "      <td>0</td>\n",
       "      <td>0</td>\n",
       "      <td>1</td>\n",
       "    </tr>\n",
       "    <tr>\n",
       "      <th>1550</th>\n",
       "      <td>320</td>\n",
       "      <td>400654.0</td>\n",
       "      <td>110.0</td>\n",
       "      <td>diesel</td>\n",
       "      <td>black</td>\n",
       "      <td>estate</td>\n",
       "      <td>False</td>\n",
       "      <td>1800.0</td>\n",
       "      <td>2018-07-01</td>\n",
       "      <td>0</td>\n",
       "      <td>1</td>\n",
       "      <td>0</td>\n",
       "      <td>1</td>\n",
       "    </tr>\n",
       "    <tr>\n",
       "      <th>2327</th>\n",
       "      <td>318</td>\n",
       "      <td>477571.0</td>\n",
       "      <td>85.0</td>\n",
       "      <td>diesel</td>\n",
       "      <td>grey</td>\n",
       "      <td>sin tipo_coche</td>\n",
       "      <td>True</td>\n",
       "      <td>1200.0</td>\n",
       "      <td>2018-07-01</td>\n",
       "      <td>0</td>\n",
       "      <td>0</td>\n",
       "      <td>0</td>\n",
       "      <td>0</td>\n",
       "    </tr>\n",
       "    <tr>\n",
       "      <th>2806</th>\n",
       "      <td>525</td>\n",
       "      <td>439060.0</td>\n",
       "      <td>105.0</td>\n",
       "      <td>diesel</td>\n",
       "      <td>silver</td>\n",
       "      <td>sin tipo_coche</td>\n",
       "      <td>False</td>\n",
       "      <td>100.0</td>\n",
       "      <td>2018-03-01</td>\n",
       "      <td>0</td>\n",
       "      <td>1</td>\n",
       "      <td>0</td>\n",
       "      <td>1</td>\n",
       "    </tr>\n",
       "    <tr>\n",
       "      <th>2915</th>\n",
       "      <td>640 Gran Coupé</td>\n",
       "      <td>-64.0</td>\n",
       "      <td>230.0</td>\n",
       "      <td>diesel</td>\n",
       "      <td>black</td>\n",
       "      <td>sedan</td>\n",
       "      <td>True</td>\n",
       "      <td>75000.0</td>\n",
       "      <td>2018-04-01</td>\n",
       "      <td>1</td>\n",
       "      <td>0</td>\n",
       "      <td>0</td>\n",
       "      <td>1</td>\n",
       "    </tr>\n",
       "    <tr>\n",
       "      <th>3175</th>\n",
       "      <td>320</td>\n",
       "      <td>405816.0</td>\n",
       "      <td>100.0</td>\n",
       "      <td>diesel</td>\n",
       "      <td>blue</td>\n",
       "      <td>sedan</td>\n",
       "      <td>False</td>\n",
       "      <td>500.0</td>\n",
       "      <td>2018-05-01</td>\n",
       "      <td>0</td>\n",
       "      <td>0</td>\n",
       "      <td>0</td>\n",
       "      <td>1</td>\n",
       "    </tr>\n",
       "    <tr>\n",
       "      <th>3709</th>\n",
       "      <td>118</td>\n",
       "      <td>1000376.0</td>\n",
       "      <td>90.0</td>\n",
       "      <td>diesel</td>\n",
       "      <td>sin color</td>\n",
       "      <td>sin tipo_coche</td>\n",
       "      <td>False</td>\n",
       "      <td>1400.0</td>\n",
       "      <td>2018-06-01</td>\n",
       "      <td>1</td>\n",
       "      <td>0</td>\n",
       "      <td>0</td>\n",
       "      <td>1</td>\n",
       "    </tr>\n",
       "  </tbody>\n",
       "</table>\n",
       "</div>"
      ],
      "text/plain": [
       "              modelo         km  potencia tipo_gasolina      color  \\\n",
       "539              520   484615.0     120.0        diesel       blue   \n",
       "1550             320   400654.0     110.0        diesel      black   \n",
       "2327             318   477571.0      85.0        diesel       grey   \n",
       "2806             525   439060.0     105.0        diesel     silver   \n",
       "2915  640 Gran Coupé      -64.0     230.0        diesel      black   \n",
       "3175             320   405816.0     100.0        diesel       blue   \n",
       "3709             118  1000376.0      90.0        diesel  sin color   \n",
       "\n",
       "          tipo_coche aire_acondicionado   precio fecha_venta  \\\n",
       "539           estate               True   8300.0  2018-03-01   \n",
       "1550          estate              False   1800.0  2018-07-01   \n",
       "2327  sin tipo_coche               True   1200.0  2018-07-01   \n",
       "2806  sin tipo_coche              False    100.0  2018-03-01   \n",
       "2915           sedan               True  75000.0  2018-04-01   \n",
       "3175           sedan              False    500.0  2018-05-01   \n",
       "3709  sin tipo_coche              False   1400.0  2018-06-01   \n",
       "\n",
       "      volante_regulable_BOOL  camara_trasera_BOOL  elevalunas_electrico_BOOL  \\\n",
       "539                        1                    0                          0   \n",
       "1550                       0                    1                          0   \n",
       "2327                       0                    0                          0   \n",
       "2806                       0                    1                          0   \n",
       "2915                       1                    0                          0   \n",
       "3175                       0                    0                          0   \n",
       "3709                       1                    0                          0   \n",
       "\n",
       "      gps_BOOL  \n",
       "539          1  \n",
       "1550         1  \n",
       "2327         0  \n",
       "2806         1  \n",
       "2915         1  \n",
       "3175         1  \n",
       "3709         1  "
      ]
     },
     "execution_count": 329,
     "metadata": {},
     "output_type": "execute_result"
    }
   ],
   "source": [
    "df_bmw6[(df_bmw6['km'] > 0.4e+06) | (df_bmw6['km'] < 0)]"
   ]
  },
  {
   "cell_type": "code",
   "execution_count": 330,
   "metadata": {},
   "outputs": [],
   "source": [
    "df_bmw7 = df_bmw6.copy()"
   ]
  },
  {
   "cell_type": "code",
   "execution_count": 336,
   "metadata": {},
   "outputs": [
    {
     "data": {
      "text/plain": [
       "Index([539, 1550, 2327, 2806, 2915, 3175, 3709], dtype='int64')"
      ]
     },
     "execution_count": 336,
     "metadata": {},
     "output_type": "execute_result"
    }
   ],
   "source": [
    "df_bmw7[(df_bmw7['km'] > 0.4e+06) | (df_bmw7['km'] < 0)].index"
   ]
  },
  {
   "cell_type": "code",
   "execution_count": 337,
   "metadata": {},
   "outputs": [
    {
     "data": {
      "text/plain": [
       "4817"
      ]
     },
     "execution_count": 337,
     "metadata": {},
     "output_type": "execute_result"
    }
   ],
   "source": [
    "len(df_bmw7)"
   ]
  },
  {
   "cell_type": "code",
   "execution_count": 339,
   "metadata": {},
   "outputs": [],
   "source": [
    "df_bmw7.drop(df_bmw7[(df_bmw7['km'] > 0.4e+06) | (df_bmw7['km'] < 0)].index, inplace=True)"
   ]
  },
  {
   "cell_type": "code",
   "execution_count": 340,
   "metadata": {},
   "outputs": [
    {
     "data": {
      "text/plain": [
       "4810"
      ]
     },
     "execution_count": 340,
     "metadata": {},
     "output_type": "execute_result"
    }
   ],
   "source": [
    "len(df_bmw7)"
   ]
  },
  {
   "cell_type": "code",
   "execution_count": 341,
   "metadata": {},
   "outputs": [
    {
     "name": "stdout",
     "output_type": "stream",
     "text": [
      "[[<Axes: title={'center': 'km'}>]]\n"
     ]
    },
    {
     "data": {
      "image/png": "[encoded data removed]",
      "text/plain": [
       "<Figure size 640x480 with 1 Axes>"
      ]
     },
     "metadata": {},
     "output_type": "display_data"
    }
   ],
   "source": [
    "print(df_bmw7.hist('km', bins = 50))"
   ]
  },
  {
   "cell_type": "markdown",
   "metadata": {},
   "source": [
    "4.2. Analizar las variables categóricas (SIN ACABAR)"
   ]
  },
  {
   "cell_type": "code",
   "execution_count": 289,
   "metadata": {},
   "outputs": [
    {
     "data": {
      "text/plain": [
       "['modelo', 'tipo_gasolina', 'color', 'tipo_coche', 'aire_acondicionado']"
      ]
     },
     "execution_count": 289,
     "metadata": {},
     "output_type": "execute_result"
    }
   ],
   "source": [
    "lcat"
   ]
  },
  {
   "cell_type": "code",
   "execution_count": 290,
   "metadata": {},
   "outputs": [
    {
     "name": "stdout",
     "output_type": "stream",
     "text": [
      "modelo\n",
      "320                747\n",
      "520                630\n",
      "318                562\n",
      "X3                 437\n",
      "116                358\n",
      "                  ... \n",
      "M135                 1\n",
      "225                  1\n",
      "i8                   1\n",
      "630                  1\n",
      "214 Gran Tourer      1\n",
      "Name: count, Length: 76, dtype: int64 \n",
      "\n",
      "tipo_gasolina\n",
      "diesel           4610\n",
      "petrol            191\n",
      "hybrid_petrol       8\n",
      "Diesel              5\n",
      "electro             3\n",
      "Name: count, dtype: int64 \n",
      "\n",
      "color\n",
      "black        1489\n",
      "grey         1067\n",
      "blue          643\n",
      "white         480\n",
      "sin color     442\n",
      "brown         302\n",
      "silver        290\n",
      "red            47\n",
      "beige          37\n",
      "green          14\n",
      "orange          6\n",
      "Name: count, dtype: int64 \n",
      "\n",
      "tipo_coche\n",
      "sin tipo_coche    1449\n",
      "estate            1097\n",
      "sedan              821\n",
      "suv                754\n",
      "hatchback          488\n",
      "subcompact          77\n",
      "coupe               73\n",
      "convertible         30\n",
      "van                 28\n",
      "Name: count, dtype: int64 \n",
      "\n",
      "aire_acondicionado\n",
      "True                           3449\n",
      "False                           886\n",
      "sin info aire_acondicionado     482\n",
      "Name: count, dtype: int64 \n",
      "\n"
     ]
    }
   ],
   "source": [
    "for i in lcat:\n",
    "    print(df_bmw6[i].value_counts(), '\\n')"
   ]
  }
 ],
 "metadata": {
  "kernelspec": {
   "display_name": "Python 3",
   "language": "python",
   "name": "python3"
  },
  "language_info": {
   "codemirror_mode": {
    "name": "ipython",
    "version": 3
   },
   "file_extension": ".py",
   "mimetype": "text/x-python",
   "name": "python",
   "nbconvert_exporter": "python",
   "pygments_lexer": "ipython3",
   "version": "3.12.0"
  }
 },
 "nbformat": 4,
 "nbformat_minor": 2
}
