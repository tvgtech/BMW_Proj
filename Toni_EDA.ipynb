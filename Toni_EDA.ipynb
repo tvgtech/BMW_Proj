{
 "cells": [
  {
   "cell_type": "markdown",
   "metadata": {},
   "source": [
    "## __EDA Toni__<br/>"
   ]
  },
  {
   "cell_type": "markdown",
   "metadata": {},
   "source": [
    "Nombre Dataset: bmw"
   ]
  },
  {
   "cell_type": "markdown",
   "metadata": {},
   "source": [
    "### __Análisis inicial__<br/>\n",
    "- **4846 registros** <gr/>\n",
    "- Hay nulos en todas las columnas menos en 'gps'<br/>\n",
    "- 'modelo', 'km', 'potencia','volante_regulable', 'camara_trasera', 'elevalunas_electrico' y 'fecha_venta' tienen menos de 5 nulos. Posiblemente podamos eliminar esos registros o sean los mismos. <br/>\n",
    "- ~~'marca' todo son WMB. Se puede eliminar la columna<br/>~~\n",
    "- 'km' se puede pasar a int32 o int 64<br/>\n",
    "- 'km' tiene valores negativos <br/>\n",
    "- 'potencia' se puede pasar a int8 <br/>\n",
    "- 'fecha_venta' es str(oject), se puede pasar a time<br/>\n",
    "- Desde 8-'volante_regulable' hasta 15-'alerta_lim_velocidad' son tipo 'object' (a excepción de 'gps'). Pasar a tipo 'bool'<br/>\n",
    "- ~~NO hay duplicados <br/>~~\n",
    "- ~~'Fecha_registro' tiene demasiados nulos (50%). Se elimina~~"
   ]
  },
  {
   "cell_type": "markdown",
   "metadata": {},
   "source": [
    "### __Preguntas a contestar:__"
   ]
  },
  {
   "cell_type": "markdown",
   "metadata": {},
   "source": [
    "- __Columnas eliminadas__\n",
    "    - No se han encontrado registros duplicados. <br/>\n",
    "    - Eliminamos la columna __marca__. Sólo tiene 2 valores, 'BMW' o Nulo. No aporta información. Además, los nulos representan un 20% del total."
   ]
  },
  {
   "cell_type": "markdown",
   "metadata": {},
   "source": [
    "- __Cómo se han tratado los nulos y cómo se han limpiado las columnas__\n",
    "\n",
    "  - __modelo__ : Sólo tiene 3 nulos. Representan un 0,06% de la muestra.<br/> Dos de los 3 nulos tienen la misma potencia (105), mismo tipo_gasolina (diesel), con 'aire_Acondicionado'(True), 'volante_regulable'(True) y sin 'camara_trasera'(False). Sólo difieren en 'elevalunas_electrico'. Para el que no tiene elevalunas (__indice 173__) obtenemos que el modelo más probable es el 318 con un 63.1%. Es un porcentaje suficientemente representativo, así que lo podemos imputar. Para el que tiene elevalunas (__indice 4766__) sabemos también que el 'tipo_coche' es un suv y que no tiene 'bluetooth'(False). Esto nos da una probabilidad del 62.5% de que el modelo sea un X1. Con esta probabilidad, sí podríamos imputar este nulo. Finalmente, para el terner nulo (__indice 4802__) tenemos una 'potencia' de 110, diesel, sin 'volante_regulable', ni 'aire_acondicionado', ni 'camara_trasera', no'elevalunas_electrico' ni'bluetooth' ni'gps' ni 'alerta_lim_velocidad'. La prbabilidad más alte es de un 33.33% de que sea un X3 o un 218 en ambos casos. Estos datos no son imputables, así que eliminaremos este regsitro. Además, el precio podría considerarse un outlier al ser de 800.<br/>\n",
    "   - __km__ : Sólo hay 2 registros nulos. Representan un 0.04% de la muestra. NO hay manera de averiguar el kilometraje según otras variables, así que eliminamos estos dos registros.<br/>\n",
    "   - __potencia__ : Sólo hay 1 registro nulo. Teniendo en cuenta que sabemos el modelo, tipo_gasolina, tipo_coche, volante_regulable, aire_acomndicionado y elevalunas_electrico, podemos imputar con un 100% de certeza que la potencia es de 160.0 .<br/>\n",
    "   - __fecha_registro__: El 50.03% de los registros son nulos. Demasiada información faltante. Eliminamos la columna completa. <br/>\n",
    "   - __tipo_gasolina__: Hay 5 nulos. Evaluando el modelo=420 (__indice 82__), teniendo en cuenta el modelo, potencia, volante_regulable y aire_acondicionado, podemos imputar que el tipo_gasolina es diesel. Evaluando el modelo=320 (__indice 185__), teniendo en cuenta el modelo, potencia, tipo_coche, volante_regulable y aire_acondicionado, podemos imputar que el tipo_gasolina es diesel. Para el primer nulo del modelo 318 (__indice 444__), comparando con todas las variables que tenemos disponibles, obtenemos que la proporción de diesel es del 85% frente al 15% de petrol, por lo que podemos imputarle diesel como tipo_gasolina. Para el segundo nulo del modelo 318 (__indice 480__), podemos imputarle diesel como tipo_gasolina. Para el tercer y último nulo del modelo 318 (__indice 630__), podemos imputarle diesel como tipo_gasolina.<br/>\n",
    "  - __color__: Los nulos representan un 9.2% de la muestra. Como no hay forma objetiva de imputar el color de un vehículo, se suistituyen los nulos por 'other'<br/>\n",
    "  - __tipo_coche__: Los nulos representan el tipo más frecuente, con una representación del 30,12% de la muestra.  ANALIZANDO "
   ]
  },
  {
   "cell_type": "markdown",
   "metadata": {},
   "source": [
    "- __Análisis univariable. Outliers, agrupaciones etc__"
   ]
  },
  {
   "cell_type": "markdown",
   "metadata": {},
   "source": []
  },
  {
   "cell_type": "markdown",
   "metadata": {},
   "source": [
    "- __Análisis de correlación__"
   ]
  },
  {
   "cell_type": "markdown",
   "metadata": {},
   "source": []
  },
  {
   "cell_type": "markdown",
   "metadata": {},
   "source": [
    "- __Análisis de variables Vs Target. Insights__"
   ]
  },
  {
   "cell_type": "markdown",
   "metadata": {},
   "source": []
  },
  {
   "cell_type": "markdown",
   "metadata": {},
   "source": [
    "- __Transformación de variables categóricas. Cuáles se van a transformar, por qué y con qué técnica__"
   ]
  },
  {
   "cell_type": "markdown",
   "metadata": {},
   "source": []
  },
  {
   "cell_type": "markdown",
   "metadata": {},
   "source": [
    "- __Normalización de variables numéricas__"
   ]
  },
  {
   "cell_type": "markdown",
   "metadata": {},
   "source": []
  },
  {
   "cell_type": "markdown",
   "metadata": {},
   "source": [
    "- __Análisis de correlación final__"
   ]
  },
  {
   "cell_type": "markdown",
   "metadata": {},
   "source": []
  }
 ],
 "metadata": {
  "kernelspec": {
   "display_name": "Python 3",
   "language": "python",
   "name": "python3"
  },
  "language_info": {
   "name": "python",
   "version": "3.12.0"
  }
 },
 "nbformat": 4,
 "nbformat_minor": 2
}
