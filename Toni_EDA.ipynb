{
 "cells": [
  {
   "cell_type": "markdown",
   "metadata": {},
   "source": [
    "## __EDA Toni__<br/>"
   ]
  },
  {
   "cell_type": "markdown",
   "metadata": {},
   "source": [
    "Nombre Dataset: bmw"
   ]
  },
  {
   "cell_type": "markdown",
   "metadata": {},
   "source": [
    "### __Análisis inicial__<br/>\n",
    "- **4846 registros** - Hay nulos en todas las columnas menos en 'gps'<br/>\n",
    "- 'modelo', 'km', 'potencia','volante_regulable', 'camara_trasera', 'elevalunas_electrico' y 'fecha_venta' tienen menos de 5 nulos. Posiblemente podamos eliminar esos registros o sean los mismos. <br/>\n",
    "- 'marca' todo son WMB. Se puede eliminar la columna<br/>\n",
    "- 'km' se puede pasar a int32 o int 64<br/>\n",
    "- 'km' tiene valores negativos <br/>\n",
    "- 'potencia' se puede pasar a int8 <br/>\n",
    "- 'fecha_venta' es str(oject), se puede pasar a time<br/>\n",
    "- 'tipo_gasolina' parece que sólo tiene 2 valores, se puede pasar a 1-diesel/0-petrol<br/>\n",
    "- Desde 8-'volante_regulable' hasta 15-'alerta_lim_velocidad' son tipo 'object' (a excepción de 'gps'). Pasar a tipo 'bool'<br/>\n",
    "- ~~NO hay duplicados <br/>~~\n",
    "- 'Fecha_registro' tiene demasiados nulos (50%). Se elimina"
   ]
  },
  {
   "cell_type": "markdown",
   "metadata": {},
   "source": [
    "### __Preguntas a contestar:__"
   ]
  },
  {
   "cell_type": "markdown",
   "metadata": {},
   "source": [
    "- __Columnas eliminadas__"
   ]
  },
  {
   "cell_type": "markdown",
   "metadata": {},
   "source": [
    "No se han encontrado registros duplicados.\n",
    "Eliminamos la columna 'marca'. Sólo tiene 2 valores, 'BMW' o Nulo. No aporta información. Además, los nulos representan un 20% del total."
   ]
  },
  {
   "cell_type": "markdown",
   "metadata": {},
   "source": [
    "- __Cómo se han tratado los nulos y cómo se han limpiado las columnas__"
   ]
  },
  {
   "cell_type": "markdown",
   "metadata": {},
   "source": [
    "- modelo: Sólo tiene 3 nulos. Representan un 0,06% de la muestra. Comparandolos con otros registros, no se les puede imputar ningún valor. Se eliminan."
   ]
  },
  {
   "cell_type": "markdown",
   "metadata": {},
   "source": [
    "- __Análisis univariable. Outliers, agrupaciones etc__"
   ]
  },
  {
   "cell_type": "markdown",
   "metadata": {},
   "source": []
  },
  {
   "cell_type": "markdown",
   "metadata": {},
   "source": [
    "- __Análisis de correlación__"
   ]
  },
  {
   "cell_type": "markdown",
   "metadata": {},
   "source": []
  },
  {
   "cell_type": "markdown",
   "metadata": {},
   "source": [
    "- __Análisis de variables Vs Target. Insights__"
   ]
  },
  {
   "cell_type": "markdown",
   "metadata": {},
   "source": []
  },
  {
   "cell_type": "markdown",
   "metadata": {},
   "source": [
    "- __Transformación de variables categóricas. Cuáles se van a transformar, por qué y con qué técnica__"
   ]
  },
  {
   "cell_type": "markdown",
   "metadata": {},
   "source": []
  },
  {
   "cell_type": "markdown",
   "metadata": {},
   "source": [
    "- __Normalización de variables numéricas__"
   ]
  },
  {
   "cell_type": "markdown",
   "metadata": {},
   "source": []
  },
  {
   "cell_type": "markdown",
   "metadata": {},
   "source": [
    "- __Análisis de correlación final__"
   ]
  },
  {
   "cell_type": "markdown",
   "metadata": {},
   "source": []
  }
 ],
 "metadata": {
  "kernelspec": {
   "display_name": "Python 3",
   "language": "python",
   "name": "python3"
  },
  "language_info": {
   "name": "python",
   "version": "3.12.0"
  }
 },
 "nbformat": 4,
 "nbformat_minor": 2
}
