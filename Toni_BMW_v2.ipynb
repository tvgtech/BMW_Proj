{
 "cells": [
  {
   "cell_type": "markdown",
   "metadata": {},
   "source": [
    "__Hoja de trabajo Proyecto BMW - Toni__"
   ]
  },
  {
   "cell_type": "code",
   "execution_count": 1511,
   "metadata": {},
   "outputs": [],
   "source": [
    "import pandas as pd\n",
    "import numpy as np\n",
    "import matplotlib.pyplot as plt\n",
    "import seaborn as sns\n",
    "\n",
    "from sklearn.preprocessing import LabelEncoder,MinMaxScaler"
   ]
  },
  {
   "cell_type": "code",
   "execution_count": 1512,
   "metadata": {},
   "outputs": [],
   "source": [
    "pd.set_option('display.max_rows',None)\n",
    "pd.set_option('display.max_columns',None)"
   ]
  },
  {
   "cell_type": "markdown",
   "metadata": {},
   "source": [
    "### 1.- Importamos los datos a un DataFrame"
   ]
  },
  {
   "cell_type": "code",
   "execution_count": 1513,
   "metadata": {},
   "outputs": [],
   "source": [
    "bmw=pd.read_csv('dataset/bmw_pricing_v3.csv')"
   ]
  },
  {
   "cell_type": "code",
   "execution_count": 1514,
   "metadata": {},
   "outputs": [
    {
     "data": {
      "text/plain": [
       "(4843, 18)"
      ]
     },
     "execution_count": 1514,
     "metadata": {},
     "output_type": "execute_result"
    }
   ],
   "source": [
    "bmw.shape"
   ]
  },
  {
   "cell_type": "code",
   "execution_count": 1515,
   "metadata": {},
   "outputs": [
    {
     "data": {
      "text/html": [
       "<div>\n",
       "<style scoped>\n",
       "    .dataframe tbody tr th:only-of-type {\n",
       "        vertical-align: middle;\n",
       "    }\n",
       "\n",
       "    .dataframe tbody tr th {\n",
       "        vertical-align: top;\n",
       "    }\n",
       "\n",
       "    .dataframe thead th {\n",
       "        text-align: right;\n",
       "    }\n",
       "</style>\n",
       "<table border=\"1\" class=\"dataframe\">\n",
       "  <thead>\n",
       "    <tr style=\"text-align: right;\">\n",
       "      <th></th>\n",
       "      <th>marca</th>\n",
       "      <th>modelo</th>\n",
       "      <th>km</th>\n",
       "      <th>potencia</th>\n",
       "      <th>fecha_registro</th>\n",
       "      <th>tipo_gasolina</th>\n",
       "      <th>color</th>\n",
       "      <th>tipo_coche</th>\n",
       "      <th>volante_regulable</th>\n",
       "      <th>aire_acondicionado</th>\n",
       "      <th>camara_trasera</th>\n",
       "      <th>asientos_traseros_plegables</th>\n",
       "      <th>elevalunas_electrico</th>\n",
       "      <th>bluetooth</th>\n",
       "      <th>gps</th>\n",
       "      <th>alerta_lim_velocidad</th>\n",
       "      <th>precio</th>\n",
       "      <th>fecha_venta</th>\n",
       "    </tr>\n",
       "  </thead>\n",
       "  <tbody>\n",
       "    <tr>\n",
       "      <th>4031</th>\n",
       "      <td>BMW</td>\n",
       "      <td>X3</td>\n",
       "      <td>144804.0</td>\n",
       "      <td>135.0</td>\n",
       "      <td>2014-03-01</td>\n",
       "      <td>diesel</td>\n",
       "      <td>black</td>\n",
       "      <td>suv</td>\n",
       "      <td>False</td>\n",
       "      <td>True</td>\n",
       "      <td>False</td>\n",
       "      <td>NaN</td>\n",
       "      <td>True</td>\n",
       "      <td>False</td>\n",
       "      <td>True</td>\n",
       "      <td>True</td>\n",
       "      <td>18600.0</td>\n",
       "      <td>2018-03-01</td>\n",
       "    </tr>\n",
       "    <tr>\n",
       "      <th>1501</th>\n",
       "      <td>BMW</td>\n",
       "      <td>318</td>\n",
       "      <td>100805.0</td>\n",
       "      <td>105.0</td>\n",
       "      <td>2013-09-01</td>\n",
       "      <td>diesel</td>\n",
       "      <td>grey</td>\n",
       "      <td>estate</td>\n",
       "      <td>False</td>\n",
       "      <td>True</td>\n",
       "      <td>False</td>\n",
       "      <td>NaN</td>\n",
       "      <td>True</td>\n",
       "      <td>False</td>\n",
       "      <td>True</td>\n",
       "      <td>False</td>\n",
       "      <td>14400.0</td>\n",
       "      <td>2018-07-01</td>\n",
       "    </tr>\n",
       "    <tr>\n",
       "      <th>9</th>\n",
       "      <td>BMW</td>\n",
       "      <td>320</td>\n",
       "      <td>139541.0</td>\n",
       "      <td>135.0</td>\n",
       "      <td>NaN</td>\n",
       "      <td>diesel</td>\n",
       "      <td>white</td>\n",
       "      <td>convertible</td>\n",
       "      <td>False</td>\n",
       "      <td>False</td>\n",
       "      <td>False</td>\n",
       "      <td>NaN</td>\n",
       "      <td>True</td>\n",
       "      <td>False</td>\n",
       "      <td>True</td>\n",
       "      <td>False</td>\n",
       "      <td>17300.0</td>\n",
       "      <td>2018-03-01</td>\n",
       "    </tr>\n",
       "    <tr>\n",
       "      <th>3659</th>\n",
       "      <td>BMW</td>\n",
       "      <td>318</td>\n",
       "      <td>212836.0</td>\n",
       "      <td>85.0</td>\n",
       "      <td>NaN</td>\n",
       "      <td>diesel</td>\n",
       "      <td>silver</td>\n",
       "      <td>subcompact</td>\n",
       "      <td>False</td>\n",
       "      <td>False</td>\n",
       "      <td>False</td>\n",
       "      <td>False</td>\n",
       "      <td>False</td>\n",
       "      <td>False</td>\n",
       "      <td>True</td>\n",
       "      <td>False</td>\n",
       "      <td>1400.0</td>\n",
       "      <td>2018-02-01</td>\n",
       "    </tr>\n",
       "    <tr>\n",
       "      <th>4737</th>\n",
       "      <td>BMW</td>\n",
       "      <td>X1</td>\n",
       "      <td>32347.0</td>\n",
       "      <td>130.0</td>\n",
       "      <td>NaN</td>\n",
       "      <td>diesel</td>\n",
       "      <td>blue</td>\n",
       "      <td>suv</td>\n",
       "      <td>False</td>\n",
       "      <td>True</td>\n",
       "      <td>True</td>\n",
       "      <td>False</td>\n",
       "      <td>False</td>\n",
       "      <td>False</td>\n",
       "      <td>True</td>\n",
       "      <td>NaN</td>\n",
       "      <td>13400.0</td>\n",
       "      <td>2018-08-01</td>\n",
       "    </tr>\n",
       "  </tbody>\n",
       "</table>\n",
       "</div>"
      ],
      "text/plain": [
       "     marca modelo        km  potencia fecha_registro tipo_gasolina   color  \\\n",
       "4031   BMW     X3  144804.0     135.0     2014-03-01        diesel   black   \n",
       "1501   BMW    318  100805.0     105.0     2013-09-01        diesel    grey   \n",
       "9      BMW    320  139541.0     135.0            NaN        diesel   white   \n",
       "3659   BMW    318  212836.0      85.0            NaN        diesel  silver   \n",
       "4737   BMW     X1   32347.0     130.0            NaN        diesel    blue   \n",
       "\n",
       "       tipo_coche volante_regulable aire_acondicionado camara_trasera  \\\n",
       "4031          suv             False               True          False   \n",
       "1501       estate             False               True          False   \n",
       "9     convertible             False              False          False   \n",
       "3659   subcompact             False              False          False   \n",
       "4737          suv             False               True           True   \n",
       "\n",
       "     asientos_traseros_plegables elevalunas_electrico bluetooth   gps  \\\n",
       "4031                         NaN                 True     False  True   \n",
       "1501                         NaN                 True     False  True   \n",
       "9                            NaN                 True     False  True   \n",
       "3659                       False                False     False  True   \n",
       "4737                       False                False     False  True   \n",
       "\n",
       "     alerta_lim_velocidad   precio fecha_venta  \n",
       "4031                 True  18600.0  2018-03-01  \n",
       "1501                False  14400.0  2018-07-01  \n",
       "9                   False  17300.0  2018-03-01  \n",
       "3659                False   1400.0  2018-02-01  \n",
       "4737                  NaN  13400.0  2018-08-01  "
      ]
     },
     "execution_count": 1515,
     "metadata": {},
     "output_type": "execute_result"
    }
   ],
   "source": [
    "bmw.sample(5)"
   ]
  },
  {
   "cell_type": "code",
   "execution_count": 1516,
   "metadata": {},
   "outputs": [
    {
     "name": "stdout",
     "output_type": "stream",
     "text": [
      "<class 'pandas.core.frame.DataFrame'>\n",
      "RangeIndex: 4843 entries, 0 to 4842\n",
      "Data columns (total 18 columns):\n",
      " #   Column                       Non-Null Count  Dtype  \n",
      "---  ------                       --------------  -----  \n",
      " 0   marca                        3873 non-null   object \n",
      " 1   modelo                       4840 non-null   object \n",
      " 2   km                           4841 non-null   float64\n",
      " 3   potencia                     4842 non-null   float64\n",
      " 4   fecha_registro               2420 non-null   object \n",
      " 5   tipo_gasolina                4838 non-null   object \n",
      " 6   color                        4398 non-null   object \n",
      " 7   tipo_coche                   3383 non-null   object \n",
      " 8   volante_regulable            4839 non-null   object \n",
      " 9   aire_acondicionado           4357 non-null   object \n",
      " 10  camara_trasera               4841 non-null   object \n",
      " 11  asientos_traseros_plegables  1452 non-null   object \n",
      " 12  elevalunas_electrico         4841 non-null   object \n",
      " 13  bluetooth                    4115 non-null   object \n",
      " 14  gps                          4843 non-null   bool   \n",
      " 15  alerta_lim_velocidad         4115 non-null   object \n",
      " 16  precio                       4837 non-null   float64\n",
      " 17  fecha_venta                  4842 non-null   object \n",
      "dtypes: bool(1), float64(3), object(14)\n",
      "memory usage: 648.1+ KB\n"
     ]
    }
   ],
   "source": [
    "bmw.info()"
   ]
  },
  {
   "cell_type": "code",
   "execution_count": 1517,
   "metadata": {},
   "outputs": [
    {
     "data": {
      "text/html": [
       "<div>\n",
       "<style scoped>\n",
       "    .dataframe tbody tr th:only-of-type {\n",
       "        vertical-align: middle;\n",
       "    }\n",
       "\n",
       "    .dataframe tbody tr th {\n",
       "        vertical-align: top;\n",
       "    }\n",
       "\n",
       "    .dataframe thead th {\n",
       "        text-align: right;\n",
       "    }\n",
       "</style>\n",
       "<table border=\"1\" class=\"dataframe\">\n",
       "  <thead>\n",
       "    <tr style=\"text-align: right;\">\n",
       "      <th></th>\n",
       "      <th>km</th>\n",
       "      <th>potencia</th>\n",
       "      <th>precio</th>\n",
       "    </tr>\n",
       "  </thead>\n",
       "  <tbody>\n",
       "    <tr>\n",
       "      <th>count</th>\n",
       "      <td>4.841000e+03</td>\n",
       "      <td>4842.000000</td>\n",
       "      <td>4837.000000</td>\n",
       "    </tr>\n",
       "    <tr>\n",
       "      <th>mean</th>\n",
       "      <td>1.409593e+05</td>\n",
       "      <td>128.981826</td>\n",
       "      <td>15831.920612</td>\n",
       "    </tr>\n",
       "    <tr>\n",
       "      <th>std</th>\n",
       "      <td>6.020853e+04</td>\n",
       "      <td>38.994839</td>\n",
       "      <td>9222.630708</td>\n",
       "    </tr>\n",
       "    <tr>\n",
       "      <th>min</th>\n",
       "      <td>-6.400000e+01</td>\n",
       "      <td>0.000000</td>\n",
       "      <td>100.000000</td>\n",
       "    </tr>\n",
       "    <tr>\n",
       "      <th>25%</th>\n",
       "      <td>1.028840e+05</td>\n",
       "      <td>100.000000</td>\n",
       "      <td>10800.000000</td>\n",
       "    </tr>\n",
       "    <tr>\n",
       "      <th>50%</th>\n",
       "      <td>1.410800e+05</td>\n",
       "      <td>120.000000</td>\n",
       "      <td>14200.000000</td>\n",
       "    </tr>\n",
       "    <tr>\n",
       "      <th>75%</th>\n",
       "      <td>1.752170e+05</td>\n",
       "      <td>135.000000</td>\n",
       "      <td>18600.000000</td>\n",
       "    </tr>\n",
       "    <tr>\n",
       "      <th>max</th>\n",
       "      <td>1.000376e+06</td>\n",
       "      <td>423.000000</td>\n",
       "      <td>178500.000000</td>\n",
       "    </tr>\n",
       "  </tbody>\n",
       "</table>\n",
       "</div>"
      ],
      "text/plain": [
       "                 km     potencia         precio\n",
       "count  4.841000e+03  4842.000000    4837.000000\n",
       "mean   1.409593e+05   128.981826   15831.920612\n",
       "std    6.020853e+04    38.994839    9222.630708\n",
       "min   -6.400000e+01     0.000000     100.000000\n",
       "25%    1.028840e+05   100.000000   10800.000000\n",
       "50%    1.410800e+05   120.000000   14200.000000\n",
       "75%    1.752170e+05   135.000000   18600.000000\n",
       "max    1.000376e+06   423.000000  178500.000000"
      ]
     },
     "execution_count": 1517,
     "metadata": {},
     "output_type": "execute_result"
    }
   ],
   "source": [
    "bmw.describe()"
   ]
  },
  {
   "cell_type": "markdown",
   "metadata": {},
   "source": [
    "### __2.- Análisis de duplicados__"
   ]
  },
  {
   "cell_type": "markdown",
   "metadata": {},
   "source": [
    "Vemos que no hay duplicados"
   ]
  },
  {
   "cell_type": "code",
   "execution_count": 1518,
   "metadata": {},
   "outputs": [
    {
     "data": {
      "text/plain": [
       "False    4843\n",
       "Name: count, dtype: int64"
      ]
     },
     "execution_count": 1518,
     "metadata": {},
     "output_type": "execute_result"
    }
   ],
   "source": [
    "bmw.duplicated().value_counts()"
   ]
  },
  {
   "cell_type": "code",
   "execution_count": 1519,
   "metadata": {},
   "outputs": [
    {
     "data": {
      "text/html": [
       "<div>\n",
       "<style scoped>\n",
       "    .dataframe tbody tr th:only-of-type {\n",
       "        vertical-align: middle;\n",
       "    }\n",
       "\n",
       "    .dataframe tbody tr th {\n",
       "        vertical-align: top;\n",
       "    }\n",
       "\n",
       "    .dataframe thead th {\n",
       "        text-align: right;\n",
       "    }\n",
       "</style>\n",
       "<table border=\"1\" class=\"dataframe\">\n",
       "  <thead>\n",
       "    <tr style=\"text-align: right;\">\n",
       "      <th></th>\n",
       "      <th>marca</th>\n",
       "      <th>modelo</th>\n",
       "      <th>km</th>\n",
       "      <th>potencia</th>\n",
       "      <th>fecha_registro</th>\n",
       "      <th>tipo_gasolina</th>\n",
       "      <th>color</th>\n",
       "      <th>tipo_coche</th>\n",
       "      <th>volante_regulable</th>\n",
       "      <th>aire_acondicionado</th>\n",
       "      <th>camara_trasera</th>\n",
       "      <th>asientos_traseros_plegables</th>\n",
       "      <th>elevalunas_electrico</th>\n",
       "      <th>bluetooth</th>\n",
       "      <th>gps</th>\n",
       "      <th>alerta_lim_velocidad</th>\n",
       "      <th>precio</th>\n",
       "      <th>fecha_venta</th>\n",
       "    </tr>\n",
       "  </thead>\n",
       "  <tbody>\n",
       "  </tbody>\n",
       "</table>\n",
       "</div>"
      ],
      "text/plain": [
       "Empty DataFrame\n",
       "Columns: [marca, modelo, km, potencia, fecha_registro, tipo_gasolina, color, tipo_coche, volante_regulable, aire_acondicionado, camara_trasera, asientos_traseros_plegables, elevalunas_electrico, bluetooth, gps, alerta_lim_velocidad, precio, fecha_venta]\n",
       "Index: []"
      ]
     },
     "execution_count": 1519,
     "metadata": {},
     "output_type": "execute_result"
    }
   ],
   "source": [
    "bmw[bmw.duplicated()]"
   ]
  },
  {
   "cell_type": "markdown",
   "metadata": {},
   "source": [
    "### __3.- Análisis de nulos__"
   ]
  },
  {
   "cell_type": "code",
   "execution_count": 1520,
   "metadata": {},
   "outputs": [
    {
     "data": {
      "text/plain": [
       "marca                           970\n",
       "modelo                            3\n",
       "km                                2\n",
       "potencia                          1\n",
       "fecha_registro                 2423\n",
       "tipo_gasolina                     5\n",
       "color                           445\n",
       "tipo_coche                     1460\n",
       "volante_regulable                 4\n",
       "aire_acondicionado              486\n",
       "camara_trasera                    2\n",
       "asientos_traseros_plegables    3391\n",
       "elevalunas_electrico              2\n",
       "bluetooth                       728\n",
       "gps                               0\n",
       "alerta_lim_velocidad            728\n",
       "precio                            6\n",
       "fecha_venta                       1\n",
       "dtype: int64"
      ]
     },
     "execution_count": 1520,
     "metadata": {},
     "output_type": "execute_result"
    }
   ],
   "source": [
    "bmw.isnull().sum()"
   ]
  },
  {
   "cell_type": "markdown",
   "metadata": {},
   "source": [
    "- 3.1- MARCA"
   ]
  },
  {
   "cell_type": "code",
   "execution_count": 1521,
   "metadata": {},
   "outputs": [
    {
     "data": {
      "text/plain": [
       "array([nan, 'BMW'], dtype=object)"
      ]
     },
     "execution_count": 1521,
     "metadata": {},
     "output_type": "execute_result"
    }
   ],
   "source": [
    "bmw.marca.unique()"
   ]
  },
  {
   "cell_type": "code",
   "execution_count": 1522,
   "metadata": {},
   "outputs": [
    {
     "data": {
      "text/plain": [
       "marca\n",
       "BMW    0.799711\n",
       "NaN    0.200289\n",
       "Name: proportion, dtype: float64"
      ]
     },
     "execution_count": 1522,
     "metadata": {},
     "output_type": "execute_result"
    }
   ],
   "source": [
    "bmw.marca.value_counts(dropna=False, normalize=True)"
   ]
  },
  {
   "cell_type": "code",
   "execution_count": 1523,
   "metadata": {},
   "outputs": [],
   "source": [
    "bmw2=bmw.copy()"
   ]
  },
  {
   "cell_type": "code",
   "execution_count": 1524,
   "metadata": {},
   "outputs": [],
   "source": [
    "del(bmw2['marca'])"
   ]
  },
  {
   "cell_type": "code",
   "execution_count": 1525,
   "metadata": {},
   "outputs": [
    {
     "data": {
      "text/html": [
       "<div>\n",
       "<style scoped>\n",
       "    .dataframe tbody tr th:only-of-type {\n",
       "        vertical-align: middle;\n",
       "    }\n",
       "\n",
       "    .dataframe tbody tr th {\n",
       "        vertical-align: top;\n",
       "    }\n",
       "\n",
       "    .dataframe thead th {\n",
       "        text-align: right;\n",
       "    }\n",
       "</style>\n",
       "<table border=\"1\" class=\"dataframe\">\n",
       "  <thead>\n",
       "    <tr style=\"text-align: right;\">\n",
       "      <th></th>\n",
       "      <th>modelo</th>\n",
       "      <th>km</th>\n",
       "      <th>potencia</th>\n",
       "      <th>fecha_registro</th>\n",
       "      <th>tipo_gasolina</th>\n",
       "      <th>color</th>\n",
       "      <th>tipo_coche</th>\n",
       "      <th>volante_regulable</th>\n",
       "      <th>aire_acondicionado</th>\n",
       "      <th>camara_trasera</th>\n",
       "      <th>asientos_traseros_plegables</th>\n",
       "      <th>elevalunas_electrico</th>\n",
       "      <th>bluetooth</th>\n",
       "      <th>gps</th>\n",
       "      <th>alerta_lim_velocidad</th>\n",
       "      <th>precio</th>\n",
       "      <th>fecha_venta</th>\n",
       "    </tr>\n",
       "  </thead>\n",
       "  <tbody>\n",
       "    <tr>\n",
       "      <th>0</th>\n",
       "      <td>118</td>\n",
       "      <td>140411.0</td>\n",
       "      <td>100.0</td>\n",
       "      <td>2012-02-01</td>\n",
       "      <td>diesel</td>\n",
       "      <td>black</td>\n",
       "      <td>NaN</td>\n",
       "      <td>True</td>\n",
       "      <td>True</td>\n",
       "      <td>False</td>\n",
       "      <td>NaN</td>\n",
       "      <td>True</td>\n",
       "      <td>NaN</td>\n",
       "      <td>True</td>\n",
       "      <td>NaN</td>\n",
       "      <td>11300.0</td>\n",
       "      <td>2018-01-01</td>\n",
       "    </tr>\n",
       "    <tr>\n",
       "      <th>1</th>\n",
       "      <td>M4</td>\n",
       "      <td>13929.0</td>\n",
       "      <td>317.0</td>\n",
       "      <td>NaN</td>\n",
       "      <td>petrol</td>\n",
       "      <td>grey</td>\n",
       "      <td>convertible</td>\n",
       "      <td>True</td>\n",
       "      <td>True</td>\n",
       "      <td>False</td>\n",
       "      <td>NaN</td>\n",
       "      <td>False</td>\n",
       "      <td>True</td>\n",
       "      <td>True</td>\n",
       "      <td>True</td>\n",
       "      <td>69700.0</td>\n",
       "      <td>2018-02-01</td>\n",
       "    </tr>\n",
       "    <tr>\n",
       "      <th>2</th>\n",
       "      <td>320</td>\n",
       "      <td>183297.0</td>\n",
       "      <td>120.0</td>\n",
       "      <td>2012-04-01</td>\n",
       "      <td>diesel</td>\n",
       "      <td>white</td>\n",
       "      <td>NaN</td>\n",
       "      <td>False</td>\n",
       "      <td>False</td>\n",
       "      <td>False</td>\n",
       "      <td>NaN</td>\n",
       "      <td>True</td>\n",
       "      <td>False</td>\n",
       "      <td>True</td>\n",
       "      <td>False</td>\n",
       "      <td>10200.0</td>\n",
       "      <td>2018-02-01</td>\n",
       "    </tr>\n",
       "    <tr>\n",
       "      <th>3</th>\n",
       "      <td>420</td>\n",
       "      <td>128035.0</td>\n",
       "      <td>135.0</td>\n",
       "      <td>NaN</td>\n",
       "      <td>diesel</td>\n",
       "      <td>red</td>\n",
       "      <td>convertible</td>\n",
       "      <td>True</td>\n",
       "      <td>True</td>\n",
       "      <td>False</td>\n",
       "      <td>NaN</td>\n",
       "      <td>True</td>\n",
       "      <td>True</td>\n",
       "      <td>True</td>\n",
       "      <td>NaN</td>\n",
       "      <td>25100.0</td>\n",
       "      <td>2018-02-01</td>\n",
       "    </tr>\n",
       "    <tr>\n",
       "      <th>4</th>\n",
       "      <td>425</td>\n",
       "      <td>97097.0</td>\n",
       "      <td>160.0</td>\n",
       "      <td>NaN</td>\n",
       "      <td>diesel</td>\n",
       "      <td>silver</td>\n",
       "      <td>NaN</td>\n",
       "      <td>True</td>\n",
       "      <td>True</td>\n",
       "      <td>False</td>\n",
       "      <td>False</td>\n",
       "      <td>False</td>\n",
       "      <td>True</td>\n",
       "      <td>True</td>\n",
       "      <td>True</td>\n",
       "      <td>33400.0</td>\n",
       "      <td>2018-04-01</td>\n",
       "    </tr>\n",
       "  </tbody>\n",
       "</table>\n",
       "</div>"
      ],
      "text/plain": [
       "  modelo        km  potencia fecha_registro tipo_gasolina   color  \\\n",
       "0    118  140411.0     100.0     2012-02-01        diesel   black   \n",
       "1     M4   13929.0     317.0            NaN        petrol    grey   \n",
       "2    320  183297.0     120.0     2012-04-01        diesel   white   \n",
       "3    420  128035.0     135.0            NaN        diesel     red   \n",
       "4    425   97097.0     160.0            NaN        diesel  silver   \n",
       "\n",
       "    tipo_coche volante_regulable aire_acondicionado camara_trasera  \\\n",
       "0          NaN              True               True          False   \n",
       "1  convertible              True               True          False   \n",
       "2          NaN             False              False          False   \n",
       "3  convertible              True               True          False   \n",
       "4          NaN              True               True          False   \n",
       "\n",
       "  asientos_traseros_plegables elevalunas_electrico bluetooth   gps  \\\n",
       "0                         NaN                 True       NaN  True   \n",
       "1                         NaN                False      True  True   \n",
       "2                         NaN                 True     False  True   \n",
       "3                         NaN                 True      True  True   \n",
       "4                       False                False      True  True   \n",
       "\n",
       "  alerta_lim_velocidad   precio fecha_venta  \n",
       "0                  NaN  11300.0  2018-01-01  \n",
       "1                 True  69700.0  2018-02-01  \n",
       "2                False  10200.0  2018-02-01  \n",
       "3                  NaN  25100.0  2018-02-01  \n",
       "4                 True  33400.0  2018-04-01  "
      ]
     },
     "execution_count": 1525,
     "metadata": {},
     "output_type": "execute_result"
    }
   ],
   "source": [
    "bmw2.head()"
   ]
  },
  {
   "cell_type": "markdown",
   "metadata": {},
   "source": [
    "- 3.2- FECHA_REGISTRO"
   ]
  },
  {
   "cell_type": "code",
   "execution_count": 1526,
   "metadata": {},
   "outputs": [
    {
     "data": {
      "text/plain": [
       "fecha_registro\n",
       "NaN           50.030973\n",
       "2013-07-01     1.920297\n",
       "2014-03-01     1.713814\n",
       "2014-05-01     1.672517\n",
       "2013-01-01     1.610572\n",
       "2013-10-01     1.589924\n",
       "2014-02-01     1.527979\n",
       "2013-06-01     1.383440\n",
       "2014-01-01     1.383440\n",
       "2013-02-01     1.383440\n",
       "2013-11-01     1.259550\n",
       "2012-10-01     1.259550\n",
       "2013-04-01     1.218253\n",
       "2014-04-01     1.197605\n",
       "2013-09-01     1.197605\n",
       "2013-03-01     1.197605\n",
       "2013-08-01     1.115011\n",
       "2012-06-01     1.115011\n",
       "2014-07-01     1.115011\n",
       "2014-09-01     1.011770\n",
       "2013-05-01     0.949824\n",
       "2014-08-01     0.929176\n",
       "2012-11-01     0.887879\n",
       "2012-03-01     0.867231\n",
       "2014-06-01     0.846583\n",
       "2013-12-01     0.825934\n",
       "2012-01-01     0.722693\n",
       "2014-10-01     0.722693\n",
       "2014-11-01     0.702044\n",
       "2012-04-01     0.702044\n",
       "2012-07-01     0.681396\n",
       "2012-09-01     0.660747\n",
       "2012-08-01     0.598802\n",
       "2015-03-01     0.578154\n",
       "2012-05-01     0.557506\n",
       "2012-12-01     0.536857\n",
       "2012-02-01     0.392319\n",
       "2015-06-01     0.392319\n",
       "2015-10-01     0.392319\n",
       "2015-01-01     0.371670\n",
       "2015-05-01     0.371670\n",
       "2014-12-01     0.289077\n",
       "2015-04-01     0.289077\n",
       "2011-10-01     0.289077\n",
       "2011-06-01     0.289077\n",
       "2011-05-01     0.247780\n",
       "2015-07-01     0.247780\n",
       "2011-12-01     0.247780\n",
       "2011-09-01     0.227132\n",
       "2011-08-01     0.227132\n",
       "2011-03-01     0.227132\n",
       "2009-01-01     0.185835\n",
       "2011-01-01     0.185835\n",
       "2015-11-01     0.185835\n",
       "2015-02-01     0.165187\n",
       "2016-06-01     0.165187\n",
       "2011-04-01     0.165187\n",
       "2016-04-01     0.165187\n",
       "2006-07-01     0.144539\n",
       "2015-12-01     0.144539\n",
       "2011-11-01     0.144539\n",
       "2016-03-01     0.123890\n",
       "2010-10-01     0.123890\n",
       "2006-08-01     0.123890\n",
       "2015-08-01     0.123890\n",
       "2010-03-01     0.123890\n",
       "2007-08-01     0.123890\n",
       "2010-02-01     0.103242\n",
       "2007-04-01     0.103242\n",
       "2010-09-01     0.103242\n",
       "2008-07-01     0.103242\n",
       "2005-06-01     0.103242\n",
       "2009-04-01     0.103242\n",
       "2008-01-01     0.103242\n",
       "2010-11-01     0.103242\n",
       "2010-07-01     0.103242\n",
       "2010-04-01     0.103242\n",
       "2008-05-01     0.103242\n",
       "2011-07-01     0.082593\n",
       "2008-11-01     0.082593\n",
       "2016-02-01     0.082593\n",
       "2005-11-01     0.082593\n",
       "2016-10-01     0.082593\n",
       "2009-11-01     0.082593\n",
       "2008-04-01     0.082593\n",
       "2010-12-01     0.082593\n",
       "2009-09-01     0.082593\n",
       "2009-05-01     0.082593\n",
       "2016-09-01     0.082593\n",
       "2015-09-01     0.082593\n",
       "2007-07-01     0.082593\n",
       "2008-02-01     0.082593\n",
       "2016-01-01     0.082593\n",
       "2009-07-01     0.082593\n",
       "2011-02-01     0.082593\n",
       "2010-05-01     0.082593\n",
       "2003-08-01     0.061945\n",
       "2008-08-01     0.061945\n",
       "2016-07-01     0.061945\n",
       "2009-08-01     0.061945\n",
       "2008-03-01     0.061945\n",
       "2008-12-01     0.061945\n",
       "2007-10-01     0.061945\n",
       "1997-07-01     0.061945\n",
       "2007-06-01     0.061945\n",
       "2008-06-01     0.061945\n",
       "2005-05-01     0.061945\n",
       "2005-03-01     0.061945\n",
       "2005-10-01     0.061945\n",
       "2005-08-01     0.041297\n",
       "2007-11-01     0.041297\n",
       "2006-05-01     0.041297\n",
       "2008-09-01     0.041297\n",
       "2005-04-01     0.041297\n",
       "2005-12-01     0.041297\n",
       "2016-05-01     0.041297\n",
       "2006-10-01     0.041297\n",
       "2000-02-01     0.041297\n",
       "2017-01-01     0.041297\n",
       "2006-02-01     0.041297\n",
       "2006-12-01     0.041297\n",
       "2010-01-01     0.041297\n",
       "2010-06-01     0.041297\n",
       "2006-01-01     0.041297\n",
       "2002-05-01     0.041297\n",
       "2001-05-01     0.041297\n",
       "2009-02-01     0.041297\n",
       "2010-08-01     0.041297\n",
       "2004-07-01     0.041297\n",
       "2007-03-01     0.041297\n",
       "2004-02-01     0.041297\n",
       "2008-10-01     0.041297\n",
       "2001-04-01     0.041297\n",
       "2006-09-01     0.041297\n",
       "2001-01-01     0.020648\n",
       "2006-03-01     0.020648\n",
       "2006-06-01     0.020648\n",
       "2004-11-01     0.020648\n",
       "2004-10-01     0.020648\n",
       "2003-09-01     0.020648\n",
       "1997-01-01     0.020648\n",
       "1999-03-01     0.020648\n",
       "2001-03-01     0.020648\n",
       "2004-06-01     0.020648\n",
       "2004-08-01     0.020648\n",
       "2017-02-01     0.020648\n",
       "2004-03-01     0.020648\n",
       "2016-12-01     0.020648\n",
       "2005-07-01     0.020648\n",
       "2009-12-01     0.020648\n",
       "2017-07-01     0.020648\n",
       "1999-06-01     0.020648\n",
       "2007-05-01     0.020648\n",
       "2005-02-01     0.020648\n",
       "2003-11-01     0.020648\n",
       "2006-04-01     0.020648\n",
       "2001-02-01     0.020648\n",
       "2017-11-01     0.020648\n",
       "2009-10-01     0.020648\n",
       "2001-09-01     0.020648\n",
       "1995-10-01     0.020648\n",
       "2007-02-01     0.020648\n",
       "2009-03-01     0.020648\n",
       "2003-06-01     0.020648\n",
       "2009-06-01     0.020648\n",
       "2007-09-01     0.020648\n",
       "2003-04-01     0.020648\n",
       "2002-09-01     0.020648\n",
       "2000-03-01     0.020648\n",
       "2016-08-01     0.020648\n",
       "2016-11-01     0.020648\n",
       "2005-01-01     0.020648\n",
       "2002-06-01     0.020648\n",
       "1999-11-01     0.020648\n",
       "2004-01-01     0.020648\n",
       "2003-07-01     0.020648\n",
       "2007-01-01     0.020648\n",
       "1990-03-01     0.020648\n",
       "2006-11-01     0.020648\n",
       "1994-01-01     0.020648\n",
       "2005-09-01     0.020648\n",
       "Name: proportion, dtype: float64"
      ]
     },
     "execution_count": 1526,
     "metadata": {},
     "output_type": "execute_result"
    }
   ],
   "source": [
    "bmw2.fecha_registro.value_counts(dropna=False, normalize=True)*100"
   ]
  },
  {
   "cell_type": "markdown",
   "metadata": {},
   "source": [
    "Demasiados nulos; la eliminamos."
   ]
  },
  {
   "cell_type": "code",
   "execution_count": 1527,
   "metadata": {},
   "outputs": [],
   "source": [
    "bmw3=bmw2.copy()"
   ]
  },
  {
   "cell_type": "code",
   "execution_count": 1528,
   "metadata": {},
   "outputs": [],
   "source": [
    "del(bmw3['fecha_registro'])"
   ]
  },
  {
   "cell_type": "code",
   "execution_count": 1529,
   "metadata": {},
   "outputs": [
    {
     "data": {
      "text/plain": [
       "modelo                            3\n",
       "km                                2\n",
       "potencia                          1\n",
       "tipo_gasolina                     5\n",
       "color                           445\n",
       "tipo_coche                     1460\n",
       "volante_regulable                 4\n",
       "aire_acondicionado              486\n",
       "camara_trasera                    2\n",
       "asientos_traseros_plegables    3391\n",
       "elevalunas_electrico              2\n",
       "bluetooth                       728\n",
       "gps                               0\n",
       "alerta_lim_velocidad            728\n",
       "precio                            6\n",
       "fecha_venta                       1\n",
       "dtype: int64"
      ]
     },
     "execution_count": 1529,
     "metadata": {},
     "output_type": "execute_result"
    }
   ],
   "source": [
    "bmw3.isnull().sum()"
   ]
  },
  {
   "cell_type": "markdown",
   "metadata": {},
   "source": [
    "- 3.3- COLOR"
   ]
  },
  {
   "cell_type": "code",
   "execution_count": 1530,
   "metadata": {},
   "outputs": [
    {
     "data": {
      "text/plain": [
       "color\n",
       "black     30.951889\n",
       "grey      22.093744\n",
       "blue      13.359488\n",
       "white      9.993805\n",
       "NaN        9.188520\n",
       "brown      6.235804\n",
       "silver     6.029321\n",
       "red        0.970473\n",
       "beige      0.763989\n",
       "green      0.289077\n",
       "orange     0.123890\n",
       "Name: proportion, dtype: float64"
      ]
     },
     "execution_count": 1530,
     "metadata": {},
     "output_type": "execute_result"
    }
   ],
   "source": [
    "bmw3.color.value_counts(dropna=False,normalize=True)*100"
   ]
  },
  {
   "cell_type": "markdown",
   "metadata": {},
   "source": [
    "9,18% de nulos de la muestra total. No los eliminamos. Imputamos le valor 'sin_info_color'"
   ]
  },
  {
   "cell_type": "code",
   "execution_count": 1531,
   "metadata": {},
   "outputs": [],
   "source": [
    "bmw4=bmw3.copy()"
   ]
  },
  {
   "cell_type": "code",
   "execution_count": 1532,
   "metadata": {},
   "outputs": [],
   "source": [
    "bmw4['color'].fillna('otros',inplace=True)"
   ]
  },
  {
   "cell_type": "code",
   "execution_count": 1533,
   "metadata": {},
   "outputs": [
    {
     "data": {
      "text/plain": [
       "color\n",
       "black     30.951889\n",
       "grey      22.093744\n",
       "blue      13.359488\n",
       "white      9.993805\n",
       "otros      9.188520\n",
       "brown      6.235804\n",
       "silver     6.029321\n",
       "red        0.970473\n",
       "beige      0.763989\n",
       "green      0.289077\n",
       "orange     0.123890\n",
       "Name: proportion, dtype: float64"
      ]
     },
     "execution_count": 1533,
     "metadata": {},
     "output_type": "execute_result"
    }
   ],
   "source": [
    "bmw4.color.value_counts(dropna=False,normalize=True)*100"
   ]
  },
  {
   "cell_type": "code",
   "execution_count": 1534,
   "metadata": {},
   "outputs": [
    {
     "data": {
      "text/plain": [
       "modelo                            3\n",
       "km                                2\n",
       "potencia                          1\n",
       "tipo_gasolina                     5\n",
       "color                             0\n",
       "tipo_coche                     1460\n",
       "volante_regulable                 4\n",
       "aire_acondicionado              486\n",
       "camara_trasera                    2\n",
       "asientos_traseros_plegables    3391\n",
       "elevalunas_electrico              2\n",
       "bluetooth                       728\n",
       "gps                               0\n",
       "alerta_lim_velocidad            728\n",
       "precio                            6\n",
       "fecha_venta                       1\n",
       "dtype: int64"
      ]
     },
     "execution_count": 1534,
     "metadata": {},
     "output_type": "execute_result"
    }
   ],
   "source": [
    "bmw4.isnull().sum()"
   ]
  },
  {
   "cell_type": "markdown",
   "metadata": {},
   "source": [
    "- 3.4- TIPO_COCHE"
   ]
  },
  {
   "cell_type": "code",
   "execution_count": 1535,
   "metadata": {},
   "outputs": [
    {
     "data": {
      "text/plain": [
       "tipo_coche\n",
       "NaN            30.146603\n",
       "estate         22.857733\n",
       "sedan          16.952302\n",
       "suv            15.589511\n",
       "hatchback      10.076399\n",
       "subcompact      1.589924\n",
       "coupe           1.569275\n",
       "convertible     0.619451\n",
       "van             0.598802\n",
       "Name: proportion, dtype: float64"
      ]
     },
     "execution_count": 1535,
     "metadata": {},
     "output_type": "execute_result"
    }
   ],
   "source": [
    "bmw4.tipo_coche.value_counts(dropna=False,normalize=True)*100"
   ]
  },
  {
   "cell_type": "markdown",
   "metadata": {},
   "source": [
    "30.14% de nulos. No los podemos eliminar al ser infomración valiosa"
   ]
  },
  {
   "cell_type": "code",
   "execution_count": 1536,
   "metadata": {},
   "outputs": [
    {
     "data": {
      "text/plain": [
       "tipo_coche\n",
       "estate         1107\n",
       "sedan           821\n",
       "suv             755\n",
       "hatchback       488\n",
       "subcompact       77\n",
       "coupe            76\n",
       "convertible      30\n",
       "van              29\n",
       "Name: count, dtype: int64"
      ]
     },
     "execution_count": 1536,
     "metadata": {},
     "output_type": "execute_result"
    }
   ],
   "source": [
    "bmw4.tipo_coche.value_counts()"
   ]
  },
  {
   "cell_type": "code",
   "execution_count": 1537,
   "metadata": {},
   "outputs": [
    {
     "data": {
      "text/plain": [
       "modelo             tipo_coche \n",
       " Active Tourer     van              1\n",
       "114                hatchback        6\n",
       "                   subcompact       4\n",
       "                   NaN              5\n",
       "116                estate           2\n",
       "                   hatchback      191\n",
       "                   sedan            3\n",
       "                   subcompact      56\n",
       "                   NaN            106\n",
       "118                convertible      1\n",
       "                   coupe            2\n",
       "                   hatchback       79\n",
       "                   sedan            3\n",
       "                   subcompact      13\n",
       "                   NaN             45\n",
       "120                convertible      4\n",
       "                   hatchback       16\n",
       "                   sedan            1\n",
       "                   subcompact       2\n",
       "                   NaN             13\n",
       "123                hatchback        1\n",
       "                   NaN              1\n",
       "125                hatchback        5\n",
       "135                convertible      1\n",
       "                   coupe            1\n",
       "                   hatchback        2\n",
       "214 Gran Tourer    van              1\n",
       "216                van              1\n",
       "216 Active Tourer  van              3\n",
       "216 Gran Tourer    van              1\n",
       "                   NaN              3\n",
       "218                convertible      3\n",
       "                   coupe            2\n",
       "                   van              2\n",
       "                   NaN              5\n",
       "218 Active Tourer  van             10\n",
       "                   NaN              3\n",
       "218 Gran Tourer    van              5\n",
       "                   NaN              4\n",
       "220                convertible      1\n",
       "                   coupe            1\n",
       "                   NaN              1\n",
       "220 Active Tourer  van              1\n",
       "225                coupe            1\n",
       "225 Active Tourer  van              1\n",
       "316                coupe            1\n",
       "                   estate          79\n",
       "                   hatchback        1\n",
       "                   sedan           85\n",
       "                   NaN             69\n",
       "318                convertible      3\n",
       "                   estate         273\n",
       "                   hatchback        1\n",
       "                   sedan          110\n",
       "                   subcompact       2\n",
       "                   NaN            179\n",
       "318 Gran Turismo   hatchback       55\n",
       "                   sedan            9\n",
       "                   NaN             33\n",
       "320                convertible      4\n",
       "                   coupe           13\n",
       "                   estate         305\n",
       "                   hatchback       17\n",
       "                   sedan          179\n",
       "                   NaN            234\n",
       "320 Gran Turismo   hatchback       38\n",
       "                   sedan           13\n",
       "                   van              1\n",
       "                   NaN             21\n",
       "325                convertible      1\n",
       "                   coupe            2\n",
       "                   estate           6\n",
       "                   sedan            3\n",
       "                   NaN              7\n",
       "325 Gran Turismo   estate           1\n",
       "                   hatchback        3\n",
       "328                estate           3\n",
       "                   sedan            1\n",
       "                   NaN              1\n",
       "330                convertible      1\n",
       "                   coupe            2\n",
       "                   estate          18\n",
       "                   sedan            6\n",
       "                   NaN              6\n",
       "330 Gran Turismo   hatchback        2\n",
       "                   NaN              1\n",
       "335                coupe            2\n",
       "                   estate           1\n",
       "                   sedan            2\n",
       "                   NaN              2\n",
       "335 Gran Turismo   hatchback        2\n",
       "                   NaN              1\n",
       "418 Gran Coupé     hatchback        7\n",
       "                   NaN              1\n",
       "420                convertible      4\n",
       "                   coupe           26\n",
       "                   hatchback        1\n",
       "                   sedan            1\n",
       "                   NaN             12\n",
       "420 Gran Coupé     hatchback       18\n",
       "                   sedan            3\n",
       "                   NaN             12\n",
       "425                coupe            1\n",
       "                   NaN              1\n",
       "430                coupe            1\n",
       "                   NaN              1\n",
       "430 Gran Coupé     coupe            1\n",
       "                   hatchback        2\n",
       "                   NaN              1\n",
       "435                coupe            4\n",
       "435 Gran Coupé     coupe            1\n",
       "                   hatchback        2\n",
       "                   sedan            1\n",
       "                   NaN              2\n",
       "518                estate          21\n",
       "                   sedan           24\n",
       "                   NaN             21\n",
       "520                estate         234\n",
       "                   hatchback        5\n",
       "                   sedan          197\n",
       "                   suv              1\n",
       "                   NaN            196\n",
       "520 Gran Turismo   hatchback       16\n",
       "                   sedan            1\n",
       "                   NaN              6\n",
       "523                estate           2\n",
       "                   sedan            1\n",
       "                   NaN              1\n",
       "525                estate          79\n",
       "                   sedan           52\n",
       "                   NaN             53\n",
       "528                estate           1\n",
       "                   sedan            3\n",
       "                   NaN              2\n",
       "530                estate          67\n",
       "                   hatchback        1\n",
       "                   sedan           50\n",
       "                   NaN             39\n",
       "530 Gran Turismo   hatchback        6\n",
       "                   sedan            6\n",
       "                   NaN              6\n",
       "535                estate          11\n",
       "                   sedan           16\n",
       "                   NaN             19\n",
       "535 Gran Turismo   sedan            1\n",
       "                   NaN              1\n",
       "630                coupe            1\n",
       "635                coupe            1\n",
       "640                coupe            7\n",
       "                   NaN              1\n",
       "640 Gran Coupé     coupe            2\n",
       "                   hatchback        6\n",
       "                   sedan            6\n",
       "                   NaN              5\n",
       "650                convertible      1\n",
       "                   NaN              1\n",
       "730                hatchback        1\n",
       "                   sedan           21\n",
       "                   NaN             11\n",
       "735                sedan            1\n",
       "740                sedan           12\n",
       "                   NaN              6\n",
       "750                sedan            1\n",
       "                   NaN              1\n",
       "ActiveHybrid 5     sedan            1\n",
       "M135               hatchback        1\n",
       "M235               coupe            1\n",
       "                   NaN              2\n",
       "M3                 coupe            2\n",
       "                   sedan            2\n",
       "                   NaN              3\n",
       "M4                 convertible      1\n",
       "                   NaN              1\n",
       "M5                 sedan            1\n",
       "M550               estate           3\n",
       "                   sedan            5\n",
       "                   NaN              4\n",
       "X1                 suv            193\n",
       "                   van              1\n",
       "                   NaN             80\n",
       "X3                 estate           1\n",
       "                   suv            311\n",
       "                   van              1\n",
       "                   NaN            125\n",
       "X4                 suv             32\n",
       "                   NaN             14\n",
       "X5                 suv            168\n",
       "                   NaN             63\n",
       "X5 M               suv              9\n",
       "                   NaN              8\n",
       "X5 M50             suv              3\n",
       "X6                 suv             30\n",
       "                   NaN             14\n",
       "X6 M               suv              7\n",
       "                   NaN              1\n",
       "Z4                 convertible      5\n",
       "                   NaN              1\n",
       "i3                 hatchback        3\n",
       "                   NaN              3\n",
       "i8                 coupe            1\n",
       "NaN                suv              0\n",
       "                   NaN              0\n",
       "Name: modelo, dtype: int64"
      ]
     },
     "execution_count": 1537,
     "metadata": {},
     "output_type": "execute_result"
    }
   ],
   "source": [
    "bmw4.groupby(['modelo', 'tipo_coche'], dropna = False)['modelo'].count()"
   ]
  },
  {
   "cell_type": "code",
   "execution_count": 1538,
   "metadata": {},
   "outputs": [],
   "source": [
    "bmw5=bmw4.copy()"
   ]
  },
  {
   "cell_type": "code",
   "execution_count": 1539,
   "metadata": {},
   "outputs": [],
   "source": [
    "bmw5.tipo_coche.fillna('otros',inplace=True)"
   ]
  },
  {
   "cell_type": "code",
   "execution_count": 1540,
   "metadata": {},
   "outputs": [
    {
     "data": {
      "text/plain": [
       "tipo_coche\n",
       "otros          30.146603\n",
       "estate         22.857733\n",
       "sedan          16.952302\n",
       "suv            15.589511\n",
       "hatchback      10.076399\n",
       "subcompact      1.589924\n",
       "coupe           1.569275\n",
       "convertible     0.619451\n",
       "van             0.598802\n",
       "Name: proportion, dtype: float64"
      ]
     },
     "execution_count": 1540,
     "metadata": {},
     "output_type": "execute_result"
    }
   ],
   "source": [
    "bmw5.tipo_coche.value_counts(normalize=True)*100"
   ]
  },
  {
   "cell_type": "code",
   "execution_count": 1541,
   "metadata": {},
   "outputs": [
    {
     "data": {
      "text/plain": [
       "modelo                            3\n",
       "km                                2\n",
       "potencia                          1\n",
       "tipo_gasolina                     5\n",
       "color                             0\n",
       "tipo_coche                        0\n",
       "volante_regulable                 4\n",
       "aire_acondicionado              486\n",
       "camara_trasera                    2\n",
       "asientos_traseros_plegables    3391\n",
       "elevalunas_electrico              2\n",
       "bluetooth                       728\n",
       "gps                               0\n",
       "alerta_lim_velocidad            728\n",
       "precio                            6\n",
       "fecha_venta                       1\n",
       "dtype: int64"
      ]
     },
     "execution_count": 1541,
     "metadata": {},
     "output_type": "execute_result"
    }
   ],
   "source": [
    "bmw5.isnull().sum()"
   ]
  },
  {
   "cell_type": "markdown",
   "metadata": {},
   "source": [
    "- 3.5.- AIRE_ACONDICIONADO"
   ]
  },
  {
   "cell_type": "code",
   "execution_count": 1542,
   "metadata": {},
   "outputs": [
    {
     "data": {
      "text/plain": [
       "aire_acondicionado\n",
       "True     71.546562\n",
       "False    18.418336\n",
       "NaN      10.035102\n",
       "Name: proportion, dtype: float64"
      ]
     },
     "execution_count": 1542,
     "metadata": {},
     "output_type": "execute_result"
    }
   ],
   "source": [
    "bmw5.aire_acondicionado.value_counts(dropna=False,normalize=True)*100"
   ]
  },
  {
   "cell_type": "code",
   "execution_count": 1543,
   "metadata": {},
   "outputs": [],
   "source": [
    "bmw6=bmw5.copy()"
   ]
  },
  {
   "cell_type": "code",
   "execution_count": 1544,
   "metadata": {},
   "outputs": [],
   "source": [
    "bmw6.aire_acondicionado.fillna('sin_info',inplace=True)"
   ]
  },
  {
   "cell_type": "code",
   "execution_count": 1545,
   "metadata": {},
   "outputs": [
    {
     "data": {
      "text/plain": [
       "aire_acondicionado\n",
       "True        71.546562\n",
       "False       18.418336\n",
       "sin_info    10.035102\n",
       "Name: proportion, dtype: float64"
      ]
     },
     "execution_count": 1545,
     "metadata": {},
     "output_type": "execute_result"
    }
   ],
   "source": [
    "bmw6.aire_acondicionado.value_counts(dropna=False,normalize=True)*100"
   ]
  },
  {
   "cell_type": "code",
   "execution_count": 1546,
   "metadata": {},
   "outputs": [
    {
     "data": {
      "text/plain": [
       "modelo                            3\n",
       "km                                2\n",
       "potencia                          1\n",
       "tipo_gasolina                     5\n",
       "color                             0\n",
       "tipo_coche                        0\n",
       "volante_regulable                 4\n",
       "aire_acondicionado                0\n",
       "camara_trasera                    2\n",
       "asientos_traseros_plegables    3391\n",
       "elevalunas_electrico              2\n",
       "bluetooth                       728\n",
       "gps                               0\n",
       "alerta_lim_velocidad            728\n",
       "precio                            6\n",
       "fecha_venta                       1\n",
       "dtype: int64"
      ]
     },
     "execution_count": 1546,
     "metadata": {},
     "output_type": "execute_result"
    }
   ],
   "source": [
    "bmw6.isnull().sum()"
   ]
  },
  {
   "cell_type": "markdown",
   "metadata": {},
   "source": [
    "- 3.6.- ASIENTOS_TRASEROS_PLEGABLES"
   ]
  },
  {
   "cell_type": "code",
   "execution_count": 1547,
   "metadata": {},
   "outputs": [
    {
     "data": {
      "text/plain": [
       "asientos_traseros_plegables\n",
       "NaN      70.018584\n",
       "False    23.745612\n",
       "True      6.235804\n",
       "Name: proportion, dtype: float64"
      ]
     },
     "execution_count": 1547,
     "metadata": {},
     "output_type": "execute_result"
    }
   ],
   "source": [
    "bmw6.asientos_traseros_plegables.value_counts(dropna=False,normalize=True)*100"
   ]
  },
  {
   "cell_type": "code",
   "execution_count": 1548,
   "metadata": {},
   "outputs": [],
   "source": [
    "bmw7=bmw6.copy()"
   ]
  },
  {
   "cell_type": "code",
   "execution_count": 1549,
   "metadata": {},
   "outputs": [],
   "source": [
    "del(bmw7['asientos_traseros_plegables'])"
   ]
  },
  {
   "cell_type": "code",
   "execution_count": 1550,
   "metadata": {},
   "outputs": [
    {
     "data": {
      "text/plain": [
       "modelo                    3\n",
       "km                        2\n",
       "potencia                  1\n",
       "tipo_gasolina             5\n",
       "color                     0\n",
       "tipo_coche                0\n",
       "volante_regulable         4\n",
       "aire_acondicionado        0\n",
       "camara_trasera            2\n",
       "elevalunas_electrico      2\n",
       "bluetooth               728\n",
       "gps                       0\n",
       "alerta_lim_velocidad    728\n",
       "precio                    6\n",
       "fecha_venta               1\n",
       "dtype: int64"
      ]
     },
     "execution_count": 1550,
     "metadata": {},
     "output_type": "execute_result"
    }
   ],
   "source": [
    "bmw7.isnull().sum()"
   ]
  },
  {
   "cell_type": "markdown",
   "metadata": {},
   "source": [
    "- 3.7.- BLUETOOTH"
   ]
  },
  {
   "cell_type": "code",
   "execution_count": 1551,
   "metadata": {},
   "outputs": [
    {
     "data": {
      "text/plain": [
       "bluetooth\n",
       "False    64.402230\n",
       "True     20.565765\n",
       "NaN      15.032005\n",
       "Name: proportion, dtype: float64"
      ]
     },
     "execution_count": 1551,
     "metadata": {},
     "output_type": "execute_result"
    }
   ],
   "source": [
    "bmw7.bluetooth.value_counts(dropna=False,normalize=True)*100"
   ]
  },
  {
   "cell_type": "code",
   "execution_count": 1552,
   "metadata": {},
   "outputs": [],
   "source": [
    "bmw8=bmw7.copy()"
   ]
  },
  {
   "cell_type": "code",
   "execution_count": 1553,
   "metadata": {},
   "outputs": [],
   "source": [
    "bmw8.bluetooth.fillna('sin_info',inplace=True)"
   ]
  },
  {
   "cell_type": "code",
   "execution_count": 1554,
   "metadata": {},
   "outputs": [
    {
     "data": {
      "text/plain": [
       "modelo                    3\n",
       "km                        2\n",
       "potencia                  1\n",
       "tipo_gasolina             5\n",
       "color                     0\n",
       "tipo_coche                0\n",
       "volante_regulable         4\n",
       "aire_acondicionado        0\n",
       "camara_trasera            2\n",
       "elevalunas_electrico      2\n",
       "bluetooth                 0\n",
       "gps                       0\n",
       "alerta_lim_velocidad    728\n",
       "precio                    6\n",
       "fecha_venta               1\n",
       "dtype: int64"
      ]
     },
     "execution_count": 1554,
     "metadata": {},
     "output_type": "execute_result"
    }
   ],
   "source": [
    "bmw8.isnull().sum()"
   ]
  },
  {
   "cell_type": "markdown",
   "metadata": {},
   "source": [
    "- 3.8.- ALERTA_LIM_VELOCIDAD"
   ]
  },
  {
   "cell_type": "code",
   "execution_count": 1555,
   "metadata": {},
   "outputs": [
    {
     "data": {
      "text/plain": [
       "alerta_lim_velocidad\n",
       "True     46.252323\n",
       "False    38.715672\n",
       "NaN      15.032005\n",
       "Name: proportion, dtype: float64"
      ]
     },
     "execution_count": 1555,
     "metadata": {},
     "output_type": "execute_result"
    }
   ],
   "source": [
    "bmw8.alerta_lim_velocidad.value_counts(dropna=False,normalize=True)*100"
   ]
  },
  {
   "cell_type": "code",
   "execution_count": 1556,
   "metadata": {},
   "outputs": [],
   "source": [
    "bmw9=bmw8.copy()"
   ]
  },
  {
   "cell_type": "code",
   "execution_count": 1557,
   "metadata": {},
   "outputs": [],
   "source": [
    "bmw9.alerta_lim_velocidad.fillna('sin_info',inplace=True)"
   ]
  },
  {
   "cell_type": "code",
   "execution_count": 1558,
   "metadata": {},
   "outputs": [
    {
     "data": {
      "text/plain": [
       "modelo                  3\n",
       "km                      2\n",
       "potencia                1\n",
       "tipo_gasolina           5\n",
       "color                   0\n",
       "tipo_coche              0\n",
       "volante_regulable       4\n",
       "aire_acondicionado      0\n",
       "camara_trasera          2\n",
       "elevalunas_electrico    2\n",
       "bluetooth               0\n",
       "gps                     0\n",
       "alerta_lim_velocidad    0\n",
       "precio                  6\n",
       "fecha_venta             1\n",
       "dtype: int64"
      ]
     },
     "execution_count": 1558,
     "metadata": {},
     "output_type": "execute_result"
    }
   ],
   "source": [
    "bmw9.isnull().sum()"
   ]
  },
  {
   "cell_type": "markdown",
   "metadata": {},
   "source": [
    "3.9.- Categorías con pocos nulos."
   ]
  },
  {
   "cell_type": "markdown",
   "metadata": {},
   "source": [
    "\n",
    "    3.9.1.- MODELO"
   ]
  },
  {
   "cell_type": "code",
   "execution_count": 1559,
   "metadata": {},
   "outputs": [
    {
     "data": {
      "text/html": [
       "<div>\n",
       "<style scoped>\n",
       "    .dataframe tbody tr th:only-of-type {\n",
       "        vertical-align: middle;\n",
       "    }\n",
       "\n",
       "    .dataframe tbody tr th {\n",
       "        vertical-align: top;\n",
       "    }\n",
       "\n",
       "    .dataframe thead th {\n",
       "        text-align: right;\n",
       "    }\n",
       "</style>\n",
       "<table border=\"1\" class=\"dataframe\">\n",
       "  <thead>\n",
       "    <tr style=\"text-align: right;\">\n",
       "      <th></th>\n",
       "      <th>modelo</th>\n",
       "      <th>km</th>\n",
       "      <th>potencia</th>\n",
       "      <th>tipo_gasolina</th>\n",
       "      <th>color</th>\n",
       "      <th>tipo_coche</th>\n",
       "      <th>volante_regulable</th>\n",
       "      <th>aire_acondicionado</th>\n",
       "      <th>camara_trasera</th>\n",
       "      <th>elevalunas_electrico</th>\n",
       "      <th>bluetooth</th>\n",
       "      <th>gps</th>\n",
       "      <th>alerta_lim_velocidad</th>\n",
       "      <th>precio</th>\n",
       "      <th>fecha_venta</th>\n",
       "    </tr>\n",
       "  </thead>\n",
       "  <tbody>\n",
       "    <tr>\n",
       "      <th>173</th>\n",
       "      <td>NaN</td>\n",
       "      <td>146338.0</td>\n",
       "      <td>105.0</td>\n",
       "      <td>diesel</td>\n",
       "      <td>black</td>\n",
       "      <td>otros</td>\n",
       "      <td>False</td>\n",
       "      <td>True</td>\n",
       "      <td>False</td>\n",
       "      <td>False</td>\n",
       "      <td>sin_info</td>\n",
       "      <td>True</td>\n",
       "      <td>sin_info</td>\n",
       "      <td>13300.0</td>\n",
       "      <td>2018-08-01</td>\n",
       "    </tr>\n",
       "    <tr>\n",
       "      <th>4766</th>\n",
       "      <td>NaN</td>\n",
       "      <td>115566.0</td>\n",
       "      <td>105.0</td>\n",
       "      <td>diesel</td>\n",
       "      <td>silver</td>\n",
       "      <td>suv</td>\n",
       "      <td>False</td>\n",
       "      <td>True</td>\n",
       "      <td>False</td>\n",
       "      <td>True</td>\n",
       "      <td>False</td>\n",
       "      <td>True</td>\n",
       "      <td>False</td>\n",
       "      <td>14900.0</td>\n",
       "      <td>2018-09-01</td>\n",
       "    </tr>\n",
       "    <tr>\n",
       "      <th>4802</th>\n",
       "      <td>NaN</td>\n",
       "      <td>118640.0</td>\n",
       "      <td>110.0</td>\n",
       "      <td>diesel</td>\n",
       "      <td>white</td>\n",
       "      <td>otros</td>\n",
       "      <td>False</td>\n",
       "      <td>False</td>\n",
       "      <td>False</td>\n",
       "      <td>False</td>\n",
       "      <td>False</td>\n",
       "      <td>False</td>\n",
       "      <td>False</td>\n",
       "      <td>800.0</td>\n",
       "      <td>2018-03-01</td>\n",
       "    </tr>\n",
       "  </tbody>\n",
       "</table>\n",
       "</div>"
      ],
      "text/plain": [
       "     modelo        km  potencia tipo_gasolina   color tipo_coche  \\\n",
       "173     NaN  146338.0     105.0        diesel   black      otros   \n",
       "4766    NaN  115566.0     105.0        diesel  silver        suv   \n",
       "4802    NaN  118640.0     110.0        diesel   white      otros   \n",
       "\n",
       "     volante_regulable aire_acondicionado camara_trasera elevalunas_electrico  \\\n",
       "173              False               True          False                False   \n",
       "4766             False               True          False                 True   \n",
       "4802             False              False          False                False   \n",
       "\n",
       "     bluetooth    gps alerta_lim_velocidad   precio fecha_venta  \n",
       "173   sin_info   True             sin_info  13300.0  2018-08-01  \n",
       "4766     False   True                False  14900.0  2018-09-01  \n",
       "4802     False  False                False    800.0  2018-03-01  "
      ]
     },
     "execution_count": 1559,
     "metadata": {},
     "output_type": "execute_result"
    }
   ],
   "source": [
    "bmw9[bmw9.modelo.isnull()]"
   ]
  },
  {
   "cell_type": "markdown",
   "metadata": {},
   "source": [
    "Evaluamos los 3 nulos de forma individual"
   ]
  },
  {
   "cell_type": "code",
   "execution_count": 1560,
   "metadata": {},
   "outputs": [
    {
     "data": {
      "text/plain": [
       "modelo\n",
       "318                 63.106796\n",
       "X1                  11.650485\n",
       "118                 10.679612\n",
       "318 Gran Turismo     9.708738\n",
       "X3                   3.883495\n",
       "525                  0.970874\n",
       "Name: proportion, dtype: float64"
      ]
     },
     "execution_count": 1560,
     "metadata": {},
     "output_type": "execute_result"
    }
   ],
   "source": [
    "#Vehículo indice 173\n",
    "bmw9[(bmw9['potencia']==105) & (bmw9['tipo_gasolina']=='diesel')&(bmw9['aire_acondicionado']==True)&(bmw9['camara_trasera']==False)&(bmw9['elevalunas_electrico']==False)&(bmw9['volante_regulable']==False)&(bmw9['gps']==True)]['modelo'].value_counts(normalize=True)*100"
   ]
  },
  {
   "cell_type": "code",
   "execution_count": 1561,
   "metadata": {},
   "outputs": [],
   "source": [
    "#Imputamos el modelo 318\n",
    "bmw9.loc[[173],['modelo']]='318'"
   ]
  },
  {
   "cell_type": "code",
   "execution_count": 1562,
   "metadata": {},
   "outputs": [
    {
     "data": {
      "text/html": [
       "<div>\n",
       "<style scoped>\n",
       "    .dataframe tbody tr th:only-of-type {\n",
       "        vertical-align: middle;\n",
       "    }\n",
       "\n",
       "    .dataframe tbody tr th {\n",
       "        vertical-align: top;\n",
       "    }\n",
       "\n",
       "    .dataframe thead th {\n",
       "        text-align: right;\n",
       "    }\n",
       "</style>\n",
       "<table border=\"1\" class=\"dataframe\">\n",
       "  <thead>\n",
       "    <tr style=\"text-align: right;\">\n",
       "      <th></th>\n",
       "      <th>modelo</th>\n",
       "      <th>km</th>\n",
       "      <th>potencia</th>\n",
       "      <th>tipo_gasolina</th>\n",
       "      <th>color</th>\n",
       "      <th>tipo_coche</th>\n",
       "      <th>volante_regulable</th>\n",
       "      <th>aire_acondicionado</th>\n",
       "      <th>camara_trasera</th>\n",
       "      <th>elevalunas_electrico</th>\n",
       "      <th>bluetooth</th>\n",
       "      <th>gps</th>\n",
       "      <th>alerta_lim_velocidad</th>\n",
       "      <th>precio</th>\n",
       "      <th>fecha_venta</th>\n",
       "    </tr>\n",
       "  </thead>\n",
       "  <tbody>\n",
       "    <tr>\n",
       "      <th>173</th>\n",
       "      <td>318</td>\n",
       "      <td>146338.0</td>\n",
       "      <td>105.0</td>\n",
       "      <td>diesel</td>\n",
       "      <td>black</td>\n",
       "      <td>otros</td>\n",
       "      <td>False</td>\n",
       "      <td>True</td>\n",
       "      <td>False</td>\n",
       "      <td>False</td>\n",
       "      <td>sin_info</td>\n",
       "      <td>True</td>\n",
       "      <td>sin_info</td>\n",
       "      <td>13300.0</td>\n",
       "      <td>2018-08-01</td>\n",
       "    </tr>\n",
       "  </tbody>\n",
       "</table>\n",
       "</div>"
      ],
      "text/plain": [
       "    modelo        km  potencia tipo_gasolina  color tipo_coche  \\\n",
       "173    318  146338.0     105.0        diesel  black      otros   \n",
       "\n",
       "    volante_regulable aire_acondicionado camara_trasera elevalunas_electrico  \\\n",
       "173             False               True          False                False   \n",
       "\n",
       "    bluetooth   gps alerta_lim_velocidad   precio fecha_venta  \n",
       "173  sin_info  True             sin_info  13300.0  2018-08-01  "
      ]
     },
     "execution_count": 1562,
     "metadata": {},
     "output_type": "execute_result"
    }
   ],
   "source": [
    "#Checkeo\n",
    "bmw9.loc[[173]]"
   ]
  },
  {
   "cell_type": "code",
   "execution_count": 1563,
   "metadata": {},
   "outputs": [
    {
     "data": {
      "text/plain": [
       "modelo\n",
       "X1    62.5\n",
       "X3    37.5\n",
       "Name: proportion, dtype: float64"
      ]
     },
     "execution_count": 1563,
     "metadata": {},
     "output_type": "execute_result"
    }
   ],
   "source": [
    "#Vehículo indice 4766\n",
    "bmw9[(bmw9['potencia']==105) & (bmw9['tipo_gasolina']=='diesel')&(bmw9['aire_acondicionado']==True)&(bmw9['camara_trasera']==False)&(bmw9['elevalunas_electrico']==True)&(bmw9['volante_regulable']==False)&(bmw9['gps']==True)&(bmw9['tipo_coche']=='suv')&(bmw9['bluetooth']==False)]['modelo'].value_counts(normalize=True)*100"
   ]
  },
  {
   "cell_type": "code",
   "execution_count": 1564,
   "metadata": {},
   "outputs": [],
   "source": [
    "#Imputamos el modelo X1\n",
    "bmw9.loc[[4766],['modelo']]='X1'"
   ]
  },
  {
   "cell_type": "code",
   "execution_count": 1565,
   "metadata": {},
   "outputs": [
    {
     "data": {
      "text/html": [
       "<div>\n",
       "<style scoped>\n",
       "    .dataframe tbody tr th:only-of-type {\n",
       "        vertical-align: middle;\n",
       "    }\n",
       "\n",
       "    .dataframe tbody tr th {\n",
       "        vertical-align: top;\n",
       "    }\n",
       "\n",
       "    .dataframe thead th {\n",
       "        text-align: right;\n",
       "    }\n",
       "</style>\n",
       "<table border=\"1\" class=\"dataframe\">\n",
       "  <thead>\n",
       "    <tr style=\"text-align: right;\">\n",
       "      <th></th>\n",
       "      <th>modelo</th>\n",
       "      <th>km</th>\n",
       "      <th>potencia</th>\n",
       "      <th>tipo_gasolina</th>\n",
       "      <th>color</th>\n",
       "      <th>tipo_coche</th>\n",
       "      <th>volante_regulable</th>\n",
       "      <th>aire_acondicionado</th>\n",
       "      <th>camara_trasera</th>\n",
       "      <th>elevalunas_electrico</th>\n",
       "      <th>bluetooth</th>\n",
       "      <th>gps</th>\n",
       "      <th>alerta_lim_velocidad</th>\n",
       "      <th>precio</th>\n",
       "      <th>fecha_venta</th>\n",
       "    </tr>\n",
       "  </thead>\n",
       "  <tbody>\n",
       "    <tr>\n",
       "      <th>4766</th>\n",
       "      <td>X1</td>\n",
       "      <td>115566.0</td>\n",
       "      <td>105.0</td>\n",
       "      <td>diesel</td>\n",
       "      <td>silver</td>\n",
       "      <td>suv</td>\n",
       "      <td>False</td>\n",
       "      <td>True</td>\n",
       "      <td>False</td>\n",
       "      <td>True</td>\n",
       "      <td>False</td>\n",
       "      <td>True</td>\n",
       "      <td>False</td>\n",
       "      <td>14900.0</td>\n",
       "      <td>2018-09-01</td>\n",
       "    </tr>\n",
       "  </tbody>\n",
       "</table>\n",
       "</div>"
      ],
      "text/plain": [
       "     modelo        km  potencia tipo_gasolina   color tipo_coche  \\\n",
       "4766     X1  115566.0     105.0        diesel  silver        suv   \n",
       "\n",
       "     volante_regulable aire_acondicionado camara_trasera elevalunas_electrico  \\\n",
       "4766             False               True          False                 True   \n",
       "\n",
       "     bluetooth   gps alerta_lim_velocidad   precio fecha_venta  \n",
       "4766     False  True                False  14900.0  2018-09-01  "
      ]
     },
     "execution_count": 1565,
     "metadata": {},
     "output_type": "execute_result"
    }
   ],
   "source": [
    "#chekeo\n",
    "bmw9.loc[[4766]]"
   ]
  },
  {
   "cell_type": "code",
   "execution_count": 1566,
   "metadata": {},
   "outputs": [
    {
     "data": {
      "text/plain": [
       "modelo\n",
       "X3     33.333333\n",
       "218    33.333333\n",
       "318    16.666667\n",
       "X1     16.666667\n",
       "Name: proportion, dtype: float64"
      ]
     },
     "execution_count": 1566,
     "metadata": {},
     "output_type": "execute_result"
    }
   ],
   "source": [
    "#Vehículo indice 4802\n",
    "bmw9[(bmw9['potencia']==110) & (bmw9['tipo_gasolina']=='diesel')&(bmw9['aire_acondicionado']==False)&(bmw9['camara_trasera']==False)&(bmw9['elevalunas_electrico']==False)&(bmw9['volante_regulable']==False)&(bmw9['gps']==False)&(bmw9['bluetooth']==False)]['modelo'].value_counts(normalize=True)*100"
   ]
  },
  {
   "cell_type": "code",
   "execution_count": 1567,
   "metadata": {},
   "outputs": [
    {
     "data": {
      "text/plain": [
       "modelo\n",
       "X3     33.333333\n",
       "218    33.333333\n",
       "318    16.666667\n",
       "X1     16.666667\n",
       "Name: proportion, dtype: float64"
      ]
     },
     "execution_count": 1567,
     "metadata": {},
     "output_type": "execute_result"
    }
   ],
   "source": [
    "#Vehículo indice 4802\n",
    "bmw9[(bmw2['potencia']==110) & (bmw9['tipo_gasolina']=='diesel')&(bmw9['aire_acondicionado']==False)&(bmw9['camara_trasera']==False)&(bmw9['elevalunas_electrico']==False)&(bmw9['volante_regulable']==False)&(bmw9['gps']==False)&(bmw9['bluetooth']==False)]['modelo'].value_counts(normalize=True)*100"
   ]
  },
  {
   "cell_type": "code",
   "execution_count": 1568,
   "metadata": {},
   "outputs": [],
   "source": [
    "#No podemos imputar un valor más probable.\n",
    "#Lo eliminamos\n",
    "bmw9=bmw9.drop(index=4802)"
   ]
  },
  {
   "cell_type": "code",
   "execution_count": 1569,
   "metadata": {},
   "outputs": [],
   "source": [
    "#bmw9.loc[[4802]]"
   ]
  },
  {
   "cell_type": "code",
   "execution_count": 1570,
   "metadata": {},
   "outputs": [
    {
     "data": {
      "text/plain": [
       "modelo                  0\n",
       "km                      2\n",
       "potencia                1\n",
       "tipo_gasolina           5\n",
       "color                   0\n",
       "tipo_coche              0\n",
       "volante_regulable       4\n",
       "aire_acondicionado      0\n",
       "camara_trasera          2\n",
       "elevalunas_electrico    2\n",
       "bluetooth               0\n",
       "gps                     0\n",
       "alerta_lim_velocidad    0\n",
       "precio                  6\n",
       "fecha_venta             1\n",
       "dtype: int64"
      ]
     },
     "execution_count": 1570,
     "metadata": {},
     "output_type": "execute_result"
    }
   ],
   "source": [
    "bmw9.isnull().sum()"
   ]
  },
  {
   "cell_type": "markdown",
   "metadata": {},
   "source": [
    "    3.9.2.- KM"
   ]
  },
  {
   "cell_type": "code",
   "execution_count": 1571,
   "metadata": {},
   "outputs": [
    {
     "data": {
      "text/html": [
       "<div>\n",
       "<style scoped>\n",
       "    .dataframe tbody tr th:only-of-type {\n",
       "        vertical-align: middle;\n",
       "    }\n",
       "\n",
       "    .dataframe tbody tr th {\n",
       "        vertical-align: top;\n",
       "    }\n",
       "\n",
       "    .dataframe thead th {\n",
       "        text-align: right;\n",
       "    }\n",
       "</style>\n",
       "<table border=\"1\" class=\"dataframe\">\n",
       "  <thead>\n",
       "    <tr style=\"text-align: right;\">\n",
       "      <th></th>\n",
       "      <th>modelo</th>\n",
       "      <th>km</th>\n",
       "      <th>potencia</th>\n",
       "      <th>tipo_gasolina</th>\n",
       "      <th>color</th>\n",
       "      <th>tipo_coche</th>\n",
       "      <th>volante_regulable</th>\n",
       "      <th>aire_acondicionado</th>\n",
       "      <th>camara_trasera</th>\n",
       "      <th>elevalunas_electrico</th>\n",
       "      <th>bluetooth</th>\n",
       "      <th>gps</th>\n",
       "      <th>alerta_lim_velocidad</th>\n",
       "      <th>precio</th>\n",
       "      <th>fecha_venta</th>\n",
       "    </tr>\n",
       "  </thead>\n",
       "  <tbody>\n",
       "    <tr>\n",
       "      <th>459</th>\n",
       "      <td>520</td>\n",
       "      <td>NaN</td>\n",
       "      <td>135.0</td>\n",
       "      <td>diesel</td>\n",
       "      <td>black</td>\n",
       "      <td>otros</td>\n",
       "      <td>True</td>\n",
       "      <td>True</td>\n",
       "      <td>True</td>\n",
       "      <td>True</td>\n",
       "      <td>True</td>\n",
       "      <td>True</td>\n",
       "      <td>True</td>\n",
       "      <td>20300.0</td>\n",
       "      <td>2018-02-01</td>\n",
       "    </tr>\n",
       "    <tr>\n",
       "      <th>4811</th>\n",
       "      <td>X3</td>\n",
       "      <td>NaN</td>\n",
       "      <td>190.0</td>\n",
       "      <td>diesel</td>\n",
       "      <td>blue</td>\n",
       "      <td>van</td>\n",
       "      <td>True</td>\n",
       "      <td>True</td>\n",
       "      <td>True</td>\n",
       "      <td>True</td>\n",
       "      <td>False</td>\n",
       "      <td>True</td>\n",
       "      <td>True</td>\n",
       "      <td>19500.0</td>\n",
       "      <td>2018-07-01</td>\n",
       "    </tr>\n",
       "  </tbody>\n",
       "</table>\n",
       "</div>"
      ],
      "text/plain": [
       "     modelo  km  potencia tipo_gasolina  color tipo_coche volante_regulable  \\\n",
       "459     520 NaN     135.0        diesel  black      otros              True   \n",
       "4811     X3 NaN     190.0        diesel   blue        van              True   \n",
       "\n",
       "     aire_acondicionado camara_trasera elevalunas_electrico bluetooth   gps  \\\n",
       "459                True           True                 True      True  True   \n",
       "4811               True           True                 True     False  True   \n",
       "\n",
       "     alerta_lim_velocidad   precio fecha_venta  \n",
       "459                  True  20300.0  2018-02-01  \n",
       "4811                 True  19500.0  2018-07-01  "
      ]
     },
     "execution_count": 1571,
     "metadata": {},
     "output_type": "execute_result"
    }
   ],
   "source": [
    "bmw9[bmw9['km'].isnull()]"
   ]
  },
  {
   "cell_type": "markdown",
   "metadata": {},
   "source": [
    "No podemos imputar de ninguna manera los KM de cada vehículo. Los eliminamos."
   ]
  },
  {
   "cell_type": "code",
   "execution_count": 1572,
   "metadata": {},
   "outputs": [],
   "source": [
    "bmw9.dropna(subset='km', inplace=True)"
   ]
  },
  {
   "cell_type": "code",
   "execution_count": 1573,
   "metadata": {},
   "outputs": [
    {
     "data": {
      "text/html": [
       "<div>\n",
       "<style scoped>\n",
       "    .dataframe tbody tr th:only-of-type {\n",
       "        vertical-align: middle;\n",
       "    }\n",
       "\n",
       "    .dataframe tbody tr th {\n",
       "        vertical-align: top;\n",
       "    }\n",
       "\n",
       "    .dataframe thead th {\n",
       "        text-align: right;\n",
       "    }\n",
       "</style>\n",
       "<table border=\"1\" class=\"dataframe\">\n",
       "  <thead>\n",
       "    <tr style=\"text-align: right;\">\n",
       "      <th></th>\n",
       "      <th>modelo</th>\n",
       "      <th>km</th>\n",
       "      <th>potencia</th>\n",
       "      <th>tipo_gasolina</th>\n",
       "      <th>color</th>\n",
       "      <th>tipo_coche</th>\n",
       "      <th>volante_regulable</th>\n",
       "      <th>aire_acondicionado</th>\n",
       "      <th>camara_trasera</th>\n",
       "      <th>elevalunas_electrico</th>\n",
       "      <th>bluetooth</th>\n",
       "      <th>gps</th>\n",
       "      <th>alerta_lim_velocidad</th>\n",
       "      <th>precio</th>\n",
       "      <th>fecha_venta</th>\n",
       "    </tr>\n",
       "  </thead>\n",
       "  <tbody>\n",
       "  </tbody>\n",
       "</table>\n",
       "</div>"
      ],
      "text/plain": [
       "Empty DataFrame\n",
       "Columns: [modelo, km, potencia, tipo_gasolina, color, tipo_coche, volante_regulable, aire_acondicionado, camara_trasera, elevalunas_electrico, bluetooth, gps, alerta_lim_velocidad, precio, fecha_venta]\n",
       "Index: []"
      ]
     },
     "execution_count": 1573,
     "metadata": {},
     "output_type": "execute_result"
    }
   ],
   "source": [
    "bmw9[bmw9['km'].isnull()]"
   ]
  },
  {
   "cell_type": "code",
   "execution_count": 1574,
   "metadata": {},
   "outputs": [
    {
     "data": {
      "text/plain": [
       "modelo                  0\n",
       "km                      0\n",
       "potencia                1\n",
       "tipo_gasolina           5\n",
       "color                   0\n",
       "tipo_coche              0\n",
       "volante_regulable       4\n",
       "aire_acondicionado      0\n",
       "camara_trasera          2\n",
       "elevalunas_electrico    2\n",
       "bluetooth               0\n",
       "gps                     0\n",
       "alerta_lim_velocidad    0\n",
       "precio                  6\n",
       "fecha_venta             1\n",
       "dtype: int64"
      ]
     },
     "execution_count": 1574,
     "metadata": {},
     "output_type": "execute_result"
    }
   ],
   "source": [
    "bmw9.isnull().sum()"
   ]
  },
  {
   "cell_type": "markdown",
   "metadata": {},
   "source": [
    "    3.9.3.- POTENCIA"
   ]
  },
  {
   "cell_type": "code",
   "execution_count": 1575,
   "metadata": {},
   "outputs": [
    {
     "data": {
      "text/html": [
       "<div>\n",
       "<style scoped>\n",
       "    .dataframe tbody tr th:only-of-type {\n",
       "        vertical-align: middle;\n",
       "    }\n",
       "\n",
       "    .dataframe tbody tr th {\n",
       "        vertical-align: top;\n",
       "    }\n",
       "\n",
       "    .dataframe thead th {\n",
       "        text-align: right;\n",
       "    }\n",
       "</style>\n",
       "<table border=\"1\" class=\"dataframe\">\n",
       "  <thead>\n",
       "    <tr style=\"text-align: right;\">\n",
       "      <th></th>\n",
       "      <th>modelo</th>\n",
       "      <th>km</th>\n",
       "      <th>potencia</th>\n",
       "      <th>tipo_gasolina</th>\n",
       "      <th>color</th>\n",
       "      <th>tipo_coche</th>\n",
       "      <th>volante_regulable</th>\n",
       "      <th>aire_acondicionado</th>\n",
       "      <th>camara_trasera</th>\n",
       "      <th>elevalunas_electrico</th>\n",
       "      <th>bluetooth</th>\n",
       "      <th>gps</th>\n",
       "      <th>alerta_lim_velocidad</th>\n",
       "      <th>precio</th>\n",
       "      <th>fecha_venta</th>\n",
       "    </tr>\n",
       "  </thead>\n",
       "  <tbody>\n",
       "    <tr>\n",
       "      <th>181</th>\n",
       "      <td>525</td>\n",
       "      <td>106054.0</td>\n",
       "      <td>NaN</td>\n",
       "      <td>diesel</td>\n",
       "      <td>black</td>\n",
       "      <td>estate</td>\n",
       "      <td>False</td>\n",
       "      <td>True</td>\n",
       "      <td>False</td>\n",
       "      <td>False</td>\n",
       "      <td>False</td>\n",
       "      <td>True</td>\n",
       "      <td>True</td>\n",
       "      <td>18700.0</td>\n",
       "      <td>2018-03-01</td>\n",
       "    </tr>\n",
       "  </tbody>\n",
       "</table>\n",
       "</div>"
      ],
      "text/plain": [
       "    modelo        km  potencia tipo_gasolina  color tipo_coche  \\\n",
       "181    525  106054.0       NaN        diesel  black     estate   \n",
       "\n",
       "    volante_regulable aire_acondicionado camara_trasera elevalunas_electrico  \\\n",
       "181             False               True          False                False   \n",
       "\n",
       "    bluetooth   gps alerta_lim_velocidad   precio fecha_venta  \n",
       "181     False  True                 True  18700.0  2018-03-01  "
      ]
     },
     "execution_count": 1575,
     "metadata": {},
     "output_type": "execute_result"
    }
   ],
   "source": [
    "bmw9[bmw9['potencia'].isnull()]"
   ]
  },
  {
   "cell_type": "code",
   "execution_count": 1576,
   "metadata": {},
   "outputs": [
    {
     "data": {
      "text/html": [
       "<div>\n",
       "<style scoped>\n",
       "    .dataframe tbody tr th:only-of-type {\n",
       "        vertical-align: middle;\n",
       "    }\n",
       "\n",
       "    .dataframe tbody tr th {\n",
       "        vertical-align: top;\n",
       "    }\n",
       "\n",
       "    .dataframe thead th {\n",
       "        text-align: right;\n",
       "    }\n",
       "</style>\n",
       "<table border=\"1\" class=\"dataframe\">\n",
       "  <thead>\n",
       "    <tr style=\"text-align: right;\">\n",
       "      <th></th>\n",
       "      <th>modelo</th>\n",
       "      <th>potencia</th>\n",
       "      <th>tipo_gasolina</th>\n",
       "      <th>tipo_coche</th>\n",
       "      <th>volante_regulable</th>\n",
       "      <th>aire_acondicionado</th>\n",
       "      <th>elevalunas_electrico</th>\n",
       "      <th>count</th>\n",
       "    </tr>\n",
       "  </thead>\n",
       "  <tbody>\n",
       "    <tr>\n",
       "      <th>0</th>\n",
       "      <td>525</td>\n",
       "      <td>160.0</td>\n",
       "      <td>diesel</td>\n",
       "      <td>estate</td>\n",
       "      <td>False</td>\n",
       "      <td>True</td>\n",
       "      <td>False</td>\n",
       "      <td>4</td>\n",
       "    </tr>\n",
       "  </tbody>\n",
       "</table>\n",
       "</div>"
      ],
      "text/plain": [
       "  modelo  potencia tipo_gasolina tipo_coche  volante_regulable  \\\n",
       "0    525     160.0        diesel     estate              False   \n",
       "\n",
       "   aire_acondicionado  elevalunas_electrico  count  \n",
       "0                True                 False      4  "
      ]
     },
     "execution_count": 1576,
     "metadata": {},
     "output_type": "execute_result"
    }
   ],
   "source": [
    "#Podemos averigual la potencia segun modelo y otras variables?\n",
    "bmw9[['modelo','potencia','tipo_gasolina','tipo_coche','volante_regulable','aire_acondicionado','elevalunas_electrico']][(bmw9['modelo']=='525')&(bmw9['tipo_gasolina']=='diesel')&(bmw9['tipo_coche']=='estate')&(bmw9['volante_regulable']==False)&(bmw9['aire_acondicionado']==True)&(bmw9['elevalunas_electrico']==False)].value_counts().reset_index()"
   ]
  },
  {
   "cell_type": "code",
   "execution_count": 1577,
   "metadata": {},
   "outputs": [],
   "source": [
    "#Imputamos el valor 160\n",
    "bmw9.loc[[181],['potencia']]=160.0"
   ]
  },
  {
   "cell_type": "code",
   "execution_count": 1578,
   "metadata": {},
   "outputs": [
    {
     "data": {
      "text/html": [
       "<div>\n",
       "<style scoped>\n",
       "    .dataframe tbody tr th:only-of-type {\n",
       "        vertical-align: middle;\n",
       "    }\n",
       "\n",
       "    .dataframe tbody tr th {\n",
       "        vertical-align: top;\n",
       "    }\n",
       "\n",
       "    .dataframe thead th {\n",
       "        text-align: right;\n",
       "    }\n",
       "</style>\n",
       "<table border=\"1\" class=\"dataframe\">\n",
       "  <thead>\n",
       "    <tr style=\"text-align: right;\">\n",
       "      <th></th>\n",
       "      <th>modelo</th>\n",
       "      <th>km</th>\n",
       "      <th>potencia</th>\n",
       "      <th>tipo_gasolina</th>\n",
       "      <th>color</th>\n",
       "      <th>tipo_coche</th>\n",
       "      <th>volante_regulable</th>\n",
       "      <th>aire_acondicionado</th>\n",
       "      <th>camara_trasera</th>\n",
       "      <th>elevalunas_electrico</th>\n",
       "      <th>bluetooth</th>\n",
       "      <th>gps</th>\n",
       "      <th>alerta_lim_velocidad</th>\n",
       "      <th>precio</th>\n",
       "      <th>fecha_venta</th>\n",
       "    </tr>\n",
       "  </thead>\n",
       "  <tbody>\n",
       "  </tbody>\n",
       "</table>\n",
       "</div>"
      ],
      "text/plain": [
       "Empty DataFrame\n",
       "Columns: [modelo, km, potencia, tipo_gasolina, color, tipo_coche, volante_regulable, aire_acondicionado, camara_trasera, elevalunas_electrico, bluetooth, gps, alerta_lim_velocidad, precio, fecha_venta]\n",
       "Index: []"
      ]
     },
     "execution_count": 1578,
     "metadata": {},
     "output_type": "execute_result"
    }
   ],
   "source": [
    "bmw9[bmw9['potencia'].isnull()]"
   ]
  },
  {
   "cell_type": "code",
   "execution_count": 1579,
   "metadata": {},
   "outputs": [
    {
     "data": {
      "text/plain": [
       "modelo                  0\n",
       "km                      0\n",
       "potencia                0\n",
       "tipo_gasolina           5\n",
       "color                   0\n",
       "tipo_coche              0\n",
       "volante_regulable       4\n",
       "aire_acondicionado      0\n",
       "camara_trasera          2\n",
       "elevalunas_electrico    2\n",
       "bluetooth               0\n",
       "gps                     0\n",
       "alerta_lim_velocidad    0\n",
       "precio                  6\n",
       "fecha_venta             1\n",
       "dtype: int64"
      ]
     },
     "execution_count": 1579,
     "metadata": {},
     "output_type": "execute_result"
    }
   ],
   "source": [
    "bmw9.isnull().sum()"
   ]
  },
  {
   "cell_type": "markdown",
   "metadata": {},
   "source": [
    "    3.9.4.- TIPO_GASOLINA"
   ]
  },
  {
   "cell_type": "code",
   "execution_count": 1580,
   "metadata": {},
   "outputs": [
    {
     "data": {
      "text/html": [
       "<div>\n",
       "<style scoped>\n",
       "    .dataframe tbody tr th:only-of-type {\n",
       "        vertical-align: middle;\n",
       "    }\n",
       "\n",
       "    .dataframe tbody tr th {\n",
       "        vertical-align: top;\n",
       "    }\n",
       "\n",
       "    .dataframe thead th {\n",
       "        text-align: right;\n",
       "    }\n",
       "</style>\n",
       "<table border=\"1\" class=\"dataframe\">\n",
       "  <thead>\n",
       "    <tr style=\"text-align: right;\">\n",
       "      <th></th>\n",
       "      <th>modelo</th>\n",
       "      <th>km</th>\n",
       "      <th>potencia</th>\n",
       "      <th>tipo_gasolina</th>\n",
       "      <th>color</th>\n",
       "      <th>tipo_coche</th>\n",
       "      <th>volante_regulable</th>\n",
       "      <th>aire_acondicionado</th>\n",
       "      <th>camara_trasera</th>\n",
       "      <th>elevalunas_electrico</th>\n",
       "      <th>bluetooth</th>\n",
       "      <th>gps</th>\n",
       "      <th>alerta_lim_velocidad</th>\n",
       "      <th>precio</th>\n",
       "      <th>fecha_venta</th>\n",
       "    </tr>\n",
       "  </thead>\n",
       "  <tbody>\n",
       "    <tr>\n",
       "      <th>82</th>\n",
       "      <td>420</td>\n",
       "      <td>54993.0</td>\n",
       "      <td>135.0</td>\n",
       "      <td>NaN</td>\n",
       "      <td>black</td>\n",
       "      <td>otros</td>\n",
       "      <td>False</td>\n",
       "      <td>False</td>\n",
       "      <td>False</td>\n",
       "      <td>False</td>\n",
       "      <td>False</td>\n",
       "      <td>False</td>\n",
       "      <td>False</td>\n",
       "      <td>18400.0</td>\n",
       "      <td>2018-03-01</td>\n",
       "    </tr>\n",
       "    <tr>\n",
       "      <th>185</th>\n",
       "      <td>320</td>\n",
       "      <td>186697.0</td>\n",
       "      <td>135.0</td>\n",
       "      <td>NaN</td>\n",
       "      <td>white</td>\n",
       "      <td>estate</td>\n",
       "      <td>False</td>\n",
       "      <td>False</td>\n",
       "      <td>False</td>\n",
       "      <td>False</td>\n",
       "      <td>False</td>\n",
       "      <td>False</td>\n",
       "      <td>True</td>\n",
       "      <td>2400.0</td>\n",
       "      <td>2018-04-01</td>\n",
       "    </tr>\n",
       "    <tr>\n",
       "      <th>444</th>\n",
       "      <td>318</td>\n",
       "      <td>111622.0</td>\n",
       "      <td>100.0</td>\n",
       "      <td>NaN</td>\n",
       "      <td>black</td>\n",
       "      <td>estate</td>\n",
       "      <td>True</td>\n",
       "      <td>True</td>\n",
       "      <td>False</td>\n",
       "      <td>False</td>\n",
       "      <td>False</td>\n",
       "      <td>True</td>\n",
       "      <td>True</td>\n",
       "      <td>15400.0</td>\n",
       "      <td>2018-02-01</td>\n",
       "    </tr>\n",
       "    <tr>\n",
       "      <th>480</th>\n",
       "      <td>318</td>\n",
       "      <td>170350.0</td>\n",
       "      <td>105.0</td>\n",
       "      <td>NaN</td>\n",
       "      <td>white</td>\n",
       "      <td>otros</td>\n",
       "      <td>False</td>\n",
       "      <td>True</td>\n",
       "      <td>False</td>\n",
       "      <td>False</td>\n",
       "      <td>False</td>\n",
       "      <td>True</td>\n",
       "      <td>False</td>\n",
       "      <td>10200.0</td>\n",
       "      <td>2018-02-01</td>\n",
       "    </tr>\n",
       "    <tr>\n",
       "      <th>630</th>\n",
       "      <td>318</td>\n",
       "      <td>147558.0</td>\n",
       "      <td>105.0</td>\n",
       "      <td>NaN</td>\n",
       "      <td>white</td>\n",
       "      <td>estate</td>\n",
       "      <td>False</td>\n",
       "      <td>sin_info</td>\n",
       "      <td>False</td>\n",
       "      <td>False</td>\n",
       "      <td>False</td>\n",
       "      <td>False</td>\n",
       "      <td>True</td>\n",
       "      <td>100.0</td>\n",
       "      <td>2018-03-01</td>\n",
       "    </tr>\n",
       "  </tbody>\n",
       "</table>\n",
       "</div>"
      ],
      "text/plain": [
       "    modelo        km  potencia tipo_gasolina  color tipo_coche  \\\n",
       "82     420   54993.0     135.0           NaN  black      otros   \n",
       "185    320  186697.0     135.0           NaN  white     estate   \n",
       "444    318  111622.0     100.0           NaN  black     estate   \n",
       "480    318  170350.0     105.0           NaN  white      otros   \n",
       "630    318  147558.0     105.0           NaN  white     estate   \n",
       "\n",
       "    volante_regulable aire_acondicionado camara_trasera elevalunas_electrico  \\\n",
       "82              False              False          False                False   \n",
       "185             False              False          False                False   \n",
       "444              True               True          False                False   \n",
       "480             False               True          False                False   \n",
       "630             False           sin_info          False                False   \n",
       "\n",
       "    bluetooth    gps alerta_lim_velocidad   precio fecha_venta  \n",
       "82      False  False                False  18400.0  2018-03-01  \n",
       "185     False  False                 True   2400.0  2018-04-01  \n",
       "444     False   True                 True  15400.0  2018-02-01  \n",
       "480     False   True                False  10200.0  2018-02-01  \n",
       "630     False  False                 True    100.0  2018-03-01  "
      ]
     },
     "execution_count": 1580,
     "metadata": {},
     "output_type": "execute_result"
    }
   ],
   "source": [
    "bmw9[bmw9.tipo_gasolina.isnull()]"
   ]
  },
  {
   "cell_type": "code",
   "execution_count": 1581,
   "metadata": {},
   "outputs": [
    {
     "data": {
      "text/html": [
       "<div>\n",
       "<style scoped>\n",
       "    .dataframe tbody tr th:only-of-type {\n",
       "        vertical-align: middle;\n",
       "    }\n",
       "\n",
       "    .dataframe tbody tr th {\n",
       "        vertical-align: top;\n",
       "    }\n",
       "\n",
       "    .dataframe thead th {\n",
       "        text-align: right;\n",
       "    }\n",
       "</style>\n",
       "<table border=\"1\" class=\"dataframe\">\n",
       "  <thead>\n",
       "    <tr style=\"text-align: right;\">\n",
       "      <th></th>\n",
       "      <th>modelo</th>\n",
       "      <th>potencia</th>\n",
       "      <th>tipo_gasolina</th>\n",
       "      <th>volante_regulable</th>\n",
       "      <th>aire_acondicionado</th>\n",
       "      <th>count</th>\n",
       "    </tr>\n",
       "  </thead>\n",
       "  <tbody>\n",
       "    <tr>\n",
       "      <th>0</th>\n",
       "      <td>420</td>\n",
       "      <td>135.0</td>\n",
       "      <td>diesel</td>\n",
       "      <td>False</td>\n",
       "      <td>False</td>\n",
       "      <td>7</td>\n",
       "    </tr>\n",
       "  </tbody>\n",
       "</table>\n",
       "</div>"
      ],
      "text/plain": [
       "  modelo  potencia tipo_gasolina  volante_regulable  aire_acondicionado  count\n",
       "0    420     135.0        diesel              False               False      7"
      ]
     },
     "execution_count": 1581,
     "metadata": {},
     "output_type": "execute_result"
    }
   ],
   "source": [
    "#Evaluamos el modelo 420 (indice 82) para ver si podemos imputar el tipo_gasolina\n",
    "bmw9[['modelo','potencia','tipo_gasolina','volante_regulable','aire_acondicionado']][(bmw9['modelo']=='420')&(bmw9['potencia']==135)&(bmw9['volante_regulable']==False)&(bmw9['aire_acondicionado']==False)].value_counts().reset_index()"
   ]
  },
  {
   "cell_type": "code",
   "execution_count": 1582,
   "metadata": {},
   "outputs": [
    {
     "data": {
      "text/html": [
       "<div>\n",
       "<style scoped>\n",
       "    .dataframe tbody tr th:only-of-type {\n",
       "        vertical-align: middle;\n",
       "    }\n",
       "\n",
       "    .dataframe tbody tr th {\n",
       "        vertical-align: top;\n",
       "    }\n",
       "\n",
       "    .dataframe thead th {\n",
       "        text-align: right;\n",
       "    }\n",
       "</style>\n",
       "<table border=\"1\" class=\"dataframe\">\n",
       "  <thead>\n",
       "    <tr style=\"text-align: right;\">\n",
       "      <th></th>\n",
       "      <th>tipo_gasolina</th>\n",
       "    </tr>\n",
       "  </thead>\n",
       "  <tbody>\n",
       "    <tr>\n",
       "      <th>82</th>\n",
       "      <td>diesel</td>\n",
       "    </tr>\n",
       "  </tbody>\n",
       "</table>\n",
       "</div>"
      ],
      "text/plain": [
       "   tipo_gasolina\n",
       "82        diesel"
      ]
     },
     "execution_count": 1582,
     "metadata": {},
     "output_type": "execute_result"
    }
   ],
   "source": [
    "#Imputamos el valor 'diesel'\n",
    "bmw9.loc[[82],['tipo_gasolina']]='diesel'\n",
    "#check\n",
    "bmw9.loc[[82],['tipo_gasolina']]"
   ]
  },
  {
   "cell_type": "code",
   "execution_count": 1583,
   "metadata": {},
   "outputs": [
    {
     "data": {
      "text/html": [
       "<div>\n",
       "<style scoped>\n",
       "    .dataframe tbody tr th:only-of-type {\n",
       "        vertical-align: middle;\n",
       "    }\n",
       "\n",
       "    .dataframe tbody tr th {\n",
       "        vertical-align: top;\n",
       "    }\n",
       "\n",
       "    .dataframe thead th {\n",
       "        text-align: right;\n",
       "    }\n",
       "</style>\n",
       "<table border=\"1\" class=\"dataframe\">\n",
       "  <thead>\n",
       "    <tr style=\"text-align: right;\">\n",
       "      <th></th>\n",
       "      <th>modelo</th>\n",
       "      <th>km</th>\n",
       "      <th>potencia</th>\n",
       "      <th>tipo_gasolina</th>\n",
       "      <th>color</th>\n",
       "      <th>tipo_coche</th>\n",
       "      <th>volante_regulable</th>\n",
       "      <th>aire_acondicionado</th>\n",
       "      <th>camara_trasera</th>\n",
       "      <th>elevalunas_electrico</th>\n",
       "      <th>bluetooth</th>\n",
       "      <th>gps</th>\n",
       "      <th>alerta_lim_velocidad</th>\n",
       "      <th>precio</th>\n",
       "      <th>fecha_venta</th>\n",
       "    </tr>\n",
       "  </thead>\n",
       "  <tbody>\n",
       "    <tr>\n",
       "      <th>185</th>\n",
       "      <td>320</td>\n",
       "      <td>186697.0</td>\n",
       "      <td>135.0</td>\n",
       "      <td>NaN</td>\n",
       "      <td>white</td>\n",
       "      <td>estate</td>\n",
       "      <td>False</td>\n",
       "      <td>False</td>\n",
       "      <td>False</td>\n",
       "      <td>False</td>\n",
       "      <td>False</td>\n",
       "      <td>False</td>\n",
       "      <td>True</td>\n",
       "      <td>2400.0</td>\n",
       "      <td>2018-04-01</td>\n",
       "    </tr>\n",
       "    <tr>\n",
       "      <th>444</th>\n",
       "      <td>318</td>\n",
       "      <td>111622.0</td>\n",
       "      <td>100.0</td>\n",
       "      <td>NaN</td>\n",
       "      <td>black</td>\n",
       "      <td>estate</td>\n",
       "      <td>True</td>\n",
       "      <td>True</td>\n",
       "      <td>False</td>\n",
       "      <td>False</td>\n",
       "      <td>False</td>\n",
       "      <td>True</td>\n",
       "      <td>True</td>\n",
       "      <td>15400.0</td>\n",
       "      <td>2018-02-01</td>\n",
       "    </tr>\n",
       "    <tr>\n",
       "      <th>480</th>\n",
       "      <td>318</td>\n",
       "      <td>170350.0</td>\n",
       "      <td>105.0</td>\n",
       "      <td>NaN</td>\n",
       "      <td>white</td>\n",
       "      <td>otros</td>\n",
       "      <td>False</td>\n",
       "      <td>True</td>\n",
       "      <td>False</td>\n",
       "      <td>False</td>\n",
       "      <td>False</td>\n",
       "      <td>True</td>\n",
       "      <td>False</td>\n",
       "      <td>10200.0</td>\n",
       "      <td>2018-02-01</td>\n",
       "    </tr>\n",
       "    <tr>\n",
       "      <th>630</th>\n",
       "      <td>318</td>\n",
       "      <td>147558.0</td>\n",
       "      <td>105.0</td>\n",
       "      <td>NaN</td>\n",
       "      <td>white</td>\n",
       "      <td>estate</td>\n",
       "      <td>False</td>\n",
       "      <td>sin_info</td>\n",
       "      <td>False</td>\n",
       "      <td>False</td>\n",
       "      <td>False</td>\n",
       "      <td>False</td>\n",
       "      <td>True</td>\n",
       "      <td>100.0</td>\n",
       "      <td>2018-03-01</td>\n",
       "    </tr>\n",
       "  </tbody>\n",
       "</table>\n",
       "</div>"
      ],
      "text/plain": [
       "    modelo        km  potencia tipo_gasolina  color tipo_coche  \\\n",
       "185    320  186697.0     135.0           NaN  white     estate   \n",
       "444    318  111622.0     100.0           NaN  black     estate   \n",
       "480    318  170350.0     105.0           NaN  white      otros   \n",
       "630    318  147558.0     105.0           NaN  white     estate   \n",
       "\n",
       "    volante_regulable aire_acondicionado camara_trasera elevalunas_electrico  \\\n",
       "185             False              False          False                False   \n",
       "444              True               True          False                False   \n",
       "480             False               True          False                False   \n",
       "630             False           sin_info          False                False   \n",
       "\n",
       "    bluetooth    gps alerta_lim_velocidad   precio fecha_venta  \n",
       "185     False  False                 True   2400.0  2018-04-01  \n",
       "444     False   True                 True  15400.0  2018-02-01  \n",
       "480     False   True                False  10200.0  2018-02-01  \n",
       "630     False  False                 True    100.0  2018-03-01  "
      ]
     },
     "execution_count": 1583,
     "metadata": {},
     "output_type": "execute_result"
    }
   ],
   "source": [
    "bmw9[bmw9.tipo_gasolina.isnull()]"
   ]
  },
  {
   "cell_type": "code",
   "execution_count": 1584,
   "metadata": {},
   "outputs": [
    {
     "data": {
      "text/html": [
       "<div>\n",
       "<style scoped>\n",
       "    .dataframe tbody tr th:only-of-type {\n",
       "        vertical-align: middle;\n",
       "    }\n",
       "\n",
       "    .dataframe tbody tr th {\n",
       "        vertical-align: top;\n",
       "    }\n",
       "\n",
       "    .dataframe thead th {\n",
       "        text-align: right;\n",
       "    }\n",
       "</style>\n",
       "<table border=\"1\" class=\"dataframe\">\n",
       "  <thead>\n",
       "    <tr style=\"text-align: right;\">\n",
       "      <th></th>\n",
       "      <th>tipo_gasolina</th>\n",
       "      <th>modelo</th>\n",
       "      <th>potencia</th>\n",
       "      <th>tipo_coche</th>\n",
       "      <th>volante_regulable</th>\n",
       "      <th>aire_acondicionado</th>\n",
       "      <th>count</th>\n",
       "    </tr>\n",
       "  </thead>\n",
       "  <tbody>\n",
       "    <tr>\n",
       "      <th>0</th>\n",
       "      <td>diesel</td>\n",
       "      <td>320</td>\n",
       "      <td>135.0</td>\n",
       "      <td>estate</td>\n",
       "      <td>False</td>\n",
       "      <td>False</td>\n",
       "      <td>22</td>\n",
       "    </tr>\n",
       "  </tbody>\n",
       "</table>\n",
       "</div>"
      ],
      "text/plain": [
       "  tipo_gasolina modelo  potencia tipo_coche  volante_regulable  \\\n",
       "0        diesel    320     135.0     estate              False   \n",
       "\n",
       "   aire_acondicionado  count  \n",
       "0               False     22  "
      ]
     },
     "execution_count": 1584,
     "metadata": {},
     "output_type": "execute_result"
    }
   ],
   "source": [
    "#Evaluamos el modelo 320 (indice 185) para ver si podemos imputar el tipo_gasolina\n",
    "bmw9[['tipo_gasolina','modelo','potencia','tipo_coche','volante_regulable','aire_acondicionado']][(bmw9['modelo']=='320')&(bmw9['potencia']==135)&(bmw9['tipo_coche']=='estate')&(bmw9['volante_regulable']==False)&(bmw9['aire_acondicionado']==False)].value_counts().reset_index()"
   ]
  },
  {
   "cell_type": "code",
   "execution_count": 1585,
   "metadata": {},
   "outputs": [
    {
     "name": "stderr",
     "output_type": "stream",
     "text": [
      "C:\\Users\\toniv\\AppData\\Roaming\\Python\\Python312\\site-packages\\IPython\\core\\displayhook.py:281: UserWarning: Output cache limit (currently 1000 entries) hit.\n",
      "Flushing oldest 200 entries.\n",
      "  warn('Output cache limit (currently {sz} entries) hit.\\n'\n"
     ]
    },
    {
     "data": {
      "text/html": [
       "<div>\n",
       "<style scoped>\n",
       "    .dataframe tbody tr th:only-of-type {\n",
       "        vertical-align: middle;\n",
       "    }\n",
       "\n",
       "    .dataframe tbody tr th {\n",
       "        vertical-align: top;\n",
       "    }\n",
       "\n",
       "    .dataframe thead th {\n",
       "        text-align: right;\n",
       "    }\n",
       "</style>\n",
       "<table border=\"1\" class=\"dataframe\">\n",
       "  <thead>\n",
       "    <tr style=\"text-align: right;\">\n",
       "      <th></th>\n",
       "      <th>tipo_gasolina</th>\n",
       "    </tr>\n",
       "  </thead>\n",
       "  <tbody>\n",
       "    <tr>\n",
       "      <th>185</th>\n",
       "      <td>diesel</td>\n",
       "    </tr>\n",
       "  </tbody>\n",
       "</table>\n",
       "</div>"
      ],
      "text/plain": [
       "    tipo_gasolina\n",
       "185        diesel"
      ]
     },
     "execution_count": 1585,
     "metadata": {},
     "output_type": "execute_result"
    }
   ],
   "source": [
    "#Imputamos el valor 'diesel'\n",
    "bmw9.loc[[185],['tipo_gasolina']]='diesel'\n",
    "bmw9.loc[[185],['tipo_gasolina']]"
   ]
  },
  {
   "cell_type": "code",
   "execution_count": 1586,
   "metadata": {},
   "outputs": [
    {
     "data": {
      "text/html": [
       "<div>\n",
       "<style scoped>\n",
       "    .dataframe tbody tr th:only-of-type {\n",
       "        vertical-align: middle;\n",
       "    }\n",
       "\n",
       "    .dataframe tbody tr th {\n",
       "        vertical-align: top;\n",
       "    }\n",
       "\n",
       "    .dataframe thead th {\n",
       "        text-align: right;\n",
       "    }\n",
       "</style>\n",
       "<table border=\"1\" class=\"dataframe\">\n",
       "  <thead>\n",
       "    <tr style=\"text-align: right;\">\n",
       "      <th></th>\n",
       "      <th>modelo</th>\n",
       "      <th>km</th>\n",
       "      <th>potencia</th>\n",
       "      <th>tipo_gasolina</th>\n",
       "      <th>color</th>\n",
       "      <th>tipo_coche</th>\n",
       "      <th>volante_regulable</th>\n",
       "      <th>aire_acondicionado</th>\n",
       "      <th>camara_trasera</th>\n",
       "      <th>elevalunas_electrico</th>\n",
       "      <th>bluetooth</th>\n",
       "      <th>gps</th>\n",
       "      <th>alerta_lim_velocidad</th>\n",
       "      <th>precio</th>\n",
       "      <th>fecha_venta</th>\n",
       "    </tr>\n",
       "  </thead>\n",
       "  <tbody>\n",
       "    <tr>\n",
       "      <th>444</th>\n",
       "      <td>318</td>\n",
       "      <td>111622.0</td>\n",
       "      <td>100.0</td>\n",
       "      <td>NaN</td>\n",
       "      <td>black</td>\n",
       "      <td>estate</td>\n",
       "      <td>True</td>\n",
       "      <td>True</td>\n",
       "      <td>False</td>\n",
       "      <td>False</td>\n",
       "      <td>False</td>\n",
       "      <td>True</td>\n",
       "      <td>True</td>\n",
       "      <td>15400.0</td>\n",
       "      <td>2018-02-01</td>\n",
       "    </tr>\n",
       "    <tr>\n",
       "      <th>480</th>\n",
       "      <td>318</td>\n",
       "      <td>170350.0</td>\n",
       "      <td>105.0</td>\n",
       "      <td>NaN</td>\n",
       "      <td>white</td>\n",
       "      <td>otros</td>\n",
       "      <td>False</td>\n",
       "      <td>True</td>\n",
       "      <td>False</td>\n",
       "      <td>False</td>\n",
       "      <td>False</td>\n",
       "      <td>True</td>\n",
       "      <td>False</td>\n",
       "      <td>10200.0</td>\n",
       "      <td>2018-02-01</td>\n",
       "    </tr>\n",
       "    <tr>\n",
       "      <th>630</th>\n",
       "      <td>318</td>\n",
       "      <td>147558.0</td>\n",
       "      <td>105.0</td>\n",
       "      <td>NaN</td>\n",
       "      <td>white</td>\n",
       "      <td>estate</td>\n",
       "      <td>False</td>\n",
       "      <td>sin_info</td>\n",
       "      <td>False</td>\n",
       "      <td>False</td>\n",
       "      <td>False</td>\n",
       "      <td>False</td>\n",
       "      <td>True</td>\n",
       "      <td>100.0</td>\n",
       "      <td>2018-03-01</td>\n",
       "    </tr>\n",
       "  </tbody>\n",
       "</table>\n",
       "</div>"
      ],
      "text/plain": [
       "    modelo        km  potencia tipo_gasolina  color tipo_coche  \\\n",
       "444    318  111622.0     100.0           NaN  black     estate   \n",
       "480    318  170350.0     105.0           NaN  white      otros   \n",
       "630    318  147558.0     105.0           NaN  white     estate   \n",
       "\n",
       "    volante_regulable aire_acondicionado camara_trasera elevalunas_electrico  \\\n",
       "444              True               True          False                False   \n",
       "480             False               True          False                False   \n",
       "630             False           sin_info          False                False   \n",
       "\n",
       "    bluetooth    gps alerta_lim_velocidad   precio fecha_venta  \n",
       "444     False   True                 True  15400.0  2018-02-01  \n",
       "480     False   True                False  10200.0  2018-02-01  \n",
       "630     False  False                 True    100.0  2018-03-01  "
      ]
     },
     "execution_count": 1586,
     "metadata": {},
     "output_type": "execute_result"
    }
   ],
   "source": [
    "bmw9[bmw9.tipo_gasolina.isnull()]"
   ]
  },
  {
   "cell_type": "code",
   "execution_count": 1587,
   "metadata": {},
   "outputs": [
    {
     "data": {
      "text/html": [
       "<div>\n",
       "<style scoped>\n",
       "    .dataframe tbody tr th:only-of-type {\n",
       "        vertical-align: middle;\n",
       "    }\n",
       "\n",
       "    .dataframe tbody tr th {\n",
       "        vertical-align: top;\n",
       "    }\n",
       "\n",
       "    .dataframe thead th {\n",
       "        text-align: right;\n",
       "    }\n",
       "</style>\n",
       "<table border=\"1\" class=\"dataframe\">\n",
       "  <thead>\n",
       "    <tr style=\"text-align: right;\">\n",
       "      <th></th>\n",
       "      <th>tipo_gasolina</th>\n",
       "      <th>modelo</th>\n",
       "      <th>potencia</th>\n",
       "      <th>tipo_coche</th>\n",
       "      <th>volante_regulable</th>\n",
       "      <th>aire_acondicionado</th>\n",
       "      <th>camara_trasera</th>\n",
       "      <th>elevalunas_electrico</th>\n",
       "      <th>bluetooth</th>\n",
       "      <th>alerta_lim_velocidad</th>\n",
       "      <th>proportion</th>\n",
       "    </tr>\n",
       "  </thead>\n",
       "  <tbody>\n",
       "    <tr>\n",
       "      <th>0</th>\n",
       "      <td>diesel</td>\n",
       "      <td>318</td>\n",
       "      <td>100.0</td>\n",
       "      <td>estate</td>\n",
       "      <td>True</td>\n",
       "      <td>True</td>\n",
       "      <td>False</td>\n",
       "      <td>False</td>\n",
       "      <td>False</td>\n",
       "      <td>True</td>\n",
       "      <td>0.857143</td>\n",
       "    </tr>\n",
       "    <tr>\n",
       "      <th>1</th>\n",
       "      <td>petrol</td>\n",
       "      <td>318</td>\n",
       "      <td>100.0</td>\n",
       "      <td>estate</td>\n",
       "      <td>True</td>\n",
       "      <td>True</td>\n",
       "      <td>False</td>\n",
       "      <td>False</td>\n",
       "      <td>False</td>\n",
       "      <td>True</td>\n",
       "      <td>0.142857</td>\n",
       "    </tr>\n",
       "  </tbody>\n",
       "</table>\n",
       "</div>"
      ],
      "text/plain": [
       "  tipo_gasolina modelo  potencia tipo_coche  volante_regulable  \\\n",
       "0        diesel    318     100.0     estate               True   \n",
       "1        petrol    318     100.0     estate               True   \n",
       "\n",
       "   aire_acondicionado  camara_trasera  elevalunas_electrico  bluetooth  \\\n",
       "0                True           False                 False      False   \n",
       "1                True           False                 False      False   \n",
       "\n",
       "   alerta_lim_velocidad  proportion  \n",
       "0                  True    0.857143  \n",
       "1                  True    0.142857  "
      ]
     },
     "execution_count": 1587,
     "metadata": {},
     "output_type": "execute_result"
    }
   ],
   "source": [
    "#Evaluamos el modelo 318 (indice 444) para ver si podemos imputar el tipo_gasolina\n",
    "bmw9[['tipo_gasolina','modelo','potencia','tipo_coche','volante_regulable','aire_acondicionado','camara_trasera','elevalunas_electrico','bluetooth','alerta_lim_velocidad']][(bmw9['modelo']=='318')&(bmw9['potencia']==100)&(bmw9['tipo_coche']=='estate')&(bmw9['volante_regulable']==True)&(bmw9['aire_acondicionado']==True)&(bmw9['camara_trasera']==False)&(bmw9['elevalunas_electrico']==False)&(bmw9['bluetooth']==False)&(bmw9['alerta_lim_velocidad']==True)].value_counts(normalize=True).reset_index()"
   ]
  },
  {
   "cell_type": "code",
   "execution_count": 1588,
   "metadata": {},
   "outputs": [
    {
     "data": {
      "text/html": [
       "<div>\n",
       "<style scoped>\n",
       "    .dataframe tbody tr th:only-of-type {\n",
       "        vertical-align: middle;\n",
       "    }\n",
       "\n",
       "    .dataframe tbody tr th {\n",
       "        vertical-align: top;\n",
       "    }\n",
       "\n",
       "    .dataframe thead th {\n",
       "        text-align: right;\n",
       "    }\n",
       "</style>\n",
       "<table border=\"1\" class=\"dataframe\">\n",
       "  <thead>\n",
       "    <tr style=\"text-align: right;\">\n",
       "      <th></th>\n",
       "      <th>tipo_gasolina</th>\n",
       "    </tr>\n",
       "  </thead>\n",
       "  <tbody>\n",
       "    <tr>\n",
       "      <th>444</th>\n",
       "      <td>diesel</td>\n",
       "    </tr>\n",
       "  </tbody>\n",
       "</table>\n",
       "</div>"
      ],
      "text/plain": [
       "    tipo_gasolina\n",
       "444        diesel"
      ]
     },
     "execution_count": 1588,
     "metadata": {},
     "output_type": "execute_result"
    }
   ],
   "source": [
    "#Imputamos el valor 'diesel'\n",
    "bmw9.loc[[444],['tipo_gasolina']]='diesel'\n",
    "bmw9.loc[[444],['tipo_gasolina']]"
   ]
  },
  {
   "cell_type": "code",
   "execution_count": 1589,
   "metadata": {},
   "outputs": [
    {
     "data": {
      "text/html": [
       "<div>\n",
       "<style scoped>\n",
       "    .dataframe tbody tr th:only-of-type {\n",
       "        vertical-align: middle;\n",
       "    }\n",
       "\n",
       "    .dataframe tbody tr th {\n",
       "        vertical-align: top;\n",
       "    }\n",
       "\n",
       "    .dataframe thead th {\n",
       "        text-align: right;\n",
       "    }\n",
       "</style>\n",
       "<table border=\"1\" class=\"dataframe\">\n",
       "  <thead>\n",
       "    <tr style=\"text-align: right;\">\n",
       "      <th></th>\n",
       "      <th>modelo</th>\n",
       "      <th>km</th>\n",
       "      <th>potencia</th>\n",
       "      <th>tipo_gasolina</th>\n",
       "      <th>color</th>\n",
       "      <th>tipo_coche</th>\n",
       "      <th>volante_regulable</th>\n",
       "      <th>aire_acondicionado</th>\n",
       "      <th>camara_trasera</th>\n",
       "      <th>elevalunas_electrico</th>\n",
       "      <th>bluetooth</th>\n",
       "      <th>gps</th>\n",
       "      <th>alerta_lim_velocidad</th>\n",
       "      <th>precio</th>\n",
       "      <th>fecha_venta</th>\n",
       "    </tr>\n",
       "  </thead>\n",
       "  <tbody>\n",
       "    <tr>\n",
       "      <th>480</th>\n",
       "      <td>318</td>\n",
       "      <td>170350.0</td>\n",
       "      <td>105.0</td>\n",
       "      <td>NaN</td>\n",
       "      <td>white</td>\n",
       "      <td>otros</td>\n",
       "      <td>False</td>\n",
       "      <td>True</td>\n",
       "      <td>False</td>\n",
       "      <td>False</td>\n",
       "      <td>False</td>\n",
       "      <td>True</td>\n",
       "      <td>False</td>\n",
       "      <td>10200.0</td>\n",
       "      <td>2018-02-01</td>\n",
       "    </tr>\n",
       "    <tr>\n",
       "      <th>630</th>\n",
       "      <td>318</td>\n",
       "      <td>147558.0</td>\n",
       "      <td>105.0</td>\n",
       "      <td>NaN</td>\n",
       "      <td>white</td>\n",
       "      <td>estate</td>\n",
       "      <td>False</td>\n",
       "      <td>sin_info</td>\n",
       "      <td>False</td>\n",
       "      <td>False</td>\n",
       "      <td>False</td>\n",
       "      <td>False</td>\n",
       "      <td>True</td>\n",
       "      <td>100.0</td>\n",
       "      <td>2018-03-01</td>\n",
       "    </tr>\n",
       "  </tbody>\n",
       "</table>\n",
       "</div>"
      ],
      "text/plain": [
       "    modelo        km  potencia tipo_gasolina  color tipo_coche  \\\n",
       "480    318  170350.0     105.0           NaN  white      otros   \n",
       "630    318  147558.0     105.0           NaN  white     estate   \n",
       "\n",
       "    volante_regulable aire_acondicionado camara_trasera elevalunas_electrico  \\\n",
       "480             False               True          False                False   \n",
       "630             False           sin_info          False                False   \n",
       "\n",
       "    bluetooth    gps alerta_lim_velocidad   precio fecha_venta  \n",
       "480     False   True                False  10200.0  2018-02-01  \n",
       "630     False  False                 True    100.0  2018-03-01  "
      ]
     },
     "execution_count": 1589,
     "metadata": {},
     "output_type": "execute_result"
    }
   ],
   "source": [
    "bmw9[bmw9.tipo_gasolina.isnull()]"
   ]
  },
  {
   "cell_type": "code",
   "execution_count": 1590,
   "metadata": {},
   "outputs": [
    {
     "data": {
      "text/html": [
       "<div>\n",
       "<style scoped>\n",
       "    .dataframe tbody tr th:only-of-type {\n",
       "        vertical-align: middle;\n",
       "    }\n",
       "\n",
       "    .dataframe tbody tr th {\n",
       "        vertical-align: top;\n",
       "    }\n",
       "\n",
       "    .dataframe thead th {\n",
       "        text-align: right;\n",
       "    }\n",
       "</style>\n",
       "<table border=\"1\" class=\"dataframe\">\n",
       "  <thead>\n",
       "    <tr style=\"text-align: right;\">\n",
       "      <th></th>\n",
       "      <th>tipo_gasolina</th>\n",
       "      <th>modelo</th>\n",
       "      <th>potencia</th>\n",
       "      <th>tipo_coche</th>\n",
       "      <th>volante_regulable</th>\n",
       "      <th>aire_acondicionado</th>\n",
       "      <th>camara_trasera</th>\n",
       "      <th>elevalunas_electrico</th>\n",
       "      <th>bluetooth</th>\n",
       "      <th>alerta_lim_velocidad</th>\n",
       "      <th>proportion</th>\n",
       "    </tr>\n",
       "  </thead>\n",
       "  <tbody>\n",
       "    <tr>\n",
       "      <th>0</th>\n",
       "      <td>diesel</td>\n",
       "      <td>318</td>\n",
       "      <td>105.0</td>\n",
       "      <td>estate</td>\n",
       "      <td>False</td>\n",
       "      <td>True</td>\n",
       "      <td>False</td>\n",
       "      <td>False</td>\n",
       "      <td>False</td>\n",
       "      <td>False</td>\n",
       "      <td>0.6</td>\n",
       "    </tr>\n",
       "    <tr>\n",
       "      <th>1</th>\n",
       "      <td>diesel</td>\n",
       "      <td>318</td>\n",
       "      <td>105.0</td>\n",
       "      <td>otros</td>\n",
       "      <td>False</td>\n",
       "      <td>True</td>\n",
       "      <td>False</td>\n",
       "      <td>False</td>\n",
       "      <td>False</td>\n",
       "      <td>False</td>\n",
       "      <td>0.2</td>\n",
       "    </tr>\n",
       "    <tr>\n",
       "      <th>2</th>\n",
       "      <td>diesel</td>\n",
       "      <td>318</td>\n",
       "      <td>105.0</td>\n",
       "      <td>sedan</td>\n",
       "      <td>False</td>\n",
       "      <td>True</td>\n",
       "      <td>False</td>\n",
       "      <td>False</td>\n",
       "      <td>False</td>\n",
       "      <td>False</td>\n",
       "      <td>0.2</td>\n",
       "    </tr>\n",
       "  </tbody>\n",
       "</table>\n",
       "</div>"
      ],
      "text/plain": [
       "  tipo_gasolina modelo  potencia tipo_coche  volante_regulable  \\\n",
       "0        diesel    318     105.0     estate              False   \n",
       "1        diesel    318     105.0      otros              False   \n",
       "2        diesel    318     105.0      sedan              False   \n",
       "\n",
       "   aire_acondicionado  camara_trasera  elevalunas_electrico  bluetooth  \\\n",
       "0                True           False                 False      False   \n",
       "1                True           False                 False      False   \n",
       "2                True           False                 False      False   \n",
       "\n",
       "   alerta_lim_velocidad  proportion  \n",
       "0                 False         0.6  \n",
       "1                 False         0.2  \n",
       "2                 False         0.2  "
      ]
     },
     "execution_count": 1590,
     "metadata": {},
     "output_type": "execute_result"
    }
   ],
   "source": [
    "#Evaluamos el modelo 318 (indice 480) para ver si podemos imputar el tipo_gasolina\n",
    "bmw9[['tipo_gasolina','modelo','potencia','tipo_coche','volante_regulable','aire_acondicionado','camara_trasera','elevalunas_electrico','bluetooth','alerta_lim_velocidad']][(bmw9['modelo']=='318')&(bmw9['potencia']==105)&(bmw9['volante_regulable']==False)&(bmw9['aire_acondicionado']==True)&(bmw9['camara_trasera']==False)&(bmw9['elevalunas_electrico']==False)&(bmw9['bluetooth']==False)&(bmw9['alerta_lim_velocidad']==False)].value_counts(normalize=True).reset_index()"
   ]
  },
  {
   "cell_type": "code",
   "execution_count": 1591,
   "metadata": {},
   "outputs": [
    {
     "data": {
      "text/html": [
       "<div>\n",
       "<style scoped>\n",
       "    .dataframe tbody tr th:only-of-type {\n",
       "        vertical-align: middle;\n",
       "    }\n",
       "\n",
       "    .dataframe tbody tr th {\n",
       "        vertical-align: top;\n",
       "    }\n",
       "\n",
       "    .dataframe thead th {\n",
       "        text-align: right;\n",
       "    }\n",
       "</style>\n",
       "<table border=\"1\" class=\"dataframe\">\n",
       "  <thead>\n",
       "    <tr style=\"text-align: right;\">\n",
       "      <th></th>\n",
       "      <th>tipo_gasolina</th>\n",
       "    </tr>\n",
       "  </thead>\n",
       "  <tbody>\n",
       "    <tr>\n",
       "      <th>480</th>\n",
       "      <td>diesel</td>\n",
       "    </tr>\n",
       "  </tbody>\n",
       "</table>\n",
       "</div>"
      ],
      "text/plain": [
       "    tipo_gasolina\n",
       "480        diesel"
      ]
     },
     "execution_count": 1591,
     "metadata": {},
     "output_type": "execute_result"
    }
   ],
   "source": [
    "#Imputamos el valor 'diesel'\n",
    "bmw9.loc[[480],['tipo_gasolina']]='diesel'\n",
    "bmw9.loc[[480],['tipo_gasolina']]"
   ]
  },
  {
   "cell_type": "code",
   "execution_count": 1592,
   "metadata": {},
   "outputs": [
    {
     "data": {
      "text/html": [
       "<div>\n",
       "<style scoped>\n",
       "    .dataframe tbody tr th:only-of-type {\n",
       "        vertical-align: middle;\n",
       "    }\n",
       "\n",
       "    .dataframe tbody tr th {\n",
       "        vertical-align: top;\n",
       "    }\n",
       "\n",
       "    .dataframe thead th {\n",
       "        text-align: right;\n",
       "    }\n",
       "</style>\n",
       "<table border=\"1\" class=\"dataframe\">\n",
       "  <thead>\n",
       "    <tr style=\"text-align: right;\">\n",
       "      <th></th>\n",
       "      <th>modelo</th>\n",
       "      <th>km</th>\n",
       "      <th>potencia</th>\n",
       "      <th>tipo_gasolina</th>\n",
       "      <th>color</th>\n",
       "      <th>tipo_coche</th>\n",
       "      <th>volante_regulable</th>\n",
       "      <th>aire_acondicionado</th>\n",
       "      <th>camara_trasera</th>\n",
       "      <th>elevalunas_electrico</th>\n",
       "      <th>bluetooth</th>\n",
       "      <th>gps</th>\n",
       "      <th>alerta_lim_velocidad</th>\n",
       "      <th>precio</th>\n",
       "      <th>fecha_venta</th>\n",
       "    </tr>\n",
       "  </thead>\n",
       "  <tbody>\n",
       "    <tr>\n",
       "      <th>630</th>\n",
       "      <td>318</td>\n",
       "      <td>147558.0</td>\n",
       "      <td>105.0</td>\n",
       "      <td>NaN</td>\n",
       "      <td>white</td>\n",
       "      <td>estate</td>\n",
       "      <td>False</td>\n",
       "      <td>sin_info</td>\n",
       "      <td>False</td>\n",
       "      <td>False</td>\n",
       "      <td>False</td>\n",
       "      <td>False</td>\n",
       "      <td>True</td>\n",
       "      <td>100.0</td>\n",
       "      <td>2018-03-01</td>\n",
       "    </tr>\n",
       "  </tbody>\n",
       "</table>\n",
       "</div>"
      ],
      "text/plain": [
       "    modelo        km  potencia tipo_gasolina  color tipo_coche  \\\n",
       "630    318  147558.0     105.0           NaN  white     estate   \n",
       "\n",
       "    volante_regulable aire_acondicionado camara_trasera elevalunas_electrico  \\\n",
       "630             False           sin_info          False                False   \n",
       "\n",
       "    bluetooth    gps alerta_lim_velocidad  precio fecha_venta  \n",
       "630     False  False                 True   100.0  2018-03-01  "
      ]
     },
     "execution_count": 1592,
     "metadata": {},
     "output_type": "execute_result"
    }
   ],
   "source": [
    "bmw9[bmw9.tipo_gasolina.isnull()]"
   ]
  },
  {
   "cell_type": "code",
   "execution_count": 1593,
   "metadata": {},
   "outputs": [
    {
     "data": {
      "text/html": [
       "<div>\n",
       "<style scoped>\n",
       "    .dataframe tbody tr th:only-of-type {\n",
       "        vertical-align: middle;\n",
       "    }\n",
       "\n",
       "    .dataframe tbody tr th {\n",
       "        vertical-align: top;\n",
       "    }\n",
       "\n",
       "    .dataframe thead th {\n",
       "        text-align: right;\n",
       "    }\n",
       "</style>\n",
       "<table border=\"1\" class=\"dataframe\">\n",
       "  <thead>\n",
       "    <tr style=\"text-align: right;\">\n",
       "      <th></th>\n",
       "      <th>tipo_gasolina</th>\n",
       "      <th>modelo</th>\n",
       "      <th>potencia</th>\n",
       "      <th>tipo_coche</th>\n",
       "      <th>volante_regulable</th>\n",
       "      <th>aire_acondicionado</th>\n",
       "      <th>camara_trasera</th>\n",
       "      <th>elevalunas_electrico</th>\n",
       "      <th>bluetooth</th>\n",
       "      <th>alerta_lim_velocidad</th>\n",
       "      <th>gps</th>\n",
       "      <th>proportion</th>\n",
       "    </tr>\n",
       "  </thead>\n",
       "  <tbody>\n",
       "    <tr>\n",
       "      <th>0</th>\n",
       "      <td>diesel</td>\n",
       "      <td>318</td>\n",
       "      <td>105.0</td>\n",
       "      <td>estate</td>\n",
       "      <td>False</td>\n",
       "      <td>False</td>\n",
       "      <td>False</td>\n",
       "      <td>False</td>\n",
       "      <td>False</td>\n",
       "      <td>True</td>\n",
       "      <td>False</td>\n",
       "      <td>0.50</td>\n",
       "    </tr>\n",
       "    <tr>\n",
       "      <th>1</th>\n",
       "      <td>diesel</td>\n",
       "      <td>318</td>\n",
       "      <td>105.0</td>\n",
       "      <td>estate</td>\n",
       "      <td>False</td>\n",
       "      <td>True</td>\n",
       "      <td>False</td>\n",
       "      <td>False</td>\n",
       "      <td>False</td>\n",
       "      <td>True</td>\n",
       "      <td>False</td>\n",
       "      <td>0.25</td>\n",
       "    </tr>\n",
       "    <tr>\n",
       "      <th>2</th>\n",
       "      <td>diesel</td>\n",
       "      <td>318</td>\n",
       "      <td>105.0</td>\n",
       "      <td>estate</td>\n",
       "      <td>False</td>\n",
       "      <td>sin_info</td>\n",
       "      <td>False</td>\n",
       "      <td>False</td>\n",
       "      <td>False</td>\n",
       "      <td>True</td>\n",
       "      <td>False</td>\n",
       "      <td>0.25</td>\n",
       "    </tr>\n",
       "  </tbody>\n",
       "</table>\n",
       "</div>"
      ],
      "text/plain": [
       "  tipo_gasolina modelo  potencia tipo_coche  volante_regulable  \\\n",
       "0        diesel    318     105.0     estate              False   \n",
       "1        diesel    318     105.0     estate              False   \n",
       "2        diesel    318     105.0     estate              False   \n",
       "\n",
       "  aire_acondicionado  camara_trasera  elevalunas_electrico  bluetooth  \\\n",
       "0              False           False                 False      False   \n",
       "1               True           False                 False      False   \n",
       "2           sin_info           False                 False      False   \n",
       "\n",
       "   alerta_lim_velocidad    gps  proportion  \n",
       "0                  True  False        0.50  \n",
       "1                  True  False        0.25  \n",
       "2                  True  False        0.25  "
      ]
     },
     "execution_count": 1593,
     "metadata": {},
     "output_type": "execute_result"
    }
   ],
   "source": [
    "#Evaluamos el modelo 318 (indice 630) para ver si podemos imputar el tipo_gasolina\n",
    "bmw9[['tipo_gasolina','modelo','potencia','tipo_coche','volante_regulable','aire_acondicionado','camara_trasera','elevalunas_electrico','bluetooth','alerta_lim_velocidad','gps']][(bmw9['modelo']=='318')&(bmw9['potencia']==105)&(bmw9['tipo_coche']=='estate')&(bmw9['volante_regulable']==False)&(bmw9['camara_trasera']==False)&(bmw9['elevalunas_electrico']==False)&(bmw9['bluetooth']==False)&(bmw9['alerta_lim_velocidad']==True)&(bmw9['gps']==False)].value_counts(normalize=True).reset_index()"
   ]
  },
  {
   "cell_type": "code",
   "execution_count": 1594,
   "metadata": {},
   "outputs": [
    {
     "data": {
      "text/html": [
       "<div>\n",
       "<style scoped>\n",
       "    .dataframe tbody tr th:only-of-type {\n",
       "        vertical-align: middle;\n",
       "    }\n",
       "\n",
       "    .dataframe tbody tr th {\n",
       "        vertical-align: top;\n",
       "    }\n",
       "\n",
       "    .dataframe thead th {\n",
       "        text-align: right;\n",
       "    }\n",
       "</style>\n",
       "<table border=\"1\" class=\"dataframe\">\n",
       "  <thead>\n",
       "    <tr style=\"text-align: right;\">\n",
       "      <th></th>\n",
       "      <th>tipo_gasolina</th>\n",
       "    </tr>\n",
       "  </thead>\n",
       "  <tbody>\n",
       "    <tr>\n",
       "      <th>630</th>\n",
       "      <td>diesel</td>\n",
       "    </tr>\n",
       "  </tbody>\n",
       "</table>\n",
       "</div>"
      ],
      "text/plain": [
       "    tipo_gasolina\n",
       "630        diesel"
      ]
     },
     "execution_count": 1594,
     "metadata": {},
     "output_type": "execute_result"
    }
   ],
   "source": [
    "#Imputamos el valor 'diesel'\n",
    "bmw9.loc[[630],['tipo_gasolina']]='diesel'\n",
    "bmw9.loc[[630],['tipo_gasolina']]"
   ]
  },
  {
   "cell_type": "code",
   "execution_count": 1595,
   "metadata": {},
   "outputs": [
    {
     "data": {
      "text/html": [
       "<div>\n",
       "<style scoped>\n",
       "    .dataframe tbody tr th:only-of-type {\n",
       "        vertical-align: middle;\n",
       "    }\n",
       "\n",
       "    .dataframe tbody tr th {\n",
       "        vertical-align: top;\n",
       "    }\n",
       "\n",
       "    .dataframe thead th {\n",
       "        text-align: right;\n",
       "    }\n",
       "</style>\n",
       "<table border=\"1\" class=\"dataframe\">\n",
       "  <thead>\n",
       "    <tr style=\"text-align: right;\">\n",
       "      <th></th>\n",
       "      <th>modelo</th>\n",
       "      <th>km</th>\n",
       "      <th>potencia</th>\n",
       "      <th>tipo_gasolina</th>\n",
       "      <th>color</th>\n",
       "      <th>tipo_coche</th>\n",
       "      <th>volante_regulable</th>\n",
       "      <th>aire_acondicionado</th>\n",
       "      <th>camara_trasera</th>\n",
       "      <th>elevalunas_electrico</th>\n",
       "      <th>bluetooth</th>\n",
       "      <th>gps</th>\n",
       "      <th>alerta_lim_velocidad</th>\n",
       "      <th>precio</th>\n",
       "      <th>fecha_venta</th>\n",
       "    </tr>\n",
       "  </thead>\n",
       "  <tbody>\n",
       "  </tbody>\n",
       "</table>\n",
       "</div>"
      ],
      "text/plain": [
       "Empty DataFrame\n",
       "Columns: [modelo, km, potencia, tipo_gasolina, color, tipo_coche, volante_regulable, aire_acondicionado, camara_trasera, elevalunas_electrico, bluetooth, gps, alerta_lim_velocidad, precio, fecha_venta]\n",
       "Index: []"
      ]
     },
     "execution_count": 1595,
     "metadata": {},
     "output_type": "execute_result"
    }
   ],
   "source": [
    "bmw9[bmw9.tipo_gasolina.isnull()]"
   ]
  },
  {
   "cell_type": "code",
   "execution_count": 1596,
   "metadata": {},
   "outputs": [
    {
     "data": {
      "text/plain": [
       "modelo                  0\n",
       "km                      0\n",
       "potencia                0\n",
       "tipo_gasolina           0\n",
       "color                   0\n",
       "tipo_coche              0\n",
       "volante_regulable       4\n",
       "aire_acondicionado      0\n",
       "camara_trasera          2\n",
       "elevalunas_electrico    2\n",
       "bluetooth               0\n",
       "gps                     0\n",
       "alerta_lim_velocidad    0\n",
       "precio                  6\n",
       "fecha_venta             1\n",
       "dtype: int64"
      ]
     },
     "execution_count": 1596,
     "metadata": {},
     "output_type": "execute_result"
    }
   ],
   "source": [
    "bmw9.isna().sum()"
   ]
  },
  {
   "cell_type": "markdown",
   "metadata": {},
   "source": [
    "    3.9.5.- VOLANTE_REGULABLE"
   ]
  },
  {
   "cell_type": "code",
   "execution_count": 1597,
   "metadata": {},
   "outputs": [
    {
     "data": {
      "text/html": [
       "<div>\n",
       "<style scoped>\n",
       "    .dataframe tbody tr th:only-of-type {\n",
       "        vertical-align: middle;\n",
       "    }\n",
       "\n",
       "    .dataframe tbody tr th {\n",
       "        vertical-align: top;\n",
       "    }\n",
       "\n",
       "    .dataframe thead th {\n",
       "        text-align: right;\n",
       "    }\n",
       "</style>\n",
       "<table border=\"1\" class=\"dataframe\">\n",
       "  <thead>\n",
       "    <tr style=\"text-align: right;\">\n",
       "      <th></th>\n",
       "      <th>modelo</th>\n",
       "      <th>km</th>\n",
       "      <th>potencia</th>\n",
       "      <th>tipo_gasolina</th>\n",
       "      <th>color</th>\n",
       "      <th>tipo_coche</th>\n",
       "      <th>volante_regulable</th>\n",
       "      <th>aire_acondicionado</th>\n",
       "      <th>camara_trasera</th>\n",
       "      <th>elevalunas_electrico</th>\n",
       "      <th>bluetooth</th>\n",
       "      <th>gps</th>\n",
       "      <th>alerta_lim_velocidad</th>\n",
       "      <th>precio</th>\n",
       "      <th>fecha_venta</th>\n",
       "    </tr>\n",
       "  </thead>\n",
       "  <tbody>\n",
       "    <tr>\n",
       "      <th>66</th>\n",
       "      <td>320</td>\n",
       "      <td>93066.0</td>\n",
       "      <td>135.0</td>\n",
       "      <td>diesel</td>\n",
       "      <td>black</td>\n",
       "      <td>coupe</td>\n",
       "      <td>NaN</td>\n",
       "      <td>False</td>\n",
       "      <td>False</td>\n",
       "      <td>True</td>\n",
       "      <td>False</td>\n",
       "      <td>True</td>\n",
       "      <td>sin_info</td>\n",
       "      <td>11900.0</td>\n",
       "      <td>2018-06-01</td>\n",
       "    </tr>\n",
       "    <tr>\n",
       "      <th>273</th>\n",
       "      <td>318</td>\n",
       "      <td>195032.0</td>\n",
       "      <td>100.0</td>\n",
       "      <td>diesel</td>\n",
       "      <td>grey</td>\n",
       "      <td>otros</td>\n",
       "      <td>NaN</td>\n",
       "      <td>sin_info</td>\n",
       "      <td>False</td>\n",
       "      <td>False</td>\n",
       "      <td>False</td>\n",
       "      <td>True</td>\n",
       "      <td>False</td>\n",
       "      <td>4900.0</td>\n",
       "      <td>2018-01-01</td>\n",
       "    </tr>\n",
       "    <tr>\n",
       "      <th>489</th>\n",
       "      <td>320</td>\n",
       "      <td>227691.0</td>\n",
       "      <td>135.0</td>\n",
       "      <td>diesel</td>\n",
       "      <td>black</td>\n",
       "      <td>otros</td>\n",
       "      <td>NaN</td>\n",
       "      <td>True</td>\n",
       "      <td>False</td>\n",
       "      <td>False</td>\n",
       "      <td>True</td>\n",
       "      <td>True</td>\n",
       "      <td>False</td>\n",
       "      <td>10500.0</td>\n",
       "      <td>2018-02-01</td>\n",
       "    </tr>\n",
       "    <tr>\n",
       "      <th>614</th>\n",
       "      <td>318</td>\n",
       "      <td>201626.0</td>\n",
       "      <td>105.0</td>\n",
       "      <td>diesel</td>\n",
       "      <td>black</td>\n",
       "      <td>otros</td>\n",
       "      <td>NaN</td>\n",
       "      <td>sin_info</td>\n",
       "      <td>False</td>\n",
       "      <td>True</td>\n",
       "      <td>False</td>\n",
       "      <td>True</td>\n",
       "      <td>True</td>\n",
       "      <td>11700.0</td>\n",
       "      <td>2018-03-01</td>\n",
       "    </tr>\n",
       "  </tbody>\n",
       "</table>\n",
       "</div>"
      ],
      "text/plain": [
       "    modelo        km  potencia tipo_gasolina  color tipo_coche  \\\n",
       "66     320   93066.0     135.0        diesel  black      coupe   \n",
       "273    318  195032.0     100.0        diesel   grey      otros   \n",
       "489    320  227691.0     135.0        diesel  black      otros   \n",
       "614    318  201626.0     105.0        diesel  black      otros   \n",
       "\n",
       "    volante_regulable aire_acondicionado camara_trasera elevalunas_electrico  \\\n",
       "66                NaN              False          False                 True   \n",
       "273               NaN           sin_info          False                False   \n",
       "489               NaN               True          False                False   \n",
       "614               NaN           sin_info          False                 True   \n",
       "\n",
       "    bluetooth   gps alerta_lim_velocidad   precio fecha_venta  \n",
       "66      False  True             sin_info  11900.0  2018-06-01  \n",
       "273     False  True                False   4900.0  2018-01-01  \n",
       "489      True  True                False  10500.0  2018-02-01  \n",
       "614     False  True                 True  11700.0  2018-03-01  "
      ]
     },
     "execution_count": 1597,
     "metadata": {},
     "output_type": "execute_result"
    }
   ],
   "source": [
    "bmw9[bmw9['volante_regulable'].isna()]"
   ]
  },
  {
   "cell_type": "code",
   "execution_count": 1598,
   "metadata": {},
   "outputs": [
    {
     "data": {
      "text/html": [
       "<div>\n",
       "<style scoped>\n",
       "    .dataframe tbody tr th:only-of-type {\n",
       "        vertical-align: middle;\n",
       "    }\n",
       "\n",
       "    .dataframe tbody tr th {\n",
       "        vertical-align: top;\n",
       "    }\n",
       "\n",
       "    .dataframe thead th {\n",
       "        text-align: right;\n",
       "    }\n",
       "</style>\n",
       "<table border=\"1\" class=\"dataframe\">\n",
       "  <thead>\n",
       "    <tr style=\"text-align: right;\">\n",
       "      <th></th>\n",
       "      <th>volante_regulable</th>\n",
       "      <th>tipo_gasolina</th>\n",
       "      <th>modelo</th>\n",
       "      <th>potencia</th>\n",
       "      <th>tipo_coche</th>\n",
       "      <th>camara_trasera</th>\n",
       "      <th>elevalunas_electrico</th>\n",
       "      <th>bluetooth</th>\n",
       "      <th>alerta_lim_velocidad</th>\n",
       "      <th>gps</th>\n",
       "      <th>proportion</th>\n",
       "    </tr>\n",
       "  </thead>\n",
       "  <tbody>\n",
       "  </tbody>\n",
       "</table>\n",
       "</div>"
      ],
      "text/plain": [
       "Empty DataFrame\n",
       "Columns: [volante_regulable, tipo_gasolina, modelo, potencia, tipo_coche, camara_trasera, elevalunas_electrico, bluetooth, alerta_lim_velocidad, gps, proportion]\n",
       "Index: []"
      ]
     },
     "execution_count": 1598,
     "metadata": {},
     "output_type": "execute_result"
    }
   ],
   "source": [
    "#Evaluamos el modelo 320 (indice 66) para ver si podemos imputar el volante_regulable\n",
    "bmw9[['volante_regulable','tipo_gasolina','modelo','potencia','tipo_coche','camara_trasera','elevalunas_electrico','bluetooth','alerta_lim_velocidad','gps']][(bmw9['modelo']=='320')&(bmw9['potencia']==135)&(bmw9['tipo_gasolina']=='diesel')&(bmw9['tipo_coche']=='coupe')&(bmw9['camara_trasera']==False)&(bmw9['elevalunas_electrico']==False)&(bmw9['bluetooth']==False)&(bmw9['gps']==True)].value_counts(normalize=True).reset_index()"
   ]
  },
  {
   "cell_type": "code",
   "execution_count": 1599,
   "metadata": {},
   "outputs": [],
   "source": [
    "#Los eliminamos\n",
    "bmw9.dropna(subset='volante_regulable',inplace=True)"
   ]
  },
  {
   "cell_type": "code",
   "execution_count": 1600,
   "metadata": {},
   "outputs": [
    {
     "data": {
      "text/html": [
       "<div>\n",
       "<style scoped>\n",
       "    .dataframe tbody tr th:only-of-type {\n",
       "        vertical-align: middle;\n",
       "    }\n",
       "\n",
       "    .dataframe tbody tr th {\n",
       "        vertical-align: top;\n",
       "    }\n",
       "\n",
       "    .dataframe thead th {\n",
       "        text-align: right;\n",
       "    }\n",
       "</style>\n",
       "<table border=\"1\" class=\"dataframe\">\n",
       "  <thead>\n",
       "    <tr style=\"text-align: right;\">\n",
       "      <th></th>\n",
       "      <th>modelo</th>\n",
       "      <th>km</th>\n",
       "      <th>potencia</th>\n",
       "      <th>tipo_gasolina</th>\n",
       "      <th>color</th>\n",
       "      <th>tipo_coche</th>\n",
       "      <th>volante_regulable</th>\n",
       "      <th>aire_acondicionado</th>\n",
       "      <th>camara_trasera</th>\n",
       "      <th>elevalunas_electrico</th>\n",
       "      <th>bluetooth</th>\n",
       "      <th>gps</th>\n",
       "      <th>alerta_lim_velocidad</th>\n",
       "      <th>precio</th>\n",
       "      <th>fecha_venta</th>\n",
       "    </tr>\n",
       "  </thead>\n",
       "  <tbody>\n",
       "  </tbody>\n",
       "</table>\n",
       "</div>"
      ],
      "text/plain": [
       "Empty DataFrame\n",
       "Columns: [modelo, km, potencia, tipo_gasolina, color, tipo_coche, volante_regulable, aire_acondicionado, camara_trasera, elevalunas_electrico, bluetooth, gps, alerta_lim_velocidad, precio, fecha_venta]\n",
       "Index: []"
      ]
     },
     "execution_count": 1600,
     "metadata": {},
     "output_type": "execute_result"
    }
   ],
   "source": [
    "bmw9[bmw9['volante_regulable'].isna()]"
   ]
  },
  {
   "cell_type": "code",
   "execution_count": 1601,
   "metadata": {},
   "outputs": [
    {
     "data": {
      "text/plain": [
       "modelo                  0\n",
       "km                      0\n",
       "potencia                0\n",
       "tipo_gasolina           0\n",
       "color                   0\n",
       "tipo_coche              0\n",
       "volante_regulable       0\n",
       "aire_acondicionado      0\n",
       "camara_trasera          2\n",
       "elevalunas_electrico    2\n",
       "bluetooth               0\n",
       "gps                     0\n",
       "alerta_lim_velocidad    0\n",
       "precio                  6\n",
       "fecha_venta             1\n",
       "dtype: int64"
      ]
     },
     "execution_count": 1601,
     "metadata": {},
     "output_type": "execute_result"
    }
   ],
   "source": [
    "bmw9.isnull().sum()"
   ]
  },
  {
   "cell_type": "markdown",
   "metadata": {},
   "source": [
    "    3.9.6.- CAMARA_TRASERA"
   ]
  },
  {
   "cell_type": "code",
   "execution_count": 1602,
   "metadata": {},
   "outputs": [
    {
     "data": {
      "text/html": [
       "<div>\n",
       "<style scoped>\n",
       "    .dataframe tbody tr th:only-of-type {\n",
       "        vertical-align: middle;\n",
       "    }\n",
       "\n",
       "    .dataframe tbody tr th {\n",
       "        vertical-align: top;\n",
       "    }\n",
       "\n",
       "    .dataframe thead th {\n",
       "        text-align: right;\n",
       "    }\n",
       "</style>\n",
       "<table border=\"1\" class=\"dataframe\">\n",
       "  <thead>\n",
       "    <tr style=\"text-align: right;\">\n",
       "      <th></th>\n",
       "      <th>modelo</th>\n",
       "      <th>km</th>\n",
       "      <th>potencia</th>\n",
       "      <th>tipo_gasolina</th>\n",
       "      <th>color</th>\n",
       "      <th>tipo_coche</th>\n",
       "      <th>volante_regulable</th>\n",
       "      <th>aire_acondicionado</th>\n",
       "      <th>camara_trasera</th>\n",
       "      <th>elevalunas_electrico</th>\n",
       "      <th>bluetooth</th>\n",
       "      <th>gps</th>\n",
       "      <th>alerta_lim_velocidad</th>\n",
       "      <th>precio</th>\n",
       "      <th>fecha_venta</th>\n",
       "    </tr>\n",
       "  </thead>\n",
       "  <tbody>\n",
       "    <tr>\n",
       "      <th>291</th>\n",
       "      <td>520</td>\n",
       "      <td>163675.0</td>\n",
       "      <td>135.0</td>\n",
       "      <td>diesel</td>\n",
       "      <td>otros</td>\n",
       "      <td>estate</td>\n",
       "      <td>True</td>\n",
       "      <td>True</td>\n",
       "      <td>NaN</td>\n",
       "      <td>True</td>\n",
       "      <td>sin_info</td>\n",
       "      <td>True</td>\n",
       "      <td>True</td>\n",
       "      <td>14900.0</td>\n",
       "      <td>2018-01-01</td>\n",
       "    </tr>\n",
       "    <tr>\n",
       "      <th>409</th>\n",
       "      <td>316</td>\n",
       "      <td>160619.0</td>\n",
       "      <td>85.0</td>\n",
       "      <td>diesel</td>\n",
       "      <td>black</td>\n",
       "      <td>estate</td>\n",
       "      <td>False</td>\n",
       "      <td>True</td>\n",
       "      <td>NaN</td>\n",
       "      <td>True</td>\n",
       "      <td>sin_info</td>\n",
       "      <td>True</td>\n",
       "      <td>sin_info</td>\n",
       "      <td>11700.0</td>\n",
       "      <td>2018-04-01</td>\n",
       "    </tr>\n",
       "  </tbody>\n",
       "</table>\n",
       "</div>"
      ],
      "text/plain": [
       "    modelo        km  potencia tipo_gasolina  color tipo_coche  \\\n",
       "291    520  163675.0     135.0        diesel  otros     estate   \n",
       "409    316  160619.0      85.0        diesel  black     estate   \n",
       "\n",
       "    volante_regulable aire_acondicionado camara_trasera elevalunas_electrico  \\\n",
       "291              True               True            NaN                 True   \n",
       "409             False               True            NaN                 True   \n",
       "\n",
       "    bluetooth   gps alerta_lim_velocidad   precio fecha_venta  \n",
       "291  sin_info  True                 True  14900.0  2018-01-01  \n",
       "409  sin_info  True             sin_info  11700.0  2018-04-01  "
      ]
     },
     "execution_count": 1602,
     "metadata": {},
     "output_type": "execute_result"
    }
   ],
   "source": [
    "bmw9[bmw9['camara_trasera'].isna()]"
   ]
  },
  {
   "cell_type": "code",
   "execution_count": 1603,
   "metadata": {},
   "outputs": [
    {
     "data": {
      "text/plain": [
       "camara_trasera  modelo  potencia  tipo_gasolina  tipo_coche\n",
       "False           520     135.0     diesel         estate        0.709677\n",
       "True            520     135.0     diesel         estate        0.290323\n",
       "Name: proportion, dtype: float64"
      ]
     },
     "execution_count": 1603,
     "metadata": {},
     "output_type": "execute_result"
    }
   ],
   "source": [
    "#Evaluamos el modelo 520 (indice 291) para ver si podemos imputar la camara_trasera\n",
    "bmw9[['camara_trasera','modelo', 'potencia','tipo_gasolina','tipo_coche']][(bmw9['modelo']=='520')&(bmw9['potencia']==135)&(bmw9['tipo_gasolina']=='diesel')&(bmw9['tipo_coche']=='estate')].value_counts(normalize=True)"
   ]
  },
  {
   "cell_type": "code",
   "execution_count": 1604,
   "metadata": {},
   "outputs": [
    {
     "data": {
      "text/plain": [
       "False"
      ]
     },
     "execution_count": 1604,
     "metadata": {},
     "output_type": "execute_result"
    }
   ],
   "source": [
    "#Imputamos el valro False\n",
    "bmw9.loc[[291],['camara_trasera']]=False\n",
    "bmw9.loc[291]['camara_trasera']"
   ]
  },
  {
   "cell_type": "code",
   "execution_count": 1605,
   "metadata": {},
   "outputs": [
    {
     "data": {
      "text/html": [
       "<div>\n",
       "<style scoped>\n",
       "    .dataframe tbody tr th:only-of-type {\n",
       "        vertical-align: middle;\n",
       "    }\n",
       "\n",
       "    .dataframe tbody tr th {\n",
       "        vertical-align: top;\n",
       "    }\n",
       "\n",
       "    .dataframe thead th {\n",
       "        text-align: right;\n",
       "    }\n",
       "</style>\n",
       "<table border=\"1\" class=\"dataframe\">\n",
       "  <thead>\n",
       "    <tr style=\"text-align: right;\">\n",
       "      <th></th>\n",
       "      <th>modelo</th>\n",
       "      <th>km</th>\n",
       "      <th>potencia</th>\n",
       "      <th>tipo_gasolina</th>\n",
       "      <th>color</th>\n",
       "      <th>tipo_coche</th>\n",
       "      <th>volante_regulable</th>\n",
       "      <th>aire_acondicionado</th>\n",
       "      <th>camara_trasera</th>\n",
       "      <th>elevalunas_electrico</th>\n",
       "      <th>bluetooth</th>\n",
       "      <th>gps</th>\n",
       "      <th>alerta_lim_velocidad</th>\n",
       "      <th>precio</th>\n",
       "      <th>fecha_venta</th>\n",
       "    </tr>\n",
       "  </thead>\n",
       "  <tbody>\n",
       "    <tr>\n",
       "      <th>409</th>\n",
       "      <td>316</td>\n",
       "      <td>160619.0</td>\n",
       "      <td>85.0</td>\n",
       "      <td>diesel</td>\n",
       "      <td>black</td>\n",
       "      <td>estate</td>\n",
       "      <td>False</td>\n",
       "      <td>True</td>\n",
       "      <td>NaN</td>\n",
       "      <td>True</td>\n",
       "      <td>sin_info</td>\n",
       "      <td>True</td>\n",
       "      <td>sin_info</td>\n",
       "      <td>11700.0</td>\n",
       "      <td>2018-04-01</td>\n",
       "    </tr>\n",
       "  </tbody>\n",
       "</table>\n",
       "</div>"
      ],
      "text/plain": [
       "    modelo        km  potencia tipo_gasolina  color tipo_coche  \\\n",
       "409    316  160619.0      85.0        diesel  black     estate   \n",
       "\n",
       "    volante_regulable aire_acondicionado camara_trasera elevalunas_electrico  \\\n",
       "409             False               True            NaN                 True   \n",
       "\n",
       "    bluetooth   gps alerta_lim_velocidad   precio fecha_venta  \n",
       "409  sin_info  True             sin_info  11700.0  2018-04-01  "
      ]
     },
     "execution_count": 1605,
     "metadata": {},
     "output_type": "execute_result"
    }
   ],
   "source": [
    "bmw9[bmw9['camara_trasera'].isna()]"
   ]
  },
  {
   "cell_type": "code",
   "execution_count": 1606,
   "metadata": {},
   "outputs": [
    {
     "data": {
      "text/plain": [
       "camara_trasera  modelo  potencia  tipo_gasolina  tipo_coche\n",
       "False           316     85.0      diesel         estate        0.948718\n",
       "True            316     85.0      diesel         estate        0.051282\n",
       "Name: proportion, dtype: float64"
      ]
     },
     "execution_count": 1606,
     "metadata": {},
     "output_type": "execute_result"
    }
   ],
   "source": [
    "#Evaluamos el modelo 316 (indice 409) para ver si podemos imputar la camara_trasera\n",
    "bmw9[['camara_trasera','modelo', 'potencia','tipo_gasolina','tipo_coche']][(bmw9['modelo']=='316')&(bmw9['potencia']==85)&(bmw9['tipo_gasolina']=='diesel')&(bmw9['tipo_coche']=='estate')].value_counts(normalize=True)"
   ]
  },
  {
   "cell_type": "code",
   "execution_count": 1607,
   "metadata": {},
   "outputs": [
    {
     "data": {
      "text/plain": [
       "False"
      ]
     },
     "execution_count": 1607,
     "metadata": {},
     "output_type": "execute_result"
    }
   ],
   "source": [
    "#Imputamos el valro False\n",
    "bmw9.loc[[409],['camara_trasera']]=False\n",
    "bmw9.loc[409]['camara_trasera']"
   ]
  },
  {
   "cell_type": "code",
   "execution_count": 1608,
   "metadata": {},
   "outputs": [
    {
     "data": {
      "text/plain": [
       "modelo                  0\n",
       "km                      0\n",
       "potencia                0\n",
       "tipo_gasolina           0\n",
       "color                   0\n",
       "tipo_coche              0\n",
       "volante_regulable       0\n",
       "aire_acondicionado      0\n",
       "camara_trasera          0\n",
       "elevalunas_electrico    2\n",
       "bluetooth               0\n",
       "gps                     0\n",
       "alerta_lim_velocidad    0\n",
       "precio                  6\n",
       "fecha_venta             1\n",
       "dtype: int64"
      ]
     },
     "execution_count": 1608,
     "metadata": {},
     "output_type": "execute_result"
    }
   ],
   "source": [
    "bmw9.isnull().sum()"
   ]
  },
  {
   "cell_type": "markdown",
   "metadata": {},
   "source": [
    "    3.9.7.- ELEVALUNAS_ELECTRICO"
   ]
  },
  {
   "cell_type": "code",
   "execution_count": 1609,
   "metadata": {},
   "outputs": [
    {
     "data": {
      "text/html": [
       "<div>\n",
       "<style scoped>\n",
       "    .dataframe tbody tr th:only-of-type {\n",
       "        vertical-align: middle;\n",
       "    }\n",
       "\n",
       "    .dataframe tbody tr th {\n",
       "        vertical-align: top;\n",
       "    }\n",
       "\n",
       "    .dataframe thead th {\n",
       "        text-align: right;\n",
       "    }\n",
       "</style>\n",
       "<table border=\"1\" class=\"dataframe\">\n",
       "  <thead>\n",
       "    <tr style=\"text-align: right;\">\n",
       "      <th></th>\n",
       "      <th>modelo</th>\n",
       "      <th>km</th>\n",
       "      <th>potencia</th>\n",
       "      <th>tipo_gasolina</th>\n",
       "      <th>color</th>\n",
       "      <th>tipo_coche</th>\n",
       "      <th>volante_regulable</th>\n",
       "      <th>aire_acondicionado</th>\n",
       "      <th>camara_trasera</th>\n",
       "      <th>elevalunas_electrico</th>\n",
       "      <th>bluetooth</th>\n",
       "      <th>gps</th>\n",
       "      <th>alerta_lim_velocidad</th>\n",
       "      <th>precio</th>\n",
       "      <th>fecha_venta</th>\n",
       "    </tr>\n",
       "  </thead>\n",
       "  <tbody>\n",
       "    <tr>\n",
       "      <th>63</th>\n",
       "      <td>640</td>\n",
       "      <td>69695.0</td>\n",
       "      <td>230.0</td>\n",
       "      <td>diesel</td>\n",
       "      <td>otros</td>\n",
       "      <td>coupe</td>\n",
       "      <td>True</td>\n",
       "      <td>True</td>\n",
       "      <td>False</td>\n",
       "      <td>NaN</td>\n",
       "      <td>True</td>\n",
       "      <td>True</td>\n",
       "      <td>True</td>\n",
       "      <td>36300.0</td>\n",
       "      <td>2018-02-01</td>\n",
       "    </tr>\n",
       "    <tr>\n",
       "      <th>305</th>\n",
       "      <td>535</td>\n",
       "      <td>148738.0</td>\n",
       "      <td>230.0</td>\n",
       "      <td>diesel</td>\n",
       "      <td>grey</td>\n",
       "      <td>estate</td>\n",
       "      <td>True</td>\n",
       "      <td>True</td>\n",
       "      <td>True</td>\n",
       "      <td>NaN</td>\n",
       "      <td>False</td>\n",
       "      <td>True</td>\n",
       "      <td>True</td>\n",
       "      <td>28800.0</td>\n",
       "      <td>2018-01-01</td>\n",
       "    </tr>\n",
       "  </tbody>\n",
       "</table>\n",
       "</div>"
      ],
      "text/plain": [
       "    modelo        km  potencia tipo_gasolina  color tipo_coche  \\\n",
       "63     640   69695.0     230.0        diesel  otros      coupe   \n",
       "305    535  148738.0     230.0        diesel   grey     estate   \n",
       "\n",
       "    volante_regulable aire_acondicionado camara_trasera elevalunas_electrico  \\\n",
       "63               True               True          False                  NaN   \n",
       "305              True               True           True                  NaN   \n",
       "\n",
       "    bluetooth   gps alerta_lim_velocidad   precio fecha_venta  \n",
       "63       True  True                 True  36300.0  2018-02-01  \n",
       "305     False  True                 True  28800.0  2018-01-01  "
      ]
     },
     "execution_count": 1609,
     "metadata": {},
     "output_type": "execute_result"
    }
   ],
   "source": [
    "bmw9[bmw9['elevalunas_electrico'].isnull()]"
   ]
  },
  {
   "cell_type": "code",
   "execution_count": 1610,
   "metadata": {},
   "outputs": [
    {
     "data": {
      "text/plain": [
       "elevalunas_electrico  modelo  potencia  tipo_gasolina  tipo_coche\n",
       "True                  640     230.0     diesel         coupe         1.0\n",
       "Name: proportion, dtype: float64"
      ]
     },
     "execution_count": 1610,
     "metadata": {},
     "output_type": "execute_result"
    }
   ],
   "source": [
    "#Evaluamos el modelo 640 (indice 63) para ver si podemos imputar los elevalunas_electricos\n",
    "bmw9[['elevalunas_electrico','modelo','potencia','tipo_gasolina','tipo_coche']][(bmw9['modelo']=='640')&(bmw9['potencia']==230)&(bmw9['tipo_gasolina']=='diesel')&(bmw9['tipo_coche']=='coupe')].value_counts(normalize=True)"
   ]
  },
  {
   "cell_type": "code",
   "execution_count": 1611,
   "metadata": {},
   "outputs": [
    {
     "data": {
      "text/plain": [
       "True"
      ]
     },
     "execution_count": 1611,
     "metadata": {},
     "output_type": "execute_result"
    }
   ],
   "source": [
    "#imputamos el valor True\n",
    "bmw9.loc[[63],['elevalunas_electrico']]=True\n",
    "bmw9.loc[63]['elevalunas_electrico']"
   ]
  },
  {
   "cell_type": "code",
   "execution_count": 1612,
   "metadata": {},
   "outputs": [
    {
     "data": {
      "text/html": [
       "<div>\n",
       "<style scoped>\n",
       "    .dataframe tbody tr th:only-of-type {\n",
       "        vertical-align: middle;\n",
       "    }\n",
       "\n",
       "    .dataframe tbody tr th {\n",
       "        vertical-align: top;\n",
       "    }\n",
       "\n",
       "    .dataframe thead th {\n",
       "        text-align: right;\n",
       "    }\n",
       "</style>\n",
       "<table border=\"1\" class=\"dataframe\">\n",
       "  <thead>\n",
       "    <tr style=\"text-align: right;\">\n",
       "      <th></th>\n",
       "      <th>modelo</th>\n",
       "      <th>km</th>\n",
       "      <th>potencia</th>\n",
       "      <th>tipo_gasolina</th>\n",
       "      <th>color</th>\n",
       "      <th>tipo_coche</th>\n",
       "      <th>volante_regulable</th>\n",
       "      <th>aire_acondicionado</th>\n",
       "      <th>camara_trasera</th>\n",
       "      <th>elevalunas_electrico</th>\n",
       "      <th>bluetooth</th>\n",
       "      <th>gps</th>\n",
       "      <th>alerta_lim_velocidad</th>\n",
       "      <th>precio</th>\n",
       "      <th>fecha_venta</th>\n",
       "    </tr>\n",
       "  </thead>\n",
       "  <tbody>\n",
       "    <tr>\n",
       "      <th>305</th>\n",
       "      <td>535</td>\n",
       "      <td>148738.0</td>\n",
       "      <td>230.0</td>\n",
       "      <td>diesel</td>\n",
       "      <td>grey</td>\n",
       "      <td>estate</td>\n",
       "      <td>True</td>\n",
       "      <td>True</td>\n",
       "      <td>True</td>\n",
       "      <td>NaN</td>\n",
       "      <td>False</td>\n",
       "      <td>True</td>\n",
       "      <td>True</td>\n",
       "      <td>28800.0</td>\n",
       "      <td>2018-01-01</td>\n",
       "    </tr>\n",
       "  </tbody>\n",
       "</table>\n",
       "</div>"
      ],
      "text/plain": [
       "    modelo        km  potencia tipo_gasolina color tipo_coche  \\\n",
       "305    535  148738.0     230.0        diesel  grey     estate   \n",
       "\n",
       "    volante_regulable aire_acondicionado camara_trasera elevalunas_electrico  \\\n",
       "305              True               True           True                  NaN   \n",
       "\n",
       "    bluetooth   gps alerta_lim_velocidad   precio fecha_venta  \n",
       "305     False  True                 True  28800.0  2018-01-01  "
      ]
     },
     "execution_count": 1612,
     "metadata": {},
     "output_type": "execute_result"
    }
   ],
   "source": [
    "bmw9[bmw9['elevalunas_electrico'].isnull()]"
   ]
  },
  {
   "cell_type": "code",
   "execution_count": 1613,
   "metadata": {},
   "outputs": [
    {
     "data": {
      "text/plain": [
       "elevalunas_electrico  modelo  potencia  tipo_gasolina  tipo_coche\n",
       "True                  535     230.0     diesel         estate        0.9\n",
       "False                 535     230.0     diesel         estate        0.1\n",
       "Name: proportion, dtype: float64"
      ]
     },
     "execution_count": 1613,
     "metadata": {},
     "output_type": "execute_result"
    }
   ],
   "source": [
    "#Evaluamos el modelo 535 (indice 305) para ver si podemos imputar los elevalunas_electricos\n",
    "bmw9[['elevalunas_electrico','modelo','potencia','tipo_gasolina','tipo_coche']][(bmw9['modelo']=='535')&(bmw9['potencia']==230)&(bmw9['tipo_gasolina']=='diesel')&(bmw9['tipo_coche']=='estate')].value_counts(normalize=True)"
   ]
  },
  {
   "cell_type": "code",
   "execution_count": 1614,
   "metadata": {},
   "outputs": [
    {
     "data": {
      "text/plain": [
       "True"
      ]
     },
     "execution_count": 1614,
     "metadata": {},
     "output_type": "execute_result"
    }
   ],
   "source": [
    "#imputamos el valor True\n",
    "bmw9.loc[[305],['elevalunas_electrico']]=True\n",
    "bmw9.loc[305]['elevalunas_electrico']"
   ]
  },
  {
   "cell_type": "code",
   "execution_count": 1615,
   "metadata": {},
   "outputs": [
    {
     "data": {
      "text/html": [
       "<div>\n",
       "<style scoped>\n",
       "    .dataframe tbody tr th:only-of-type {\n",
       "        vertical-align: middle;\n",
       "    }\n",
       "\n",
       "    .dataframe tbody tr th {\n",
       "        vertical-align: top;\n",
       "    }\n",
       "\n",
       "    .dataframe thead th {\n",
       "        text-align: right;\n",
       "    }\n",
       "</style>\n",
       "<table border=\"1\" class=\"dataframe\">\n",
       "  <thead>\n",
       "    <tr style=\"text-align: right;\">\n",
       "      <th></th>\n",
       "      <th>modelo</th>\n",
       "      <th>km</th>\n",
       "      <th>potencia</th>\n",
       "      <th>tipo_gasolina</th>\n",
       "      <th>color</th>\n",
       "      <th>tipo_coche</th>\n",
       "      <th>volante_regulable</th>\n",
       "      <th>aire_acondicionado</th>\n",
       "      <th>camara_trasera</th>\n",
       "      <th>elevalunas_electrico</th>\n",
       "      <th>bluetooth</th>\n",
       "      <th>gps</th>\n",
       "      <th>alerta_lim_velocidad</th>\n",
       "      <th>precio</th>\n",
       "      <th>fecha_venta</th>\n",
       "    </tr>\n",
       "  </thead>\n",
       "  <tbody>\n",
       "  </tbody>\n",
       "</table>\n",
       "</div>"
      ],
      "text/plain": [
       "Empty DataFrame\n",
       "Columns: [modelo, km, potencia, tipo_gasolina, color, tipo_coche, volante_regulable, aire_acondicionado, camara_trasera, elevalunas_electrico, bluetooth, gps, alerta_lim_velocidad, precio, fecha_venta]\n",
       "Index: []"
      ]
     },
     "execution_count": 1615,
     "metadata": {},
     "output_type": "execute_result"
    }
   ],
   "source": [
    "bmw9[bmw9['elevalunas_electrico'].isnull()]"
   ]
  },
  {
   "cell_type": "code",
   "execution_count": 1616,
   "metadata": {},
   "outputs": [
    {
     "data": {
      "text/plain": [
       "modelo                  0\n",
       "km                      0\n",
       "potencia                0\n",
       "tipo_gasolina           0\n",
       "color                   0\n",
       "tipo_coche              0\n",
       "volante_regulable       0\n",
       "aire_acondicionado      0\n",
       "camara_trasera          0\n",
       "elevalunas_electrico    0\n",
       "bluetooth               0\n",
       "gps                     0\n",
       "alerta_lim_velocidad    0\n",
       "precio                  6\n",
       "fecha_venta             1\n",
       "dtype: int64"
      ]
     },
     "execution_count": 1616,
     "metadata": {},
     "output_type": "execute_result"
    }
   ],
   "source": [
    "bmw9.isnull().sum()"
   ]
  },
  {
   "cell_type": "markdown",
   "metadata": {},
   "source": [
    "    3.9.8.- PRECIO"
   ]
  },
  {
   "cell_type": "markdown",
   "metadata": {},
   "source": [
    "Precio es la variable TARGET a predecir. Eliminamos los nulos d precio directamente."
   ]
  },
  {
   "cell_type": "code",
   "execution_count": 1617,
   "metadata": {},
   "outputs": [],
   "source": [
    "bmw9.dropna(subset='precio',inplace=True)"
   ]
  },
  {
   "cell_type": "code",
   "execution_count": 1618,
   "metadata": {},
   "outputs": [
    {
     "data": {
      "text/plain": [
       "modelo                  0\n",
       "km                      0\n",
       "potencia                0\n",
       "tipo_gasolina           0\n",
       "color                   0\n",
       "tipo_coche              0\n",
       "volante_regulable       0\n",
       "aire_acondicionado      0\n",
       "camara_trasera          0\n",
       "elevalunas_electrico    0\n",
       "bluetooth               0\n",
       "gps                     0\n",
       "alerta_lim_velocidad    0\n",
       "precio                  0\n",
       "fecha_venta             1\n",
       "dtype: int64"
      ]
     },
     "execution_count": 1618,
     "metadata": {},
     "output_type": "execute_result"
    }
   ],
   "source": [
    "bmw9.isnull().sum()"
   ]
  },
  {
   "cell_type": "markdown",
   "metadata": {},
   "source": [
    "    3.9.9.- FECHA_VENTA"
   ]
  },
  {
   "cell_type": "markdown",
   "metadata": {},
   "source": [
    "No hay forma de saber la fecha de venta de un coche. Eliminamos el nulo directamente."
   ]
  },
  {
   "cell_type": "code",
   "execution_count": 1619,
   "metadata": {},
   "outputs": [],
   "source": [
    "bmw9.dropna(subset='fecha_venta',inplace=True)"
   ]
  },
  {
   "cell_type": "code",
   "execution_count": 1620,
   "metadata": {},
   "outputs": [
    {
     "data": {
      "text/plain": [
       "modelo                  0\n",
       "km                      0\n",
       "potencia                0\n",
       "tipo_gasolina           0\n",
       "color                   0\n",
       "tipo_coche              0\n",
       "volante_regulable       0\n",
       "aire_acondicionado      0\n",
       "camara_trasera          0\n",
       "elevalunas_electrico    0\n",
       "bluetooth               0\n",
       "gps                     0\n",
       "alerta_lim_velocidad    0\n",
       "precio                  0\n",
       "fecha_venta             0\n",
       "dtype: int64"
      ]
     },
     "execution_count": 1620,
     "metadata": {},
     "output_type": "execute_result"
    }
   ],
   "source": [
    "bmw9.isnull().sum()"
   ]
  },
  {
   "cell_type": "markdown",
   "metadata": {},
   "source": [
    "Reseteamos el indice del DataFrame ya que hemos eliminado varios elementos. De esta forma no quedarán huecos vacíos de indices."
   ]
  },
  {
   "cell_type": "code",
   "execution_count": 1621,
   "metadata": {},
   "outputs": [],
   "source": [
    "bmw10=bmw9.copy()"
   ]
  },
  {
   "cell_type": "code",
   "execution_count": 1622,
   "metadata": {},
   "outputs": [],
   "source": [
    "bmw10.reset_index(drop=True,inplace=True)"
   ]
  },
  {
   "cell_type": "code",
   "execution_count": 1623,
   "metadata": {},
   "outputs": [
    {
     "data": {
      "text/plain": [
       "modelo                  0\n",
       "km                      0\n",
       "potencia                0\n",
       "tipo_gasolina           0\n",
       "color                   0\n",
       "tipo_coche              0\n",
       "volante_regulable       0\n",
       "aire_acondicionado      0\n",
       "camara_trasera          0\n",
       "elevalunas_electrico    0\n",
       "bluetooth               0\n",
       "gps                     0\n",
       "alerta_lim_velocidad    0\n",
       "precio                  0\n",
       "fecha_venta             0\n",
       "dtype: int64"
      ]
     },
     "execution_count": 1623,
     "metadata": {},
     "output_type": "execute_result"
    }
   ],
   "source": [
    "bmw10.isnull().sum()"
   ]
  },
  {
   "cell_type": "markdown",
   "metadata": {},
   "source": [
    "### 4.- Analisis Univariable"
   ]
  },
  {
   "cell_type": "code",
   "execution_count": 1624,
   "metadata": {},
   "outputs": [
    {
     "name": "stdout",
     "output_type": "stream",
     "text": [
      "<class 'pandas.core.frame.DataFrame'>\n",
      "RangeIndex: 4829 entries, 0 to 4828\n",
      "Data columns (total 15 columns):\n",
      " #   Column                Non-Null Count  Dtype  \n",
      "---  ------                --------------  -----  \n",
      " 0   modelo                4829 non-null   object \n",
      " 1   km                    4829 non-null   float64\n",
      " 2   potencia              4829 non-null   float64\n",
      " 3   tipo_gasolina         4829 non-null   object \n",
      " 4   color                 4829 non-null   object \n",
      " 5   tipo_coche            4829 non-null   object \n",
      " 6   volante_regulable     4829 non-null   object \n",
      " 7   aire_acondicionado    4829 non-null   object \n",
      " 8   camara_trasera        4829 non-null   object \n",
      " 9   elevalunas_electrico  4829 non-null   object \n",
      " 10  bluetooth             4829 non-null   object \n",
      " 11  gps                   4829 non-null   bool   \n",
      " 12  alerta_lim_velocidad  4829 non-null   object \n",
      " 13  precio                4829 non-null   float64\n",
      " 14  fecha_venta           4829 non-null   object \n",
      "dtypes: bool(1), float64(3), object(11)\n",
      "memory usage: 533.0+ KB\n"
     ]
    }
   ],
   "source": [
    "bmw10.info()"
   ]
  },
  {
   "cell_type": "markdown",
   "metadata": {},
   "source": [
    "- 4.1.- Evaluamos si hay variables que se puedan convertir a boleanas"
   ]
  },
  {
   "cell_type": "code",
   "execution_count": 1625,
   "metadata": {},
   "outputs": [
    {
     "data": {
      "text/plain": [
       "array([True, False], dtype=object)"
      ]
     },
     "execution_count": 1625,
     "metadata": {},
     "output_type": "execute_result"
    }
   ],
   "source": [
    "bmw10['volante_regulable'].unique()\n",
    "#Sólo tiene 2 valores (True/False). Puede convertirse a boleana."
   ]
  },
  {
   "cell_type": "code",
   "execution_count": 1626,
   "metadata": {},
   "outputs": [],
   "source": [
    "#Convertimos a boleana\n",
    "bmw10['volante_regulable']=bmw10['volante_regulable'].astype(bool)"
   ]
  },
  {
   "cell_type": "code",
   "execution_count": 1627,
   "metadata": {},
   "outputs": [
    {
     "data": {
      "text/plain": [
       "array([True, False, 'sin_info'], dtype=object)"
      ]
     },
     "execution_count": 1627,
     "metadata": {},
     "output_type": "execute_result"
    }
   ],
   "source": [
    "bmw10['aire_acondicionado'].unique()\n",
    "#Tiene 3 valores, NO puede convertirse a boleana"
   ]
  },
  {
   "cell_type": "code",
   "execution_count": 1628,
   "metadata": {},
   "outputs": [
    {
     "data": {
      "text/plain": [
       "array([False, True], dtype=object)"
      ]
     },
     "execution_count": 1628,
     "metadata": {},
     "output_type": "execute_result"
    }
   ],
   "source": [
    "bmw10['camara_trasera'].unique()\n",
    "#Sólo tiene 2 valores (True/False). Puede convertirse a boleana."
   ]
  },
  {
   "cell_type": "code",
   "execution_count": 1629,
   "metadata": {},
   "outputs": [],
   "source": [
    "#Convertimos a boleana\n",
    "bmw10['camara_trasera']=bmw10['camara_trasera'].astype(bool)"
   ]
  },
  {
   "cell_type": "code",
   "execution_count": 1630,
   "metadata": {},
   "outputs": [
    {
     "data": {
      "text/plain": [
       "array([True, False], dtype=object)"
      ]
     },
     "execution_count": 1630,
     "metadata": {},
     "output_type": "execute_result"
    }
   ],
   "source": [
    "bmw10['elevalunas_electrico'].unique()\n",
    "#Sólo tiene 2 valores (True/False). Puede convertirse a boleana."
   ]
  },
  {
   "cell_type": "code",
   "execution_count": 1631,
   "metadata": {},
   "outputs": [],
   "source": [
    "#Convertimos a boleana\n",
    "bmw10['elevalunas_electrico']=bmw10['elevalunas_electrico'].astype(bool)"
   ]
  },
  {
   "cell_type": "code",
   "execution_count": 1632,
   "metadata": {},
   "outputs": [
    {
     "data": {
      "text/plain": [
       "array(['sin_info', True, False], dtype=object)"
      ]
     },
     "execution_count": 1632,
     "metadata": {},
     "output_type": "execute_result"
    }
   ],
   "source": [
    "bmw10['bluetooth'].unique()\n",
    "#Tiene 3 valores, NO puede convertirse a boleana"
   ]
  },
  {
   "cell_type": "code",
   "execution_count": 1633,
   "metadata": {},
   "outputs": [
    {
     "data": {
      "text/plain": [
       "array(['sin_info', True, False], dtype=object)"
      ]
     },
     "execution_count": 1633,
     "metadata": {},
     "output_type": "execute_result"
    }
   ],
   "source": [
    "bmw10['alerta_lim_velocidad'].unique()\n",
    "#Tiene 3 valores, NO puede convertirse a boleana"
   ]
  },
  {
   "cell_type": "code",
   "execution_count": 1634,
   "metadata": {},
   "outputs": [
    {
     "name": "stdout",
     "output_type": "stream",
     "text": [
      "<class 'pandas.core.frame.DataFrame'>\n",
      "RangeIndex: 4829 entries, 0 to 4828\n",
      "Data columns (total 15 columns):\n",
      " #   Column                Non-Null Count  Dtype  \n",
      "---  ------                --------------  -----  \n",
      " 0   modelo                4829 non-null   object \n",
      " 1   km                    4829 non-null   float64\n",
      " 2   potencia              4829 non-null   float64\n",
      " 3   tipo_gasolina         4829 non-null   object \n",
      " 4   color                 4829 non-null   object \n",
      " 5   tipo_coche            4829 non-null   object \n",
      " 6   volante_regulable     4829 non-null   bool   \n",
      " 7   aire_acondicionado    4829 non-null   object \n",
      " 8   camara_trasera        4829 non-null   bool   \n",
      " 9   elevalunas_electrico  4829 non-null   bool   \n",
      " 10  bluetooth             4829 non-null   object \n",
      " 11  gps                   4829 non-null   bool   \n",
      " 12  alerta_lim_velocidad  4829 non-null   object \n",
      " 13  precio                4829 non-null   float64\n",
      " 14  fecha_venta           4829 non-null   object \n",
      "dtypes: bool(4), float64(3), object(8)\n",
      "memory usage: 434.0+ KB\n"
     ]
    }
   ],
   "source": [
    "bmw10.info()"
   ]
  },
  {
   "cell_type": "markdown",
   "metadata": {},
   "source": [
    "- 4.2.- Listamos las variables según si son numéricas, boleanas o categóricas y las evaluamos"
   ]
  },
  {
   "cell_type": "code",
   "execution_count": 1635,
   "metadata": {},
   "outputs": [],
   "source": [
    "target= [\"precio\"]\n",
    "def obtener_lista_variables(dataset):\n",
    "    lista_numericas=[]\n",
    "    lista_boolean=[]\n",
    "    lista_categoricas=[]\n",
    "    for i in dataset:\n",
    "        if    (dataset[i].dtype.kind==\"f\" or dataset[i].dtype.kind==\"i\") and len(dataset[i].unique())!= 2  and i not in target:\n",
    "              lista_numericas.append(i)\n",
    "        elif  (dataset[i].dtype.kind==\"f\" or dataset[i].dtype.kind==\"i\" or dataset[i].dtype.kind==\"b\")  and len(dataset[i].unique())== 2  and i not in target:\n",
    "              lista_boolean.append(i)\n",
    "        elif  (dataset[i].dtype.kind==\"O\")  and i not in target:\n",
    "              lista_categoricas.append(i)\n",
    "\n",
    "    return lista_numericas, lista_boolean, lista_categoricas"
   ]
  },
  {
   "cell_type": "code",
   "execution_count": 1636,
   "metadata": {},
   "outputs": [],
   "source": [
    "num,bol,cat=obtener_lista_variables(bmw10)"
   ]
  },
  {
   "cell_type": "code",
   "execution_count": 1637,
   "metadata": {},
   "outputs": [
    {
     "data": {
      "text/plain": [
       "['km', 'potencia']"
      ]
     },
     "execution_count": 1637,
     "metadata": {},
     "output_type": "execute_result"
    }
   ],
   "source": [
    "num"
   ]
  },
  {
   "cell_type": "code",
   "execution_count": 1638,
   "metadata": {},
   "outputs": [
    {
     "data": {
      "text/plain": [
       "['volante_regulable', 'camara_trasera', 'elevalunas_electrico', 'gps']"
      ]
     },
     "execution_count": 1638,
     "metadata": {},
     "output_type": "execute_result"
    }
   ],
   "source": [
    "bol"
   ]
  },
  {
   "cell_type": "code",
   "execution_count": 1639,
   "metadata": {},
   "outputs": [
    {
     "data": {
      "text/plain": [
       "['modelo',\n",
       " 'tipo_gasolina',\n",
       " 'color',\n",
       " 'tipo_coche',\n",
       " 'aire_acondicionado',\n",
       " 'bluetooth',\n",
       " 'alerta_lim_velocidad',\n",
       " 'fecha_venta']"
      ]
     },
     "execution_count": 1639,
     "metadata": {},
     "output_type": "execute_result"
    }
   ],
   "source": [
    "cat"
   ]
  },
  {
   "cell_type": "markdown",
   "metadata": {},
   "source": [
    "    - 4.2.1- Variables numéricas"
   ]
  },
  {
   "cell_type": "code",
   "execution_count": 1640,
   "metadata": {},
   "outputs": [
    {
     "data": {
      "text/html": [
       "<div>\n",
       "<style scoped>\n",
       "    .dataframe tbody tr th:only-of-type {\n",
       "        vertical-align: middle;\n",
       "    }\n",
       "\n",
       "    .dataframe tbody tr th {\n",
       "        vertical-align: top;\n",
       "    }\n",
       "\n",
       "    .dataframe thead th {\n",
       "        text-align: right;\n",
       "    }\n",
       "</style>\n",
       "<table border=\"1\" class=\"dataframe\">\n",
       "  <thead>\n",
       "    <tr style=\"text-align: right;\">\n",
       "      <th></th>\n",
       "      <th>km</th>\n",
       "      <th>potencia</th>\n",
       "    </tr>\n",
       "  </thead>\n",
       "  <tbody>\n",
       "    <tr>\n",
       "      <th>count</th>\n",
       "      <td>4.829000e+03</td>\n",
       "      <td>4829.000000</td>\n",
       "    </tr>\n",
       "    <tr>\n",
       "      <th>mean</th>\n",
       "      <td>1.409126e+05</td>\n",
       "      <td>129.001864</td>\n",
       "    </tr>\n",
       "    <tr>\n",
       "      <th>std</th>\n",
       "      <td>6.020077e+04</td>\n",
       "      <td>39.026898</td>\n",
       "    </tr>\n",
       "    <tr>\n",
       "      <th>min</th>\n",
       "      <td>-6.400000e+01</td>\n",
       "      <td>0.000000</td>\n",
       "    </tr>\n",
       "    <tr>\n",
       "      <th>25%</th>\n",
       "      <td>1.028560e+05</td>\n",
       "      <td>100.000000</td>\n",
       "    </tr>\n",
       "    <tr>\n",
       "      <th>50%</th>\n",
       "      <td>1.410630e+05</td>\n",
       "      <td>120.000000</td>\n",
       "    </tr>\n",
       "    <tr>\n",
       "      <th>75%</th>\n",
       "      <td>1.751740e+05</td>\n",
       "      <td>135.000000</td>\n",
       "    </tr>\n",
       "    <tr>\n",
       "      <th>max</th>\n",
       "      <td>1.000376e+06</td>\n",
       "      <td>423.000000</td>\n",
       "    </tr>\n",
       "  </tbody>\n",
       "</table>\n",
       "</div>"
      ],
      "text/plain": [
       "                 km     potencia\n",
       "count  4.829000e+03  4829.000000\n",
       "mean   1.409126e+05   129.001864\n",
       "std    6.020077e+04    39.026898\n",
       "min   -6.400000e+01     0.000000\n",
       "25%    1.028560e+05   100.000000\n",
       "50%    1.410630e+05   120.000000\n",
       "75%    1.751740e+05   135.000000\n",
       "max    1.000376e+06   423.000000"
      ]
     },
     "execution_count": 1640,
     "metadata": {},
     "output_type": "execute_result"
    }
   ],
   "source": [
    "bmw10[num].describe()\n",
    "#Observamos que 'km' tiene valores negtivos y puede tener outliers\n",
    "#'potencia' tiene un 0 como valor mínimo, lo que parece extraño y podría considerarse como outlier; el valor máximo también podría serlo."
   ]
  },
  {
   "cell_type": "markdown",
   "metadata": {},
   "source": [
    "    - 4.2.1.1- KM"
   ]
  },
  {
   "cell_type": "code",
   "execution_count": 1641,
   "metadata": {},
   "outputs": [],
   "source": [
    "bmw11['km']=bmw11['km'].astype('int32')"
   ]
  },
  {
   "cell_type": "code",
   "execution_count": 1642,
   "metadata": {},
   "outputs": [
    {
     "data": {
      "image/png": "[encoded data removed]",
      "text/plain": [
       "<Figure size 640x480 with 1 Axes>"
      ]
     },
     "metadata": {},
     "output_type": "display_data"
    }
   ],
   "source": [
    "bmw10.km.hist(bins=100);"
   ]
  },
  {
   "cell_type": "code",
   "execution_count": 1643,
   "metadata": {},
   "outputs": [
    {
     "data": {
      "text/plain": [
       "count    4.829000e+03\n",
       "mean     1.409126e+05\n",
       "std      6.020077e+04\n",
       "min     -6.400000e+01\n",
       "25%      1.028560e+05\n",
       "50%      1.410630e+05\n",
       "75%      1.751740e+05\n",
       "max      1.000376e+06\n",
       "Name: km, dtype: float64"
      ]
     },
     "execution_count": 1643,
     "metadata": {},
     "output_type": "execute_result"
    }
   ],
   "source": [
    "bmw10.km.describe()"
   ]
  },
  {
   "cell_type": "code",
   "execution_count": 1644,
   "metadata": {},
   "outputs": [
    {
     "data": {
      "text/html": [
       "<div>\n",
       "<style scoped>\n",
       "    .dataframe tbody tr th:only-of-type {\n",
       "        vertical-align: middle;\n",
       "    }\n",
       "\n",
       "    .dataframe tbody tr th {\n",
       "        vertical-align: top;\n",
       "    }\n",
       "\n",
       "    .dataframe thead th {\n",
       "        text-align: right;\n",
       "    }\n",
       "</style>\n",
       "<table border=\"1\" class=\"dataframe\">\n",
       "  <thead>\n",
       "    <tr style=\"text-align: right;\">\n",
       "      <th></th>\n",
       "      <th>modelo</th>\n",
       "      <th>km</th>\n",
       "      <th>potencia</th>\n",
       "      <th>tipo_gasolina</th>\n",
       "      <th>color</th>\n",
       "      <th>tipo_coche</th>\n",
       "      <th>volante_regulable</th>\n",
       "      <th>aire_acondicionado</th>\n",
       "      <th>camara_trasera</th>\n",
       "      <th>elevalunas_electrico</th>\n",
       "      <th>bluetooth</th>\n",
       "      <th>gps</th>\n",
       "      <th>alerta_lim_velocidad</th>\n",
       "      <th>precio</th>\n",
       "      <th>fecha_venta</th>\n",
       "    </tr>\n",
       "  </thead>\n",
       "  <tbody>\n",
       "    <tr>\n",
       "      <th>2926</th>\n",
       "      <td>640 Gran Coupé</td>\n",
       "      <td>-64.0</td>\n",
       "      <td>230.0</td>\n",
       "      <td>diesel</td>\n",
       "      <td>black</td>\n",
       "      <td>sedan</td>\n",
       "      <td>True</td>\n",
       "      <td>True</td>\n",
       "      <td>False</td>\n",
       "      <td>False</td>\n",
       "      <td>False</td>\n",
       "      <td>True</td>\n",
       "      <td>True</td>\n",
       "      <td>75000.0</td>\n",
       "      <td>2018-04-01</td>\n",
       "    </tr>\n",
       "    <tr>\n",
       "      <th>3720</th>\n",
       "      <td>118</td>\n",
       "      <td>1000376.0</td>\n",
       "      <td>90.0</td>\n",
       "      <td>diesel</td>\n",
       "      <td>otros</td>\n",
       "      <td>otros</td>\n",
       "      <td>True</td>\n",
       "      <td>False</td>\n",
       "      <td>False</td>\n",
       "      <td>False</td>\n",
       "      <td>sin_info</td>\n",
       "      <td>True</td>\n",
       "      <td>False</td>\n",
       "      <td>1400.0</td>\n",
       "      <td>2018-06-01</td>\n",
       "    </tr>\n",
       "  </tbody>\n",
       "</table>\n",
       "</div>"
      ],
      "text/plain": [
       "              modelo         km  potencia tipo_gasolina  color tipo_coche  \\\n",
       "2926  640 Gran Coupé      -64.0     230.0        diesel  black      sedan   \n",
       "3720             118  1000376.0      90.0        diesel  otros      otros   \n",
       "\n",
       "      volante_regulable aire_acondicionado  camara_trasera  \\\n",
       "2926               True               True           False   \n",
       "3720               True              False           False   \n",
       "\n",
       "      elevalunas_electrico bluetooth   gps alerta_lim_velocidad   precio  \\\n",
       "2926                 False     False  True                 True  75000.0   \n",
       "3720                 False  sin_info  True                False   1400.0   \n",
       "\n",
       "     fecha_venta  \n",
       "2926  2018-04-01  \n",
       "3720  2018-06-01  "
      ]
     },
     "execution_count": 1644,
     "metadata": {},
     "output_type": "execute_result"
    }
   ],
   "source": [
    "bmw10[(bmw10['km']<0) | (bmw10['km']>1e+06)]\n"
   ]
  },
  {
   "cell_type": "code",
   "execution_count": 1645,
   "metadata": {},
   "outputs": [],
   "source": [
    "bmw11=bmw10.copy()"
   ]
  },
  {
   "cell_type": "code",
   "execution_count": 1646,
   "metadata": {},
   "outputs": [
    {
     "data": {
      "text/plain": [
       "[2926, 3720]"
      ]
     },
     "execution_count": 1646,
     "metadata": {},
     "output_type": "execute_result"
    }
   ],
   "source": [
    "#Eliminamos el valor negativo que no tiene sentido y el outlier\n",
    "del_ind=bmw11[(bmw11['km']<0) | (bmw11['km']>1e+06)].index.tolist()\n",
    "del_ind\n"
   ]
  },
  {
   "cell_type": "code",
   "execution_count": 1647,
   "metadata": {},
   "outputs": [],
   "source": [
    "bmw11.drop(index=del_ind,inplace=True)"
   ]
  },
  {
   "cell_type": "code",
   "execution_count": 1648,
   "metadata": {},
   "outputs": [
    {
     "data": {
      "text/html": [
       "<div>\n",
       "<style scoped>\n",
       "    .dataframe tbody tr th:only-of-type {\n",
       "        vertical-align: middle;\n",
       "    }\n",
       "\n",
       "    .dataframe tbody tr th {\n",
       "        vertical-align: top;\n",
       "    }\n",
       "\n",
       "    .dataframe thead th {\n",
       "        text-align: right;\n",
       "    }\n",
       "</style>\n",
       "<table border=\"1\" class=\"dataframe\">\n",
       "  <thead>\n",
       "    <tr style=\"text-align: right;\">\n",
       "      <th></th>\n",
       "      <th>modelo</th>\n",
       "      <th>km</th>\n",
       "      <th>potencia</th>\n",
       "      <th>tipo_gasolina</th>\n",
       "      <th>color</th>\n",
       "      <th>tipo_coche</th>\n",
       "      <th>volante_regulable</th>\n",
       "      <th>aire_acondicionado</th>\n",
       "      <th>camara_trasera</th>\n",
       "      <th>elevalunas_electrico</th>\n",
       "      <th>bluetooth</th>\n",
       "      <th>gps</th>\n",
       "      <th>alerta_lim_velocidad</th>\n",
       "      <th>precio</th>\n",
       "      <th>fecha_venta</th>\n",
       "    </tr>\n",
       "  </thead>\n",
       "  <tbody>\n",
       "  </tbody>\n",
       "</table>\n",
       "</div>"
      ],
      "text/plain": [
       "Empty DataFrame\n",
       "Columns: [modelo, km, potencia, tipo_gasolina, color, tipo_coche, volante_regulable, aire_acondicionado, camara_trasera, elevalunas_electrico, bluetooth, gps, alerta_lim_velocidad, precio, fecha_venta]\n",
       "Index: []"
      ]
     },
     "execution_count": 1648,
     "metadata": {},
     "output_type": "execute_result"
    }
   ],
   "source": [
    "bmw11[(bmw11['km']<0) | (bmw11['km']>1e+06)]"
   ]
  },
  {
   "cell_type": "code",
   "execution_count": 1649,
   "metadata": {},
   "outputs": [
    {
     "data": {
      "image/png": "[encoded data removed]",
      "text/plain": [
       "<Figure size 640x480 with 1 Axes>"
      ]
     },
     "metadata": {},
     "output_type": "display_data"
    }
   ],
   "source": [
    "bmw11.km.hist(bins=100);"
   ]
  },
  {
   "cell_type": "code",
   "execution_count": 1650,
   "metadata": {},
   "outputs": [
    {
     "data": {
      "text/html": [
       "<div>\n",
       "<style scoped>\n",
       "    .dataframe tbody tr th:only-of-type {\n",
       "        vertical-align: middle;\n",
       "    }\n",
       "\n",
       "    .dataframe tbody tr th {\n",
       "        vertical-align: top;\n",
       "    }\n",
       "\n",
       "    .dataframe thead th {\n",
       "        text-align: right;\n",
       "    }\n",
       "</style>\n",
       "<table border=\"1\" class=\"dataframe\">\n",
       "  <thead>\n",
       "    <tr style=\"text-align: right;\">\n",
       "      <th></th>\n",
       "      <th>km</th>\n",
       "    </tr>\n",
       "  </thead>\n",
       "  <tbody>\n",
       "    <tr>\n",
       "      <th>549</th>\n",
       "      <td>484615.0</td>\n",
       "    </tr>\n",
       "    <tr>\n",
       "      <th>1561</th>\n",
       "      <td>400654.0</td>\n",
       "    </tr>\n",
       "    <tr>\n",
       "      <th>2338</th>\n",
       "      <td>477571.0</td>\n",
       "    </tr>\n",
       "    <tr>\n",
       "      <th>2817</th>\n",
       "      <td>439060.0</td>\n",
       "    </tr>\n",
       "    <tr>\n",
       "      <th>3186</th>\n",
       "      <td>405816.0</td>\n",
       "    </tr>\n",
       "  </tbody>\n",
       "</table>\n",
       "</div>"
      ],
      "text/plain": [
       "            km\n",
       "549   484615.0\n",
       "1561  400654.0\n",
       "2338  477571.0\n",
       "2817  439060.0\n",
       "3186  405816.0"
      ]
     },
     "execution_count": 1650,
     "metadata": {},
     "output_type": "execute_result"
    }
   ],
   "source": [
    "bmw11[['km']][(bmw11['km']>4e+05)]"
   ]
  },
  {
   "cell_type": "code",
   "execution_count": 1651,
   "metadata": {},
   "outputs": [],
   "source": [
    "#Eliminamos outliers por encima de 400k KM\n",
    "bmw11.drop(index=bmw11[['km']][(bmw11['km']>4e+05)].index.tolist(),inplace=True)"
   ]
  },
  {
   "cell_type": "code",
   "execution_count": 1652,
   "metadata": {},
   "outputs": [
    {
     "data": {
      "image/png": "[encoded data removed]",
      "text/plain": [
       "<Figure size 640x480 with 1 Axes>"
      ]
     },
     "metadata": {},
     "output_type": "display_data"
    }
   ],
   "source": [
    "bmw11.km.hist(bins=100);"
   ]
  },
  {
   "cell_type": "markdown",
   "metadata": {},
   "source": [
    "    - 4.2.1.1- POTENCIA"
   ]
  },
  {
   "cell_type": "code",
   "execution_count": 1653,
   "metadata": {},
   "outputs": [
    {
     "data": {
      "text/plain": [
       "count    4822.000000\n",
       "mean      129.014932\n",
       "std        39.013991\n",
       "min         0.000000\n",
       "25%       100.000000\n",
       "50%       120.000000\n",
       "75%       135.000000\n",
       "max       423.000000\n",
       "Name: potencia, dtype: float64"
      ]
     },
     "execution_count": 1653,
     "metadata": {},
     "output_type": "execute_result"
    }
   ],
   "source": [
    "bmw11.potencia.describe()"
   ]
  },
  {
   "cell_type": "code",
   "execution_count": 1654,
   "metadata": {},
   "outputs": [],
   "source": [
    "bmw11['potencia']=bmw11['potencia'].astype('int16')"
   ]
  },
  {
   "cell_type": "code",
   "execution_count": 1655,
   "metadata": {},
   "outputs": [
    {
     "data": {
      "image/png": "[encoded data removed]",
      "text/plain": [
       "<Figure size 640x480 with 1 Axes>"
      ]
     },
     "metadata": {},
     "output_type": "display_data"
    }
   ],
   "source": [
    "bmw11.potencia.hist(bins=20);"
   ]
  },
  {
   "cell_type": "code",
   "execution_count": 1656,
   "metadata": {},
   "outputs": [],
   "source": [
    "bmw12=bmw11.copy()"
   ]
  },
  {
   "cell_type": "code",
   "execution_count": 1657,
   "metadata": {},
   "outputs": [
    {
     "data": {
      "text/html": [
       "<div>\n",
       "<style scoped>\n",
       "    .dataframe tbody tr th:only-of-type {\n",
       "        vertical-align: middle;\n",
       "    }\n",
       "\n",
       "    .dataframe tbody tr th {\n",
       "        vertical-align: top;\n",
       "    }\n",
       "\n",
       "    .dataframe thead th {\n",
       "        text-align: right;\n",
       "    }\n",
       "</style>\n",
       "<table border=\"1\" class=\"dataframe\">\n",
       "  <thead>\n",
       "    <tr style=\"text-align: right;\">\n",
       "      <th></th>\n",
       "      <th>modelo</th>\n",
       "      <th>km</th>\n",
       "      <th>potencia</th>\n",
       "      <th>tipo_gasolina</th>\n",
       "      <th>color</th>\n",
       "      <th>tipo_coche</th>\n",
       "      <th>volante_regulable</th>\n",
       "      <th>aire_acondicionado</th>\n",
       "      <th>camara_trasera</th>\n",
       "      <th>elevalunas_electrico</th>\n",
       "      <th>bluetooth</th>\n",
       "      <th>gps</th>\n",
       "      <th>alerta_lim_velocidad</th>\n",
       "      <th>precio</th>\n",
       "      <th>fecha_venta</th>\n",
       "    </tr>\n",
       "  </thead>\n",
       "  <tbody>\n",
       "    <tr>\n",
       "      <th>3753</th>\n",
       "      <td>X1</td>\n",
       "      <td>81770.0</td>\n",
       "      <td>0</td>\n",
       "      <td>diesel</td>\n",
       "      <td>white</td>\n",
       "      <td>suv</td>\n",
       "      <td>False</td>\n",
       "      <td>False</td>\n",
       "      <td>False</td>\n",
       "      <td>False</td>\n",
       "      <td>False</td>\n",
       "      <td>False</td>\n",
       "      <td>sin_info</td>\n",
       "      <td>11700.0</td>\n",
       "      <td>2018-03-01</td>\n",
       "    </tr>\n",
       "  </tbody>\n",
       "</table>\n",
       "</div>"
      ],
      "text/plain": [
       "     modelo       km  potencia tipo_gasolina  color tipo_coche  \\\n",
       "3753     X1  81770.0         0        diesel  white        suv   \n",
       "\n",
       "      volante_regulable aire_acondicionado  camara_trasera  \\\n",
       "3753              False              False           False   \n",
       "\n",
       "      elevalunas_electrico bluetooth    gps alerta_lim_velocidad   precio  \\\n",
       "3753                 False     False  False             sin_info  11700.0   \n",
       "\n",
       "     fecha_venta  \n",
       "3753  2018-03-01  "
      ]
     },
     "execution_count": 1657,
     "metadata": {},
     "output_type": "execute_result"
    }
   ],
   "source": [
    "bmw12[bmw12['potencia']==0]"
   ]
  },
  {
   "cell_type": "code",
   "execution_count": 1658,
   "metadata": {},
   "outputs": [
    {
     "data": {
      "text/plain": [
       "[3753]"
      ]
     },
     "execution_count": 1658,
     "metadata": {},
     "output_type": "execute_result"
    }
   ],
   "source": [
    "bmw12[bmw12['potencia']==0].index.tolist()"
   ]
  },
  {
   "cell_type": "code",
   "execution_count": 1659,
   "metadata": {},
   "outputs": [],
   "source": [
    "bmw12.drop(index=bmw12[bmw12['potencia']==0].index.tolist(),inplace=True)"
   ]
  },
  {
   "cell_type": "code",
   "execution_count": 1660,
   "metadata": {},
   "outputs": [
    {
     "data": {
      "text/html": [
       "<div>\n",
       "<style scoped>\n",
       "    .dataframe tbody tr th:only-of-type {\n",
       "        vertical-align: middle;\n",
       "    }\n",
       "\n",
       "    .dataframe tbody tr th {\n",
       "        vertical-align: top;\n",
       "    }\n",
       "\n",
       "    .dataframe thead th {\n",
       "        text-align: right;\n",
       "    }\n",
       "</style>\n",
       "<table border=\"1\" class=\"dataframe\">\n",
       "  <thead>\n",
       "    <tr style=\"text-align: right;\">\n",
       "      <th></th>\n",
       "      <th>km</th>\n",
       "      <th>potencia</th>\n",
       "      <th>precio</th>\n",
       "    </tr>\n",
       "  </thead>\n",
       "  <tbody>\n",
       "    <tr>\n",
       "      <th>count</th>\n",
       "      <td>4821.000000</td>\n",
       "      <td>4821.000000</td>\n",
       "      <td>4821.000000</td>\n",
       "    </tr>\n",
       "    <tr>\n",
       "      <th>mean</th>\n",
       "      <td>140464.065961</td>\n",
       "      <td>129.041693</td>\n",
       "      <td>15846.338934</td>\n",
       "    </tr>\n",
       "    <tr>\n",
       "      <th>std</th>\n",
       "      <td>58110.445316</td>\n",
       "      <td>38.973751</td>\n",
       "      <td>9178.752841</td>\n",
       "    </tr>\n",
       "    <tr>\n",
       "      <th>min</th>\n",
       "      <td>476.000000</td>\n",
       "      <td>25.000000</td>\n",
       "      <td>100.000000</td>\n",
       "    </tr>\n",
       "    <tr>\n",
       "      <th>25%</th>\n",
       "      <td>102856.000000</td>\n",
       "      <td>100.000000</td>\n",
       "      <td>10900.000000</td>\n",
       "    </tr>\n",
       "    <tr>\n",
       "      <th>50%</th>\n",
       "      <td>140904.000000</td>\n",
       "      <td>120.000000</td>\n",
       "      <td>14200.000000</td>\n",
       "    </tr>\n",
       "    <tr>\n",
       "      <th>75%</th>\n",
       "      <td>175118.000000</td>\n",
       "      <td>135.000000</td>\n",
       "      <td>18600.000000</td>\n",
       "    </tr>\n",
       "    <tr>\n",
       "      <th>max</th>\n",
       "      <td>398043.000000</td>\n",
       "      <td>423.000000</td>\n",
       "      <td>178500.000000</td>\n",
       "    </tr>\n",
       "  </tbody>\n",
       "</table>\n",
       "</div>"
      ],
      "text/plain": [
       "                  km     potencia         precio\n",
       "count    4821.000000  4821.000000    4821.000000\n",
       "mean   140464.065961   129.041693   15846.338934\n",
       "std     58110.445316    38.973751    9178.752841\n",
       "min       476.000000    25.000000     100.000000\n",
       "25%    102856.000000   100.000000   10900.000000\n",
       "50%    140904.000000   120.000000   14200.000000\n",
       "75%    175118.000000   135.000000   18600.000000\n",
       "max    398043.000000   423.000000  178500.000000"
      ]
     },
     "execution_count": 1660,
     "metadata": {},
     "output_type": "execute_result"
    }
   ],
   "source": [
    "bmw12.describe()"
   ]
  },
  {
   "cell_type": "code",
   "execution_count": 1661,
   "metadata": {},
   "outputs": [
    {
     "data": {
      "image/png": "[encoded data removed]",
      "text/plain": [
       "<Figure size 640x480 with 1 Axes>"
      ]
     },
     "metadata": {},
     "output_type": "display_data"
    }
   ],
   "source": [
    "bmw12.potencia.hist(bins=20);"
   ]
  },
  {
   "cell_type": "code",
   "execution_count": 1662,
   "metadata": {},
   "outputs": [
    {
     "data": {
      "text/html": [
       "<div>\n",
       "<style scoped>\n",
       "    .dataframe tbody tr th:only-of-type {\n",
       "        vertical-align: middle;\n",
       "    }\n",
       "\n",
       "    .dataframe tbody tr th {\n",
       "        vertical-align: top;\n",
       "    }\n",
       "\n",
       "    .dataframe thead th {\n",
       "        text-align: right;\n",
       "    }\n",
       "</style>\n",
       "<table border=\"1\" class=\"dataframe\">\n",
       "  <thead>\n",
       "    <tr style=\"text-align: right;\">\n",
       "      <th></th>\n",
       "      <th>modelo</th>\n",
       "      <th>km</th>\n",
       "      <th>potencia</th>\n",
       "      <th>tipo_gasolina</th>\n",
       "      <th>color</th>\n",
       "      <th>tipo_coche</th>\n",
       "      <th>volante_regulable</th>\n",
       "      <th>aire_acondicionado</th>\n",
       "      <th>camara_trasera</th>\n",
       "      <th>elevalunas_electrico</th>\n",
       "      <th>bluetooth</th>\n",
       "      <th>gps</th>\n",
       "      <th>alerta_lim_velocidad</th>\n",
       "      <th>precio</th>\n",
       "      <th>fecha_venta</th>\n",
       "    </tr>\n",
       "  </thead>\n",
       "  <tbody>\n",
       "    <tr>\n",
       "      <th>3589</th>\n",
       "      <td>M5</td>\n",
       "      <td>150187.0</td>\n",
       "      <td>412</td>\n",
       "      <td>petrol</td>\n",
       "      <td>white</td>\n",
       "      <td>sedan</td>\n",
       "      <td>True</td>\n",
       "      <td>True</td>\n",
       "      <td>True</td>\n",
       "      <td>True</td>\n",
       "      <td>True</td>\n",
       "      <td>True</td>\n",
       "      <td>True</td>\n",
       "      <td>41600.0</td>\n",
       "      <td>2018-09-01</td>\n",
       "    </tr>\n",
       "    <tr>\n",
       "      <th>4134</th>\n",
       "      <td>X6 M</td>\n",
       "      <td>2970.0</td>\n",
       "      <td>423</td>\n",
       "      <td>petrol</td>\n",
       "      <td>red</td>\n",
       "      <td>suv</td>\n",
       "      <td>True</td>\n",
       "      <td>sin_info</td>\n",
       "      <td>True</td>\n",
       "      <td>False</td>\n",
       "      <td>False</td>\n",
       "      <td>True</td>\n",
       "      <td>True</td>\n",
       "      <td>82400.0</td>\n",
       "      <td>2018-04-01</td>\n",
       "    </tr>\n",
       "  </tbody>\n",
       "</table>\n",
       "</div>"
      ],
      "text/plain": [
       "     modelo        km  potencia tipo_gasolina  color tipo_coche  \\\n",
       "3589     M5  150187.0       412        petrol  white      sedan   \n",
       "4134   X6 M    2970.0       423        petrol    red        suv   \n",
       "\n",
       "      volante_regulable aire_acondicionado  camara_trasera  \\\n",
       "3589               True               True            True   \n",
       "4134               True           sin_info            True   \n",
       "\n",
       "      elevalunas_electrico bluetooth   gps alerta_lim_velocidad   precio  \\\n",
       "3589                  True      True  True                 True  41600.0   \n",
       "4134                 False     False  True                 True  82400.0   \n",
       "\n",
       "     fecha_venta  \n",
       "3589  2018-09-01  \n",
       "4134  2018-04-01  "
      ]
     },
     "execution_count": 1662,
     "metadata": {},
     "output_type": "execute_result"
    }
   ],
   "source": [
    "bmw12[bmw12['potencia']>400]"
   ]
  },
  {
   "cell_type": "code",
   "execution_count": 1663,
   "metadata": {},
   "outputs": [
    {
     "data": {
      "text/plain": [
       "[3589, 4134]"
      ]
     },
     "execution_count": 1663,
     "metadata": {},
     "output_type": "execute_result"
    }
   ],
   "source": [
    "bmw12[bmw12['potencia']>400].index.tolist()"
   ]
  },
  {
   "cell_type": "code",
   "execution_count": 1664,
   "metadata": {},
   "outputs": [],
   "source": [
    "bmw12.drop(index=bmw12[bmw12['potencia']>400].index.tolist(),inplace=True)"
   ]
  },
  {
   "cell_type": "code",
   "execution_count": 1665,
   "metadata": {},
   "outputs": [
    {
     "data": {
      "image/png": "[encoded data removed]",
      "text/plain": [
       "<Figure size 640x480 with 1 Axes>"
      ]
     },
     "metadata": {},
     "output_type": "display_data"
    }
   ],
   "source": [
    "bmw12.potencia.hist(bins=20);"
   ]
  },
  {
   "cell_type": "markdown",
   "metadata": {},
   "source": [
    "    - 4.2.2- Variables boleanas"
   ]
  },
  {
   "cell_type": "markdown",
   "metadata": {},
   "source": [
    "Al ser boleanas, no hay que hacerles ningún otro tratamiento ni evaluación"
   ]
  },
  {
   "cell_type": "markdown",
   "metadata": {},
   "source": [
    "    - 4.2.3- Variables categóricas"
   ]
  },
  {
   "cell_type": "code",
   "execution_count": 1666,
   "metadata": {},
   "outputs": [
    {
     "data": {
      "text/plain": [
       "['modelo',\n",
       " 'tipo_gasolina',\n",
       " 'color',\n",
       " 'tipo_coche',\n",
       " 'aire_acondicionado',\n",
       " 'bluetooth',\n",
       " 'alerta_lim_velocidad',\n",
       " 'fecha_venta']"
      ]
     },
     "execution_count": 1666,
     "metadata": {},
     "output_type": "execute_result"
    }
   ],
   "source": [
    "cat"
   ]
  },
  {
   "cell_type": "markdown",
   "metadata": {},
   "source": [
    "    - 4.2.3.1- MODELO"
   ]
  },
  {
   "cell_type": "code",
   "execution_count": 1667,
   "metadata": {},
   "outputs": [
    {
     "data": {
      "text/html": [
       "<div>\n",
       "<style scoped>\n",
       "    .dataframe tbody tr th:only-of-type {\n",
       "        vertical-align: middle;\n",
       "    }\n",
       "\n",
       "    .dataframe tbody tr th {\n",
       "        vertical-align: top;\n",
       "    }\n",
       "\n",
       "    .dataframe thead th {\n",
       "        text-align: right;\n",
       "    }\n",
       "</style>\n",
       "<table border=\"1\" class=\"dataframe\">\n",
       "  <thead>\n",
       "    <tr style=\"text-align: right;\">\n",
       "      <th></th>\n",
       "      <th>modelo</th>\n",
       "      <th>proportion</th>\n",
       "    </tr>\n",
       "  </thead>\n",
       "  <tbody>\n",
       "    <tr>\n",
       "      <th>0</th>\n",
       "      <td>320</td>\n",
       "      <td>15.480390</td>\n",
       "    </tr>\n",
       "    <tr>\n",
       "      <th>1</th>\n",
       "      <td>520</td>\n",
       "      <td>13.073252</td>\n",
       "    </tr>\n",
       "    <tr>\n",
       "      <th>2</th>\n",
       "      <td>318</td>\n",
       "      <td>11.724424</td>\n",
       "    </tr>\n",
       "    <tr>\n",
       "      <th>3</th>\n",
       "      <td>X3</td>\n",
       "      <td>9.068271</td>\n",
       "    </tr>\n",
       "    <tr>\n",
       "      <th>4</th>\n",
       "      <td>116</td>\n",
       "      <td>7.428927</td>\n",
       "    </tr>\n",
       "    <tr>\n",
       "      <th>5</th>\n",
       "      <td>X1</td>\n",
       "      <td>5.685827</td>\n",
       "    </tr>\n",
       "    <tr>\n",
       "      <th>6</th>\n",
       "      <td>316</td>\n",
       "      <td>4.855779</td>\n",
       "    </tr>\n",
       "    <tr>\n",
       "      <th>7</th>\n",
       "      <td>X5</td>\n",
       "      <td>4.793526</td>\n",
       "    </tr>\n",
       "    <tr>\n",
       "      <th>8</th>\n",
       "      <td>525</td>\n",
       "      <td>3.776717</td>\n",
       "    </tr>\n",
       "    <tr>\n",
       "      <th>9</th>\n",
       "      <td>530</td>\n",
       "      <td>3.257937</td>\n",
       "    </tr>\n",
       "    <tr>\n",
       "      <th>10</th>\n",
       "      <td>118</td>\n",
       "      <td>2.946669</td>\n",
       "    </tr>\n",
       "    <tr>\n",
       "      <th>11</th>\n",
       "      <td>318 Gran Turismo</td>\n",
       "      <td>2.012866</td>\n",
       "    </tr>\n",
       "    <tr>\n",
       "      <th>12</th>\n",
       "      <td>320 Gran Turismo</td>\n",
       "      <td>1.514837</td>\n",
       "    </tr>\n",
       "    <tr>\n",
       "      <th>13</th>\n",
       "      <td>518</td>\n",
       "      <td>1.369579</td>\n",
       "    </tr>\n",
       "    <tr>\n",
       "      <th>14</th>\n",
       "      <td>535</td>\n",
       "      <td>0.954555</td>\n",
       "    </tr>\n",
       "  </tbody>\n",
       "</table>\n",
       "</div>"
      ],
      "text/plain": [
       "              modelo  proportion\n",
       "0                320   15.480390\n",
       "1                520   13.073252\n",
       "2                318   11.724424\n",
       "3                 X3    9.068271\n",
       "4                116    7.428927\n",
       "5                 X1    5.685827\n",
       "6                316    4.855779\n",
       "7                 X5    4.793526\n",
       "8                525    3.776717\n",
       "9                530    3.257937\n",
       "10               118    2.946669\n",
       "11  318 Gran Turismo    2.012866\n",
       "12  320 Gran Turismo    1.514837\n",
       "13               518    1.369579\n",
       "14               535    0.954555"
      ]
     },
     "execution_count": 1667,
     "metadata": {},
     "output_type": "execute_result"
    }
   ],
   "source": [
    "(bmw12[['modelo']].value_counts(normalize=True)*100).reset_index().head(15)"
   ]
  },
  {
   "cell_type": "code",
   "execution_count": 1668,
   "metadata": {},
   "outputs": [
    {
     "data": {
      "text/plain": [
       "modelo        75\n",
       "proportion    75\n",
       "dtype: int64"
      ]
     },
     "execution_count": 1668,
     "metadata": {},
     "output_type": "execute_result"
    }
   ],
   "source": [
    "(bmw12[['modelo']].value_counts(normalize=True)*100).reset_index().count()"
   ]
  },
  {
   "cell_type": "code",
   "execution_count": 1669,
   "metadata": {},
   "outputs": [],
   "source": [
    "bmw13=bmw12.copy()\n",
    "bmw13.reset_index(drop=True,inplace=True)"
   ]
  },
  {
   "cell_type": "code",
   "execution_count": 1670,
   "metadata": {},
   "outputs": [
    {
     "data": {
      "text/plain": [
       "4819"
      ]
     },
     "execution_count": 1670,
     "metadata": {},
     "output_type": "execute_result"
    }
   ],
   "source": [
    "#Unificamos los modelos. Ej: 318 Gran Turismo para a ser solo 318\n",
    "#Almacenamos los modelos simplificados en una lista.\n",
    "mod_unificados=[]\n",
    "for i in bmw13['modelo']:\n",
    "    x=i.split()\n",
    "    mod_unificados.append(x[0])\n",
    "len(mod_unificados)"
   ]
  },
  {
   "cell_type": "code",
   "execution_count": 1671,
   "metadata": {},
   "outputs": [],
   "source": [
    "#Siguiendo el indice del df, sustituimos los valores simplificados de cada modelo en el DF\n",
    "for i in bmw13['modelo'].index:\n",
    "    bmw13.loc[[i],['modelo']]=mod_unificados[i]"
   ]
  },
  {
   "cell_type": "code",
   "execution_count": 1672,
   "metadata": {},
   "outputs": [
    {
     "data": {
      "text/html": [
       "<div>\n",
       "<style scoped>\n",
       "    .dataframe tbody tr th:only-of-type {\n",
       "        vertical-align: middle;\n",
       "    }\n",
       "\n",
       "    .dataframe tbody tr th {\n",
       "        vertical-align: top;\n",
       "    }\n",
       "\n",
       "    .dataframe thead th {\n",
       "        text-align: right;\n",
       "    }\n",
       "</style>\n",
       "<table border=\"1\" class=\"dataframe\">\n",
       "  <thead>\n",
       "    <tr style=\"text-align: right;\">\n",
       "      <th></th>\n",
       "      <th>modelo</th>\n",
       "      <th>proportion</th>\n",
       "    </tr>\n",
       "  </thead>\n",
       "  <tbody>\n",
       "    <tr>\n",
       "      <th>0</th>\n",
       "      <td>320</td>\n",
       "      <td>16.995227</td>\n",
       "    </tr>\n",
       "    <tr>\n",
       "      <th>1</th>\n",
       "      <td>318</td>\n",
       "      <td>13.737290</td>\n",
       "    </tr>\n",
       "    <tr>\n",
       "      <th>2</th>\n",
       "      <td>520</td>\n",
       "      <td>13.550529</td>\n",
       "    </tr>\n",
       "    <tr>\n",
       "      <th>3</th>\n",
       "      <td>X3</td>\n",
       "      <td>9.068271</td>\n",
       "    </tr>\n",
       "    <tr>\n",
       "      <th>4</th>\n",
       "      <td>116</td>\n",
       "      <td>7.428927</td>\n",
       "    </tr>\n",
       "    <tr>\n",
       "      <th>5</th>\n",
       "      <td>X1</td>\n",
       "      <td>5.685827</td>\n",
       "    </tr>\n",
       "    <tr>\n",
       "      <th>6</th>\n",
       "      <td>X5</td>\n",
       "      <td>5.208549</td>\n",
       "    </tr>\n",
       "    <tr>\n",
       "      <th>7</th>\n",
       "      <td>316</td>\n",
       "      <td>4.855779</td>\n",
       "    </tr>\n",
       "    <tr>\n",
       "      <th>8</th>\n",
       "      <td>525</td>\n",
       "      <td>3.776717</td>\n",
       "    </tr>\n",
       "    <tr>\n",
       "      <th>9</th>\n",
       "      <td>530</td>\n",
       "      <td>3.631459</td>\n",
       "    </tr>\n",
       "    <tr>\n",
       "      <th>10</th>\n",
       "      <td>118</td>\n",
       "      <td>2.946669</td>\n",
       "    </tr>\n",
       "    <tr>\n",
       "      <th>11</th>\n",
       "      <td>420</td>\n",
       "      <td>1.577091</td>\n",
       "    </tr>\n",
       "    <tr>\n",
       "      <th>12</th>\n",
       "      <td>518</td>\n",
       "      <td>1.369579</td>\n",
       "    </tr>\n",
       "    <tr>\n",
       "      <th>13</th>\n",
       "      <td>X6</td>\n",
       "      <td>1.058311</td>\n",
       "    </tr>\n",
       "    <tr>\n",
       "      <th>14</th>\n",
       "      <td>535</td>\n",
       "      <td>0.996057</td>\n",
       "    </tr>\n",
       "    <tr>\n",
       "      <th>15</th>\n",
       "      <td>X4</td>\n",
       "      <td>0.954555</td>\n",
       "    </tr>\n",
       "    <tr>\n",
       "      <th>16</th>\n",
       "      <td>120</td>\n",
       "      <td>0.747043</td>\n",
       "    </tr>\n",
       "    <tr>\n",
       "      <th>17</th>\n",
       "      <td>330</td>\n",
       "      <td>0.747043</td>\n",
       "    </tr>\n",
       "    <tr>\n",
       "      <th>18</th>\n",
       "      <td>218</td>\n",
       "      <td>0.705541</td>\n",
       "    </tr>\n",
       "    <tr>\n",
       "      <th>19</th>\n",
       "      <td>730</td>\n",
       "      <td>0.684789</td>\n",
       "    </tr>\n",
       "  </tbody>\n",
       "</table>\n",
       "</div>"
      ],
      "text/plain": [
       "   modelo  proportion\n",
       "0     320   16.995227\n",
       "1     318   13.737290\n",
       "2     520   13.550529\n",
       "3      X3    9.068271\n",
       "4     116    7.428927\n",
       "5      X1    5.685827\n",
       "6      X5    5.208549\n",
       "7     316    4.855779\n",
       "8     525    3.776717\n",
       "9     530    3.631459\n",
       "10    118    2.946669\n",
       "11    420    1.577091\n",
       "12    518    1.369579\n",
       "13     X6    1.058311\n",
       "14    535    0.996057\n",
       "15     X4    0.954555\n",
       "16    120    0.747043\n",
       "17    330    0.747043\n",
       "18    218    0.705541\n",
       "19    730    0.684789"
      ]
     },
     "execution_count": 1672,
     "metadata": {},
     "output_type": "execute_result"
    }
   ],
   "source": [
    "(bmw13[['modelo']].value_counts(normalize=True)*100).reset_index().head(20)"
   ]
  },
  {
   "cell_type": "code",
   "execution_count": 1673,
   "metadata": {},
   "outputs": [
    {
     "data": {
      "text/plain": [
       "modelo        54\n",
       "proportion    54\n",
       "dtype: int64"
      ]
     },
     "execution_count": 1673,
     "metadata": {},
     "output_type": "execute_result"
    }
   ],
   "source": [
    "(bmw13[['modelo']].value_counts(normalize=True)*100).reset_index().count()\n",
    "#Hemos reducido de 75 a 54 modelos"
   ]
  },
  {
   "cell_type": "code",
   "execution_count": 1674,
   "metadata": {},
   "outputs": [
    {
     "data": {
      "text/plain": [
       "modelo\n",
       "320             16.995227\n",
       "318             13.737290\n",
       "520             13.550529\n",
       "X3               9.068271\n",
       "116              7.428927\n",
       "X1               5.685827\n",
       "X5               5.208549\n",
       "316              4.855779\n",
       "525              3.776717\n",
       "530              3.631459\n",
       "118              2.946669\n",
       "420              1.577091\n",
       "518              1.369579\n",
       "X6               1.058311\n",
       "535              0.996057\n",
       "X4               0.954555\n",
       "120              0.747043\n",
       "330              0.747043\n",
       "218              0.705541\n",
       "730              0.684789\n",
       "640              0.539531\n",
       "325              0.477277\n",
       "740              0.373521\n",
       "114              0.311268\n",
       "M550             0.249014\n",
       "335              0.207512\n",
       "435              0.207512\n",
       "216              0.166010\n",
       "418              0.166010\n",
       "M3               0.145258\n",
       "Z4               0.124507\n",
       "i3               0.124507\n",
       "430              0.124507\n",
       "528              0.124507\n",
       "125              0.103756\n",
       "328              0.103756\n",
       "135              0.083005\n",
       "523              0.083005\n",
       "220              0.083005\n",
       "M235             0.062254\n",
       "M4               0.041502\n",
       "123              0.041502\n",
       "750              0.041502\n",
       "425              0.041502\n",
       "225              0.041502\n",
       "650              0.041502\n",
       "M135             0.020751\n",
       "635              0.020751\n",
       "630              0.020751\n",
       "i8               0.020751\n",
       "ActiveHybrid     0.020751\n",
       "735              0.020751\n",
       "Active           0.020751\n",
       "214              0.020751\n",
       "Name: proportion, dtype: float64"
      ]
     },
     "execution_count": 1674,
     "metadata": {},
     "output_type": "execute_result"
    }
   ],
   "source": [
    "bmw13.modelo.value_counts(normalize=True)*100\n",
    "#Eliminaremos los outliers, considerando estos una representación en la muestra por debajo del 0.2% (10 resgistros o menos)"
   ]
  },
  {
   "cell_type": "code",
   "execution_count": 1675,
   "metadata": {},
   "outputs": [
    {
     "data": {
      "text/html": [
       "<div>\n",
       "<style scoped>\n",
       "    .dataframe tbody tr th:only-of-type {\n",
       "        vertical-align: middle;\n",
       "    }\n",
       "\n",
       "    .dataframe tbody tr th {\n",
       "        vertical-align: top;\n",
       "    }\n",
       "\n",
       "    .dataframe thead th {\n",
       "        text-align: right;\n",
       "    }\n",
       "</style>\n",
       "<table border=\"1\" class=\"dataframe\">\n",
       "  <thead>\n",
       "    <tr style=\"text-align: right;\">\n",
       "      <th></th>\n",
       "      <th>modelo</th>\n",
       "      <th>count</th>\n",
       "    </tr>\n",
       "  </thead>\n",
       "  <tbody>\n",
       "    <tr>\n",
       "      <th>0</th>\n",
       "      <td>320</td>\n",
       "      <td>819</td>\n",
       "    </tr>\n",
       "    <tr>\n",
       "      <th>1</th>\n",
       "      <td>318</td>\n",
       "      <td>662</td>\n",
       "    </tr>\n",
       "  </tbody>\n",
       "</table>\n",
       "</div>"
      ],
      "text/plain": [
       "  modelo  count\n",
       "0    320    819\n",
       "1    318    662"
      ]
     },
     "execution_count": 1675,
     "metadata": {},
     "output_type": "execute_result"
    }
   ],
   "source": [
    "#Creamos dataframe de soporte con la cantidad de modelos que hay y su numero\n",
    "df_sup=bmw13.modelo.value_counts().reset_index()\n",
    "df_sup.head(2)"
   ]
  },
  {
   "cell_type": "code",
   "execution_count": 1676,
   "metadata": {},
   "outputs": [
    {
     "data": {
      "text/plain": [
       "27"
      ]
     },
     "execution_count": 1676,
     "metadata": {},
     "output_type": "execute_result"
    }
   ],
   "source": [
    "#creamos una lista de modelos con mesnos de 10 registros (considerados outliers)\n",
    "outliers_models=df_sup[df_sup['count']<10].values[:,0].tolist()\n",
    "len(outliers_models)"
   ]
  },
  {
   "cell_type": "code",
   "execution_count": 1677,
   "metadata": {},
   "outputs": [
    {
     "data": {
      "text/plain": [
       "['216',\n",
       " '418',\n",
       " 'M3',\n",
       " 'Z4',\n",
       " 'i3',\n",
       " '430',\n",
       " '528',\n",
       " '125',\n",
       " '328',\n",
       " '135',\n",
       " '523',\n",
       " '220',\n",
       " 'M235',\n",
       " 'M4',\n",
       " '123',\n",
       " '750',\n",
       " '425',\n",
       " '225',\n",
       " '650',\n",
       " 'M135',\n",
       " '635',\n",
       " '630',\n",
       " 'i8',\n",
       " 'ActiveHybrid',\n",
       " '735',\n",
       " 'Active',\n",
       " '214']"
      ]
     },
     "execution_count": 1677,
     "metadata": {},
     "output_type": "execute_result"
    }
   ],
   "source": [
    "outliers_models"
   ]
  },
  {
   "cell_type": "code",
   "execution_count": 1678,
   "metadata": {},
   "outputs": [],
   "source": [
    "#eliminamos los registros con los modelos obtenidos\n",
    "bmw13.drop(bmw13[bmw13['modelo'].isin(outliers_models)].index, inplace=True)"
   ]
  },
  {
   "cell_type": "code",
   "execution_count": 1679,
   "metadata": {},
   "outputs": [
    {
     "data": {
      "text/plain": [
       "modelo\n",
       "320     17.326000\n",
       "318     14.004654\n",
       "520     13.814259\n",
       "X3       9.244764\n",
       "116      7.573514\n",
       "X1       5.796488\n",
       "X5       5.309922\n",
       "316      4.950286\n",
       "525      3.850222\n",
       "530      3.702137\n",
       "118      3.004019\n",
       "420      1.607785\n",
       "518      1.396234\n",
       "X6       1.078908\n",
       "535      1.015443\n",
       "X4       0.973133\n",
       "330      0.761582\n",
       "120      0.761582\n",
       "218      0.719272\n",
       "730      0.698117\n",
       "640      0.550032\n",
       "325      0.486567\n",
       "740      0.380791\n",
       "114      0.317326\n",
       "M550     0.253861\n",
       "435      0.211551\n",
       "335      0.211551\n",
       "Name: proportion, dtype: float64"
      ]
     },
     "execution_count": 1679,
     "metadata": {},
     "output_type": "execute_result"
    }
   ],
   "source": [
    "bmw13.modelo.value_counts(normalize=True)*100"
   ]
  },
  {
   "cell_type": "code",
   "execution_count": 1680,
   "metadata": {},
   "outputs": [
    {
     "data": {
      "text/plain": [
       "modelo        27\n",
       "proportion    27\n",
       "dtype: int64"
      ]
     },
     "execution_count": 1680,
     "metadata": {},
     "output_type": "execute_result"
    }
   ],
   "source": [
    "(bmw13[['modelo']].value_counts(normalize=True)*100).reset_index().count()\n",
    "#Hemos pasadod e 54 a 27 modelos relevantes."
   ]
  },
  {
   "cell_type": "markdown",
   "metadata": {},
   "source": [
    "    - 4.2.3.2- TIPO_GASOLINA"
   ]
  },
  {
   "cell_type": "code",
   "execution_count": 1681,
   "metadata": {},
   "outputs": [],
   "source": [
    "bmw14=bmw13.copy()"
   ]
  },
  {
   "cell_type": "code",
   "execution_count": 1682,
   "metadata": {},
   "outputs": [
    {
     "data": {
      "text/plain": [
       "count       4727\n",
       "unique         4\n",
       "top       diesel\n",
       "freq        4574\n",
       "Name: tipo_gasolina, dtype: object"
      ]
     },
     "execution_count": 1682,
     "metadata": {},
     "output_type": "execute_result"
    }
   ],
   "source": [
    "bmw14.tipo_gasolina.describe()"
   ]
  },
  {
   "cell_type": "code",
   "execution_count": 1683,
   "metadata": {},
   "outputs": [
    {
     "data": {
      "text/plain": [
       "tipo_gasolina\n",
       "diesel           4574\n",
       "petrol            145\n",
       "Diesel              5\n",
       "hybrid_petrol       3\n",
       "Name: count, dtype: int64"
      ]
     },
     "execution_count": 1683,
     "metadata": {},
     "output_type": "execute_result"
    }
   ],
   "source": [
    "bmw14.tipo_gasolina.value_counts()\n",
    "#Existe la categoria Diesel (con D mayuscula). Las agrupamos. Eliminamos la categoría 'hybrid_petrol' al sólo haber 3 registros."
   ]
  },
  {
   "cell_type": "code",
   "execution_count": 1684,
   "metadata": {},
   "outputs": [
    {
     "data": {
      "text/plain": [
       "tipo_gasolina\n",
       "diesel    4579\n",
       "petrol     145\n",
       "Name: count, dtype: int64"
      ]
     },
     "execution_count": 1684,
     "metadata": {},
     "output_type": "execute_result"
    }
   ],
   "source": [
    "bmw14['tipo_gasolina'] = bmw14['tipo_gasolina'].str.lower()\n",
    "bmw14.drop(bmw14[(bmw14['tipo_gasolina'].isin(['hybrid_petrol']))].index, inplace=True)\n",
    "bmw14['tipo_gasolina'].value_counts()"
   ]
  },
  {
   "cell_type": "markdown",
   "metadata": {},
   "source": [
    "    - 4.2.3.3- COLOR"
   ]
  },
  {
   "cell_type": "code",
   "execution_count": 1685,
   "metadata": {},
   "outputs": [
    {
     "data": {
      "text/plain": [
       "count      4724\n",
       "unique       11\n",
       "top       black\n",
       "freq       1461\n",
       "Name: color, dtype: object"
      ]
     },
     "execution_count": 1685,
     "metadata": {},
     "output_type": "execute_result"
    }
   ],
   "source": [
    "bmw14.color.describe()"
   ]
  },
  {
   "cell_type": "code",
   "execution_count": 1686,
   "metadata": {},
   "outputs": [
    {
     "data": {
      "text/plain": [
       "color\n",
       "black     1461\n",
       "grey      1040\n",
       "blue       630\n",
       "white      471\n",
       "otros      441\n",
       "brown      301\n",
       "silver     282\n",
       "red         44\n",
       "beige       37\n",
       "green       13\n",
       "orange       4\n",
       "Name: count, dtype: int64"
      ]
     },
     "execution_count": 1686,
     "metadata": {},
     "output_type": "execute_result"
    }
   ],
   "source": [
    "bmw14.color.value_counts()"
   ]
  },
  {
   "cell_type": "markdown",
   "metadata": {},
   "source": [
    "    - 4.2.3.4- TIPO_COCHE"
   ]
  },
  {
   "cell_type": "code",
   "execution_count": 1692,
   "metadata": {},
   "outputs": [
    {
     "data": {
      "text/plain": [
       "count      4724\n",
       "unique        9\n",
       "top       otros\n",
       "freq       1423\n",
       "Name: tipo_coche, dtype: object"
      ]
     },
     "execution_count": 1692,
     "metadata": {},
     "output_type": "execute_result"
    }
   ],
   "source": [
    "bmw14.tipo_coche.describe()"
   ]
  },
  {
   "cell_type": "code",
   "execution_count": 1693,
   "metadata": {},
   "outputs": [
    {
     "data": {
      "text/plain": [
       "tipo_coche\n",
       "otros          1423\n",
       "estate         1096\n",
       "sedan           808\n",
       "suv             751\n",
       "hatchback       467\n",
       "subcompact       77\n",
       "coupe            62\n",
       "convertible      21\n",
       "van              19\n",
       "Name: count, dtype: int64"
      ]
     },
     "execution_count": 1693,
     "metadata": {},
     "output_type": "execute_result"
    }
   ],
   "source": [
    "bmw14.tipo_coche.value_counts()"
   ]
  },
  {
   "cell_type": "markdown",
   "metadata": {},
   "source": [
    "    - 4.2.3.5- AIRE_ACONDICIONADO"
   ]
  },
  {
   "cell_type": "code",
   "execution_count": 1694,
   "metadata": {},
   "outputs": [
    {
     "data": {
      "text/plain": [
       "count     4724\n",
       "unique       3\n",
       "top       True\n",
       "freq      3393\n",
       "Name: aire_acondicionado, dtype: object"
      ]
     },
     "execution_count": 1694,
     "metadata": {},
     "output_type": "execute_result"
    }
   ],
   "source": [
    "bmw14.aire_acondicionado.describe()"
   ]
  },
  {
   "cell_type": "code",
   "execution_count": 1697,
   "metadata": {},
   "outputs": [
    {
     "data": {
      "text/plain": [
       "aire_acondicionado\n",
       "True        71.824725\n",
       "False       18.183743\n",
       "sin_info     9.991533\n",
       "Name: proportion, dtype: float64"
      ]
     },
     "execution_count": 1697,
     "metadata": {},
     "output_type": "execute_result"
    }
   ],
   "source": [
    "bmw14.aire_acondicionado.value_counts(normalize=True)*100"
   ]
  },
  {
   "cell_type": "markdown",
   "metadata": {},
   "source": [
    "    - 4.2.3.6- BLUETOOTH"
   ]
  },
  {
   "cell_type": "code",
   "execution_count": 1699,
   "metadata": {},
   "outputs": [
    {
     "data": {
      "text/plain": [
       "count      4724\n",
       "unique        3\n",
       "top       False\n",
       "freq       3056\n",
       "Name: bluetooth, dtype: object"
      ]
     },
     "execution_count": 1699,
     "metadata": {},
     "output_type": "execute_result"
    }
   ],
   "source": [
    "bmw14.bluetooth.describe()"
   ]
  },
  {
   "cell_type": "code",
   "execution_count": 1703,
   "metadata": {},
   "outputs": [
    {
     "data": {
      "text/plain": [
       "bluetooth\n",
       "False       64.690940\n",
       "True        20.173582\n",
       "sin_info    15.135478\n",
       "Name: proportion, dtype: float64"
      ]
     },
     "execution_count": 1703,
     "metadata": {},
     "output_type": "execute_result"
    }
   ],
   "source": [
    "bmw14.bluetooth.value_counts(normalize=True)*100"
   ]
  },
  {
   "cell_type": "markdown",
   "metadata": {},
   "source": [
    "    - 4.2.3.7- ALERTA_LIM_VELOCIDAD"
   ]
  },
  {
   "cell_type": "code",
   "execution_count": 1704,
   "metadata": {},
   "outputs": [
    {
     "data": {
      "text/plain": [
       "count     4724\n",
       "unique       3\n",
       "top       True\n",
       "freq      2176\n",
       "Name: alerta_lim_velocidad, dtype: object"
      ]
     },
     "execution_count": 1704,
     "metadata": {},
     "output_type": "execute_result"
    }
   ],
   "source": [
    "bmw14.alerta_lim_velocidad.describe()"
   ]
  },
  {
   "cell_type": "code",
   "execution_count": 1706,
   "metadata": {},
   "outputs": [
    {
     "data": {
      "text/plain": [
       "alerta_lim_velocidad\n",
       "True        46.062659\n",
       "False       38.928874\n",
       "sin_info    15.008467\n",
       "Name: proportion, dtype: float64"
      ]
     },
     "execution_count": 1706,
     "metadata": {},
     "output_type": "execute_result"
    }
   ],
   "source": [
    "bmw14.alerta_lim_velocidad.value_counts(normalize=True)*100"
   ]
  },
  {
   "cell_type": "markdown",
   "metadata": {},
   "source": [
    "    - 4.2.3.8- FECHA_VENTA"
   ]
  },
  {
   "cell_type": "code",
   "execution_count": 1707,
   "metadata": {},
   "outputs": [
    {
     "data": {
      "text/plain": [
       "count           4724\n",
       "unique            13\n",
       "top       2018-05-01\n",
       "freq             780\n",
       "Name: fecha_venta, dtype: object"
      ]
     },
     "execution_count": 1707,
     "metadata": {},
     "output_type": "execute_result"
    }
   ],
   "source": [
    "bmw14.fecha_venta.describe()"
   ]
  },
  {
   "cell_type": "code",
   "execution_count": 1711,
   "metadata": {},
   "outputs": [
    {
     "data": {
      "text/plain": [
       "fecha_venta\n",
       "2018-05-01    780\n",
       "2018-03-01    716\n",
       "2018-04-01    673\n",
       "2018-06-01    593\n",
       "2018-07-01    529\n",
       "2018-08-01    519\n",
       "2018-02-01    489\n",
       "2018-09-01    217\n",
       "2018-01-01    204\n",
       "2007-08-01      1\n",
       "2010-04-01      1\n",
       "2009-04-01      1\n",
       "2008-06-01      1\n",
       "Name: count, dtype: int64"
      ]
     },
     "execution_count": 1711,
     "metadata": {},
     "output_type": "execute_result"
    }
   ],
   "source": [
    "bmw14.fecha_venta.value_counts()"
   ]
  },
  {
   "cell_type": "code",
   "execution_count": 1718,
   "metadata": {},
   "outputs": [
    {
     "data": {
      "text/html": [
       "<div>\n",
       "<style scoped>\n",
       "    .dataframe tbody tr th:only-of-type {\n",
       "        vertical-align: middle;\n",
       "    }\n",
       "\n",
       "    .dataframe tbody tr th {\n",
       "        vertical-align: top;\n",
       "    }\n",
       "\n",
       "    .dataframe thead th {\n",
       "        text-align: right;\n",
       "    }\n",
       "</style>\n",
       "<table border=\"1\" class=\"dataframe\">\n",
       "  <thead>\n",
       "    <tr style=\"text-align: right;\">\n",
       "      <th></th>\n",
       "      <th>fecha_venta</th>\n",
       "      <th>count</th>\n",
       "    </tr>\n",
       "  </thead>\n",
       "  <tbody>\n",
       "    <tr>\n",
       "      <th>9</th>\n",
       "      <td>2007-08-01</td>\n",
       "      <td>1</td>\n",
       "    </tr>\n",
       "    <tr>\n",
       "      <th>12</th>\n",
       "      <td>2008-06-01</td>\n",
       "      <td>1</td>\n",
       "    </tr>\n",
       "    <tr>\n",
       "      <th>11</th>\n",
       "      <td>2009-04-01</td>\n",
       "      <td>1</td>\n",
       "    </tr>\n",
       "    <tr>\n",
       "      <th>10</th>\n",
       "      <td>2010-04-01</td>\n",
       "      <td>1</td>\n",
       "    </tr>\n",
       "    <tr>\n",
       "      <th>8</th>\n",
       "      <td>2018-01-01</td>\n",
       "      <td>204</td>\n",
       "    </tr>\n",
       "    <tr>\n",
       "      <th>6</th>\n",
       "      <td>2018-02-01</td>\n",
       "      <td>489</td>\n",
       "    </tr>\n",
       "    <tr>\n",
       "      <th>1</th>\n",
       "      <td>2018-03-01</td>\n",
       "      <td>716</td>\n",
       "    </tr>\n",
       "    <tr>\n",
       "      <th>2</th>\n",
       "      <td>2018-04-01</td>\n",
       "      <td>673</td>\n",
       "    </tr>\n",
       "    <tr>\n",
       "      <th>0</th>\n",
       "      <td>2018-05-01</td>\n",
       "      <td>780</td>\n",
       "    </tr>\n",
       "    <tr>\n",
       "      <th>3</th>\n",
       "      <td>2018-06-01</td>\n",
       "      <td>593</td>\n",
       "    </tr>\n",
       "    <tr>\n",
       "      <th>4</th>\n",
       "      <td>2018-07-01</td>\n",
       "      <td>529</td>\n",
       "    </tr>\n",
       "    <tr>\n",
       "      <th>5</th>\n",
       "      <td>2018-08-01</td>\n",
       "      <td>519</td>\n",
       "    </tr>\n",
       "    <tr>\n",
       "      <th>7</th>\n",
       "      <td>2018-09-01</td>\n",
       "      <td>217</td>\n",
       "    </tr>\n",
       "  </tbody>\n",
       "</table>\n",
       "</div>"
      ],
      "text/plain": [
       "   fecha_venta  count\n",
       "9   2007-08-01      1\n",
       "12  2008-06-01      1\n",
       "11  2009-04-01      1\n",
       "10  2010-04-01      1\n",
       "8   2018-01-01    204\n",
       "6   2018-02-01    489\n",
       "1   2018-03-01    716\n",
       "2   2018-04-01    673\n",
       "0   2018-05-01    780\n",
       "3   2018-06-01    593\n",
       "4   2018-07-01    529\n",
       "5   2018-08-01    519\n",
       "7   2018-09-01    217"
      ]
     },
     "execution_count": 1718,
     "metadata": {},
     "output_type": "execute_result"
    }
   ],
   "source": [
    "bmw14['fecha_venta'].value_counts().reset_index().sort_values(by='fecha_venta')"
   ]
  },
  {
   "cell_type": "code",
   "execution_count": 1709,
   "metadata": {},
   "outputs": [],
   "source": [
    "bmw15=bmw14.copy()"
   ]
  },
  {
   "cell_type": "code",
   "execution_count": 1714,
   "metadata": {},
   "outputs": [],
   "source": [
    "#Eliminamos la columna 'fecha_venta'. Las fechas no tienen continuidad entre sí y no nos aportan información.\n",
    "del(bmw15['fecha_venta'])"
   ]
  },
  {
   "cell_type": "code",
   "execution_count": 1717,
   "metadata": {},
   "outputs": [
    {
     "data": {
      "text/html": [
       "<div>\n",
       "<style scoped>\n",
       "    .dataframe tbody tr th:only-of-type {\n",
       "        vertical-align: middle;\n",
       "    }\n",
       "\n",
       "    .dataframe tbody tr th {\n",
       "        vertical-align: top;\n",
       "    }\n",
       "\n",
       "    .dataframe thead th {\n",
       "        text-align: right;\n",
       "    }\n",
       "</style>\n",
       "<table border=\"1\" class=\"dataframe\">\n",
       "  <thead>\n",
       "    <tr style=\"text-align: right;\">\n",
       "      <th></th>\n",
       "      <th>modelo</th>\n",
       "      <th>km</th>\n",
       "      <th>potencia</th>\n",
       "      <th>tipo_gasolina</th>\n",
       "      <th>color</th>\n",
       "      <th>tipo_coche</th>\n",
       "      <th>volante_regulable</th>\n",
       "      <th>aire_acondicionado</th>\n",
       "      <th>camara_trasera</th>\n",
       "      <th>elevalunas_electrico</th>\n",
       "      <th>bluetooth</th>\n",
       "      <th>gps</th>\n",
       "      <th>alerta_lim_velocidad</th>\n",
       "      <th>precio</th>\n",
       "    </tr>\n",
       "  </thead>\n",
       "  <tbody>\n",
       "    <tr>\n",
       "      <th>954</th>\n",
       "      <td>M550</td>\n",
       "      <td>184507.0</td>\n",
       "      <td>280</td>\n",
       "      <td>diesel</td>\n",
       "      <td>silver</td>\n",
       "      <td>otros</td>\n",
       "      <td>True</td>\n",
       "      <td>True</td>\n",
       "      <td>False</td>\n",
       "      <td>True</td>\n",
       "      <td>True</td>\n",
       "      <td>True</td>\n",
       "      <td>True</td>\n",
       "      <td>26900.0</td>\n",
       "    </tr>\n",
       "    <tr>\n",
       "      <th>266</th>\n",
       "      <td>520</td>\n",
       "      <td>88985.0</td>\n",
       "      <td>135</td>\n",
       "      <td>diesel</td>\n",
       "      <td>grey</td>\n",
       "      <td>estate</td>\n",
       "      <td>True</td>\n",
       "      <td>True</td>\n",
       "      <td>False</td>\n",
       "      <td>True</td>\n",
       "      <td>sin_info</td>\n",
       "      <td>True</td>\n",
       "      <td>False</td>\n",
       "      <td>18100.0</td>\n",
       "    </tr>\n",
       "    <tr>\n",
       "      <th>725</th>\n",
       "      <td>520</td>\n",
       "      <td>289948.0</td>\n",
       "      <td>120</td>\n",
       "      <td>diesel</td>\n",
       "      <td>blue</td>\n",
       "      <td>otros</td>\n",
       "      <td>True</td>\n",
       "      <td>True</td>\n",
       "      <td>False</td>\n",
       "      <td>False</td>\n",
       "      <td>False</td>\n",
       "      <td>True</td>\n",
       "      <td>True</td>\n",
       "      <td>7400.0</td>\n",
       "    </tr>\n",
       "    <tr>\n",
       "      <th>1027</th>\n",
       "      <td>520</td>\n",
       "      <td>159788.0</td>\n",
       "      <td>135</td>\n",
       "      <td>diesel</td>\n",
       "      <td>white</td>\n",
       "      <td>otros</td>\n",
       "      <td>False</td>\n",
       "      <td>True</td>\n",
       "      <td>False</td>\n",
       "      <td>True</td>\n",
       "      <td>sin_info</td>\n",
       "      <td>True</td>\n",
       "      <td>True</td>\n",
       "      <td>16400.0</td>\n",
       "    </tr>\n",
       "    <tr>\n",
       "      <th>1424</th>\n",
       "      <td>525</td>\n",
       "      <td>160164.0</td>\n",
       "      <td>160</td>\n",
       "      <td>diesel</td>\n",
       "      <td>blue</td>\n",
       "      <td>estate</td>\n",
       "      <td>True</td>\n",
       "      <td>True</td>\n",
       "      <td>False</td>\n",
       "      <td>True</td>\n",
       "      <td>False</td>\n",
       "      <td>True</td>\n",
       "      <td>sin_info</td>\n",
       "      <td>16900.0</td>\n",
       "    </tr>\n",
       "  </tbody>\n",
       "</table>\n",
       "</div>"
      ],
      "text/plain": [
       "     modelo        km  potencia tipo_gasolina   color tipo_coche  \\\n",
       "954    M550  184507.0       280        diesel  silver      otros   \n",
       "266     520   88985.0       135        diesel    grey     estate   \n",
       "725     520  289948.0       120        diesel    blue      otros   \n",
       "1027    520  159788.0       135        diesel   white      otros   \n",
       "1424    525  160164.0       160        diesel    blue     estate   \n",
       "\n",
       "      volante_regulable aire_acondicionado  camara_trasera  \\\n",
       "954                True               True           False   \n",
       "266                True               True           False   \n",
       "725                True               True           False   \n",
       "1027              False               True           False   \n",
       "1424               True               True           False   \n",
       "\n",
       "      elevalunas_electrico bluetooth   gps alerta_lim_velocidad   precio  \n",
       "954                   True      True  True                 True  26900.0  \n",
       "266                   True  sin_info  True                False  18100.0  \n",
       "725                  False     False  True                 True   7400.0  \n",
       "1027                  True  sin_info  True                 True  16400.0  \n",
       "1424                  True     False  True             sin_info  16900.0  "
      ]
     },
     "execution_count": 1717,
     "metadata": {},
     "output_type": "execute_result"
    }
   ],
   "source": [
    "bmw15.sample(5)"
   ]
  },
  {
   "cell_type": "code",
   "execution_count": 1719,
   "metadata": {},
   "outputs": [],
   "source": [
    "bmw15.reset_index(drop=True,inplace=True)"
   ]
  },
  {
   "cell_type": "markdown",
   "metadata": {},
   "source": [
    "### 5.- Analisis de correlación"
   ]
  },
  {
   "cell_type": "markdown",
   "metadata": {},
   "source": []
  }
 ],
 "metadata": {
  "kernelspec": {
   "display_name": "Python 3",
   "language": "python",
   "name": "python3"
  },
  "language_info": {
   "codemirror_mode": {
    "name": "ipython",
    "version": 3
   },
   "file_extension": ".py",
   "mimetype": "text/x-python",
   "name": "python",
   "nbconvert_exporter": "python",
   "pygments_lexer": "ipython3",
   "version": "3.12.0"
  }
 },
 "nbformat": 4,
 "nbformat_minor": 2
}
