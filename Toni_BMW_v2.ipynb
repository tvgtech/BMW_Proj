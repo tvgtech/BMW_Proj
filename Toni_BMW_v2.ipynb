{
 "cells": [
  {
   "cell_type": "markdown",
   "metadata": {},
   "source": [
    "__Hoja de trabajo Proyecto BMW - Toni__"
   ]
  },
  {
   "cell_type": "code",
   "execution_count": 621,
   "metadata": {},
   "outputs": [],
   "source": [
    "import pandas as pd\n",
    "import numpy as np\n",
    "import matplotlib.pyplot as plt\n",
    "import seaborn as sns\n",
    "\n",
    "from sklearn.preprocessing import LabelEncoder,MinMaxScaler"
   ]
  },
  {
   "cell_type": "code",
   "execution_count": 622,
   "metadata": {},
   "outputs": [],
   "source": [
    "pd.set_option('display.max_rows',None)\n",
    "pd.set_option('display.max_columns',None)"
   ]
  },
  {
   "cell_type": "markdown",
   "metadata": {},
   "source": [
    "### 1.- Importamos los datos a un DataFrame"
   ]
  },
  {
   "cell_type": "code",
   "execution_count": 623,
   "metadata": {},
   "outputs": [],
   "source": [
    "bmw=pd.read_csv('dataset/bmw_pricing_v3.csv')"
   ]
  },
  {
   "cell_type": "code",
   "execution_count": 624,
   "metadata": {},
   "outputs": [
    {
     "data": {
      "text/plain": [
       "(4843, 18)"
      ]
     },
     "execution_count": 624,
     "metadata": {},
     "output_type": "execute_result"
    }
   ],
   "source": [
    "bmw.shape"
   ]
  },
  {
   "cell_type": "code",
   "execution_count": 625,
   "metadata": {},
   "outputs": [
    {
     "data": {
      "text/html": [
       "<div>\n",
       "<style scoped>\n",
       "    .dataframe tbody tr th:only-of-type {\n",
       "        vertical-align: middle;\n",
       "    }\n",
       "\n",
       "    .dataframe tbody tr th {\n",
       "        vertical-align: top;\n",
       "    }\n",
       "\n",
       "    .dataframe thead th {\n",
       "        text-align: right;\n",
       "    }\n",
       "</style>\n",
       "<table border=\"1\" class=\"dataframe\">\n",
       "  <thead>\n",
       "    <tr style=\"text-align: right;\">\n",
       "      <th></th>\n",
       "      <th>marca</th>\n",
       "      <th>modelo</th>\n",
       "      <th>km</th>\n",
       "      <th>potencia</th>\n",
       "      <th>fecha_registro</th>\n",
       "      <th>tipo_gasolina</th>\n",
       "      <th>color</th>\n",
       "      <th>tipo_coche</th>\n",
       "      <th>volante_regulable</th>\n",
       "      <th>aire_acondicionado</th>\n",
       "      <th>camara_trasera</th>\n",
       "      <th>asientos_traseros_plegables</th>\n",
       "      <th>elevalunas_electrico</th>\n",
       "      <th>bluetooth</th>\n",
       "      <th>gps</th>\n",
       "      <th>alerta_lim_velocidad</th>\n",
       "      <th>precio</th>\n",
       "      <th>fecha_venta</th>\n",
       "    </tr>\n",
       "  </thead>\n",
       "  <tbody>\n",
       "    <tr>\n",
       "      <th>4034</th>\n",
       "      <td>BMW</td>\n",
       "      <td>X5</td>\n",
       "      <td>187080.0</td>\n",
       "      <td>173.0</td>\n",
       "      <td>NaN</td>\n",
       "      <td>diesel</td>\n",
       "      <td>silver</td>\n",
       "      <td>suv</td>\n",
       "      <td>True</td>\n",
       "      <td>NaN</td>\n",
       "      <td>True</td>\n",
       "      <td>True</td>\n",
       "      <td>True</td>\n",
       "      <td>False</td>\n",
       "      <td>True</td>\n",
       "      <td>True</td>\n",
       "      <td>11100.0</td>\n",
       "      <td>2018-03-01</td>\n",
       "    </tr>\n",
       "    <tr>\n",
       "      <th>2007</th>\n",
       "      <td>BMW</td>\n",
       "      <td>116</td>\n",
       "      <td>52139.0</td>\n",
       "      <td>85.0</td>\n",
       "      <td>2012-11-01</td>\n",
       "      <td>diesel</td>\n",
       "      <td>blue</td>\n",
       "      <td>hatchback</td>\n",
       "      <td>False</td>\n",
       "      <td>False</td>\n",
       "      <td>False</td>\n",
       "      <td>NaN</td>\n",
       "      <td>False</td>\n",
       "      <td>False</td>\n",
       "      <td>True</td>\n",
       "      <td>NaN</td>\n",
       "      <td>9400.0</td>\n",
       "      <td>2018-03-01</td>\n",
       "    </tr>\n",
       "    <tr>\n",
       "      <th>1657</th>\n",
       "      <td>BMW</td>\n",
       "      <td>318</td>\n",
       "      <td>121459.0</td>\n",
       "      <td>100.0</td>\n",
       "      <td>NaN</td>\n",
       "      <td>diesel</td>\n",
       "      <td>brown</td>\n",
       "      <td>estate</td>\n",
       "      <td>False</td>\n",
       "      <td>NaN</td>\n",
       "      <td>False</td>\n",
       "      <td>NaN</td>\n",
       "      <td>False</td>\n",
       "      <td>True</td>\n",
       "      <td>True</td>\n",
       "      <td>False</td>\n",
       "      <td>11200.0</td>\n",
       "      <td>2018-08-01</td>\n",
       "    </tr>\n",
       "    <tr>\n",
       "      <th>2324</th>\n",
       "      <td>BMW</td>\n",
       "      <td>640 Gran Coupé</td>\n",
       "      <td>84187.0</td>\n",
       "      <td>230.0</td>\n",
       "      <td>NaN</td>\n",
       "      <td>diesel</td>\n",
       "      <td>NaN</td>\n",
       "      <td>hatchback</td>\n",
       "      <td>True</td>\n",
       "      <td>True</td>\n",
       "      <td>False</td>\n",
       "      <td>NaN</td>\n",
       "      <td>True</td>\n",
       "      <td>False</td>\n",
       "      <td>True</td>\n",
       "      <td>True</td>\n",
       "      <td>30000.0</td>\n",
       "      <td>2018-07-01</td>\n",
       "    </tr>\n",
       "    <tr>\n",
       "      <th>1142</th>\n",
       "      <td>BMW</td>\n",
       "      <td>320</td>\n",
       "      <td>89158.0</td>\n",
       "      <td>135.0</td>\n",
       "      <td>NaN</td>\n",
       "      <td>diesel</td>\n",
       "      <td>black</td>\n",
       "      <td>estate</td>\n",
       "      <td>True</td>\n",
       "      <td>True</td>\n",
       "      <td>False</td>\n",
       "      <td>True</td>\n",
       "      <td>True</td>\n",
       "      <td>True</td>\n",
       "      <td>True</td>\n",
       "      <td>True</td>\n",
       "      <td>19500.0</td>\n",
       "      <td>2018-05-01</td>\n",
       "    </tr>\n",
       "  </tbody>\n",
       "</table>\n",
       "</div>"
      ],
      "text/plain": [
       "     marca          modelo        km  potencia fecha_registro tipo_gasolina  \\\n",
       "4034   BMW              X5  187080.0     173.0            NaN        diesel   \n",
       "2007   BMW             116   52139.0      85.0     2012-11-01        diesel   \n",
       "1657   BMW             318  121459.0     100.0            NaN        diesel   \n",
       "2324   BMW  640 Gran Coupé   84187.0     230.0            NaN        diesel   \n",
       "1142   BMW             320   89158.0     135.0            NaN        diesel   \n",
       "\n",
       "       color tipo_coche volante_regulable aire_acondicionado camara_trasera  \\\n",
       "4034  silver        suv              True                NaN           True   \n",
       "2007    blue  hatchback             False              False          False   \n",
       "1657   brown     estate             False                NaN          False   \n",
       "2324     NaN  hatchback              True               True          False   \n",
       "1142   black     estate              True               True          False   \n",
       "\n",
       "     asientos_traseros_plegables elevalunas_electrico bluetooth   gps  \\\n",
       "4034                        True                 True     False  True   \n",
       "2007                         NaN                False     False  True   \n",
       "1657                         NaN                False      True  True   \n",
       "2324                         NaN                 True     False  True   \n",
       "1142                        True                 True      True  True   \n",
       "\n",
       "     alerta_lim_velocidad   precio fecha_venta  \n",
       "4034                 True  11100.0  2018-03-01  \n",
       "2007                  NaN   9400.0  2018-03-01  \n",
       "1657                False  11200.0  2018-08-01  \n",
       "2324                 True  30000.0  2018-07-01  \n",
       "1142                 True  19500.0  2018-05-01  "
      ]
     },
     "execution_count": 625,
     "metadata": {},
     "output_type": "execute_result"
    }
   ],
   "source": [
    "bmw.sample(5)"
   ]
  },
  {
   "cell_type": "code",
   "execution_count": 626,
   "metadata": {},
   "outputs": [
    {
     "name": "stdout",
     "output_type": "stream",
     "text": [
      "<class 'pandas.core.frame.DataFrame'>\n",
      "RangeIndex: 4843 entries, 0 to 4842\n",
      "Data columns (total 18 columns):\n",
      " #   Column                       Non-Null Count  Dtype  \n",
      "---  ------                       --------------  -----  \n",
      " 0   marca                        3873 non-null   object \n",
      " 1   modelo                       4840 non-null   object \n",
      " 2   km                           4841 non-null   float64\n",
      " 3   potencia                     4842 non-null   float64\n",
      " 4   fecha_registro               2420 non-null   object \n",
      " 5   tipo_gasolina                4838 non-null   object \n",
      " 6   color                        4398 non-null   object \n",
      " 7   tipo_coche                   3383 non-null   object \n",
      " 8   volante_regulable            4839 non-null   object \n",
      " 9   aire_acondicionado           4357 non-null   object \n",
      " 10  camara_trasera               4841 non-null   object \n",
      " 11  asientos_traseros_plegables  1452 non-null   object \n",
      " 12  elevalunas_electrico         4841 non-null   object \n",
      " 13  bluetooth                    4115 non-null   object \n",
      " 14  gps                          4843 non-null   bool   \n",
      " 15  alerta_lim_velocidad         4115 non-null   object \n",
      " 16  precio                       4837 non-null   float64\n",
      " 17  fecha_venta                  4842 non-null   object \n",
      "dtypes: bool(1), float64(3), object(14)\n",
      "memory usage: 648.1+ KB\n"
     ]
    }
   ],
   "source": [
    "bmw.info()"
   ]
  },
  {
   "cell_type": "code",
   "execution_count": 627,
   "metadata": {},
   "outputs": [
    {
     "data": {
      "text/html": [
       "<div>\n",
       "<style scoped>\n",
       "    .dataframe tbody tr th:only-of-type {\n",
       "        vertical-align: middle;\n",
       "    }\n",
       "\n",
       "    .dataframe tbody tr th {\n",
       "        vertical-align: top;\n",
       "    }\n",
       "\n",
       "    .dataframe thead th {\n",
       "        text-align: right;\n",
       "    }\n",
       "</style>\n",
       "<table border=\"1\" class=\"dataframe\">\n",
       "  <thead>\n",
       "    <tr style=\"text-align: right;\">\n",
       "      <th></th>\n",
       "      <th>km</th>\n",
       "      <th>potencia</th>\n",
       "      <th>precio</th>\n",
       "    </tr>\n",
       "  </thead>\n",
       "  <tbody>\n",
       "    <tr>\n",
       "      <th>count</th>\n",
       "      <td>4.841000e+03</td>\n",
       "      <td>4842.000000</td>\n",
       "      <td>4837.000000</td>\n",
       "    </tr>\n",
       "    <tr>\n",
       "      <th>mean</th>\n",
       "      <td>1.409593e+05</td>\n",
       "      <td>128.981826</td>\n",
       "      <td>15831.920612</td>\n",
       "    </tr>\n",
       "    <tr>\n",
       "      <th>std</th>\n",
       "      <td>6.020853e+04</td>\n",
       "      <td>38.994839</td>\n",
       "      <td>9222.630708</td>\n",
       "    </tr>\n",
       "    <tr>\n",
       "      <th>min</th>\n",
       "      <td>-6.400000e+01</td>\n",
       "      <td>0.000000</td>\n",
       "      <td>100.000000</td>\n",
       "    </tr>\n",
       "    <tr>\n",
       "      <th>25%</th>\n",
       "      <td>1.028840e+05</td>\n",
       "      <td>100.000000</td>\n",
       "      <td>10800.000000</td>\n",
       "    </tr>\n",
       "    <tr>\n",
       "      <th>50%</th>\n",
       "      <td>1.410800e+05</td>\n",
       "      <td>120.000000</td>\n",
       "      <td>14200.000000</td>\n",
       "    </tr>\n",
       "    <tr>\n",
       "      <th>75%</th>\n",
       "      <td>1.752170e+05</td>\n",
       "      <td>135.000000</td>\n",
       "      <td>18600.000000</td>\n",
       "    </tr>\n",
       "    <tr>\n",
       "      <th>max</th>\n",
       "      <td>1.000376e+06</td>\n",
       "      <td>423.000000</td>\n",
       "      <td>178500.000000</td>\n",
       "    </tr>\n",
       "  </tbody>\n",
       "</table>\n",
       "</div>"
      ],
      "text/plain": [
       "                 km     potencia         precio\n",
       "count  4.841000e+03  4842.000000    4837.000000\n",
       "mean   1.409593e+05   128.981826   15831.920612\n",
       "std    6.020853e+04    38.994839    9222.630708\n",
       "min   -6.400000e+01     0.000000     100.000000\n",
       "25%    1.028840e+05   100.000000   10800.000000\n",
       "50%    1.410800e+05   120.000000   14200.000000\n",
       "75%    1.752170e+05   135.000000   18600.000000\n",
       "max    1.000376e+06   423.000000  178500.000000"
      ]
     },
     "execution_count": 627,
     "metadata": {},
     "output_type": "execute_result"
    }
   ],
   "source": [
    "bmw.describe()"
   ]
  },
  {
   "cell_type": "markdown",
   "metadata": {},
   "source": [
    "### __2.- Análisis de duplicados__"
   ]
  },
  {
   "cell_type": "markdown",
   "metadata": {},
   "source": [
    "Vemos que no hay duplicados"
   ]
  },
  {
   "cell_type": "code",
   "execution_count": 628,
   "metadata": {},
   "outputs": [
    {
     "data": {
      "text/plain": [
       "False    4843\n",
       "Name: count, dtype: int64"
      ]
     },
     "execution_count": 628,
     "metadata": {},
     "output_type": "execute_result"
    }
   ],
   "source": [
    "bmw.duplicated().value_counts()"
   ]
  },
  {
   "cell_type": "code",
   "execution_count": 629,
   "metadata": {},
   "outputs": [
    {
     "data": {
      "text/html": [
       "<div>\n",
       "<style scoped>\n",
       "    .dataframe tbody tr th:only-of-type {\n",
       "        vertical-align: middle;\n",
       "    }\n",
       "\n",
       "    .dataframe tbody tr th {\n",
       "        vertical-align: top;\n",
       "    }\n",
       "\n",
       "    .dataframe thead th {\n",
       "        text-align: right;\n",
       "    }\n",
       "</style>\n",
       "<table border=\"1\" class=\"dataframe\">\n",
       "  <thead>\n",
       "    <tr style=\"text-align: right;\">\n",
       "      <th></th>\n",
       "      <th>marca</th>\n",
       "      <th>modelo</th>\n",
       "      <th>km</th>\n",
       "      <th>potencia</th>\n",
       "      <th>fecha_registro</th>\n",
       "      <th>tipo_gasolina</th>\n",
       "      <th>color</th>\n",
       "      <th>tipo_coche</th>\n",
       "      <th>volante_regulable</th>\n",
       "      <th>aire_acondicionado</th>\n",
       "      <th>camara_trasera</th>\n",
       "      <th>asientos_traseros_plegables</th>\n",
       "      <th>elevalunas_electrico</th>\n",
       "      <th>bluetooth</th>\n",
       "      <th>gps</th>\n",
       "      <th>alerta_lim_velocidad</th>\n",
       "      <th>precio</th>\n",
       "      <th>fecha_venta</th>\n",
       "    </tr>\n",
       "  </thead>\n",
       "  <tbody>\n",
       "  </tbody>\n",
       "</table>\n",
       "</div>"
      ],
      "text/plain": [
       "Empty DataFrame\n",
       "Columns: [marca, modelo, km, potencia, fecha_registro, tipo_gasolina, color, tipo_coche, volante_regulable, aire_acondicionado, camara_trasera, asientos_traseros_plegables, elevalunas_electrico, bluetooth, gps, alerta_lim_velocidad, precio, fecha_venta]\n",
       "Index: []"
      ]
     },
     "execution_count": 629,
     "metadata": {},
     "output_type": "execute_result"
    }
   ],
   "source": [
    "bmw[bmw.duplicated()]"
   ]
  },
  {
   "cell_type": "markdown",
   "metadata": {},
   "source": [
    "### __3.- Análisis de nulos__"
   ]
  },
  {
   "cell_type": "code",
   "execution_count": 630,
   "metadata": {},
   "outputs": [
    {
     "data": {
      "text/plain": [
       "marca                           970\n",
       "modelo                            3\n",
       "km                                2\n",
       "potencia                          1\n",
       "fecha_registro                 2423\n",
       "tipo_gasolina                     5\n",
       "color                           445\n",
       "tipo_coche                     1460\n",
       "volante_regulable                 4\n",
       "aire_acondicionado              486\n",
       "camara_trasera                    2\n",
       "asientos_traseros_plegables    3391\n",
       "elevalunas_electrico              2\n",
       "bluetooth                       728\n",
       "gps                               0\n",
       "alerta_lim_velocidad            728\n",
       "precio                            6\n",
       "fecha_venta                       1\n",
       "dtype: int64"
      ]
     },
     "execution_count": 630,
     "metadata": {},
     "output_type": "execute_result"
    }
   ],
   "source": [
    "bmw.isnull().sum()"
   ]
  },
  {
   "cell_type": "markdown",
   "metadata": {},
   "source": [
    "- 3.1- MARCA"
   ]
  },
  {
   "cell_type": "code",
   "execution_count": 631,
   "metadata": {},
   "outputs": [
    {
     "data": {
      "text/plain": [
       "array([nan, 'BMW'], dtype=object)"
      ]
     },
     "execution_count": 631,
     "metadata": {},
     "output_type": "execute_result"
    }
   ],
   "source": [
    "bmw.marca.unique()"
   ]
  },
  {
   "cell_type": "code",
   "execution_count": 632,
   "metadata": {},
   "outputs": [
    {
     "data": {
      "text/plain": [
       "marca\n",
       "BMW    0.799711\n",
       "NaN    0.200289\n",
       "Name: proportion, dtype: float64"
      ]
     },
     "execution_count": 632,
     "metadata": {},
     "output_type": "execute_result"
    }
   ],
   "source": [
    "bmw.marca.value_counts(dropna=False, normalize=True)"
   ]
  },
  {
   "cell_type": "code",
   "execution_count": 633,
   "metadata": {},
   "outputs": [],
   "source": [
    "bmw2=bmw.copy()"
   ]
  },
  {
   "cell_type": "code",
   "execution_count": 634,
   "metadata": {},
   "outputs": [],
   "source": [
    "del(bmw2['marca'])"
   ]
  },
  {
   "cell_type": "code",
   "execution_count": 635,
   "metadata": {},
   "outputs": [
    {
     "data": {
      "text/html": [
       "<div>\n",
       "<style scoped>\n",
       "    .dataframe tbody tr th:only-of-type {\n",
       "        vertical-align: middle;\n",
       "    }\n",
       "\n",
       "    .dataframe tbody tr th {\n",
       "        vertical-align: top;\n",
       "    }\n",
       "\n",
       "    .dataframe thead th {\n",
       "        text-align: right;\n",
       "    }\n",
       "</style>\n",
       "<table border=\"1\" class=\"dataframe\">\n",
       "  <thead>\n",
       "    <tr style=\"text-align: right;\">\n",
       "      <th></th>\n",
       "      <th>modelo</th>\n",
       "      <th>km</th>\n",
       "      <th>potencia</th>\n",
       "      <th>fecha_registro</th>\n",
       "      <th>tipo_gasolina</th>\n",
       "      <th>color</th>\n",
       "      <th>tipo_coche</th>\n",
       "      <th>volante_regulable</th>\n",
       "      <th>aire_acondicionado</th>\n",
       "      <th>camara_trasera</th>\n",
       "      <th>asientos_traseros_plegables</th>\n",
       "      <th>elevalunas_electrico</th>\n",
       "      <th>bluetooth</th>\n",
       "      <th>gps</th>\n",
       "      <th>alerta_lim_velocidad</th>\n",
       "      <th>precio</th>\n",
       "      <th>fecha_venta</th>\n",
       "    </tr>\n",
       "  </thead>\n",
       "  <tbody>\n",
       "    <tr>\n",
       "      <th>0</th>\n",
       "      <td>118</td>\n",
       "      <td>140411.0</td>\n",
       "      <td>100.0</td>\n",
       "      <td>2012-02-01</td>\n",
       "      <td>diesel</td>\n",
       "      <td>black</td>\n",
       "      <td>NaN</td>\n",
       "      <td>True</td>\n",
       "      <td>True</td>\n",
       "      <td>False</td>\n",
       "      <td>NaN</td>\n",
       "      <td>True</td>\n",
       "      <td>NaN</td>\n",
       "      <td>True</td>\n",
       "      <td>NaN</td>\n",
       "      <td>11300.0</td>\n",
       "      <td>2018-01-01</td>\n",
       "    </tr>\n",
       "    <tr>\n",
       "      <th>1</th>\n",
       "      <td>M4</td>\n",
       "      <td>13929.0</td>\n",
       "      <td>317.0</td>\n",
       "      <td>NaN</td>\n",
       "      <td>petrol</td>\n",
       "      <td>grey</td>\n",
       "      <td>convertible</td>\n",
       "      <td>True</td>\n",
       "      <td>True</td>\n",
       "      <td>False</td>\n",
       "      <td>NaN</td>\n",
       "      <td>False</td>\n",
       "      <td>True</td>\n",
       "      <td>True</td>\n",
       "      <td>True</td>\n",
       "      <td>69700.0</td>\n",
       "      <td>2018-02-01</td>\n",
       "    </tr>\n",
       "    <tr>\n",
       "      <th>2</th>\n",
       "      <td>320</td>\n",
       "      <td>183297.0</td>\n",
       "      <td>120.0</td>\n",
       "      <td>2012-04-01</td>\n",
       "      <td>diesel</td>\n",
       "      <td>white</td>\n",
       "      <td>NaN</td>\n",
       "      <td>False</td>\n",
       "      <td>False</td>\n",
       "      <td>False</td>\n",
       "      <td>NaN</td>\n",
       "      <td>True</td>\n",
       "      <td>False</td>\n",
       "      <td>True</td>\n",
       "      <td>False</td>\n",
       "      <td>10200.0</td>\n",
       "      <td>2018-02-01</td>\n",
       "    </tr>\n",
       "    <tr>\n",
       "      <th>3</th>\n",
       "      <td>420</td>\n",
       "      <td>128035.0</td>\n",
       "      <td>135.0</td>\n",
       "      <td>NaN</td>\n",
       "      <td>diesel</td>\n",
       "      <td>red</td>\n",
       "      <td>convertible</td>\n",
       "      <td>True</td>\n",
       "      <td>True</td>\n",
       "      <td>False</td>\n",
       "      <td>NaN</td>\n",
       "      <td>True</td>\n",
       "      <td>True</td>\n",
       "      <td>True</td>\n",
       "      <td>NaN</td>\n",
       "      <td>25100.0</td>\n",
       "      <td>2018-02-01</td>\n",
       "    </tr>\n",
       "    <tr>\n",
       "      <th>4</th>\n",
       "      <td>425</td>\n",
       "      <td>97097.0</td>\n",
       "      <td>160.0</td>\n",
       "      <td>NaN</td>\n",
       "      <td>diesel</td>\n",
       "      <td>silver</td>\n",
       "      <td>NaN</td>\n",
       "      <td>True</td>\n",
       "      <td>True</td>\n",
       "      <td>False</td>\n",
       "      <td>False</td>\n",
       "      <td>False</td>\n",
       "      <td>True</td>\n",
       "      <td>True</td>\n",
       "      <td>True</td>\n",
       "      <td>33400.0</td>\n",
       "      <td>2018-04-01</td>\n",
       "    </tr>\n",
       "  </tbody>\n",
       "</table>\n",
       "</div>"
      ],
      "text/plain": [
       "  modelo        km  potencia fecha_registro tipo_gasolina   color  \\\n",
       "0    118  140411.0     100.0     2012-02-01        diesel   black   \n",
       "1     M4   13929.0     317.0            NaN        petrol    grey   \n",
       "2    320  183297.0     120.0     2012-04-01        diesel   white   \n",
       "3    420  128035.0     135.0            NaN        diesel     red   \n",
       "4    425   97097.0     160.0            NaN        diesel  silver   \n",
       "\n",
       "    tipo_coche volante_regulable aire_acondicionado camara_trasera  \\\n",
       "0          NaN              True               True          False   \n",
       "1  convertible              True               True          False   \n",
       "2          NaN             False              False          False   \n",
       "3  convertible              True               True          False   \n",
       "4          NaN              True               True          False   \n",
       "\n",
       "  asientos_traseros_plegables elevalunas_electrico bluetooth   gps  \\\n",
       "0                         NaN                 True       NaN  True   \n",
       "1                         NaN                False      True  True   \n",
       "2                         NaN                 True     False  True   \n",
       "3                         NaN                 True      True  True   \n",
       "4                       False                False      True  True   \n",
       "\n",
       "  alerta_lim_velocidad   precio fecha_venta  \n",
       "0                  NaN  11300.0  2018-01-01  \n",
       "1                 True  69700.0  2018-02-01  \n",
       "2                False  10200.0  2018-02-01  \n",
       "3                  NaN  25100.0  2018-02-01  \n",
       "4                 True  33400.0  2018-04-01  "
      ]
     },
     "execution_count": 635,
     "metadata": {},
     "output_type": "execute_result"
    }
   ],
   "source": [
    "bmw2.head()"
   ]
  },
  {
   "cell_type": "markdown",
   "metadata": {},
   "source": [
    "- 3.2- FECHA_REGISTRO"
   ]
  },
  {
   "cell_type": "code",
   "execution_count": 636,
   "metadata": {},
   "outputs": [
    {
     "data": {
      "text/plain": [
       "fecha_registro\n",
       "NaN           50.030973\n",
       "2013-07-01     1.920297\n",
       "2014-03-01     1.713814\n",
       "2014-05-01     1.672517\n",
       "2013-01-01     1.610572\n",
       "2013-10-01     1.589924\n",
       "2014-02-01     1.527979\n",
       "2013-06-01     1.383440\n",
       "2014-01-01     1.383440\n",
       "2013-02-01     1.383440\n",
       "2013-11-01     1.259550\n",
       "2012-10-01     1.259550\n",
       "2013-04-01     1.218253\n",
       "2014-04-01     1.197605\n",
       "2013-09-01     1.197605\n",
       "2013-03-01     1.197605\n",
       "2013-08-01     1.115011\n",
       "2012-06-01     1.115011\n",
       "2014-07-01     1.115011\n",
       "2014-09-01     1.011770\n",
       "2013-05-01     0.949824\n",
       "2014-08-01     0.929176\n",
       "2012-11-01     0.887879\n",
       "2012-03-01     0.867231\n",
       "2014-06-01     0.846583\n",
       "2013-12-01     0.825934\n",
       "2012-01-01     0.722693\n",
       "2014-10-01     0.722693\n",
       "2014-11-01     0.702044\n",
       "2012-04-01     0.702044\n",
       "2012-07-01     0.681396\n",
       "2012-09-01     0.660747\n",
       "2012-08-01     0.598802\n",
       "2015-03-01     0.578154\n",
       "2012-05-01     0.557506\n",
       "2012-12-01     0.536857\n",
       "2012-02-01     0.392319\n",
       "2015-06-01     0.392319\n",
       "2015-10-01     0.392319\n",
       "2015-01-01     0.371670\n",
       "2015-05-01     0.371670\n",
       "2014-12-01     0.289077\n",
       "2015-04-01     0.289077\n",
       "2011-10-01     0.289077\n",
       "2011-06-01     0.289077\n",
       "2011-05-01     0.247780\n",
       "2015-07-01     0.247780\n",
       "2011-12-01     0.247780\n",
       "2011-09-01     0.227132\n",
       "2011-08-01     0.227132\n",
       "2011-03-01     0.227132\n",
       "2009-01-01     0.185835\n",
       "2011-01-01     0.185835\n",
       "2015-11-01     0.185835\n",
       "2015-02-01     0.165187\n",
       "2016-06-01     0.165187\n",
       "2011-04-01     0.165187\n",
       "2016-04-01     0.165187\n",
       "2006-07-01     0.144539\n",
       "2015-12-01     0.144539\n",
       "2011-11-01     0.144539\n",
       "2016-03-01     0.123890\n",
       "2010-10-01     0.123890\n",
       "2006-08-01     0.123890\n",
       "2015-08-01     0.123890\n",
       "2010-03-01     0.123890\n",
       "2007-08-01     0.123890\n",
       "2010-02-01     0.103242\n",
       "2007-04-01     0.103242\n",
       "2010-09-01     0.103242\n",
       "2008-07-01     0.103242\n",
       "2005-06-01     0.103242\n",
       "2009-04-01     0.103242\n",
       "2008-01-01     0.103242\n",
       "2010-11-01     0.103242\n",
       "2010-07-01     0.103242\n",
       "2010-04-01     0.103242\n",
       "2008-05-01     0.103242\n",
       "2011-07-01     0.082593\n",
       "2008-11-01     0.082593\n",
       "2016-02-01     0.082593\n",
       "2005-11-01     0.082593\n",
       "2016-10-01     0.082593\n",
       "2009-11-01     0.082593\n",
       "2008-04-01     0.082593\n",
       "2010-12-01     0.082593\n",
       "2009-09-01     0.082593\n",
       "2009-05-01     0.082593\n",
       "2016-09-01     0.082593\n",
       "2015-09-01     0.082593\n",
       "2007-07-01     0.082593\n",
       "2008-02-01     0.082593\n",
       "2016-01-01     0.082593\n",
       "2009-07-01     0.082593\n",
       "2011-02-01     0.082593\n",
       "2010-05-01     0.082593\n",
       "2003-08-01     0.061945\n",
       "2008-08-01     0.061945\n",
       "2016-07-01     0.061945\n",
       "2009-08-01     0.061945\n",
       "2008-03-01     0.061945\n",
       "2008-12-01     0.061945\n",
       "2007-10-01     0.061945\n",
       "1997-07-01     0.061945\n",
       "2007-06-01     0.061945\n",
       "2008-06-01     0.061945\n",
       "2005-05-01     0.061945\n",
       "2005-03-01     0.061945\n",
       "2005-10-01     0.061945\n",
       "2005-08-01     0.041297\n",
       "2007-11-01     0.041297\n",
       "2006-05-01     0.041297\n",
       "2008-09-01     0.041297\n",
       "2005-04-01     0.041297\n",
       "2005-12-01     0.041297\n",
       "2016-05-01     0.041297\n",
       "2006-10-01     0.041297\n",
       "2000-02-01     0.041297\n",
       "2017-01-01     0.041297\n",
       "2006-02-01     0.041297\n",
       "2006-12-01     0.041297\n",
       "2010-01-01     0.041297\n",
       "2010-06-01     0.041297\n",
       "2006-01-01     0.041297\n",
       "2002-05-01     0.041297\n",
       "2001-05-01     0.041297\n",
       "2009-02-01     0.041297\n",
       "2010-08-01     0.041297\n",
       "2004-07-01     0.041297\n",
       "2007-03-01     0.041297\n",
       "2004-02-01     0.041297\n",
       "2008-10-01     0.041297\n",
       "2001-04-01     0.041297\n",
       "2006-09-01     0.041297\n",
       "2001-01-01     0.020648\n",
       "2006-03-01     0.020648\n",
       "2006-06-01     0.020648\n",
       "2004-11-01     0.020648\n",
       "2004-10-01     0.020648\n",
       "2003-09-01     0.020648\n",
       "1997-01-01     0.020648\n",
       "1999-03-01     0.020648\n",
       "2001-03-01     0.020648\n",
       "2004-06-01     0.020648\n",
       "2004-08-01     0.020648\n",
       "2017-02-01     0.020648\n",
       "2004-03-01     0.020648\n",
       "2016-12-01     0.020648\n",
       "2005-07-01     0.020648\n",
       "2009-12-01     0.020648\n",
       "2017-07-01     0.020648\n",
       "1999-06-01     0.020648\n",
       "2007-05-01     0.020648\n",
       "2005-02-01     0.020648\n",
       "2003-11-01     0.020648\n",
       "2006-04-01     0.020648\n",
       "2001-02-01     0.020648\n",
       "2017-11-01     0.020648\n",
       "2009-10-01     0.020648\n",
       "2001-09-01     0.020648\n",
       "1995-10-01     0.020648\n",
       "2007-02-01     0.020648\n",
       "2009-03-01     0.020648\n",
       "2003-06-01     0.020648\n",
       "2009-06-01     0.020648\n",
       "2007-09-01     0.020648\n",
       "2003-04-01     0.020648\n",
       "2002-09-01     0.020648\n",
       "2000-03-01     0.020648\n",
       "2016-08-01     0.020648\n",
       "2016-11-01     0.020648\n",
       "2005-01-01     0.020648\n",
       "2002-06-01     0.020648\n",
       "1999-11-01     0.020648\n",
       "2004-01-01     0.020648\n",
       "2003-07-01     0.020648\n",
       "2007-01-01     0.020648\n",
       "1990-03-01     0.020648\n",
       "2006-11-01     0.020648\n",
       "1994-01-01     0.020648\n",
       "2005-09-01     0.020648\n",
       "Name: proportion, dtype: float64"
      ]
     },
     "execution_count": 636,
     "metadata": {},
     "output_type": "execute_result"
    }
   ],
   "source": [
    "bmw2.fecha_registro.value_counts(dropna=False, normalize=True)*100"
   ]
  },
  {
   "cell_type": "markdown",
   "metadata": {},
   "source": [
    "Demasiados nulos; la eliminamos."
   ]
  },
  {
   "cell_type": "code",
   "execution_count": 637,
   "metadata": {},
   "outputs": [],
   "source": [
    "bmw3=bmw2.copy()"
   ]
  },
  {
   "cell_type": "code",
   "execution_count": 638,
   "metadata": {},
   "outputs": [],
   "source": [
    "del(bmw3['fecha_registro'])"
   ]
  },
  {
   "cell_type": "code",
   "execution_count": 639,
   "metadata": {},
   "outputs": [
    {
     "data": {
      "text/plain": [
       "modelo                            3\n",
       "km                                2\n",
       "potencia                          1\n",
       "tipo_gasolina                     5\n",
       "color                           445\n",
       "tipo_coche                     1460\n",
       "volante_regulable                 4\n",
       "aire_acondicionado              486\n",
       "camara_trasera                    2\n",
       "asientos_traseros_plegables    3391\n",
       "elevalunas_electrico              2\n",
       "bluetooth                       728\n",
       "gps                               0\n",
       "alerta_lim_velocidad            728\n",
       "precio                            6\n",
       "fecha_venta                       1\n",
       "dtype: int64"
      ]
     },
     "execution_count": 639,
     "metadata": {},
     "output_type": "execute_result"
    }
   ],
   "source": [
    "bmw3.isnull().sum()"
   ]
  },
  {
   "cell_type": "markdown",
   "metadata": {},
   "source": [
    "- 3.3- COLOR"
   ]
  },
  {
   "cell_type": "code",
   "execution_count": 640,
   "metadata": {},
   "outputs": [
    {
     "data": {
      "text/plain": [
       "color\n",
       "black     30.951889\n",
       "grey      22.093744\n",
       "blue      13.359488\n",
       "white      9.993805\n",
       "NaN        9.188520\n",
       "brown      6.235804\n",
       "silver     6.029321\n",
       "red        0.970473\n",
       "beige      0.763989\n",
       "green      0.289077\n",
       "orange     0.123890\n",
       "Name: proportion, dtype: float64"
      ]
     },
     "execution_count": 640,
     "metadata": {},
     "output_type": "execute_result"
    }
   ],
   "source": [
    "bmw3.color.value_counts(dropna=False,normalize=True)*100"
   ]
  },
  {
   "cell_type": "markdown",
   "metadata": {},
   "source": [
    "9,18% de nulos de la muestra total. No los eliminamos. Imputamos le valor 'sin_info_color'"
   ]
  },
  {
   "cell_type": "code",
   "execution_count": 641,
   "metadata": {},
   "outputs": [],
   "source": [
    "bmw4=bmw3.copy()"
   ]
  },
  {
   "cell_type": "code",
   "execution_count": 642,
   "metadata": {},
   "outputs": [],
   "source": [
    "bmw4['color'].fillna('otros',inplace=True)"
   ]
  },
  {
   "cell_type": "code",
   "execution_count": 643,
   "metadata": {},
   "outputs": [
    {
     "data": {
      "text/plain": [
       "color\n",
       "black     30.951889\n",
       "grey      22.093744\n",
       "blue      13.359488\n",
       "white      9.993805\n",
       "otros      9.188520\n",
       "brown      6.235804\n",
       "silver     6.029321\n",
       "red        0.970473\n",
       "beige      0.763989\n",
       "green      0.289077\n",
       "orange     0.123890\n",
       "Name: proportion, dtype: float64"
      ]
     },
     "execution_count": 643,
     "metadata": {},
     "output_type": "execute_result"
    }
   ],
   "source": [
    "bmw4.color.value_counts(dropna=False,normalize=True)*100"
   ]
  },
  {
   "cell_type": "code",
   "execution_count": 644,
   "metadata": {},
   "outputs": [
    {
     "data": {
      "text/plain": [
       "modelo                            3\n",
       "km                                2\n",
       "potencia                          1\n",
       "tipo_gasolina                     5\n",
       "color                             0\n",
       "tipo_coche                     1460\n",
       "volante_regulable                 4\n",
       "aire_acondicionado              486\n",
       "camara_trasera                    2\n",
       "asientos_traseros_plegables    3391\n",
       "elevalunas_electrico              2\n",
       "bluetooth                       728\n",
       "gps                               0\n",
       "alerta_lim_velocidad            728\n",
       "precio                            6\n",
       "fecha_venta                       1\n",
       "dtype: int64"
      ]
     },
     "execution_count": 644,
     "metadata": {},
     "output_type": "execute_result"
    }
   ],
   "source": [
    "bmw4.isnull().sum()"
   ]
  },
  {
   "cell_type": "markdown",
   "metadata": {},
   "source": [
    "- 3.4- TIPO_COCHE"
   ]
  },
  {
   "cell_type": "code",
   "execution_count": 645,
   "metadata": {},
   "outputs": [
    {
     "data": {
      "text/plain": [
       "tipo_coche\n",
       "NaN            30.146603\n",
       "estate         22.857733\n",
       "sedan          16.952302\n",
       "suv            15.589511\n",
       "hatchback      10.076399\n",
       "subcompact      1.589924\n",
       "coupe           1.569275\n",
       "convertible     0.619451\n",
       "van             0.598802\n",
       "Name: proportion, dtype: float64"
      ]
     },
     "execution_count": 645,
     "metadata": {},
     "output_type": "execute_result"
    }
   ],
   "source": [
    "bmw4.tipo_coche.value_counts(dropna=False,normalize=True)*100"
   ]
  },
  {
   "cell_type": "markdown",
   "metadata": {},
   "source": [
    "30.14% de nulos. No los podemos eliminar al ser infomración valiosa"
   ]
  },
  {
   "cell_type": "code",
   "execution_count": 646,
   "metadata": {},
   "outputs": [
    {
     "data": {
      "text/plain": [
       "tipo_coche\n",
       "estate         1107\n",
       "sedan           821\n",
       "suv             755\n",
       "hatchback       488\n",
       "subcompact       77\n",
       "coupe            76\n",
       "convertible      30\n",
       "van              29\n",
       "Name: count, dtype: int64"
      ]
     },
     "execution_count": 646,
     "metadata": {},
     "output_type": "execute_result"
    }
   ],
   "source": [
    "bmw4.tipo_coche.value_counts()"
   ]
  },
  {
   "cell_type": "code",
   "execution_count": 647,
   "metadata": {},
   "outputs": [
    {
     "data": {
      "text/plain": [
       "modelo             tipo_coche \n",
       " Active Tourer     van              1\n",
       "114                hatchback        6\n",
       "                   subcompact       4\n",
       "                   NaN              5\n",
       "116                estate           2\n",
       "                   hatchback      191\n",
       "                   sedan            3\n",
       "                   subcompact      56\n",
       "                   NaN            106\n",
       "118                convertible      1\n",
       "                   coupe            2\n",
       "                   hatchback       79\n",
       "                   sedan            3\n",
       "                   subcompact      13\n",
       "                   NaN             45\n",
       "120                convertible      4\n",
       "                   hatchback       16\n",
       "                   sedan            1\n",
       "                   subcompact       2\n",
       "                   NaN             13\n",
       "123                hatchback        1\n",
       "                   NaN              1\n",
       "125                hatchback        5\n",
       "135                convertible      1\n",
       "                   coupe            1\n",
       "                   hatchback        2\n",
       "214 Gran Tourer    van              1\n",
       "216                van              1\n",
       "216 Active Tourer  van              3\n",
       "216 Gran Tourer    van              1\n",
       "                   NaN              3\n",
       "218                convertible      3\n",
       "                   coupe            2\n",
       "                   van              2\n",
       "                   NaN              5\n",
       "218 Active Tourer  van             10\n",
       "                   NaN              3\n",
       "218 Gran Tourer    van              5\n",
       "                   NaN              4\n",
       "220                convertible      1\n",
       "                   coupe            1\n",
       "                   NaN              1\n",
       "220 Active Tourer  van              1\n",
       "225                coupe            1\n",
       "225 Active Tourer  van              1\n",
       "316                coupe            1\n",
       "                   estate          79\n",
       "                   hatchback        1\n",
       "                   sedan           85\n",
       "                   NaN             69\n",
       "318                convertible      3\n",
       "                   estate         273\n",
       "                   hatchback        1\n",
       "                   sedan          110\n",
       "                   subcompact       2\n",
       "                   NaN            179\n",
       "318 Gran Turismo   hatchback       55\n",
       "                   sedan            9\n",
       "                   NaN             33\n",
       "320                convertible      4\n",
       "                   coupe           13\n",
       "                   estate         305\n",
       "                   hatchback       17\n",
       "                   sedan          179\n",
       "                   NaN            234\n",
       "320 Gran Turismo   hatchback       38\n",
       "                   sedan           13\n",
       "                   van              1\n",
       "                   NaN             21\n",
       "325                convertible      1\n",
       "                   coupe            2\n",
       "                   estate           6\n",
       "                   sedan            3\n",
       "                   NaN              7\n",
       "325 Gran Turismo   estate           1\n",
       "                   hatchback        3\n",
       "328                estate           3\n",
       "                   sedan            1\n",
       "                   NaN              1\n",
       "330                convertible      1\n",
       "                   coupe            2\n",
       "                   estate          18\n",
       "                   sedan            6\n",
       "                   NaN              6\n",
       "330 Gran Turismo   hatchback        2\n",
       "                   NaN              1\n",
       "335                coupe            2\n",
       "                   estate           1\n",
       "                   sedan            2\n",
       "                   NaN              2\n",
       "335 Gran Turismo   hatchback        2\n",
       "                   NaN              1\n",
       "418 Gran Coupé     hatchback        7\n",
       "                   NaN              1\n",
       "420                convertible      4\n",
       "                   coupe           26\n",
       "                   hatchback        1\n",
       "                   sedan            1\n",
       "                   NaN             12\n",
       "420 Gran Coupé     hatchback       18\n",
       "                   sedan            3\n",
       "                   NaN             12\n",
       "425                coupe            1\n",
       "                   NaN              1\n",
       "430                coupe            1\n",
       "                   NaN              1\n",
       "430 Gran Coupé     coupe            1\n",
       "                   hatchback        2\n",
       "                   NaN              1\n",
       "435                coupe            4\n",
       "435 Gran Coupé     coupe            1\n",
       "                   hatchback        2\n",
       "                   sedan            1\n",
       "                   NaN              2\n",
       "518                estate          21\n",
       "                   sedan           24\n",
       "                   NaN             21\n",
       "520                estate         234\n",
       "                   hatchback        5\n",
       "                   sedan          197\n",
       "                   suv              1\n",
       "                   NaN            196\n",
       "520 Gran Turismo   hatchback       16\n",
       "                   sedan            1\n",
       "                   NaN              6\n",
       "523                estate           2\n",
       "                   sedan            1\n",
       "                   NaN              1\n",
       "525                estate          79\n",
       "                   sedan           52\n",
       "                   NaN             53\n",
       "528                estate           1\n",
       "                   sedan            3\n",
       "                   NaN              2\n",
       "530                estate          67\n",
       "                   hatchback        1\n",
       "                   sedan           50\n",
       "                   NaN             39\n",
       "530 Gran Turismo   hatchback        6\n",
       "                   sedan            6\n",
       "                   NaN              6\n",
       "535                estate          11\n",
       "                   sedan           16\n",
       "                   NaN             19\n",
       "535 Gran Turismo   sedan            1\n",
       "                   NaN              1\n",
       "630                coupe            1\n",
       "635                coupe            1\n",
       "640                coupe            7\n",
       "                   NaN              1\n",
       "640 Gran Coupé     coupe            2\n",
       "                   hatchback        6\n",
       "                   sedan            6\n",
       "                   NaN              5\n",
       "650                convertible      1\n",
       "                   NaN              1\n",
       "730                hatchback        1\n",
       "                   sedan           21\n",
       "                   NaN             11\n",
       "735                sedan            1\n",
       "740                sedan           12\n",
       "                   NaN              6\n",
       "750                sedan            1\n",
       "                   NaN              1\n",
       "ActiveHybrid 5     sedan            1\n",
       "M135               hatchback        1\n",
       "M235               coupe            1\n",
       "                   NaN              2\n",
       "M3                 coupe            2\n",
       "                   sedan            2\n",
       "                   NaN              3\n",
       "M4                 convertible      1\n",
       "                   NaN              1\n",
       "M5                 sedan            1\n",
       "M550               estate           3\n",
       "                   sedan            5\n",
       "                   NaN              4\n",
       "X1                 suv            193\n",
       "                   van              1\n",
       "                   NaN             80\n",
       "X3                 estate           1\n",
       "                   suv            311\n",
       "                   van              1\n",
       "                   NaN            125\n",
       "X4                 suv             32\n",
       "                   NaN             14\n",
       "X5                 suv            168\n",
       "                   NaN             63\n",
       "X5 M               suv              9\n",
       "                   NaN              8\n",
       "X5 M50             suv              3\n",
       "X6                 suv             30\n",
       "                   NaN             14\n",
       "X6 M               suv              7\n",
       "                   NaN              1\n",
       "Z4                 convertible      5\n",
       "                   NaN              1\n",
       "i3                 hatchback        3\n",
       "                   NaN              3\n",
       "i8                 coupe            1\n",
       "NaN                suv              0\n",
       "                   NaN              0\n",
       "Name: modelo, dtype: int64"
      ]
     },
     "execution_count": 647,
     "metadata": {},
     "output_type": "execute_result"
    }
   ],
   "source": [
    "bmw4.groupby(['modelo', 'tipo_coche'], dropna = False)['modelo'].count()"
   ]
  },
  {
   "cell_type": "code",
   "execution_count": 648,
   "metadata": {},
   "outputs": [],
   "source": [
    "bmw5=bmw4.copy()"
   ]
  },
  {
   "cell_type": "code",
   "execution_count": 649,
   "metadata": {},
   "outputs": [],
   "source": [
    "bmw5.tipo_coche.fillna('otros',inplace=True)"
   ]
  },
  {
   "cell_type": "code",
   "execution_count": 650,
   "metadata": {},
   "outputs": [
    {
     "data": {
      "text/plain": [
       "tipo_coche\n",
       "otros          30.146603\n",
       "estate         22.857733\n",
       "sedan          16.952302\n",
       "suv            15.589511\n",
       "hatchback      10.076399\n",
       "subcompact      1.589924\n",
       "coupe           1.569275\n",
       "convertible     0.619451\n",
       "van             0.598802\n",
       "Name: proportion, dtype: float64"
      ]
     },
     "execution_count": 650,
     "metadata": {},
     "output_type": "execute_result"
    }
   ],
   "source": [
    "bmw5.tipo_coche.value_counts(normalize=True)*100"
   ]
  },
  {
   "cell_type": "code",
   "execution_count": 651,
   "metadata": {},
   "outputs": [
    {
     "data": {
      "text/plain": [
       "modelo                            3\n",
       "km                                2\n",
       "potencia                          1\n",
       "tipo_gasolina                     5\n",
       "color                             0\n",
       "tipo_coche                        0\n",
       "volante_regulable                 4\n",
       "aire_acondicionado              486\n",
       "camara_trasera                    2\n",
       "asientos_traseros_plegables    3391\n",
       "elevalunas_electrico              2\n",
       "bluetooth                       728\n",
       "gps                               0\n",
       "alerta_lim_velocidad            728\n",
       "precio                            6\n",
       "fecha_venta                       1\n",
       "dtype: int64"
      ]
     },
     "execution_count": 651,
     "metadata": {},
     "output_type": "execute_result"
    }
   ],
   "source": [
    "bmw5.isnull().sum()"
   ]
  },
  {
   "cell_type": "markdown",
   "metadata": {},
   "source": [
    "- 3.5.- AIRE_ACONDICIONADO"
   ]
  },
  {
   "cell_type": "code",
   "execution_count": 652,
   "metadata": {},
   "outputs": [
    {
     "data": {
      "text/plain": [
       "aire_acondicionado\n",
       "True     71.546562\n",
       "False    18.418336\n",
       "NaN      10.035102\n",
       "Name: proportion, dtype: float64"
      ]
     },
     "execution_count": 652,
     "metadata": {},
     "output_type": "execute_result"
    }
   ],
   "source": [
    "bmw5.aire_acondicionado.value_counts(dropna=False,normalize=True)*100"
   ]
  },
  {
   "cell_type": "code",
   "execution_count": 653,
   "metadata": {},
   "outputs": [],
   "source": [
    "bmw6=bmw5.copy()"
   ]
  },
  {
   "cell_type": "code",
   "execution_count": 654,
   "metadata": {},
   "outputs": [],
   "source": [
    "bmw6.aire_acondicionado.fillna('sin_info',inplace=True)"
   ]
  },
  {
   "cell_type": "code",
   "execution_count": 655,
   "metadata": {},
   "outputs": [
    {
     "data": {
      "text/plain": [
       "aire_acondicionado\n",
       "True        71.546562\n",
       "False       18.418336\n",
       "sin_info    10.035102\n",
       "Name: proportion, dtype: float64"
      ]
     },
     "execution_count": 655,
     "metadata": {},
     "output_type": "execute_result"
    }
   ],
   "source": [
    "bmw6.aire_acondicionado.value_counts(dropna=False,normalize=True)*100"
   ]
  },
  {
   "cell_type": "code",
   "execution_count": 656,
   "metadata": {},
   "outputs": [
    {
     "data": {
      "text/plain": [
       "modelo                            3\n",
       "km                                2\n",
       "potencia                          1\n",
       "tipo_gasolina                     5\n",
       "color                             0\n",
       "tipo_coche                        0\n",
       "volante_regulable                 4\n",
       "aire_acondicionado                0\n",
       "camara_trasera                    2\n",
       "asientos_traseros_plegables    3391\n",
       "elevalunas_electrico              2\n",
       "bluetooth                       728\n",
       "gps                               0\n",
       "alerta_lim_velocidad            728\n",
       "precio                            6\n",
       "fecha_venta                       1\n",
       "dtype: int64"
      ]
     },
     "execution_count": 656,
     "metadata": {},
     "output_type": "execute_result"
    }
   ],
   "source": [
    "bmw6.isnull().sum()"
   ]
  },
  {
   "cell_type": "markdown",
   "metadata": {},
   "source": [
    "- 3.6.- ASIENTOS_TRASEROS_PLEGABLES"
   ]
  },
  {
   "cell_type": "code",
   "execution_count": 657,
   "metadata": {},
   "outputs": [
    {
     "data": {
      "text/plain": [
       "asientos_traseros_plegables\n",
       "NaN      70.018584\n",
       "False    23.745612\n",
       "True      6.235804\n",
       "Name: proportion, dtype: float64"
      ]
     },
     "execution_count": 657,
     "metadata": {},
     "output_type": "execute_result"
    }
   ],
   "source": [
    "bmw6.asientos_traseros_plegables.value_counts(dropna=False,normalize=True)*100"
   ]
  },
  {
   "cell_type": "code",
   "execution_count": 658,
   "metadata": {},
   "outputs": [],
   "source": [
    "bmw7=bmw6.copy()"
   ]
  },
  {
   "cell_type": "code",
   "execution_count": 659,
   "metadata": {},
   "outputs": [],
   "source": [
    "del(bmw7['asientos_traseros_plegables'])"
   ]
  },
  {
   "cell_type": "code",
   "execution_count": 660,
   "metadata": {},
   "outputs": [
    {
     "data": {
      "text/plain": [
       "modelo                    3\n",
       "km                        2\n",
       "potencia                  1\n",
       "tipo_gasolina             5\n",
       "color                     0\n",
       "tipo_coche                0\n",
       "volante_regulable         4\n",
       "aire_acondicionado        0\n",
       "camara_trasera            2\n",
       "elevalunas_electrico      2\n",
       "bluetooth               728\n",
       "gps                       0\n",
       "alerta_lim_velocidad    728\n",
       "precio                    6\n",
       "fecha_venta               1\n",
       "dtype: int64"
      ]
     },
     "execution_count": 660,
     "metadata": {},
     "output_type": "execute_result"
    }
   ],
   "source": [
    "bmw7.isnull().sum()"
   ]
  },
  {
   "cell_type": "markdown",
   "metadata": {},
   "source": [
    "- 3.7.- BLUETOOTH"
   ]
  },
  {
   "cell_type": "code",
   "execution_count": 661,
   "metadata": {},
   "outputs": [
    {
     "data": {
      "text/plain": [
       "bluetooth\n",
       "False    64.402230\n",
       "True     20.565765\n",
       "NaN      15.032005\n",
       "Name: proportion, dtype: float64"
      ]
     },
     "execution_count": 661,
     "metadata": {},
     "output_type": "execute_result"
    }
   ],
   "source": [
    "bmw7.bluetooth.value_counts(dropna=False,normalize=True)*100"
   ]
  },
  {
   "cell_type": "code",
   "execution_count": 662,
   "metadata": {},
   "outputs": [],
   "source": [
    "bmw8=bmw7.copy()"
   ]
  },
  {
   "cell_type": "code",
   "execution_count": 663,
   "metadata": {},
   "outputs": [],
   "source": [
    "bmw8.bluetooth.fillna('sin_info',inplace=True)"
   ]
  },
  {
   "cell_type": "code",
   "execution_count": 664,
   "metadata": {},
   "outputs": [
    {
     "data": {
      "text/plain": [
       "modelo                    3\n",
       "km                        2\n",
       "potencia                  1\n",
       "tipo_gasolina             5\n",
       "color                     0\n",
       "tipo_coche                0\n",
       "volante_regulable         4\n",
       "aire_acondicionado        0\n",
       "camara_trasera            2\n",
       "elevalunas_electrico      2\n",
       "bluetooth                 0\n",
       "gps                       0\n",
       "alerta_lim_velocidad    728\n",
       "precio                    6\n",
       "fecha_venta               1\n",
       "dtype: int64"
      ]
     },
     "execution_count": 664,
     "metadata": {},
     "output_type": "execute_result"
    }
   ],
   "source": [
    "bmw8.isnull().sum()"
   ]
  },
  {
   "cell_type": "markdown",
   "metadata": {},
   "source": [
    "- 3.8.- ALERTA_LIM_VELOCIDAD"
   ]
  },
  {
   "cell_type": "code",
   "execution_count": 665,
   "metadata": {},
   "outputs": [
    {
     "data": {
      "text/plain": [
       "alerta_lim_velocidad\n",
       "True     46.252323\n",
       "False    38.715672\n",
       "NaN      15.032005\n",
       "Name: proportion, dtype: float64"
      ]
     },
     "execution_count": 665,
     "metadata": {},
     "output_type": "execute_result"
    }
   ],
   "source": [
    "bmw8.alerta_lim_velocidad.value_counts(dropna=False,normalize=True)*100"
   ]
  },
  {
   "cell_type": "code",
   "execution_count": 666,
   "metadata": {},
   "outputs": [],
   "source": [
    "bmw9=bmw8.copy()"
   ]
  },
  {
   "cell_type": "code",
   "execution_count": 667,
   "metadata": {},
   "outputs": [],
   "source": [
    "bmw9.alerta_lim_velocidad.fillna('sin_info',inplace=True)"
   ]
  },
  {
   "cell_type": "code",
   "execution_count": 668,
   "metadata": {},
   "outputs": [
    {
     "data": {
      "text/plain": [
       "modelo                  3\n",
       "km                      2\n",
       "potencia                1\n",
       "tipo_gasolina           5\n",
       "color                   0\n",
       "tipo_coche              0\n",
       "volante_regulable       4\n",
       "aire_acondicionado      0\n",
       "camara_trasera          2\n",
       "elevalunas_electrico    2\n",
       "bluetooth               0\n",
       "gps                     0\n",
       "alerta_lim_velocidad    0\n",
       "precio                  6\n",
       "fecha_venta             1\n",
       "dtype: int64"
      ]
     },
     "execution_count": 668,
     "metadata": {},
     "output_type": "execute_result"
    }
   ],
   "source": [
    "bmw9.isnull().sum()"
   ]
  },
  {
   "cell_type": "markdown",
   "metadata": {},
   "source": [
    "3.9.- Categorías con pocos nulos."
   ]
  },
  {
   "cell_type": "markdown",
   "metadata": {},
   "source": [
    "\n",
    "    3.9.1.- MODELO"
   ]
  },
  {
   "cell_type": "code",
   "execution_count": 669,
   "metadata": {},
   "outputs": [
    {
     "data": {
      "text/html": [
       "<div>\n",
       "<style scoped>\n",
       "    .dataframe tbody tr th:only-of-type {\n",
       "        vertical-align: middle;\n",
       "    }\n",
       "\n",
       "    .dataframe tbody tr th {\n",
       "        vertical-align: top;\n",
       "    }\n",
       "\n",
       "    .dataframe thead th {\n",
       "        text-align: right;\n",
       "    }\n",
       "</style>\n",
       "<table border=\"1\" class=\"dataframe\">\n",
       "  <thead>\n",
       "    <tr style=\"text-align: right;\">\n",
       "      <th></th>\n",
       "      <th>modelo</th>\n",
       "      <th>km</th>\n",
       "      <th>potencia</th>\n",
       "      <th>tipo_gasolina</th>\n",
       "      <th>color</th>\n",
       "      <th>tipo_coche</th>\n",
       "      <th>volante_regulable</th>\n",
       "      <th>aire_acondicionado</th>\n",
       "      <th>camara_trasera</th>\n",
       "      <th>elevalunas_electrico</th>\n",
       "      <th>bluetooth</th>\n",
       "      <th>gps</th>\n",
       "      <th>alerta_lim_velocidad</th>\n",
       "      <th>precio</th>\n",
       "      <th>fecha_venta</th>\n",
       "    </tr>\n",
       "  </thead>\n",
       "  <tbody>\n",
       "    <tr>\n",
       "      <th>173</th>\n",
       "      <td>NaN</td>\n",
       "      <td>146338.0</td>\n",
       "      <td>105.0</td>\n",
       "      <td>diesel</td>\n",
       "      <td>black</td>\n",
       "      <td>otros</td>\n",
       "      <td>False</td>\n",
       "      <td>True</td>\n",
       "      <td>False</td>\n",
       "      <td>False</td>\n",
       "      <td>sin_info</td>\n",
       "      <td>True</td>\n",
       "      <td>sin_info</td>\n",
       "      <td>13300.0</td>\n",
       "      <td>2018-08-01</td>\n",
       "    </tr>\n",
       "    <tr>\n",
       "      <th>4766</th>\n",
       "      <td>NaN</td>\n",
       "      <td>115566.0</td>\n",
       "      <td>105.0</td>\n",
       "      <td>diesel</td>\n",
       "      <td>silver</td>\n",
       "      <td>suv</td>\n",
       "      <td>False</td>\n",
       "      <td>True</td>\n",
       "      <td>False</td>\n",
       "      <td>True</td>\n",
       "      <td>False</td>\n",
       "      <td>True</td>\n",
       "      <td>False</td>\n",
       "      <td>14900.0</td>\n",
       "      <td>2018-09-01</td>\n",
       "    </tr>\n",
       "    <tr>\n",
       "      <th>4802</th>\n",
       "      <td>NaN</td>\n",
       "      <td>118640.0</td>\n",
       "      <td>110.0</td>\n",
       "      <td>diesel</td>\n",
       "      <td>white</td>\n",
       "      <td>otros</td>\n",
       "      <td>False</td>\n",
       "      <td>False</td>\n",
       "      <td>False</td>\n",
       "      <td>False</td>\n",
       "      <td>False</td>\n",
       "      <td>False</td>\n",
       "      <td>False</td>\n",
       "      <td>800.0</td>\n",
       "      <td>2018-03-01</td>\n",
       "    </tr>\n",
       "  </tbody>\n",
       "</table>\n",
       "</div>"
      ],
      "text/plain": [
       "     modelo        km  potencia tipo_gasolina   color tipo_coche  \\\n",
       "173     NaN  146338.0     105.0        diesel   black      otros   \n",
       "4766    NaN  115566.0     105.0        diesel  silver        suv   \n",
       "4802    NaN  118640.0     110.0        diesel   white      otros   \n",
       "\n",
       "     volante_regulable aire_acondicionado camara_trasera elevalunas_electrico  \\\n",
       "173              False               True          False                False   \n",
       "4766             False               True          False                 True   \n",
       "4802             False              False          False                False   \n",
       "\n",
       "     bluetooth    gps alerta_lim_velocidad   precio fecha_venta  \n",
       "173   sin_info   True             sin_info  13300.0  2018-08-01  \n",
       "4766     False   True                False  14900.0  2018-09-01  \n",
       "4802     False  False                False    800.0  2018-03-01  "
      ]
     },
     "execution_count": 669,
     "metadata": {},
     "output_type": "execute_result"
    }
   ],
   "source": [
    "bmw9[bmw9.modelo.isnull()]"
   ]
  },
  {
   "cell_type": "markdown",
   "metadata": {},
   "source": [
    "Evaluamos los 3 nulos de forma individual"
   ]
  },
  {
   "cell_type": "code",
   "execution_count": 670,
   "metadata": {},
   "outputs": [
    {
     "data": {
      "text/plain": [
       "modelo\n",
       "318                 63.106796\n",
       "X1                  11.650485\n",
       "118                 10.679612\n",
       "318 Gran Turismo     9.708738\n",
       "X3                   3.883495\n",
       "525                  0.970874\n",
       "Name: proportion, dtype: float64"
      ]
     },
     "execution_count": 670,
     "metadata": {},
     "output_type": "execute_result"
    }
   ],
   "source": [
    "#Vehículo indice 173\n",
    "bmw9[(bmw9['potencia']==105) & (bmw9['tipo_gasolina']=='diesel')&(bmw9['aire_acondicionado']==True)&(bmw9['camara_trasera']==False)&(bmw9['elevalunas_electrico']==False)&(bmw9['volante_regulable']==False)&(bmw9['gps']==True)]['modelo'].value_counts(normalize=True)*100"
   ]
  },
  {
   "cell_type": "code",
   "execution_count": 671,
   "metadata": {},
   "outputs": [],
   "source": [
    "#Imputamos el modelo 318\n",
    "bmw9.loc[[173],['modelo']]='318'"
   ]
  },
  {
   "cell_type": "code",
   "execution_count": 672,
   "metadata": {},
   "outputs": [
    {
     "data": {
      "text/html": [
       "<div>\n",
       "<style scoped>\n",
       "    .dataframe tbody tr th:only-of-type {\n",
       "        vertical-align: middle;\n",
       "    }\n",
       "\n",
       "    .dataframe tbody tr th {\n",
       "        vertical-align: top;\n",
       "    }\n",
       "\n",
       "    .dataframe thead th {\n",
       "        text-align: right;\n",
       "    }\n",
       "</style>\n",
       "<table border=\"1\" class=\"dataframe\">\n",
       "  <thead>\n",
       "    <tr style=\"text-align: right;\">\n",
       "      <th></th>\n",
       "      <th>modelo</th>\n",
       "      <th>km</th>\n",
       "      <th>potencia</th>\n",
       "      <th>tipo_gasolina</th>\n",
       "      <th>color</th>\n",
       "      <th>tipo_coche</th>\n",
       "      <th>volante_regulable</th>\n",
       "      <th>aire_acondicionado</th>\n",
       "      <th>camara_trasera</th>\n",
       "      <th>elevalunas_electrico</th>\n",
       "      <th>bluetooth</th>\n",
       "      <th>gps</th>\n",
       "      <th>alerta_lim_velocidad</th>\n",
       "      <th>precio</th>\n",
       "      <th>fecha_venta</th>\n",
       "    </tr>\n",
       "  </thead>\n",
       "  <tbody>\n",
       "    <tr>\n",
       "      <th>173</th>\n",
       "      <td>318</td>\n",
       "      <td>146338.0</td>\n",
       "      <td>105.0</td>\n",
       "      <td>diesel</td>\n",
       "      <td>black</td>\n",
       "      <td>otros</td>\n",
       "      <td>False</td>\n",
       "      <td>True</td>\n",
       "      <td>False</td>\n",
       "      <td>False</td>\n",
       "      <td>sin_info</td>\n",
       "      <td>True</td>\n",
       "      <td>sin_info</td>\n",
       "      <td>13300.0</td>\n",
       "      <td>2018-08-01</td>\n",
       "    </tr>\n",
       "  </tbody>\n",
       "</table>\n",
       "</div>"
      ],
      "text/plain": [
       "    modelo        km  potencia tipo_gasolina  color tipo_coche  \\\n",
       "173    318  146338.0     105.0        diesel  black      otros   \n",
       "\n",
       "    volante_regulable aire_acondicionado camara_trasera elevalunas_electrico  \\\n",
       "173             False               True          False                False   \n",
       "\n",
       "    bluetooth   gps alerta_lim_velocidad   precio fecha_venta  \n",
       "173  sin_info  True             sin_info  13300.0  2018-08-01  "
      ]
     },
     "execution_count": 672,
     "metadata": {},
     "output_type": "execute_result"
    }
   ],
   "source": [
    "#Checkeo\n",
    "bmw9.loc[[173]]"
   ]
  },
  {
   "cell_type": "code",
   "execution_count": 673,
   "metadata": {},
   "outputs": [
    {
     "data": {
      "text/plain": [
       "modelo\n",
       "X1    62.5\n",
       "X3    37.5\n",
       "Name: proportion, dtype: float64"
      ]
     },
     "execution_count": 673,
     "metadata": {},
     "output_type": "execute_result"
    }
   ],
   "source": [
    "#Vehículo indice 4766\n",
    "bmw9[(bmw9['potencia']==105) & (bmw9['tipo_gasolina']=='diesel')&(bmw9['aire_acondicionado']==True)&(bmw9['camara_trasera']==False)&(bmw9['elevalunas_electrico']==True)&(bmw9['volante_regulable']==False)&(bmw9['gps']==True)&(bmw9['tipo_coche']=='suv')&(bmw9['bluetooth']==False)]['modelo'].value_counts(normalize=True)*100"
   ]
  },
  {
   "cell_type": "code",
   "execution_count": 674,
   "metadata": {},
   "outputs": [],
   "source": [
    "#Imputamos el modelo X1\n",
    "bmw9.loc[[4766],['modelo']]='X1'"
   ]
  },
  {
   "cell_type": "code",
   "execution_count": 675,
   "metadata": {},
   "outputs": [
    {
     "data": {
      "text/html": [
       "<div>\n",
       "<style scoped>\n",
       "    .dataframe tbody tr th:only-of-type {\n",
       "        vertical-align: middle;\n",
       "    }\n",
       "\n",
       "    .dataframe tbody tr th {\n",
       "        vertical-align: top;\n",
       "    }\n",
       "\n",
       "    .dataframe thead th {\n",
       "        text-align: right;\n",
       "    }\n",
       "</style>\n",
       "<table border=\"1\" class=\"dataframe\">\n",
       "  <thead>\n",
       "    <tr style=\"text-align: right;\">\n",
       "      <th></th>\n",
       "      <th>modelo</th>\n",
       "      <th>km</th>\n",
       "      <th>potencia</th>\n",
       "      <th>tipo_gasolina</th>\n",
       "      <th>color</th>\n",
       "      <th>tipo_coche</th>\n",
       "      <th>volante_regulable</th>\n",
       "      <th>aire_acondicionado</th>\n",
       "      <th>camara_trasera</th>\n",
       "      <th>elevalunas_electrico</th>\n",
       "      <th>bluetooth</th>\n",
       "      <th>gps</th>\n",
       "      <th>alerta_lim_velocidad</th>\n",
       "      <th>precio</th>\n",
       "      <th>fecha_venta</th>\n",
       "    </tr>\n",
       "  </thead>\n",
       "  <tbody>\n",
       "    <tr>\n",
       "      <th>4766</th>\n",
       "      <td>X1</td>\n",
       "      <td>115566.0</td>\n",
       "      <td>105.0</td>\n",
       "      <td>diesel</td>\n",
       "      <td>silver</td>\n",
       "      <td>suv</td>\n",
       "      <td>False</td>\n",
       "      <td>True</td>\n",
       "      <td>False</td>\n",
       "      <td>True</td>\n",
       "      <td>False</td>\n",
       "      <td>True</td>\n",
       "      <td>False</td>\n",
       "      <td>14900.0</td>\n",
       "      <td>2018-09-01</td>\n",
       "    </tr>\n",
       "  </tbody>\n",
       "</table>\n",
       "</div>"
      ],
      "text/plain": [
       "     modelo        km  potencia tipo_gasolina   color tipo_coche  \\\n",
       "4766     X1  115566.0     105.0        diesel  silver        suv   \n",
       "\n",
       "     volante_regulable aire_acondicionado camara_trasera elevalunas_electrico  \\\n",
       "4766             False               True          False                 True   \n",
       "\n",
       "     bluetooth   gps alerta_lim_velocidad   precio fecha_venta  \n",
       "4766     False  True                False  14900.0  2018-09-01  "
      ]
     },
     "execution_count": 675,
     "metadata": {},
     "output_type": "execute_result"
    }
   ],
   "source": [
    "#chekeo\n",
    "bmw9.loc[[4766]]"
   ]
  },
  {
   "cell_type": "code",
   "execution_count": 676,
   "metadata": {},
   "outputs": [
    {
     "data": {
      "text/plain": [
       "modelo\n",
       "X3     33.333333\n",
       "218    33.333333\n",
       "318    16.666667\n",
       "X1     16.666667\n",
       "Name: proportion, dtype: float64"
      ]
     },
     "execution_count": 676,
     "metadata": {},
     "output_type": "execute_result"
    }
   ],
   "source": [
    "#Vehículo indice 4802\n",
    "bmw9[(bmw9['potencia']==110) & (bmw9['tipo_gasolina']=='diesel')&(bmw9['aire_acondicionado']==False)&(bmw9['camara_trasera']==False)&(bmw9['elevalunas_electrico']==False)&(bmw9['volante_regulable']==False)&(bmw9['gps']==False)&(bmw9['bluetooth']==False)]['modelo'].value_counts(normalize=True)*100"
   ]
  },
  {
   "cell_type": "code",
   "execution_count": 677,
   "metadata": {},
   "outputs": [
    {
     "data": {
      "text/plain": [
       "modelo\n",
       "X3     33.333333\n",
       "218    33.333333\n",
       "318    16.666667\n",
       "X1     16.666667\n",
       "Name: proportion, dtype: float64"
      ]
     },
     "execution_count": 677,
     "metadata": {},
     "output_type": "execute_result"
    }
   ],
   "source": [
    "#Vehículo indice 4802\n",
    "bmw9[(bmw2['potencia']==110) & (bmw9['tipo_gasolina']=='diesel')&(bmw9['aire_acondicionado']==False)&(bmw9['camara_trasera']==False)&(bmw9['elevalunas_electrico']==False)&(bmw9['volante_regulable']==False)&(bmw9['gps']==False)&(bmw9['bluetooth']==False)]['modelo'].value_counts(normalize=True)*100"
   ]
  },
  {
   "cell_type": "code",
   "execution_count": 678,
   "metadata": {},
   "outputs": [],
   "source": [
    "#No podemos imputar un valor más probable.\n",
    "#Lo eliminamos\n",
    "bmw9=bmw9.drop(index=4802)"
   ]
  },
  {
   "cell_type": "code",
   "execution_count": 679,
   "metadata": {},
   "outputs": [],
   "source": [
    "#bmw9.loc[[4802]]"
   ]
  },
  {
   "cell_type": "code",
   "execution_count": 680,
   "metadata": {},
   "outputs": [
    {
     "data": {
      "text/plain": [
       "modelo                  0\n",
       "km                      2\n",
       "potencia                1\n",
       "tipo_gasolina           5\n",
       "color                   0\n",
       "tipo_coche              0\n",
       "volante_regulable       4\n",
       "aire_acondicionado      0\n",
       "camara_trasera          2\n",
       "elevalunas_electrico    2\n",
       "bluetooth               0\n",
       "gps                     0\n",
       "alerta_lim_velocidad    0\n",
       "precio                  6\n",
       "fecha_venta             1\n",
       "dtype: int64"
      ]
     },
     "execution_count": 680,
     "metadata": {},
     "output_type": "execute_result"
    }
   ],
   "source": [
    "bmw9.isnull().sum()"
   ]
  },
  {
   "cell_type": "markdown",
   "metadata": {},
   "source": [
    "    3.9.2.- KM"
   ]
  },
  {
   "cell_type": "code",
   "execution_count": 681,
   "metadata": {},
   "outputs": [
    {
     "data": {
      "text/html": [
       "<div>\n",
       "<style scoped>\n",
       "    .dataframe tbody tr th:only-of-type {\n",
       "        vertical-align: middle;\n",
       "    }\n",
       "\n",
       "    .dataframe tbody tr th {\n",
       "        vertical-align: top;\n",
       "    }\n",
       "\n",
       "    .dataframe thead th {\n",
       "        text-align: right;\n",
       "    }\n",
       "</style>\n",
       "<table border=\"1\" class=\"dataframe\">\n",
       "  <thead>\n",
       "    <tr style=\"text-align: right;\">\n",
       "      <th></th>\n",
       "      <th>modelo</th>\n",
       "      <th>km</th>\n",
       "      <th>potencia</th>\n",
       "      <th>tipo_gasolina</th>\n",
       "      <th>color</th>\n",
       "      <th>tipo_coche</th>\n",
       "      <th>volante_regulable</th>\n",
       "      <th>aire_acondicionado</th>\n",
       "      <th>camara_trasera</th>\n",
       "      <th>elevalunas_electrico</th>\n",
       "      <th>bluetooth</th>\n",
       "      <th>gps</th>\n",
       "      <th>alerta_lim_velocidad</th>\n",
       "      <th>precio</th>\n",
       "      <th>fecha_venta</th>\n",
       "    </tr>\n",
       "  </thead>\n",
       "  <tbody>\n",
       "    <tr>\n",
       "      <th>459</th>\n",
       "      <td>520</td>\n",
       "      <td>NaN</td>\n",
       "      <td>135.0</td>\n",
       "      <td>diesel</td>\n",
       "      <td>black</td>\n",
       "      <td>otros</td>\n",
       "      <td>True</td>\n",
       "      <td>True</td>\n",
       "      <td>True</td>\n",
       "      <td>True</td>\n",
       "      <td>True</td>\n",
       "      <td>True</td>\n",
       "      <td>True</td>\n",
       "      <td>20300.0</td>\n",
       "      <td>2018-02-01</td>\n",
       "    </tr>\n",
       "    <tr>\n",
       "      <th>4811</th>\n",
       "      <td>X3</td>\n",
       "      <td>NaN</td>\n",
       "      <td>190.0</td>\n",
       "      <td>diesel</td>\n",
       "      <td>blue</td>\n",
       "      <td>van</td>\n",
       "      <td>True</td>\n",
       "      <td>True</td>\n",
       "      <td>True</td>\n",
       "      <td>True</td>\n",
       "      <td>False</td>\n",
       "      <td>True</td>\n",
       "      <td>True</td>\n",
       "      <td>19500.0</td>\n",
       "      <td>2018-07-01</td>\n",
       "    </tr>\n",
       "  </tbody>\n",
       "</table>\n",
       "</div>"
      ],
      "text/plain": [
       "     modelo  km  potencia tipo_gasolina  color tipo_coche volante_regulable  \\\n",
       "459     520 NaN     135.0        diesel  black      otros              True   \n",
       "4811     X3 NaN     190.0        diesel   blue        van              True   \n",
       "\n",
       "     aire_acondicionado camara_trasera elevalunas_electrico bluetooth   gps  \\\n",
       "459                True           True                 True      True  True   \n",
       "4811               True           True                 True     False  True   \n",
       "\n",
       "     alerta_lim_velocidad   precio fecha_venta  \n",
       "459                  True  20300.0  2018-02-01  \n",
       "4811                 True  19500.0  2018-07-01  "
      ]
     },
     "execution_count": 681,
     "metadata": {},
     "output_type": "execute_result"
    }
   ],
   "source": [
    "bmw9[bmw9['km'].isnull()]"
   ]
  },
  {
   "cell_type": "markdown",
   "metadata": {},
   "source": [
    "No podemos imputar de ninguna manera los KM de cada vehículo. Los eliminamos."
   ]
  },
  {
   "cell_type": "code",
   "execution_count": 682,
   "metadata": {},
   "outputs": [],
   "source": [
    "bmw9.dropna(subset='km', inplace=True)"
   ]
  },
  {
   "cell_type": "code",
   "execution_count": 683,
   "metadata": {},
   "outputs": [
    {
     "data": {
      "text/html": [
       "<div>\n",
       "<style scoped>\n",
       "    .dataframe tbody tr th:only-of-type {\n",
       "        vertical-align: middle;\n",
       "    }\n",
       "\n",
       "    .dataframe tbody tr th {\n",
       "        vertical-align: top;\n",
       "    }\n",
       "\n",
       "    .dataframe thead th {\n",
       "        text-align: right;\n",
       "    }\n",
       "</style>\n",
       "<table border=\"1\" class=\"dataframe\">\n",
       "  <thead>\n",
       "    <tr style=\"text-align: right;\">\n",
       "      <th></th>\n",
       "      <th>modelo</th>\n",
       "      <th>km</th>\n",
       "      <th>potencia</th>\n",
       "      <th>tipo_gasolina</th>\n",
       "      <th>color</th>\n",
       "      <th>tipo_coche</th>\n",
       "      <th>volante_regulable</th>\n",
       "      <th>aire_acondicionado</th>\n",
       "      <th>camara_trasera</th>\n",
       "      <th>elevalunas_electrico</th>\n",
       "      <th>bluetooth</th>\n",
       "      <th>gps</th>\n",
       "      <th>alerta_lim_velocidad</th>\n",
       "      <th>precio</th>\n",
       "      <th>fecha_venta</th>\n",
       "    </tr>\n",
       "  </thead>\n",
       "  <tbody>\n",
       "  </tbody>\n",
       "</table>\n",
       "</div>"
      ],
      "text/plain": [
       "Empty DataFrame\n",
       "Columns: [modelo, km, potencia, tipo_gasolina, color, tipo_coche, volante_regulable, aire_acondicionado, camara_trasera, elevalunas_electrico, bluetooth, gps, alerta_lim_velocidad, precio, fecha_venta]\n",
       "Index: []"
      ]
     },
     "execution_count": 683,
     "metadata": {},
     "output_type": "execute_result"
    }
   ],
   "source": [
    "bmw9[bmw9['km'].isnull()]"
   ]
  },
  {
   "cell_type": "code",
   "execution_count": 684,
   "metadata": {},
   "outputs": [
    {
     "data": {
      "text/plain": [
       "modelo                  0\n",
       "km                      0\n",
       "potencia                1\n",
       "tipo_gasolina           5\n",
       "color                   0\n",
       "tipo_coche              0\n",
       "volante_regulable       4\n",
       "aire_acondicionado      0\n",
       "camara_trasera          2\n",
       "elevalunas_electrico    2\n",
       "bluetooth               0\n",
       "gps                     0\n",
       "alerta_lim_velocidad    0\n",
       "precio                  6\n",
       "fecha_venta             1\n",
       "dtype: int64"
      ]
     },
     "execution_count": 684,
     "metadata": {},
     "output_type": "execute_result"
    }
   ],
   "source": [
    "bmw9.isnull().sum()"
   ]
  },
  {
   "cell_type": "markdown",
   "metadata": {},
   "source": [
    "    3.9.3.- POTENCIA"
   ]
  },
  {
   "cell_type": "code",
   "execution_count": 685,
   "metadata": {},
   "outputs": [
    {
     "data": {
      "text/html": [
       "<div>\n",
       "<style scoped>\n",
       "    .dataframe tbody tr th:only-of-type {\n",
       "        vertical-align: middle;\n",
       "    }\n",
       "\n",
       "    .dataframe tbody tr th {\n",
       "        vertical-align: top;\n",
       "    }\n",
       "\n",
       "    .dataframe thead th {\n",
       "        text-align: right;\n",
       "    }\n",
       "</style>\n",
       "<table border=\"1\" class=\"dataframe\">\n",
       "  <thead>\n",
       "    <tr style=\"text-align: right;\">\n",
       "      <th></th>\n",
       "      <th>modelo</th>\n",
       "      <th>km</th>\n",
       "      <th>potencia</th>\n",
       "      <th>tipo_gasolina</th>\n",
       "      <th>color</th>\n",
       "      <th>tipo_coche</th>\n",
       "      <th>volante_regulable</th>\n",
       "      <th>aire_acondicionado</th>\n",
       "      <th>camara_trasera</th>\n",
       "      <th>elevalunas_electrico</th>\n",
       "      <th>bluetooth</th>\n",
       "      <th>gps</th>\n",
       "      <th>alerta_lim_velocidad</th>\n",
       "      <th>precio</th>\n",
       "      <th>fecha_venta</th>\n",
       "    </tr>\n",
       "  </thead>\n",
       "  <tbody>\n",
       "    <tr>\n",
       "      <th>181</th>\n",
       "      <td>525</td>\n",
       "      <td>106054.0</td>\n",
       "      <td>NaN</td>\n",
       "      <td>diesel</td>\n",
       "      <td>black</td>\n",
       "      <td>estate</td>\n",
       "      <td>False</td>\n",
       "      <td>True</td>\n",
       "      <td>False</td>\n",
       "      <td>False</td>\n",
       "      <td>False</td>\n",
       "      <td>True</td>\n",
       "      <td>True</td>\n",
       "      <td>18700.0</td>\n",
       "      <td>2018-03-01</td>\n",
       "    </tr>\n",
       "  </tbody>\n",
       "</table>\n",
       "</div>"
      ],
      "text/plain": [
       "    modelo        km  potencia tipo_gasolina  color tipo_coche  \\\n",
       "181    525  106054.0       NaN        diesel  black     estate   \n",
       "\n",
       "    volante_regulable aire_acondicionado camara_trasera elevalunas_electrico  \\\n",
       "181             False               True          False                False   \n",
       "\n",
       "    bluetooth   gps alerta_lim_velocidad   precio fecha_venta  \n",
       "181     False  True                 True  18700.0  2018-03-01  "
      ]
     },
     "execution_count": 685,
     "metadata": {},
     "output_type": "execute_result"
    }
   ],
   "source": [
    "bmw9[bmw9['potencia'].isnull()]"
   ]
  },
  {
   "cell_type": "code",
   "execution_count": 686,
   "metadata": {},
   "outputs": [
    {
     "data": {
      "text/html": [
       "<div>\n",
       "<style scoped>\n",
       "    .dataframe tbody tr th:only-of-type {\n",
       "        vertical-align: middle;\n",
       "    }\n",
       "\n",
       "    .dataframe tbody tr th {\n",
       "        vertical-align: top;\n",
       "    }\n",
       "\n",
       "    .dataframe thead th {\n",
       "        text-align: right;\n",
       "    }\n",
       "</style>\n",
       "<table border=\"1\" class=\"dataframe\">\n",
       "  <thead>\n",
       "    <tr style=\"text-align: right;\">\n",
       "      <th></th>\n",
       "      <th>modelo</th>\n",
       "      <th>potencia</th>\n",
       "      <th>tipo_gasolina</th>\n",
       "      <th>tipo_coche</th>\n",
       "      <th>volante_regulable</th>\n",
       "      <th>aire_acondicionado</th>\n",
       "      <th>elevalunas_electrico</th>\n",
       "      <th>count</th>\n",
       "    </tr>\n",
       "  </thead>\n",
       "  <tbody>\n",
       "    <tr>\n",
       "      <th>0</th>\n",
       "      <td>525</td>\n",
       "      <td>160.0</td>\n",
       "      <td>diesel</td>\n",
       "      <td>estate</td>\n",
       "      <td>False</td>\n",
       "      <td>True</td>\n",
       "      <td>False</td>\n",
       "      <td>4</td>\n",
       "    </tr>\n",
       "  </tbody>\n",
       "</table>\n",
       "</div>"
      ],
      "text/plain": [
       "  modelo  potencia tipo_gasolina tipo_coche  volante_regulable  \\\n",
       "0    525     160.0        diesel     estate              False   \n",
       "\n",
       "   aire_acondicionado  elevalunas_electrico  count  \n",
       "0                True                 False      4  "
      ]
     },
     "execution_count": 686,
     "metadata": {},
     "output_type": "execute_result"
    }
   ],
   "source": [
    "#Podemos averigual la potencia segun modelo y otras variables?\n",
    "bmw9[['modelo','potencia','tipo_gasolina','tipo_coche','volante_regulable','aire_acondicionado','elevalunas_electrico']][(bmw9['modelo']=='525')&(bmw9['tipo_gasolina']=='diesel')&(bmw9['tipo_coche']=='estate')&(bmw9['volante_regulable']==False)&(bmw9['aire_acondicionado']==True)&(bmw9['elevalunas_electrico']==False)].value_counts().reset_index()"
   ]
  },
  {
   "cell_type": "code",
   "execution_count": 687,
   "metadata": {},
   "outputs": [],
   "source": [
    "#Imputamos el valor 160\n",
    "bmw9.loc[[181],['potencia']]=160.0"
   ]
  },
  {
   "cell_type": "code",
   "execution_count": 688,
   "metadata": {},
   "outputs": [
    {
     "data": {
      "text/html": [
       "<div>\n",
       "<style scoped>\n",
       "    .dataframe tbody tr th:only-of-type {\n",
       "        vertical-align: middle;\n",
       "    }\n",
       "\n",
       "    .dataframe tbody tr th {\n",
       "        vertical-align: top;\n",
       "    }\n",
       "\n",
       "    .dataframe thead th {\n",
       "        text-align: right;\n",
       "    }\n",
       "</style>\n",
       "<table border=\"1\" class=\"dataframe\">\n",
       "  <thead>\n",
       "    <tr style=\"text-align: right;\">\n",
       "      <th></th>\n",
       "      <th>modelo</th>\n",
       "      <th>km</th>\n",
       "      <th>potencia</th>\n",
       "      <th>tipo_gasolina</th>\n",
       "      <th>color</th>\n",
       "      <th>tipo_coche</th>\n",
       "      <th>volante_regulable</th>\n",
       "      <th>aire_acondicionado</th>\n",
       "      <th>camara_trasera</th>\n",
       "      <th>elevalunas_electrico</th>\n",
       "      <th>bluetooth</th>\n",
       "      <th>gps</th>\n",
       "      <th>alerta_lim_velocidad</th>\n",
       "      <th>precio</th>\n",
       "      <th>fecha_venta</th>\n",
       "    </tr>\n",
       "  </thead>\n",
       "  <tbody>\n",
       "  </tbody>\n",
       "</table>\n",
       "</div>"
      ],
      "text/plain": [
       "Empty DataFrame\n",
       "Columns: [modelo, km, potencia, tipo_gasolina, color, tipo_coche, volante_regulable, aire_acondicionado, camara_trasera, elevalunas_electrico, bluetooth, gps, alerta_lim_velocidad, precio, fecha_venta]\n",
       "Index: []"
      ]
     },
     "execution_count": 688,
     "metadata": {},
     "output_type": "execute_result"
    }
   ],
   "source": [
    "bmw9[bmw9['potencia'].isnull()]"
   ]
  },
  {
   "cell_type": "code",
   "execution_count": 689,
   "metadata": {},
   "outputs": [
    {
     "data": {
      "text/plain": [
       "modelo                  0\n",
       "km                      0\n",
       "potencia                0\n",
       "tipo_gasolina           5\n",
       "color                   0\n",
       "tipo_coche              0\n",
       "volante_regulable       4\n",
       "aire_acondicionado      0\n",
       "camara_trasera          2\n",
       "elevalunas_electrico    2\n",
       "bluetooth               0\n",
       "gps                     0\n",
       "alerta_lim_velocidad    0\n",
       "precio                  6\n",
       "fecha_venta             1\n",
       "dtype: int64"
      ]
     },
     "execution_count": 689,
     "metadata": {},
     "output_type": "execute_result"
    }
   ],
   "source": [
    "bmw9.isnull().sum()"
   ]
  },
  {
   "cell_type": "markdown",
   "metadata": {},
   "source": [
    "    3.9.4.- TIPO_GASOLINA"
   ]
  },
  {
   "cell_type": "code",
   "execution_count": 690,
   "metadata": {},
   "outputs": [
    {
     "data": {
      "text/html": [
       "<div>\n",
       "<style scoped>\n",
       "    .dataframe tbody tr th:only-of-type {\n",
       "        vertical-align: middle;\n",
       "    }\n",
       "\n",
       "    .dataframe tbody tr th {\n",
       "        vertical-align: top;\n",
       "    }\n",
       "\n",
       "    .dataframe thead th {\n",
       "        text-align: right;\n",
       "    }\n",
       "</style>\n",
       "<table border=\"1\" class=\"dataframe\">\n",
       "  <thead>\n",
       "    <tr style=\"text-align: right;\">\n",
       "      <th></th>\n",
       "      <th>modelo</th>\n",
       "      <th>km</th>\n",
       "      <th>potencia</th>\n",
       "      <th>tipo_gasolina</th>\n",
       "      <th>color</th>\n",
       "      <th>tipo_coche</th>\n",
       "      <th>volante_regulable</th>\n",
       "      <th>aire_acondicionado</th>\n",
       "      <th>camara_trasera</th>\n",
       "      <th>elevalunas_electrico</th>\n",
       "      <th>bluetooth</th>\n",
       "      <th>gps</th>\n",
       "      <th>alerta_lim_velocidad</th>\n",
       "      <th>precio</th>\n",
       "      <th>fecha_venta</th>\n",
       "    </tr>\n",
       "  </thead>\n",
       "  <tbody>\n",
       "    <tr>\n",
       "      <th>82</th>\n",
       "      <td>420</td>\n",
       "      <td>54993.0</td>\n",
       "      <td>135.0</td>\n",
       "      <td>NaN</td>\n",
       "      <td>black</td>\n",
       "      <td>otros</td>\n",
       "      <td>False</td>\n",
       "      <td>False</td>\n",
       "      <td>False</td>\n",
       "      <td>False</td>\n",
       "      <td>False</td>\n",
       "      <td>False</td>\n",
       "      <td>False</td>\n",
       "      <td>18400.0</td>\n",
       "      <td>2018-03-01</td>\n",
       "    </tr>\n",
       "    <tr>\n",
       "      <th>185</th>\n",
       "      <td>320</td>\n",
       "      <td>186697.0</td>\n",
       "      <td>135.0</td>\n",
       "      <td>NaN</td>\n",
       "      <td>white</td>\n",
       "      <td>estate</td>\n",
       "      <td>False</td>\n",
       "      <td>False</td>\n",
       "      <td>False</td>\n",
       "      <td>False</td>\n",
       "      <td>False</td>\n",
       "      <td>False</td>\n",
       "      <td>True</td>\n",
       "      <td>2400.0</td>\n",
       "      <td>2018-04-01</td>\n",
       "    </tr>\n",
       "    <tr>\n",
       "      <th>444</th>\n",
       "      <td>318</td>\n",
       "      <td>111622.0</td>\n",
       "      <td>100.0</td>\n",
       "      <td>NaN</td>\n",
       "      <td>black</td>\n",
       "      <td>estate</td>\n",
       "      <td>True</td>\n",
       "      <td>True</td>\n",
       "      <td>False</td>\n",
       "      <td>False</td>\n",
       "      <td>False</td>\n",
       "      <td>True</td>\n",
       "      <td>True</td>\n",
       "      <td>15400.0</td>\n",
       "      <td>2018-02-01</td>\n",
       "    </tr>\n",
       "    <tr>\n",
       "      <th>480</th>\n",
       "      <td>318</td>\n",
       "      <td>170350.0</td>\n",
       "      <td>105.0</td>\n",
       "      <td>NaN</td>\n",
       "      <td>white</td>\n",
       "      <td>otros</td>\n",
       "      <td>False</td>\n",
       "      <td>True</td>\n",
       "      <td>False</td>\n",
       "      <td>False</td>\n",
       "      <td>False</td>\n",
       "      <td>True</td>\n",
       "      <td>False</td>\n",
       "      <td>10200.0</td>\n",
       "      <td>2018-02-01</td>\n",
       "    </tr>\n",
       "    <tr>\n",
       "      <th>630</th>\n",
       "      <td>318</td>\n",
       "      <td>147558.0</td>\n",
       "      <td>105.0</td>\n",
       "      <td>NaN</td>\n",
       "      <td>white</td>\n",
       "      <td>estate</td>\n",
       "      <td>False</td>\n",
       "      <td>sin_info</td>\n",
       "      <td>False</td>\n",
       "      <td>False</td>\n",
       "      <td>False</td>\n",
       "      <td>False</td>\n",
       "      <td>True</td>\n",
       "      <td>100.0</td>\n",
       "      <td>2018-03-01</td>\n",
       "    </tr>\n",
       "  </tbody>\n",
       "</table>\n",
       "</div>"
      ],
      "text/plain": [
       "    modelo        km  potencia tipo_gasolina  color tipo_coche  \\\n",
       "82     420   54993.0     135.0           NaN  black      otros   \n",
       "185    320  186697.0     135.0           NaN  white     estate   \n",
       "444    318  111622.0     100.0           NaN  black     estate   \n",
       "480    318  170350.0     105.0           NaN  white      otros   \n",
       "630    318  147558.0     105.0           NaN  white     estate   \n",
       "\n",
       "    volante_regulable aire_acondicionado camara_trasera elevalunas_electrico  \\\n",
       "82              False              False          False                False   \n",
       "185             False              False          False                False   \n",
       "444              True               True          False                False   \n",
       "480             False               True          False                False   \n",
       "630             False           sin_info          False                False   \n",
       "\n",
       "    bluetooth    gps alerta_lim_velocidad   precio fecha_venta  \n",
       "82      False  False                False  18400.0  2018-03-01  \n",
       "185     False  False                 True   2400.0  2018-04-01  \n",
       "444     False   True                 True  15400.0  2018-02-01  \n",
       "480     False   True                False  10200.0  2018-02-01  \n",
       "630     False  False                 True    100.0  2018-03-01  "
      ]
     },
     "execution_count": 690,
     "metadata": {},
     "output_type": "execute_result"
    }
   ],
   "source": [
    "bmw9[bmw9.tipo_gasolina.isnull()]"
   ]
  },
  {
   "cell_type": "code",
   "execution_count": 691,
   "metadata": {},
   "outputs": [
    {
     "data": {
      "text/html": [
       "<div>\n",
       "<style scoped>\n",
       "    .dataframe tbody tr th:only-of-type {\n",
       "        vertical-align: middle;\n",
       "    }\n",
       "\n",
       "    .dataframe tbody tr th {\n",
       "        vertical-align: top;\n",
       "    }\n",
       "\n",
       "    .dataframe thead th {\n",
       "        text-align: right;\n",
       "    }\n",
       "</style>\n",
       "<table border=\"1\" class=\"dataframe\">\n",
       "  <thead>\n",
       "    <tr style=\"text-align: right;\">\n",
       "      <th></th>\n",
       "      <th>modelo</th>\n",
       "      <th>potencia</th>\n",
       "      <th>tipo_gasolina</th>\n",
       "      <th>volante_regulable</th>\n",
       "      <th>aire_acondicionado</th>\n",
       "      <th>count</th>\n",
       "    </tr>\n",
       "  </thead>\n",
       "  <tbody>\n",
       "    <tr>\n",
       "      <th>0</th>\n",
       "      <td>420</td>\n",
       "      <td>135.0</td>\n",
       "      <td>diesel</td>\n",
       "      <td>False</td>\n",
       "      <td>False</td>\n",
       "      <td>7</td>\n",
       "    </tr>\n",
       "  </tbody>\n",
       "</table>\n",
       "</div>"
      ],
      "text/plain": [
       "  modelo  potencia tipo_gasolina  volante_regulable  aire_acondicionado  count\n",
       "0    420     135.0        diesel              False               False      7"
      ]
     },
     "execution_count": 691,
     "metadata": {},
     "output_type": "execute_result"
    }
   ],
   "source": [
    "#Evaluamos el modelo 420 (indice 82) para ver si podemos imputar el tipo_gasolina\n",
    "bmw9[['modelo','potencia','tipo_gasolina','volante_regulable','aire_acondicionado']][(bmw9['modelo']=='420')&(bmw9['potencia']==135)&(bmw9['volante_regulable']==False)&(bmw9['aire_acondicionado']==False)].value_counts().reset_index()"
   ]
  },
  {
   "cell_type": "code",
   "execution_count": 692,
   "metadata": {},
   "outputs": [
    {
     "data": {
      "text/html": [
       "<div>\n",
       "<style scoped>\n",
       "    .dataframe tbody tr th:only-of-type {\n",
       "        vertical-align: middle;\n",
       "    }\n",
       "\n",
       "    .dataframe tbody tr th {\n",
       "        vertical-align: top;\n",
       "    }\n",
       "\n",
       "    .dataframe thead th {\n",
       "        text-align: right;\n",
       "    }\n",
       "</style>\n",
       "<table border=\"1\" class=\"dataframe\">\n",
       "  <thead>\n",
       "    <tr style=\"text-align: right;\">\n",
       "      <th></th>\n",
       "      <th>tipo_gasolina</th>\n",
       "    </tr>\n",
       "  </thead>\n",
       "  <tbody>\n",
       "    <tr>\n",
       "      <th>82</th>\n",
       "      <td>diesel</td>\n",
       "    </tr>\n",
       "  </tbody>\n",
       "</table>\n",
       "</div>"
      ],
      "text/plain": [
       "   tipo_gasolina\n",
       "82        diesel"
      ]
     },
     "execution_count": 692,
     "metadata": {},
     "output_type": "execute_result"
    }
   ],
   "source": [
    "#Imputamos el valor 'diesel'\n",
    "bmw9.loc[[82],['tipo_gasolina']]='diesel'\n",
    "#check\n",
    "bmw9.loc[[82],['tipo_gasolina']]"
   ]
  },
  {
   "cell_type": "code",
   "execution_count": 693,
   "metadata": {},
   "outputs": [
    {
     "data": {
      "text/html": [
       "<div>\n",
       "<style scoped>\n",
       "    .dataframe tbody tr th:only-of-type {\n",
       "        vertical-align: middle;\n",
       "    }\n",
       "\n",
       "    .dataframe tbody tr th {\n",
       "        vertical-align: top;\n",
       "    }\n",
       "\n",
       "    .dataframe thead th {\n",
       "        text-align: right;\n",
       "    }\n",
       "</style>\n",
       "<table border=\"1\" class=\"dataframe\">\n",
       "  <thead>\n",
       "    <tr style=\"text-align: right;\">\n",
       "      <th></th>\n",
       "      <th>modelo</th>\n",
       "      <th>km</th>\n",
       "      <th>potencia</th>\n",
       "      <th>tipo_gasolina</th>\n",
       "      <th>color</th>\n",
       "      <th>tipo_coche</th>\n",
       "      <th>volante_regulable</th>\n",
       "      <th>aire_acondicionado</th>\n",
       "      <th>camara_trasera</th>\n",
       "      <th>elevalunas_electrico</th>\n",
       "      <th>bluetooth</th>\n",
       "      <th>gps</th>\n",
       "      <th>alerta_lim_velocidad</th>\n",
       "      <th>precio</th>\n",
       "      <th>fecha_venta</th>\n",
       "    </tr>\n",
       "  </thead>\n",
       "  <tbody>\n",
       "    <tr>\n",
       "      <th>185</th>\n",
       "      <td>320</td>\n",
       "      <td>186697.0</td>\n",
       "      <td>135.0</td>\n",
       "      <td>NaN</td>\n",
       "      <td>white</td>\n",
       "      <td>estate</td>\n",
       "      <td>False</td>\n",
       "      <td>False</td>\n",
       "      <td>False</td>\n",
       "      <td>False</td>\n",
       "      <td>False</td>\n",
       "      <td>False</td>\n",
       "      <td>True</td>\n",
       "      <td>2400.0</td>\n",
       "      <td>2018-04-01</td>\n",
       "    </tr>\n",
       "    <tr>\n",
       "      <th>444</th>\n",
       "      <td>318</td>\n",
       "      <td>111622.0</td>\n",
       "      <td>100.0</td>\n",
       "      <td>NaN</td>\n",
       "      <td>black</td>\n",
       "      <td>estate</td>\n",
       "      <td>True</td>\n",
       "      <td>True</td>\n",
       "      <td>False</td>\n",
       "      <td>False</td>\n",
       "      <td>False</td>\n",
       "      <td>True</td>\n",
       "      <td>True</td>\n",
       "      <td>15400.0</td>\n",
       "      <td>2018-02-01</td>\n",
       "    </tr>\n",
       "    <tr>\n",
       "      <th>480</th>\n",
       "      <td>318</td>\n",
       "      <td>170350.0</td>\n",
       "      <td>105.0</td>\n",
       "      <td>NaN</td>\n",
       "      <td>white</td>\n",
       "      <td>otros</td>\n",
       "      <td>False</td>\n",
       "      <td>True</td>\n",
       "      <td>False</td>\n",
       "      <td>False</td>\n",
       "      <td>False</td>\n",
       "      <td>True</td>\n",
       "      <td>False</td>\n",
       "      <td>10200.0</td>\n",
       "      <td>2018-02-01</td>\n",
       "    </tr>\n",
       "    <tr>\n",
       "      <th>630</th>\n",
       "      <td>318</td>\n",
       "      <td>147558.0</td>\n",
       "      <td>105.0</td>\n",
       "      <td>NaN</td>\n",
       "      <td>white</td>\n",
       "      <td>estate</td>\n",
       "      <td>False</td>\n",
       "      <td>sin_info</td>\n",
       "      <td>False</td>\n",
       "      <td>False</td>\n",
       "      <td>False</td>\n",
       "      <td>False</td>\n",
       "      <td>True</td>\n",
       "      <td>100.0</td>\n",
       "      <td>2018-03-01</td>\n",
       "    </tr>\n",
       "  </tbody>\n",
       "</table>\n",
       "</div>"
      ],
      "text/plain": [
       "    modelo        km  potencia tipo_gasolina  color tipo_coche  \\\n",
       "185    320  186697.0     135.0           NaN  white     estate   \n",
       "444    318  111622.0     100.0           NaN  black     estate   \n",
       "480    318  170350.0     105.0           NaN  white      otros   \n",
       "630    318  147558.0     105.0           NaN  white     estate   \n",
       "\n",
       "    volante_regulable aire_acondicionado camara_trasera elevalunas_electrico  \\\n",
       "185             False              False          False                False   \n",
       "444              True               True          False                False   \n",
       "480             False               True          False                False   \n",
       "630             False           sin_info          False                False   \n",
       "\n",
       "    bluetooth    gps alerta_lim_velocidad   precio fecha_venta  \n",
       "185     False  False                 True   2400.0  2018-04-01  \n",
       "444     False   True                 True  15400.0  2018-02-01  \n",
       "480     False   True                False  10200.0  2018-02-01  \n",
       "630     False  False                 True    100.0  2018-03-01  "
      ]
     },
     "execution_count": 693,
     "metadata": {},
     "output_type": "execute_result"
    }
   ],
   "source": [
    "bmw9[bmw9.tipo_gasolina.isnull()]"
   ]
  },
  {
   "cell_type": "code",
   "execution_count": 694,
   "metadata": {},
   "outputs": [
    {
     "data": {
      "text/html": [
       "<div>\n",
       "<style scoped>\n",
       "    .dataframe tbody tr th:only-of-type {\n",
       "        vertical-align: middle;\n",
       "    }\n",
       "\n",
       "    .dataframe tbody tr th {\n",
       "        vertical-align: top;\n",
       "    }\n",
       "\n",
       "    .dataframe thead th {\n",
       "        text-align: right;\n",
       "    }\n",
       "</style>\n",
       "<table border=\"1\" class=\"dataframe\">\n",
       "  <thead>\n",
       "    <tr style=\"text-align: right;\">\n",
       "      <th></th>\n",
       "      <th>tipo_gasolina</th>\n",
       "      <th>modelo</th>\n",
       "      <th>potencia</th>\n",
       "      <th>tipo_coche</th>\n",
       "      <th>volante_regulable</th>\n",
       "      <th>aire_acondicionado</th>\n",
       "      <th>count</th>\n",
       "    </tr>\n",
       "  </thead>\n",
       "  <tbody>\n",
       "    <tr>\n",
       "      <th>0</th>\n",
       "      <td>diesel</td>\n",
       "      <td>320</td>\n",
       "      <td>135.0</td>\n",
       "      <td>estate</td>\n",
       "      <td>False</td>\n",
       "      <td>False</td>\n",
       "      <td>22</td>\n",
       "    </tr>\n",
       "  </tbody>\n",
       "</table>\n",
       "</div>"
      ],
      "text/plain": [
       "  tipo_gasolina modelo  potencia tipo_coche  volante_regulable  \\\n",
       "0        diesel    320     135.0     estate              False   \n",
       "\n",
       "   aire_acondicionado  count  \n",
       "0               False     22  "
      ]
     },
     "execution_count": 694,
     "metadata": {},
     "output_type": "execute_result"
    }
   ],
   "source": [
    "#Evaluamos el modelo 320 (indice 185) para ver si podemos imputar el tipo_gasolina\n",
    "bmw9[['tipo_gasolina','modelo','potencia','tipo_coche','volante_regulable','aire_acondicionado']][(bmw9['modelo']=='320')&(bmw9['potencia']==135)&(bmw9['tipo_coche']=='estate')&(bmw9['volante_regulable']==False)&(bmw9['aire_acondicionado']==False)].value_counts().reset_index()"
   ]
  },
  {
   "cell_type": "code",
   "execution_count": 695,
   "metadata": {},
   "outputs": [
    {
     "data": {
      "text/html": [
       "<div>\n",
       "<style scoped>\n",
       "    .dataframe tbody tr th:only-of-type {\n",
       "        vertical-align: middle;\n",
       "    }\n",
       "\n",
       "    .dataframe tbody tr th {\n",
       "        vertical-align: top;\n",
       "    }\n",
       "\n",
       "    .dataframe thead th {\n",
       "        text-align: right;\n",
       "    }\n",
       "</style>\n",
       "<table border=\"1\" class=\"dataframe\">\n",
       "  <thead>\n",
       "    <tr style=\"text-align: right;\">\n",
       "      <th></th>\n",
       "      <th>tipo_gasolina</th>\n",
       "    </tr>\n",
       "  </thead>\n",
       "  <tbody>\n",
       "    <tr>\n",
       "      <th>185</th>\n",
       "      <td>diesel</td>\n",
       "    </tr>\n",
       "  </tbody>\n",
       "</table>\n",
       "</div>"
      ],
      "text/plain": [
       "    tipo_gasolina\n",
       "185        diesel"
      ]
     },
     "execution_count": 695,
     "metadata": {},
     "output_type": "execute_result"
    }
   ],
   "source": [
    "#Imputamos el valor 'diesel'\n",
    "bmw9.loc[[185],['tipo_gasolina']]='diesel'\n",
    "bmw9.loc[[185],['tipo_gasolina']]"
   ]
  },
  {
   "cell_type": "code",
   "execution_count": 696,
   "metadata": {},
   "outputs": [
    {
     "data": {
      "text/html": [
       "<div>\n",
       "<style scoped>\n",
       "    .dataframe tbody tr th:only-of-type {\n",
       "        vertical-align: middle;\n",
       "    }\n",
       "\n",
       "    .dataframe tbody tr th {\n",
       "        vertical-align: top;\n",
       "    }\n",
       "\n",
       "    .dataframe thead th {\n",
       "        text-align: right;\n",
       "    }\n",
       "</style>\n",
       "<table border=\"1\" class=\"dataframe\">\n",
       "  <thead>\n",
       "    <tr style=\"text-align: right;\">\n",
       "      <th></th>\n",
       "      <th>modelo</th>\n",
       "      <th>km</th>\n",
       "      <th>potencia</th>\n",
       "      <th>tipo_gasolina</th>\n",
       "      <th>color</th>\n",
       "      <th>tipo_coche</th>\n",
       "      <th>volante_regulable</th>\n",
       "      <th>aire_acondicionado</th>\n",
       "      <th>camara_trasera</th>\n",
       "      <th>elevalunas_electrico</th>\n",
       "      <th>bluetooth</th>\n",
       "      <th>gps</th>\n",
       "      <th>alerta_lim_velocidad</th>\n",
       "      <th>precio</th>\n",
       "      <th>fecha_venta</th>\n",
       "    </tr>\n",
       "  </thead>\n",
       "  <tbody>\n",
       "    <tr>\n",
       "      <th>444</th>\n",
       "      <td>318</td>\n",
       "      <td>111622.0</td>\n",
       "      <td>100.0</td>\n",
       "      <td>NaN</td>\n",
       "      <td>black</td>\n",
       "      <td>estate</td>\n",
       "      <td>True</td>\n",
       "      <td>True</td>\n",
       "      <td>False</td>\n",
       "      <td>False</td>\n",
       "      <td>False</td>\n",
       "      <td>True</td>\n",
       "      <td>True</td>\n",
       "      <td>15400.0</td>\n",
       "      <td>2018-02-01</td>\n",
       "    </tr>\n",
       "    <tr>\n",
       "      <th>480</th>\n",
       "      <td>318</td>\n",
       "      <td>170350.0</td>\n",
       "      <td>105.0</td>\n",
       "      <td>NaN</td>\n",
       "      <td>white</td>\n",
       "      <td>otros</td>\n",
       "      <td>False</td>\n",
       "      <td>True</td>\n",
       "      <td>False</td>\n",
       "      <td>False</td>\n",
       "      <td>False</td>\n",
       "      <td>True</td>\n",
       "      <td>False</td>\n",
       "      <td>10200.0</td>\n",
       "      <td>2018-02-01</td>\n",
       "    </tr>\n",
       "    <tr>\n",
       "      <th>630</th>\n",
       "      <td>318</td>\n",
       "      <td>147558.0</td>\n",
       "      <td>105.0</td>\n",
       "      <td>NaN</td>\n",
       "      <td>white</td>\n",
       "      <td>estate</td>\n",
       "      <td>False</td>\n",
       "      <td>sin_info</td>\n",
       "      <td>False</td>\n",
       "      <td>False</td>\n",
       "      <td>False</td>\n",
       "      <td>False</td>\n",
       "      <td>True</td>\n",
       "      <td>100.0</td>\n",
       "      <td>2018-03-01</td>\n",
       "    </tr>\n",
       "  </tbody>\n",
       "</table>\n",
       "</div>"
      ],
      "text/plain": [
       "    modelo        km  potencia tipo_gasolina  color tipo_coche  \\\n",
       "444    318  111622.0     100.0           NaN  black     estate   \n",
       "480    318  170350.0     105.0           NaN  white      otros   \n",
       "630    318  147558.0     105.0           NaN  white     estate   \n",
       "\n",
       "    volante_regulable aire_acondicionado camara_trasera elevalunas_electrico  \\\n",
       "444              True               True          False                False   \n",
       "480             False               True          False                False   \n",
       "630             False           sin_info          False                False   \n",
       "\n",
       "    bluetooth    gps alerta_lim_velocidad   precio fecha_venta  \n",
       "444     False   True                 True  15400.0  2018-02-01  \n",
       "480     False   True                False  10200.0  2018-02-01  \n",
       "630     False  False                 True    100.0  2018-03-01  "
      ]
     },
     "execution_count": 696,
     "metadata": {},
     "output_type": "execute_result"
    }
   ],
   "source": [
    "bmw9[bmw9.tipo_gasolina.isnull()]"
   ]
  },
  {
   "cell_type": "code",
   "execution_count": 697,
   "metadata": {},
   "outputs": [
    {
     "data": {
      "text/html": [
       "<div>\n",
       "<style scoped>\n",
       "    .dataframe tbody tr th:only-of-type {\n",
       "        vertical-align: middle;\n",
       "    }\n",
       "\n",
       "    .dataframe tbody tr th {\n",
       "        vertical-align: top;\n",
       "    }\n",
       "\n",
       "    .dataframe thead th {\n",
       "        text-align: right;\n",
       "    }\n",
       "</style>\n",
       "<table border=\"1\" class=\"dataframe\">\n",
       "  <thead>\n",
       "    <tr style=\"text-align: right;\">\n",
       "      <th></th>\n",
       "      <th>tipo_gasolina</th>\n",
       "      <th>modelo</th>\n",
       "      <th>potencia</th>\n",
       "      <th>tipo_coche</th>\n",
       "      <th>volante_regulable</th>\n",
       "      <th>aire_acondicionado</th>\n",
       "      <th>camara_trasera</th>\n",
       "      <th>elevalunas_electrico</th>\n",
       "      <th>bluetooth</th>\n",
       "      <th>alerta_lim_velocidad</th>\n",
       "      <th>proportion</th>\n",
       "    </tr>\n",
       "  </thead>\n",
       "  <tbody>\n",
       "    <tr>\n",
       "      <th>0</th>\n",
       "      <td>diesel</td>\n",
       "      <td>318</td>\n",
       "      <td>100.0</td>\n",
       "      <td>estate</td>\n",
       "      <td>True</td>\n",
       "      <td>True</td>\n",
       "      <td>False</td>\n",
       "      <td>False</td>\n",
       "      <td>False</td>\n",
       "      <td>True</td>\n",
       "      <td>0.857143</td>\n",
       "    </tr>\n",
       "    <tr>\n",
       "      <th>1</th>\n",
       "      <td>petrol</td>\n",
       "      <td>318</td>\n",
       "      <td>100.0</td>\n",
       "      <td>estate</td>\n",
       "      <td>True</td>\n",
       "      <td>True</td>\n",
       "      <td>False</td>\n",
       "      <td>False</td>\n",
       "      <td>False</td>\n",
       "      <td>True</td>\n",
       "      <td>0.142857</td>\n",
       "    </tr>\n",
       "  </tbody>\n",
       "</table>\n",
       "</div>"
      ],
      "text/plain": [
       "  tipo_gasolina modelo  potencia tipo_coche  volante_regulable  \\\n",
       "0        diesel    318     100.0     estate               True   \n",
       "1        petrol    318     100.0     estate               True   \n",
       "\n",
       "   aire_acondicionado  camara_trasera  elevalunas_electrico  bluetooth  \\\n",
       "0                True           False                 False      False   \n",
       "1                True           False                 False      False   \n",
       "\n",
       "   alerta_lim_velocidad  proportion  \n",
       "0                  True    0.857143  \n",
       "1                  True    0.142857  "
      ]
     },
     "execution_count": 697,
     "metadata": {},
     "output_type": "execute_result"
    }
   ],
   "source": [
    "#Evaluamos el modelo 318 (indice 444) para ver si podemos imputar el tipo_gasolina\n",
    "bmw9[['tipo_gasolina','modelo','potencia','tipo_coche','volante_regulable','aire_acondicionado','camara_trasera','elevalunas_electrico','bluetooth','alerta_lim_velocidad']][(bmw9['modelo']=='318')&(bmw9['potencia']==100)&(bmw9['tipo_coche']=='estate')&(bmw9['volante_regulable']==True)&(bmw9['aire_acondicionado']==True)&(bmw9['camara_trasera']==False)&(bmw9['elevalunas_electrico']==False)&(bmw9['bluetooth']==False)&(bmw9['alerta_lim_velocidad']==True)].value_counts(normalize=True).reset_index()"
   ]
  },
  {
   "cell_type": "code",
   "execution_count": 698,
   "metadata": {},
   "outputs": [
    {
     "data": {
      "text/html": [
       "<div>\n",
       "<style scoped>\n",
       "    .dataframe tbody tr th:only-of-type {\n",
       "        vertical-align: middle;\n",
       "    }\n",
       "\n",
       "    .dataframe tbody tr th {\n",
       "        vertical-align: top;\n",
       "    }\n",
       "\n",
       "    .dataframe thead th {\n",
       "        text-align: right;\n",
       "    }\n",
       "</style>\n",
       "<table border=\"1\" class=\"dataframe\">\n",
       "  <thead>\n",
       "    <tr style=\"text-align: right;\">\n",
       "      <th></th>\n",
       "      <th>tipo_gasolina</th>\n",
       "    </tr>\n",
       "  </thead>\n",
       "  <tbody>\n",
       "    <tr>\n",
       "      <th>444</th>\n",
       "      <td>diesel</td>\n",
       "    </tr>\n",
       "  </tbody>\n",
       "</table>\n",
       "</div>"
      ],
      "text/plain": [
       "    tipo_gasolina\n",
       "444        diesel"
      ]
     },
     "execution_count": 698,
     "metadata": {},
     "output_type": "execute_result"
    }
   ],
   "source": [
    "#Imputamos el valor 'diesel'\n",
    "bmw9.loc[[444],['tipo_gasolina']]='diesel'\n",
    "bmw9.loc[[444],['tipo_gasolina']]"
   ]
  },
  {
   "cell_type": "code",
   "execution_count": 699,
   "metadata": {},
   "outputs": [
    {
     "data": {
      "text/html": [
       "<div>\n",
       "<style scoped>\n",
       "    .dataframe tbody tr th:only-of-type {\n",
       "        vertical-align: middle;\n",
       "    }\n",
       "\n",
       "    .dataframe tbody tr th {\n",
       "        vertical-align: top;\n",
       "    }\n",
       "\n",
       "    .dataframe thead th {\n",
       "        text-align: right;\n",
       "    }\n",
       "</style>\n",
       "<table border=\"1\" class=\"dataframe\">\n",
       "  <thead>\n",
       "    <tr style=\"text-align: right;\">\n",
       "      <th></th>\n",
       "      <th>modelo</th>\n",
       "      <th>km</th>\n",
       "      <th>potencia</th>\n",
       "      <th>tipo_gasolina</th>\n",
       "      <th>color</th>\n",
       "      <th>tipo_coche</th>\n",
       "      <th>volante_regulable</th>\n",
       "      <th>aire_acondicionado</th>\n",
       "      <th>camara_trasera</th>\n",
       "      <th>elevalunas_electrico</th>\n",
       "      <th>bluetooth</th>\n",
       "      <th>gps</th>\n",
       "      <th>alerta_lim_velocidad</th>\n",
       "      <th>precio</th>\n",
       "      <th>fecha_venta</th>\n",
       "    </tr>\n",
       "  </thead>\n",
       "  <tbody>\n",
       "    <tr>\n",
       "      <th>480</th>\n",
       "      <td>318</td>\n",
       "      <td>170350.0</td>\n",
       "      <td>105.0</td>\n",
       "      <td>NaN</td>\n",
       "      <td>white</td>\n",
       "      <td>otros</td>\n",
       "      <td>False</td>\n",
       "      <td>True</td>\n",
       "      <td>False</td>\n",
       "      <td>False</td>\n",
       "      <td>False</td>\n",
       "      <td>True</td>\n",
       "      <td>False</td>\n",
       "      <td>10200.0</td>\n",
       "      <td>2018-02-01</td>\n",
       "    </tr>\n",
       "    <tr>\n",
       "      <th>630</th>\n",
       "      <td>318</td>\n",
       "      <td>147558.0</td>\n",
       "      <td>105.0</td>\n",
       "      <td>NaN</td>\n",
       "      <td>white</td>\n",
       "      <td>estate</td>\n",
       "      <td>False</td>\n",
       "      <td>sin_info</td>\n",
       "      <td>False</td>\n",
       "      <td>False</td>\n",
       "      <td>False</td>\n",
       "      <td>False</td>\n",
       "      <td>True</td>\n",
       "      <td>100.0</td>\n",
       "      <td>2018-03-01</td>\n",
       "    </tr>\n",
       "  </tbody>\n",
       "</table>\n",
       "</div>"
      ],
      "text/plain": [
       "    modelo        km  potencia tipo_gasolina  color tipo_coche  \\\n",
       "480    318  170350.0     105.0           NaN  white      otros   \n",
       "630    318  147558.0     105.0           NaN  white     estate   \n",
       "\n",
       "    volante_regulable aire_acondicionado camara_trasera elevalunas_electrico  \\\n",
       "480             False               True          False                False   \n",
       "630             False           sin_info          False                False   \n",
       "\n",
       "    bluetooth    gps alerta_lim_velocidad   precio fecha_venta  \n",
       "480     False   True                False  10200.0  2018-02-01  \n",
       "630     False  False                 True    100.0  2018-03-01  "
      ]
     },
     "execution_count": 699,
     "metadata": {},
     "output_type": "execute_result"
    }
   ],
   "source": [
    "bmw9[bmw9.tipo_gasolina.isnull()]"
   ]
  },
  {
   "cell_type": "code",
   "execution_count": 700,
   "metadata": {},
   "outputs": [
    {
     "data": {
      "text/html": [
       "<div>\n",
       "<style scoped>\n",
       "    .dataframe tbody tr th:only-of-type {\n",
       "        vertical-align: middle;\n",
       "    }\n",
       "\n",
       "    .dataframe tbody tr th {\n",
       "        vertical-align: top;\n",
       "    }\n",
       "\n",
       "    .dataframe thead th {\n",
       "        text-align: right;\n",
       "    }\n",
       "</style>\n",
       "<table border=\"1\" class=\"dataframe\">\n",
       "  <thead>\n",
       "    <tr style=\"text-align: right;\">\n",
       "      <th></th>\n",
       "      <th>tipo_gasolina</th>\n",
       "      <th>modelo</th>\n",
       "      <th>potencia</th>\n",
       "      <th>tipo_coche</th>\n",
       "      <th>volante_regulable</th>\n",
       "      <th>aire_acondicionado</th>\n",
       "      <th>camara_trasera</th>\n",
       "      <th>elevalunas_electrico</th>\n",
       "      <th>bluetooth</th>\n",
       "      <th>alerta_lim_velocidad</th>\n",
       "      <th>proportion</th>\n",
       "    </tr>\n",
       "  </thead>\n",
       "  <tbody>\n",
       "    <tr>\n",
       "      <th>0</th>\n",
       "      <td>diesel</td>\n",
       "      <td>318</td>\n",
       "      <td>105.0</td>\n",
       "      <td>estate</td>\n",
       "      <td>False</td>\n",
       "      <td>True</td>\n",
       "      <td>False</td>\n",
       "      <td>False</td>\n",
       "      <td>False</td>\n",
       "      <td>False</td>\n",
       "      <td>0.6</td>\n",
       "    </tr>\n",
       "    <tr>\n",
       "      <th>1</th>\n",
       "      <td>diesel</td>\n",
       "      <td>318</td>\n",
       "      <td>105.0</td>\n",
       "      <td>otros</td>\n",
       "      <td>False</td>\n",
       "      <td>True</td>\n",
       "      <td>False</td>\n",
       "      <td>False</td>\n",
       "      <td>False</td>\n",
       "      <td>False</td>\n",
       "      <td>0.2</td>\n",
       "    </tr>\n",
       "    <tr>\n",
       "      <th>2</th>\n",
       "      <td>diesel</td>\n",
       "      <td>318</td>\n",
       "      <td>105.0</td>\n",
       "      <td>sedan</td>\n",
       "      <td>False</td>\n",
       "      <td>True</td>\n",
       "      <td>False</td>\n",
       "      <td>False</td>\n",
       "      <td>False</td>\n",
       "      <td>False</td>\n",
       "      <td>0.2</td>\n",
       "    </tr>\n",
       "  </tbody>\n",
       "</table>\n",
       "</div>"
      ],
      "text/plain": [
       "  tipo_gasolina modelo  potencia tipo_coche  volante_regulable  \\\n",
       "0        diesel    318     105.0     estate              False   \n",
       "1        diesel    318     105.0      otros              False   \n",
       "2        diesel    318     105.0      sedan              False   \n",
       "\n",
       "   aire_acondicionado  camara_trasera  elevalunas_electrico  bluetooth  \\\n",
       "0                True           False                 False      False   \n",
       "1                True           False                 False      False   \n",
       "2                True           False                 False      False   \n",
       "\n",
       "   alerta_lim_velocidad  proportion  \n",
       "0                 False         0.6  \n",
       "1                 False         0.2  \n",
       "2                 False         0.2  "
      ]
     },
     "execution_count": 700,
     "metadata": {},
     "output_type": "execute_result"
    }
   ],
   "source": [
    "#Evaluamos el modelo 318 (indice 480) para ver si podemos imputar el tipo_gasolina\n",
    "bmw9[['tipo_gasolina','modelo','potencia','tipo_coche','volante_regulable','aire_acondicionado','camara_trasera','elevalunas_electrico','bluetooth','alerta_lim_velocidad']][(bmw9['modelo']=='318')&(bmw9['potencia']==105)&(bmw9['volante_regulable']==False)&(bmw9['aire_acondicionado']==True)&(bmw9['camara_trasera']==False)&(bmw9['elevalunas_electrico']==False)&(bmw9['bluetooth']==False)&(bmw9['alerta_lim_velocidad']==False)].value_counts(normalize=True).reset_index()"
   ]
  },
  {
   "cell_type": "code",
   "execution_count": 701,
   "metadata": {},
   "outputs": [
    {
     "data": {
      "text/html": [
       "<div>\n",
       "<style scoped>\n",
       "    .dataframe tbody tr th:only-of-type {\n",
       "        vertical-align: middle;\n",
       "    }\n",
       "\n",
       "    .dataframe tbody tr th {\n",
       "        vertical-align: top;\n",
       "    }\n",
       "\n",
       "    .dataframe thead th {\n",
       "        text-align: right;\n",
       "    }\n",
       "</style>\n",
       "<table border=\"1\" class=\"dataframe\">\n",
       "  <thead>\n",
       "    <tr style=\"text-align: right;\">\n",
       "      <th></th>\n",
       "      <th>tipo_gasolina</th>\n",
       "    </tr>\n",
       "  </thead>\n",
       "  <tbody>\n",
       "    <tr>\n",
       "      <th>480</th>\n",
       "      <td>diesel</td>\n",
       "    </tr>\n",
       "  </tbody>\n",
       "</table>\n",
       "</div>"
      ],
      "text/plain": [
       "    tipo_gasolina\n",
       "480        diesel"
      ]
     },
     "execution_count": 701,
     "metadata": {},
     "output_type": "execute_result"
    }
   ],
   "source": [
    "#Imputamos el valor 'diesel'\n",
    "bmw9.loc[[480],['tipo_gasolina']]='diesel'\n",
    "bmw9.loc[[480],['tipo_gasolina']]"
   ]
  },
  {
   "cell_type": "code",
   "execution_count": 702,
   "metadata": {},
   "outputs": [
    {
     "data": {
      "text/html": [
       "<div>\n",
       "<style scoped>\n",
       "    .dataframe tbody tr th:only-of-type {\n",
       "        vertical-align: middle;\n",
       "    }\n",
       "\n",
       "    .dataframe tbody tr th {\n",
       "        vertical-align: top;\n",
       "    }\n",
       "\n",
       "    .dataframe thead th {\n",
       "        text-align: right;\n",
       "    }\n",
       "</style>\n",
       "<table border=\"1\" class=\"dataframe\">\n",
       "  <thead>\n",
       "    <tr style=\"text-align: right;\">\n",
       "      <th></th>\n",
       "      <th>modelo</th>\n",
       "      <th>km</th>\n",
       "      <th>potencia</th>\n",
       "      <th>tipo_gasolina</th>\n",
       "      <th>color</th>\n",
       "      <th>tipo_coche</th>\n",
       "      <th>volante_regulable</th>\n",
       "      <th>aire_acondicionado</th>\n",
       "      <th>camara_trasera</th>\n",
       "      <th>elevalunas_electrico</th>\n",
       "      <th>bluetooth</th>\n",
       "      <th>gps</th>\n",
       "      <th>alerta_lim_velocidad</th>\n",
       "      <th>precio</th>\n",
       "      <th>fecha_venta</th>\n",
       "    </tr>\n",
       "  </thead>\n",
       "  <tbody>\n",
       "    <tr>\n",
       "      <th>630</th>\n",
       "      <td>318</td>\n",
       "      <td>147558.0</td>\n",
       "      <td>105.0</td>\n",
       "      <td>NaN</td>\n",
       "      <td>white</td>\n",
       "      <td>estate</td>\n",
       "      <td>False</td>\n",
       "      <td>sin_info</td>\n",
       "      <td>False</td>\n",
       "      <td>False</td>\n",
       "      <td>False</td>\n",
       "      <td>False</td>\n",
       "      <td>True</td>\n",
       "      <td>100.0</td>\n",
       "      <td>2018-03-01</td>\n",
       "    </tr>\n",
       "  </tbody>\n",
       "</table>\n",
       "</div>"
      ],
      "text/plain": [
       "    modelo        km  potencia tipo_gasolina  color tipo_coche  \\\n",
       "630    318  147558.0     105.0           NaN  white     estate   \n",
       "\n",
       "    volante_regulable aire_acondicionado camara_trasera elevalunas_electrico  \\\n",
       "630             False           sin_info          False                False   \n",
       "\n",
       "    bluetooth    gps alerta_lim_velocidad  precio fecha_venta  \n",
       "630     False  False                 True   100.0  2018-03-01  "
      ]
     },
     "execution_count": 702,
     "metadata": {},
     "output_type": "execute_result"
    }
   ],
   "source": [
    "bmw9[bmw9.tipo_gasolina.isnull()]"
   ]
  },
  {
   "cell_type": "code",
   "execution_count": 703,
   "metadata": {},
   "outputs": [
    {
     "data": {
      "text/html": [
       "<div>\n",
       "<style scoped>\n",
       "    .dataframe tbody tr th:only-of-type {\n",
       "        vertical-align: middle;\n",
       "    }\n",
       "\n",
       "    .dataframe tbody tr th {\n",
       "        vertical-align: top;\n",
       "    }\n",
       "\n",
       "    .dataframe thead th {\n",
       "        text-align: right;\n",
       "    }\n",
       "</style>\n",
       "<table border=\"1\" class=\"dataframe\">\n",
       "  <thead>\n",
       "    <tr style=\"text-align: right;\">\n",
       "      <th></th>\n",
       "      <th>tipo_gasolina</th>\n",
       "      <th>modelo</th>\n",
       "      <th>potencia</th>\n",
       "      <th>tipo_coche</th>\n",
       "      <th>volante_regulable</th>\n",
       "      <th>aire_acondicionado</th>\n",
       "      <th>camara_trasera</th>\n",
       "      <th>elevalunas_electrico</th>\n",
       "      <th>bluetooth</th>\n",
       "      <th>alerta_lim_velocidad</th>\n",
       "      <th>gps</th>\n",
       "      <th>proportion</th>\n",
       "    </tr>\n",
       "  </thead>\n",
       "  <tbody>\n",
       "    <tr>\n",
       "      <th>0</th>\n",
       "      <td>diesel</td>\n",
       "      <td>318</td>\n",
       "      <td>105.0</td>\n",
       "      <td>estate</td>\n",
       "      <td>False</td>\n",
       "      <td>False</td>\n",
       "      <td>False</td>\n",
       "      <td>False</td>\n",
       "      <td>False</td>\n",
       "      <td>True</td>\n",
       "      <td>False</td>\n",
       "      <td>0.50</td>\n",
       "    </tr>\n",
       "    <tr>\n",
       "      <th>1</th>\n",
       "      <td>diesel</td>\n",
       "      <td>318</td>\n",
       "      <td>105.0</td>\n",
       "      <td>estate</td>\n",
       "      <td>False</td>\n",
       "      <td>True</td>\n",
       "      <td>False</td>\n",
       "      <td>False</td>\n",
       "      <td>False</td>\n",
       "      <td>True</td>\n",
       "      <td>False</td>\n",
       "      <td>0.25</td>\n",
       "    </tr>\n",
       "    <tr>\n",
       "      <th>2</th>\n",
       "      <td>diesel</td>\n",
       "      <td>318</td>\n",
       "      <td>105.0</td>\n",
       "      <td>estate</td>\n",
       "      <td>False</td>\n",
       "      <td>sin_info</td>\n",
       "      <td>False</td>\n",
       "      <td>False</td>\n",
       "      <td>False</td>\n",
       "      <td>True</td>\n",
       "      <td>False</td>\n",
       "      <td>0.25</td>\n",
       "    </tr>\n",
       "  </tbody>\n",
       "</table>\n",
       "</div>"
      ],
      "text/plain": [
       "  tipo_gasolina modelo  potencia tipo_coche  volante_regulable  \\\n",
       "0        diesel    318     105.0     estate              False   \n",
       "1        diesel    318     105.0     estate              False   \n",
       "2        diesel    318     105.0     estate              False   \n",
       "\n",
       "  aire_acondicionado  camara_trasera  elevalunas_electrico  bluetooth  \\\n",
       "0              False           False                 False      False   \n",
       "1               True           False                 False      False   \n",
       "2           sin_info           False                 False      False   \n",
       "\n",
       "   alerta_lim_velocidad    gps  proportion  \n",
       "0                  True  False        0.50  \n",
       "1                  True  False        0.25  \n",
       "2                  True  False        0.25  "
      ]
     },
     "execution_count": 703,
     "metadata": {},
     "output_type": "execute_result"
    }
   ],
   "source": [
    "#Evaluamos el modelo 318 (indice 630) para ver si podemos imputar el tipo_gasolina\n",
    "bmw9[['tipo_gasolina','modelo','potencia','tipo_coche','volante_regulable','aire_acondicionado','camara_trasera','elevalunas_electrico','bluetooth','alerta_lim_velocidad','gps']][(bmw9['modelo']=='318')&(bmw9['potencia']==105)&(bmw9['tipo_coche']=='estate')&(bmw9['volante_regulable']==False)&(bmw9['camara_trasera']==False)&(bmw9['elevalunas_electrico']==False)&(bmw9['bluetooth']==False)&(bmw9['alerta_lim_velocidad']==True)&(bmw9['gps']==False)].value_counts(normalize=True).reset_index()"
   ]
  },
  {
   "cell_type": "code",
   "execution_count": 704,
   "metadata": {},
   "outputs": [
    {
     "data": {
      "text/html": [
       "<div>\n",
       "<style scoped>\n",
       "    .dataframe tbody tr th:only-of-type {\n",
       "        vertical-align: middle;\n",
       "    }\n",
       "\n",
       "    .dataframe tbody tr th {\n",
       "        vertical-align: top;\n",
       "    }\n",
       "\n",
       "    .dataframe thead th {\n",
       "        text-align: right;\n",
       "    }\n",
       "</style>\n",
       "<table border=\"1\" class=\"dataframe\">\n",
       "  <thead>\n",
       "    <tr style=\"text-align: right;\">\n",
       "      <th></th>\n",
       "      <th>tipo_gasolina</th>\n",
       "    </tr>\n",
       "  </thead>\n",
       "  <tbody>\n",
       "    <tr>\n",
       "      <th>630</th>\n",
       "      <td>diesel</td>\n",
       "    </tr>\n",
       "  </tbody>\n",
       "</table>\n",
       "</div>"
      ],
      "text/plain": [
       "    tipo_gasolina\n",
       "630        diesel"
      ]
     },
     "execution_count": 704,
     "metadata": {},
     "output_type": "execute_result"
    }
   ],
   "source": [
    "#Imputamos el valor 'diesel'\n",
    "bmw9.loc[[630],['tipo_gasolina']]='diesel'\n",
    "bmw9.loc[[630],['tipo_gasolina']]"
   ]
  },
  {
   "cell_type": "code",
   "execution_count": 705,
   "metadata": {},
   "outputs": [
    {
     "data": {
      "text/html": [
       "<div>\n",
       "<style scoped>\n",
       "    .dataframe tbody tr th:only-of-type {\n",
       "        vertical-align: middle;\n",
       "    }\n",
       "\n",
       "    .dataframe tbody tr th {\n",
       "        vertical-align: top;\n",
       "    }\n",
       "\n",
       "    .dataframe thead th {\n",
       "        text-align: right;\n",
       "    }\n",
       "</style>\n",
       "<table border=\"1\" class=\"dataframe\">\n",
       "  <thead>\n",
       "    <tr style=\"text-align: right;\">\n",
       "      <th></th>\n",
       "      <th>modelo</th>\n",
       "      <th>km</th>\n",
       "      <th>potencia</th>\n",
       "      <th>tipo_gasolina</th>\n",
       "      <th>color</th>\n",
       "      <th>tipo_coche</th>\n",
       "      <th>volante_regulable</th>\n",
       "      <th>aire_acondicionado</th>\n",
       "      <th>camara_trasera</th>\n",
       "      <th>elevalunas_electrico</th>\n",
       "      <th>bluetooth</th>\n",
       "      <th>gps</th>\n",
       "      <th>alerta_lim_velocidad</th>\n",
       "      <th>precio</th>\n",
       "      <th>fecha_venta</th>\n",
       "    </tr>\n",
       "  </thead>\n",
       "  <tbody>\n",
       "  </tbody>\n",
       "</table>\n",
       "</div>"
      ],
      "text/plain": [
       "Empty DataFrame\n",
       "Columns: [modelo, km, potencia, tipo_gasolina, color, tipo_coche, volante_regulable, aire_acondicionado, camara_trasera, elevalunas_electrico, bluetooth, gps, alerta_lim_velocidad, precio, fecha_venta]\n",
       "Index: []"
      ]
     },
     "execution_count": 705,
     "metadata": {},
     "output_type": "execute_result"
    }
   ],
   "source": [
    "bmw9[bmw9.tipo_gasolina.isnull()]"
   ]
  },
  {
   "cell_type": "code",
   "execution_count": 706,
   "metadata": {},
   "outputs": [
    {
     "data": {
      "text/plain": [
       "modelo                  0\n",
       "km                      0\n",
       "potencia                0\n",
       "tipo_gasolina           0\n",
       "color                   0\n",
       "tipo_coche              0\n",
       "volante_regulable       4\n",
       "aire_acondicionado      0\n",
       "camara_trasera          2\n",
       "elevalunas_electrico    2\n",
       "bluetooth               0\n",
       "gps                     0\n",
       "alerta_lim_velocidad    0\n",
       "precio                  6\n",
       "fecha_venta             1\n",
       "dtype: int64"
      ]
     },
     "execution_count": 706,
     "metadata": {},
     "output_type": "execute_result"
    }
   ],
   "source": [
    "bmw9.isna().sum()"
   ]
  },
  {
   "cell_type": "markdown",
   "metadata": {},
   "source": [
    "    3.9.5.- VOLANTE_REGULABLE"
   ]
  },
  {
   "cell_type": "code",
   "execution_count": 707,
   "metadata": {},
   "outputs": [
    {
     "data": {
      "text/html": [
       "<div>\n",
       "<style scoped>\n",
       "    .dataframe tbody tr th:only-of-type {\n",
       "        vertical-align: middle;\n",
       "    }\n",
       "\n",
       "    .dataframe tbody tr th {\n",
       "        vertical-align: top;\n",
       "    }\n",
       "\n",
       "    .dataframe thead th {\n",
       "        text-align: right;\n",
       "    }\n",
       "</style>\n",
       "<table border=\"1\" class=\"dataframe\">\n",
       "  <thead>\n",
       "    <tr style=\"text-align: right;\">\n",
       "      <th></th>\n",
       "      <th>modelo</th>\n",
       "      <th>km</th>\n",
       "      <th>potencia</th>\n",
       "      <th>tipo_gasolina</th>\n",
       "      <th>color</th>\n",
       "      <th>tipo_coche</th>\n",
       "      <th>volante_regulable</th>\n",
       "      <th>aire_acondicionado</th>\n",
       "      <th>camara_trasera</th>\n",
       "      <th>elevalunas_electrico</th>\n",
       "      <th>bluetooth</th>\n",
       "      <th>gps</th>\n",
       "      <th>alerta_lim_velocidad</th>\n",
       "      <th>precio</th>\n",
       "      <th>fecha_venta</th>\n",
       "    </tr>\n",
       "  </thead>\n",
       "  <tbody>\n",
       "    <tr>\n",
       "      <th>66</th>\n",
       "      <td>320</td>\n",
       "      <td>93066.0</td>\n",
       "      <td>135.0</td>\n",
       "      <td>diesel</td>\n",
       "      <td>black</td>\n",
       "      <td>coupe</td>\n",
       "      <td>NaN</td>\n",
       "      <td>False</td>\n",
       "      <td>False</td>\n",
       "      <td>True</td>\n",
       "      <td>False</td>\n",
       "      <td>True</td>\n",
       "      <td>sin_info</td>\n",
       "      <td>11900.0</td>\n",
       "      <td>2018-06-01</td>\n",
       "    </tr>\n",
       "    <tr>\n",
       "      <th>273</th>\n",
       "      <td>318</td>\n",
       "      <td>195032.0</td>\n",
       "      <td>100.0</td>\n",
       "      <td>diesel</td>\n",
       "      <td>grey</td>\n",
       "      <td>otros</td>\n",
       "      <td>NaN</td>\n",
       "      <td>sin_info</td>\n",
       "      <td>False</td>\n",
       "      <td>False</td>\n",
       "      <td>False</td>\n",
       "      <td>True</td>\n",
       "      <td>False</td>\n",
       "      <td>4900.0</td>\n",
       "      <td>2018-01-01</td>\n",
       "    </tr>\n",
       "    <tr>\n",
       "      <th>489</th>\n",
       "      <td>320</td>\n",
       "      <td>227691.0</td>\n",
       "      <td>135.0</td>\n",
       "      <td>diesel</td>\n",
       "      <td>black</td>\n",
       "      <td>otros</td>\n",
       "      <td>NaN</td>\n",
       "      <td>True</td>\n",
       "      <td>False</td>\n",
       "      <td>False</td>\n",
       "      <td>True</td>\n",
       "      <td>True</td>\n",
       "      <td>False</td>\n",
       "      <td>10500.0</td>\n",
       "      <td>2018-02-01</td>\n",
       "    </tr>\n",
       "    <tr>\n",
       "      <th>614</th>\n",
       "      <td>318</td>\n",
       "      <td>201626.0</td>\n",
       "      <td>105.0</td>\n",
       "      <td>diesel</td>\n",
       "      <td>black</td>\n",
       "      <td>otros</td>\n",
       "      <td>NaN</td>\n",
       "      <td>sin_info</td>\n",
       "      <td>False</td>\n",
       "      <td>True</td>\n",
       "      <td>False</td>\n",
       "      <td>True</td>\n",
       "      <td>True</td>\n",
       "      <td>11700.0</td>\n",
       "      <td>2018-03-01</td>\n",
       "    </tr>\n",
       "  </tbody>\n",
       "</table>\n",
       "</div>"
      ],
      "text/plain": [
       "    modelo        km  potencia tipo_gasolina  color tipo_coche  \\\n",
       "66     320   93066.0     135.0        diesel  black      coupe   \n",
       "273    318  195032.0     100.0        diesel   grey      otros   \n",
       "489    320  227691.0     135.0        diesel  black      otros   \n",
       "614    318  201626.0     105.0        diesel  black      otros   \n",
       "\n",
       "    volante_regulable aire_acondicionado camara_trasera elevalunas_electrico  \\\n",
       "66                NaN              False          False                 True   \n",
       "273               NaN           sin_info          False                False   \n",
       "489               NaN               True          False                False   \n",
       "614               NaN           sin_info          False                 True   \n",
       "\n",
       "    bluetooth   gps alerta_lim_velocidad   precio fecha_venta  \n",
       "66      False  True             sin_info  11900.0  2018-06-01  \n",
       "273     False  True                False   4900.0  2018-01-01  \n",
       "489      True  True                False  10500.0  2018-02-01  \n",
       "614     False  True                 True  11700.0  2018-03-01  "
      ]
     },
     "execution_count": 707,
     "metadata": {},
     "output_type": "execute_result"
    }
   ],
   "source": [
    "bmw9[bmw9['volante_regulable'].isna()]"
   ]
  },
  {
   "cell_type": "code",
   "execution_count": 708,
   "metadata": {},
   "outputs": [
    {
     "data": {
      "text/html": [
       "<div>\n",
       "<style scoped>\n",
       "    .dataframe tbody tr th:only-of-type {\n",
       "        vertical-align: middle;\n",
       "    }\n",
       "\n",
       "    .dataframe tbody tr th {\n",
       "        vertical-align: top;\n",
       "    }\n",
       "\n",
       "    .dataframe thead th {\n",
       "        text-align: right;\n",
       "    }\n",
       "</style>\n",
       "<table border=\"1\" class=\"dataframe\">\n",
       "  <thead>\n",
       "    <tr style=\"text-align: right;\">\n",
       "      <th></th>\n",
       "      <th>volante_regulable</th>\n",
       "      <th>tipo_gasolina</th>\n",
       "      <th>modelo</th>\n",
       "      <th>potencia</th>\n",
       "      <th>tipo_coche</th>\n",
       "      <th>camara_trasera</th>\n",
       "      <th>elevalunas_electrico</th>\n",
       "      <th>bluetooth</th>\n",
       "      <th>alerta_lim_velocidad</th>\n",
       "      <th>gps</th>\n",
       "      <th>proportion</th>\n",
       "    </tr>\n",
       "  </thead>\n",
       "  <tbody>\n",
       "  </tbody>\n",
       "</table>\n",
       "</div>"
      ],
      "text/plain": [
       "Empty DataFrame\n",
       "Columns: [volante_regulable, tipo_gasolina, modelo, potencia, tipo_coche, camara_trasera, elevalunas_electrico, bluetooth, alerta_lim_velocidad, gps, proportion]\n",
       "Index: []"
      ]
     },
     "execution_count": 708,
     "metadata": {},
     "output_type": "execute_result"
    }
   ],
   "source": [
    "#Evaluamos el modelo 320 (indice 66) para ver si podemos imputar el volante_regulable\n",
    "bmw9[['volante_regulable','tipo_gasolina','modelo','potencia','tipo_coche','camara_trasera','elevalunas_electrico','bluetooth','alerta_lim_velocidad','gps']][(bmw9['modelo']=='320')&(bmw9['potencia']==135)&(bmw9['tipo_gasolina']=='diesel')&(bmw9['tipo_coche']=='coupe')&(bmw9['camara_trasera']==False)&(bmw9['elevalunas_electrico']==False)&(bmw9['bluetooth']==False)&(bmw9['gps']==True)].value_counts(normalize=True).reset_index()"
   ]
  },
  {
   "cell_type": "code",
   "execution_count": 709,
   "metadata": {},
   "outputs": [],
   "source": [
    "#Los eliminamos\n",
    "bmw9.dropna(subset='volante_regulable',inplace=True)"
   ]
  },
  {
   "cell_type": "code",
   "execution_count": 710,
   "metadata": {},
   "outputs": [
    {
     "data": {
      "text/html": [
       "<div>\n",
       "<style scoped>\n",
       "    .dataframe tbody tr th:only-of-type {\n",
       "        vertical-align: middle;\n",
       "    }\n",
       "\n",
       "    .dataframe tbody tr th {\n",
       "        vertical-align: top;\n",
       "    }\n",
       "\n",
       "    .dataframe thead th {\n",
       "        text-align: right;\n",
       "    }\n",
       "</style>\n",
       "<table border=\"1\" class=\"dataframe\">\n",
       "  <thead>\n",
       "    <tr style=\"text-align: right;\">\n",
       "      <th></th>\n",
       "      <th>modelo</th>\n",
       "      <th>km</th>\n",
       "      <th>potencia</th>\n",
       "      <th>tipo_gasolina</th>\n",
       "      <th>color</th>\n",
       "      <th>tipo_coche</th>\n",
       "      <th>volante_regulable</th>\n",
       "      <th>aire_acondicionado</th>\n",
       "      <th>camara_trasera</th>\n",
       "      <th>elevalunas_electrico</th>\n",
       "      <th>bluetooth</th>\n",
       "      <th>gps</th>\n",
       "      <th>alerta_lim_velocidad</th>\n",
       "      <th>precio</th>\n",
       "      <th>fecha_venta</th>\n",
       "    </tr>\n",
       "  </thead>\n",
       "  <tbody>\n",
       "  </tbody>\n",
       "</table>\n",
       "</div>"
      ],
      "text/plain": [
       "Empty DataFrame\n",
       "Columns: [modelo, km, potencia, tipo_gasolina, color, tipo_coche, volante_regulable, aire_acondicionado, camara_trasera, elevalunas_electrico, bluetooth, gps, alerta_lim_velocidad, precio, fecha_venta]\n",
       "Index: []"
      ]
     },
     "execution_count": 710,
     "metadata": {},
     "output_type": "execute_result"
    }
   ],
   "source": [
    "bmw9[bmw9['volante_regulable'].isna()]"
   ]
  },
  {
   "cell_type": "code",
   "execution_count": 711,
   "metadata": {},
   "outputs": [
    {
     "data": {
      "text/plain": [
       "modelo                  0\n",
       "km                      0\n",
       "potencia                0\n",
       "tipo_gasolina           0\n",
       "color                   0\n",
       "tipo_coche              0\n",
       "volante_regulable       0\n",
       "aire_acondicionado      0\n",
       "camara_trasera          2\n",
       "elevalunas_electrico    2\n",
       "bluetooth               0\n",
       "gps                     0\n",
       "alerta_lim_velocidad    0\n",
       "precio                  6\n",
       "fecha_venta             1\n",
       "dtype: int64"
      ]
     },
     "execution_count": 711,
     "metadata": {},
     "output_type": "execute_result"
    }
   ],
   "source": [
    "bmw9.isnull().sum()"
   ]
  },
  {
   "cell_type": "markdown",
   "metadata": {},
   "source": [
    "    3.9.6.- CAMARA_TRASERA"
   ]
  },
  {
   "cell_type": "code",
   "execution_count": 712,
   "metadata": {},
   "outputs": [
    {
     "data": {
      "text/html": [
       "<div>\n",
       "<style scoped>\n",
       "    .dataframe tbody tr th:only-of-type {\n",
       "        vertical-align: middle;\n",
       "    }\n",
       "\n",
       "    .dataframe tbody tr th {\n",
       "        vertical-align: top;\n",
       "    }\n",
       "\n",
       "    .dataframe thead th {\n",
       "        text-align: right;\n",
       "    }\n",
       "</style>\n",
       "<table border=\"1\" class=\"dataframe\">\n",
       "  <thead>\n",
       "    <tr style=\"text-align: right;\">\n",
       "      <th></th>\n",
       "      <th>modelo</th>\n",
       "      <th>km</th>\n",
       "      <th>potencia</th>\n",
       "      <th>tipo_gasolina</th>\n",
       "      <th>color</th>\n",
       "      <th>tipo_coche</th>\n",
       "      <th>volante_regulable</th>\n",
       "      <th>aire_acondicionado</th>\n",
       "      <th>camara_trasera</th>\n",
       "      <th>elevalunas_electrico</th>\n",
       "      <th>bluetooth</th>\n",
       "      <th>gps</th>\n",
       "      <th>alerta_lim_velocidad</th>\n",
       "      <th>precio</th>\n",
       "      <th>fecha_venta</th>\n",
       "    </tr>\n",
       "  </thead>\n",
       "  <tbody>\n",
       "    <tr>\n",
       "      <th>291</th>\n",
       "      <td>520</td>\n",
       "      <td>163675.0</td>\n",
       "      <td>135.0</td>\n",
       "      <td>diesel</td>\n",
       "      <td>otros</td>\n",
       "      <td>estate</td>\n",
       "      <td>True</td>\n",
       "      <td>True</td>\n",
       "      <td>NaN</td>\n",
       "      <td>True</td>\n",
       "      <td>sin_info</td>\n",
       "      <td>True</td>\n",
       "      <td>True</td>\n",
       "      <td>14900.0</td>\n",
       "      <td>2018-01-01</td>\n",
       "    </tr>\n",
       "    <tr>\n",
       "      <th>409</th>\n",
       "      <td>316</td>\n",
       "      <td>160619.0</td>\n",
       "      <td>85.0</td>\n",
       "      <td>diesel</td>\n",
       "      <td>black</td>\n",
       "      <td>estate</td>\n",
       "      <td>False</td>\n",
       "      <td>True</td>\n",
       "      <td>NaN</td>\n",
       "      <td>True</td>\n",
       "      <td>sin_info</td>\n",
       "      <td>True</td>\n",
       "      <td>sin_info</td>\n",
       "      <td>11700.0</td>\n",
       "      <td>2018-04-01</td>\n",
       "    </tr>\n",
       "  </tbody>\n",
       "</table>\n",
       "</div>"
      ],
      "text/plain": [
       "    modelo        km  potencia tipo_gasolina  color tipo_coche  \\\n",
       "291    520  163675.0     135.0        diesel  otros     estate   \n",
       "409    316  160619.0      85.0        diesel  black     estate   \n",
       "\n",
       "    volante_regulable aire_acondicionado camara_trasera elevalunas_electrico  \\\n",
       "291              True               True            NaN                 True   \n",
       "409             False               True            NaN                 True   \n",
       "\n",
       "    bluetooth   gps alerta_lim_velocidad   precio fecha_venta  \n",
       "291  sin_info  True                 True  14900.0  2018-01-01  \n",
       "409  sin_info  True             sin_info  11700.0  2018-04-01  "
      ]
     },
     "execution_count": 712,
     "metadata": {},
     "output_type": "execute_result"
    }
   ],
   "source": [
    "bmw9[bmw9['camara_trasera'].isna()]"
   ]
  },
  {
   "cell_type": "code",
   "execution_count": 713,
   "metadata": {},
   "outputs": [
    {
     "data": {
      "text/plain": [
       "camara_trasera  modelo  potencia  tipo_gasolina  tipo_coche\n",
       "False           520     135.0     diesel         estate        0.709677\n",
       "True            520     135.0     diesel         estate        0.290323\n",
       "Name: proportion, dtype: float64"
      ]
     },
     "execution_count": 713,
     "metadata": {},
     "output_type": "execute_result"
    }
   ],
   "source": [
    "#Evaluamos el modelo 520 (indice 291) para ver si podemos imputar la camara_trasera\n",
    "bmw9[['camara_trasera','modelo', 'potencia','tipo_gasolina','tipo_coche']][(bmw9['modelo']=='520')&(bmw9['potencia']==135)&(bmw9['tipo_gasolina']=='diesel')&(bmw9['tipo_coche']=='estate')].value_counts(normalize=True)"
   ]
  },
  {
   "cell_type": "code",
   "execution_count": 714,
   "metadata": {},
   "outputs": [
    {
     "data": {
      "text/plain": [
       "False"
      ]
     },
     "execution_count": 714,
     "metadata": {},
     "output_type": "execute_result"
    }
   ],
   "source": [
    "#Imputamos el valro False\n",
    "bmw9.loc[[291],['camara_trasera']]=False\n",
    "bmw9.loc[291]['camara_trasera']"
   ]
  },
  {
   "cell_type": "code",
   "execution_count": 715,
   "metadata": {},
   "outputs": [
    {
     "data": {
      "text/html": [
       "<div>\n",
       "<style scoped>\n",
       "    .dataframe tbody tr th:only-of-type {\n",
       "        vertical-align: middle;\n",
       "    }\n",
       "\n",
       "    .dataframe tbody tr th {\n",
       "        vertical-align: top;\n",
       "    }\n",
       "\n",
       "    .dataframe thead th {\n",
       "        text-align: right;\n",
       "    }\n",
       "</style>\n",
       "<table border=\"1\" class=\"dataframe\">\n",
       "  <thead>\n",
       "    <tr style=\"text-align: right;\">\n",
       "      <th></th>\n",
       "      <th>modelo</th>\n",
       "      <th>km</th>\n",
       "      <th>potencia</th>\n",
       "      <th>tipo_gasolina</th>\n",
       "      <th>color</th>\n",
       "      <th>tipo_coche</th>\n",
       "      <th>volante_regulable</th>\n",
       "      <th>aire_acondicionado</th>\n",
       "      <th>camara_trasera</th>\n",
       "      <th>elevalunas_electrico</th>\n",
       "      <th>bluetooth</th>\n",
       "      <th>gps</th>\n",
       "      <th>alerta_lim_velocidad</th>\n",
       "      <th>precio</th>\n",
       "      <th>fecha_venta</th>\n",
       "    </tr>\n",
       "  </thead>\n",
       "  <tbody>\n",
       "    <tr>\n",
       "      <th>409</th>\n",
       "      <td>316</td>\n",
       "      <td>160619.0</td>\n",
       "      <td>85.0</td>\n",
       "      <td>diesel</td>\n",
       "      <td>black</td>\n",
       "      <td>estate</td>\n",
       "      <td>False</td>\n",
       "      <td>True</td>\n",
       "      <td>NaN</td>\n",
       "      <td>True</td>\n",
       "      <td>sin_info</td>\n",
       "      <td>True</td>\n",
       "      <td>sin_info</td>\n",
       "      <td>11700.0</td>\n",
       "      <td>2018-04-01</td>\n",
       "    </tr>\n",
       "  </tbody>\n",
       "</table>\n",
       "</div>"
      ],
      "text/plain": [
       "    modelo        km  potencia tipo_gasolina  color tipo_coche  \\\n",
       "409    316  160619.0      85.0        diesel  black     estate   \n",
       "\n",
       "    volante_regulable aire_acondicionado camara_trasera elevalunas_electrico  \\\n",
       "409             False               True            NaN                 True   \n",
       "\n",
       "    bluetooth   gps alerta_lim_velocidad   precio fecha_venta  \n",
       "409  sin_info  True             sin_info  11700.0  2018-04-01  "
      ]
     },
     "execution_count": 715,
     "metadata": {},
     "output_type": "execute_result"
    }
   ],
   "source": [
    "bmw9[bmw9['camara_trasera'].isna()]"
   ]
  },
  {
   "cell_type": "code",
   "execution_count": 716,
   "metadata": {},
   "outputs": [
    {
     "data": {
      "text/plain": [
       "camara_trasera  modelo  potencia  tipo_gasolina  tipo_coche\n",
       "False           316     85.0      diesel         estate        0.948718\n",
       "True            316     85.0      diesel         estate        0.051282\n",
       "Name: proportion, dtype: float64"
      ]
     },
     "execution_count": 716,
     "metadata": {},
     "output_type": "execute_result"
    }
   ],
   "source": [
    "#Evaluamos el modelo 316 (indice 409) para ver si podemos imputar la camara_trasera\n",
    "bmw9[['camara_trasera','modelo', 'potencia','tipo_gasolina','tipo_coche']][(bmw9['modelo']=='316')&(bmw9['potencia']==85)&(bmw9['tipo_gasolina']=='diesel')&(bmw9['tipo_coche']=='estate')].value_counts(normalize=True)"
   ]
  },
  {
   "cell_type": "code",
   "execution_count": 717,
   "metadata": {},
   "outputs": [
    {
     "data": {
      "text/plain": [
       "False"
      ]
     },
     "execution_count": 717,
     "metadata": {},
     "output_type": "execute_result"
    }
   ],
   "source": [
    "#Imputamos el valro False\n",
    "bmw9.loc[[409],['camara_trasera']]=False\n",
    "bmw9.loc[409]['camara_trasera']"
   ]
  },
  {
   "cell_type": "code",
   "execution_count": 718,
   "metadata": {},
   "outputs": [
    {
     "data": {
      "text/plain": [
       "modelo                  0\n",
       "km                      0\n",
       "potencia                0\n",
       "tipo_gasolina           0\n",
       "color                   0\n",
       "tipo_coche              0\n",
       "volante_regulable       0\n",
       "aire_acondicionado      0\n",
       "camara_trasera          0\n",
       "elevalunas_electrico    2\n",
       "bluetooth               0\n",
       "gps                     0\n",
       "alerta_lim_velocidad    0\n",
       "precio                  6\n",
       "fecha_venta             1\n",
       "dtype: int64"
      ]
     },
     "execution_count": 718,
     "metadata": {},
     "output_type": "execute_result"
    }
   ],
   "source": [
    "bmw9.isnull().sum()"
   ]
  },
  {
   "cell_type": "markdown",
   "metadata": {},
   "source": [
    "    3.9.7.- ELEVALUNAS_ELECTRICO"
   ]
  },
  {
   "cell_type": "code",
   "execution_count": 719,
   "metadata": {},
   "outputs": [
    {
     "data": {
      "text/html": [
       "<div>\n",
       "<style scoped>\n",
       "    .dataframe tbody tr th:only-of-type {\n",
       "        vertical-align: middle;\n",
       "    }\n",
       "\n",
       "    .dataframe tbody tr th {\n",
       "        vertical-align: top;\n",
       "    }\n",
       "\n",
       "    .dataframe thead th {\n",
       "        text-align: right;\n",
       "    }\n",
       "</style>\n",
       "<table border=\"1\" class=\"dataframe\">\n",
       "  <thead>\n",
       "    <tr style=\"text-align: right;\">\n",
       "      <th></th>\n",
       "      <th>modelo</th>\n",
       "      <th>km</th>\n",
       "      <th>potencia</th>\n",
       "      <th>tipo_gasolina</th>\n",
       "      <th>color</th>\n",
       "      <th>tipo_coche</th>\n",
       "      <th>volante_regulable</th>\n",
       "      <th>aire_acondicionado</th>\n",
       "      <th>camara_trasera</th>\n",
       "      <th>elevalunas_electrico</th>\n",
       "      <th>bluetooth</th>\n",
       "      <th>gps</th>\n",
       "      <th>alerta_lim_velocidad</th>\n",
       "      <th>precio</th>\n",
       "      <th>fecha_venta</th>\n",
       "    </tr>\n",
       "  </thead>\n",
       "  <tbody>\n",
       "    <tr>\n",
       "      <th>63</th>\n",
       "      <td>640</td>\n",
       "      <td>69695.0</td>\n",
       "      <td>230.0</td>\n",
       "      <td>diesel</td>\n",
       "      <td>otros</td>\n",
       "      <td>coupe</td>\n",
       "      <td>True</td>\n",
       "      <td>True</td>\n",
       "      <td>False</td>\n",
       "      <td>NaN</td>\n",
       "      <td>True</td>\n",
       "      <td>True</td>\n",
       "      <td>True</td>\n",
       "      <td>36300.0</td>\n",
       "      <td>2018-02-01</td>\n",
       "    </tr>\n",
       "    <tr>\n",
       "      <th>305</th>\n",
       "      <td>535</td>\n",
       "      <td>148738.0</td>\n",
       "      <td>230.0</td>\n",
       "      <td>diesel</td>\n",
       "      <td>grey</td>\n",
       "      <td>estate</td>\n",
       "      <td>True</td>\n",
       "      <td>True</td>\n",
       "      <td>True</td>\n",
       "      <td>NaN</td>\n",
       "      <td>False</td>\n",
       "      <td>True</td>\n",
       "      <td>True</td>\n",
       "      <td>28800.0</td>\n",
       "      <td>2018-01-01</td>\n",
       "    </tr>\n",
       "  </tbody>\n",
       "</table>\n",
       "</div>"
      ],
      "text/plain": [
       "    modelo        km  potencia tipo_gasolina  color tipo_coche  \\\n",
       "63     640   69695.0     230.0        diesel  otros      coupe   \n",
       "305    535  148738.0     230.0        diesel   grey     estate   \n",
       "\n",
       "    volante_regulable aire_acondicionado camara_trasera elevalunas_electrico  \\\n",
       "63               True               True          False                  NaN   \n",
       "305              True               True           True                  NaN   \n",
       "\n",
       "    bluetooth   gps alerta_lim_velocidad   precio fecha_venta  \n",
       "63       True  True                 True  36300.0  2018-02-01  \n",
       "305     False  True                 True  28800.0  2018-01-01  "
      ]
     },
     "execution_count": 719,
     "metadata": {},
     "output_type": "execute_result"
    }
   ],
   "source": [
    "bmw9[bmw9['elevalunas_electrico'].isnull()]"
   ]
  },
  {
   "cell_type": "code",
   "execution_count": 720,
   "metadata": {},
   "outputs": [
    {
     "data": {
      "text/plain": [
       "elevalunas_electrico  modelo  potencia  tipo_gasolina  tipo_coche\n",
       "True                  640     230.0     diesel         coupe         1.0\n",
       "Name: proportion, dtype: float64"
      ]
     },
     "execution_count": 720,
     "metadata": {},
     "output_type": "execute_result"
    }
   ],
   "source": [
    "#Evaluamos el modelo 640 (indice 63) para ver si podemos imputar los elevalunas_electricos\n",
    "bmw9[['elevalunas_electrico','modelo','potencia','tipo_gasolina','tipo_coche']][(bmw9['modelo']=='640')&(bmw9['potencia']==230)&(bmw9['tipo_gasolina']=='diesel')&(bmw9['tipo_coche']=='coupe')].value_counts(normalize=True)"
   ]
  },
  {
   "cell_type": "code",
   "execution_count": 721,
   "metadata": {},
   "outputs": [
    {
     "data": {
      "text/plain": [
       "True"
      ]
     },
     "execution_count": 721,
     "metadata": {},
     "output_type": "execute_result"
    }
   ],
   "source": [
    "#imputamos el valor True\n",
    "bmw9.loc[[63],['elevalunas_electrico']]=True\n",
    "bmw9.loc[63]['elevalunas_electrico']"
   ]
  },
  {
   "cell_type": "code",
   "execution_count": 722,
   "metadata": {},
   "outputs": [
    {
     "data": {
      "text/html": [
       "<div>\n",
       "<style scoped>\n",
       "    .dataframe tbody tr th:only-of-type {\n",
       "        vertical-align: middle;\n",
       "    }\n",
       "\n",
       "    .dataframe tbody tr th {\n",
       "        vertical-align: top;\n",
       "    }\n",
       "\n",
       "    .dataframe thead th {\n",
       "        text-align: right;\n",
       "    }\n",
       "</style>\n",
       "<table border=\"1\" class=\"dataframe\">\n",
       "  <thead>\n",
       "    <tr style=\"text-align: right;\">\n",
       "      <th></th>\n",
       "      <th>modelo</th>\n",
       "      <th>km</th>\n",
       "      <th>potencia</th>\n",
       "      <th>tipo_gasolina</th>\n",
       "      <th>color</th>\n",
       "      <th>tipo_coche</th>\n",
       "      <th>volante_regulable</th>\n",
       "      <th>aire_acondicionado</th>\n",
       "      <th>camara_trasera</th>\n",
       "      <th>elevalunas_electrico</th>\n",
       "      <th>bluetooth</th>\n",
       "      <th>gps</th>\n",
       "      <th>alerta_lim_velocidad</th>\n",
       "      <th>precio</th>\n",
       "      <th>fecha_venta</th>\n",
       "    </tr>\n",
       "  </thead>\n",
       "  <tbody>\n",
       "    <tr>\n",
       "      <th>305</th>\n",
       "      <td>535</td>\n",
       "      <td>148738.0</td>\n",
       "      <td>230.0</td>\n",
       "      <td>diesel</td>\n",
       "      <td>grey</td>\n",
       "      <td>estate</td>\n",
       "      <td>True</td>\n",
       "      <td>True</td>\n",
       "      <td>True</td>\n",
       "      <td>NaN</td>\n",
       "      <td>False</td>\n",
       "      <td>True</td>\n",
       "      <td>True</td>\n",
       "      <td>28800.0</td>\n",
       "      <td>2018-01-01</td>\n",
       "    </tr>\n",
       "  </tbody>\n",
       "</table>\n",
       "</div>"
      ],
      "text/plain": [
       "    modelo        km  potencia tipo_gasolina color tipo_coche  \\\n",
       "305    535  148738.0     230.0        diesel  grey     estate   \n",
       "\n",
       "    volante_regulable aire_acondicionado camara_trasera elevalunas_electrico  \\\n",
       "305              True               True           True                  NaN   \n",
       "\n",
       "    bluetooth   gps alerta_lim_velocidad   precio fecha_venta  \n",
       "305     False  True                 True  28800.0  2018-01-01  "
      ]
     },
     "execution_count": 722,
     "metadata": {},
     "output_type": "execute_result"
    }
   ],
   "source": [
    "bmw9[bmw9['elevalunas_electrico'].isnull()]"
   ]
  },
  {
   "cell_type": "code",
   "execution_count": 723,
   "metadata": {},
   "outputs": [
    {
     "data": {
      "text/plain": [
       "elevalunas_electrico  modelo  potencia  tipo_gasolina  tipo_coche\n",
       "True                  535     230.0     diesel         estate        0.9\n",
       "False                 535     230.0     diesel         estate        0.1\n",
       "Name: proportion, dtype: float64"
      ]
     },
     "execution_count": 723,
     "metadata": {},
     "output_type": "execute_result"
    }
   ],
   "source": [
    "#Evaluamos el modelo 535 (indice 305) para ver si podemos imputar los elevalunas_electricos\n",
    "bmw9[['elevalunas_electrico','modelo','potencia','tipo_gasolina','tipo_coche']][(bmw9['modelo']=='535')&(bmw9['potencia']==230)&(bmw9['tipo_gasolina']=='diesel')&(bmw9['tipo_coche']=='estate')].value_counts(normalize=True)"
   ]
  },
  {
   "cell_type": "code",
   "execution_count": 724,
   "metadata": {},
   "outputs": [
    {
     "data": {
      "text/plain": [
       "True"
      ]
     },
     "execution_count": 724,
     "metadata": {},
     "output_type": "execute_result"
    }
   ],
   "source": [
    "#imputamos el valor True\n",
    "bmw9.loc[[305],['elevalunas_electrico']]=True\n",
    "bmw9.loc[305]['elevalunas_electrico']"
   ]
  },
  {
   "cell_type": "code",
   "execution_count": 725,
   "metadata": {},
   "outputs": [
    {
     "data": {
      "text/html": [
       "<div>\n",
       "<style scoped>\n",
       "    .dataframe tbody tr th:only-of-type {\n",
       "        vertical-align: middle;\n",
       "    }\n",
       "\n",
       "    .dataframe tbody tr th {\n",
       "        vertical-align: top;\n",
       "    }\n",
       "\n",
       "    .dataframe thead th {\n",
       "        text-align: right;\n",
       "    }\n",
       "</style>\n",
       "<table border=\"1\" class=\"dataframe\">\n",
       "  <thead>\n",
       "    <tr style=\"text-align: right;\">\n",
       "      <th></th>\n",
       "      <th>modelo</th>\n",
       "      <th>km</th>\n",
       "      <th>potencia</th>\n",
       "      <th>tipo_gasolina</th>\n",
       "      <th>color</th>\n",
       "      <th>tipo_coche</th>\n",
       "      <th>volante_regulable</th>\n",
       "      <th>aire_acondicionado</th>\n",
       "      <th>camara_trasera</th>\n",
       "      <th>elevalunas_electrico</th>\n",
       "      <th>bluetooth</th>\n",
       "      <th>gps</th>\n",
       "      <th>alerta_lim_velocidad</th>\n",
       "      <th>precio</th>\n",
       "      <th>fecha_venta</th>\n",
       "    </tr>\n",
       "  </thead>\n",
       "  <tbody>\n",
       "  </tbody>\n",
       "</table>\n",
       "</div>"
      ],
      "text/plain": [
       "Empty DataFrame\n",
       "Columns: [modelo, km, potencia, tipo_gasolina, color, tipo_coche, volante_regulable, aire_acondicionado, camara_trasera, elevalunas_electrico, bluetooth, gps, alerta_lim_velocidad, precio, fecha_venta]\n",
       "Index: []"
      ]
     },
     "execution_count": 725,
     "metadata": {},
     "output_type": "execute_result"
    }
   ],
   "source": [
    "bmw9[bmw9['elevalunas_electrico'].isnull()]"
   ]
  },
  {
   "cell_type": "code",
   "execution_count": 726,
   "metadata": {},
   "outputs": [
    {
     "data": {
      "text/plain": [
       "modelo                  0\n",
       "km                      0\n",
       "potencia                0\n",
       "tipo_gasolina           0\n",
       "color                   0\n",
       "tipo_coche              0\n",
       "volante_regulable       0\n",
       "aire_acondicionado      0\n",
       "camara_trasera          0\n",
       "elevalunas_electrico    0\n",
       "bluetooth               0\n",
       "gps                     0\n",
       "alerta_lim_velocidad    0\n",
       "precio                  6\n",
       "fecha_venta             1\n",
       "dtype: int64"
      ]
     },
     "execution_count": 726,
     "metadata": {},
     "output_type": "execute_result"
    }
   ],
   "source": [
    "bmw9.isnull().sum()"
   ]
  },
  {
   "cell_type": "markdown",
   "metadata": {},
   "source": [
    "    3.9.8.- PRECIO"
   ]
  },
  {
   "cell_type": "markdown",
   "metadata": {},
   "source": [
    "Precio es la variable TARGET a predecir. Eliminamos los nulos d precio directamente."
   ]
  },
  {
   "cell_type": "code",
   "execution_count": 727,
   "metadata": {},
   "outputs": [],
   "source": [
    "bmw9.dropna(subset='precio',inplace=True)"
   ]
  },
  {
   "cell_type": "code",
   "execution_count": 728,
   "metadata": {},
   "outputs": [
    {
     "data": {
      "text/plain": [
       "modelo                  0\n",
       "km                      0\n",
       "potencia                0\n",
       "tipo_gasolina           0\n",
       "color                   0\n",
       "tipo_coche              0\n",
       "volante_regulable       0\n",
       "aire_acondicionado      0\n",
       "camara_trasera          0\n",
       "elevalunas_electrico    0\n",
       "bluetooth               0\n",
       "gps                     0\n",
       "alerta_lim_velocidad    0\n",
       "precio                  0\n",
       "fecha_venta             1\n",
       "dtype: int64"
      ]
     },
     "execution_count": 728,
     "metadata": {},
     "output_type": "execute_result"
    }
   ],
   "source": [
    "bmw9.isnull().sum()"
   ]
  },
  {
   "cell_type": "markdown",
   "metadata": {},
   "source": [
    "    3.9.9.- FECHA_VENTA"
   ]
  },
  {
   "cell_type": "markdown",
   "metadata": {},
   "source": [
    "No hay forma de saber la fecha de venta de un coche. Eliminamos el nulo directamente."
   ]
  },
  {
   "cell_type": "code",
   "execution_count": 729,
   "metadata": {},
   "outputs": [],
   "source": [
    "bmw9.dropna(subset='fecha_venta',inplace=True)"
   ]
  },
  {
   "cell_type": "code",
   "execution_count": 730,
   "metadata": {},
   "outputs": [
    {
     "data": {
      "text/plain": [
       "modelo                  0\n",
       "km                      0\n",
       "potencia                0\n",
       "tipo_gasolina           0\n",
       "color                   0\n",
       "tipo_coche              0\n",
       "volante_regulable       0\n",
       "aire_acondicionado      0\n",
       "camara_trasera          0\n",
       "elevalunas_electrico    0\n",
       "bluetooth               0\n",
       "gps                     0\n",
       "alerta_lim_velocidad    0\n",
       "precio                  0\n",
       "fecha_venta             0\n",
       "dtype: int64"
      ]
     },
     "execution_count": 730,
     "metadata": {},
     "output_type": "execute_result"
    }
   ],
   "source": [
    "bmw9.isnull().sum()"
   ]
  },
  {
   "cell_type": "markdown",
   "metadata": {},
   "source": [
    "Reseteamos el indice del DataFrame ya que hemos eliminado varios elementos. De esta forma no quedarán huecos vacíos de indices."
   ]
  },
  {
   "cell_type": "code",
   "execution_count": 731,
   "metadata": {},
   "outputs": [],
   "source": [
    "bmw10=bmw9.copy()"
   ]
  },
  {
   "cell_type": "code",
   "execution_count": 732,
   "metadata": {},
   "outputs": [],
   "source": [
    "bmw10.reset_index(drop=True,inplace=True)"
   ]
  },
  {
   "cell_type": "code",
   "execution_count": 733,
   "metadata": {},
   "outputs": [
    {
     "data": {
      "text/plain": [
       "modelo                  0\n",
       "km                      0\n",
       "potencia                0\n",
       "tipo_gasolina           0\n",
       "color                   0\n",
       "tipo_coche              0\n",
       "volante_regulable       0\n",
       "aire_acondicionado      0\n",
       "camara_trasera          0\n",
       "elevalunas_electrico    0\n",
       "bluetooth               0\n",
       "gps                     0\n",
       "alerta_lim_velocidad    0\n",
       "precio                  0\n",
       "fecha_venta             0\n",
       "dtype: int64"
      ]
     },
     "execution_count": 733,
     "metadata": {},
     "output_type": "execute_result"
    }
   ],
   "source": [
    "bmw10.isnull().sum()"
   ]
  },
  {
   "cell_type": "markdown",
   "metadata": {},
   "source": [
    "### 4.- Analisis Univariable"
   ]
  },
  {
   "cell_type": "code",
   "execution_count": 734,
   "metadata": {},
   "outputs": [
    {
     "name": "stdout",
     "output_type": "stream",
     "text": [
      "<class 'pandas.core.frame.DataFrame'>\n",
      "RangeIndex: 4829 entries, 0 to 4828\n",
      "Data columns (total 15 columns):\n",
      " #   Column                Non-Null Count  Dtype  \n",
      "---  ------                --------------  -----  \n",
      " 0   modelo                4829 non-null   object \n",
      " 1   km                    4829 non-null   float64\n",
      " 2   potencia              4829 non-null   float64\n",
      " 3   tipo_gasolina         4829 non-null   object \n",
      " 4   color                 4829 non-null   object \n",
      " 5   tipo_coche            4829 non-null   object \n",
      " 6   volante_regulable     4829 non-null   object \n",
      " 7   aire_acondicionado    4829 non-null   object \n",
      " 8   camara_trasera        4829 non-null   object \n",
      " 9   elevalunas_electrico  4829 non-null   object \n",
      " 10  bluetooth             4829 non-null   object \n",
      " 11  gps                   4829 non-null   bool   \n",
      " 12  alerta_lim_velocidad  4829 non-null   object \n",
      " 13  precio                4829 non-null   float64\n",
      " 14  fecha_venta           4829 non-null   object \n",
      "dtypes: bool(1), float64(3), object(11)\n",
      "memory usage: 533.0+ KB\n"
     ]
    }
   ],
   "source": [
    "bmw10.info()"
   ]
  },
  {
   "cell_type": "code",
   "execution_count": null,
   "metadata": {},
   "outputs": [],
   "source": []
  }
 ],
 "metadata": {
  "kernelspec": {
   "display_name": "Python 3",
   "language": "python",
   "name": "python3"
  },
  "language_info": {
   "codemirror_mode": {
    "name": "ipython",
    "version": 3
   },
   "file_extension": ".py",
   "mimetype": "text/x-python",
   "name": "python",
   "nbconvert_exporter": "python",
   "pygments_lexer": "ipython3",
   "version": "3.12.0"
  }
 },
 "nbformat": 4,
 "nbformat_minor": 2
}
