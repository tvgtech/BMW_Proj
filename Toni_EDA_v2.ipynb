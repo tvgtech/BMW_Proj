{
 "cells": [
  {
   "cell_type": "markdown",
   "metadata": {},
   "source": [
    "## __EDA Toni__<br/>"
   ]
  },
  {
   "cell_type": "markdown",
   "metadata": {},
   "source": [
    "Nombre Dataset: bmw"
   ]
  },
  {
   "cell_type": "markdown",
   "metadata": {},
   "source": [
    "### __Análisis inicial__<br/>\n",
    "- **4846 registros** <gr/>\n",
    "- Hay nulos en todas las columnas menos en 'gps'<br/>\n",
    "- 'modelo', 'km', 'potencia','volante_regulable', 'camara_trasera', 'elevalunas_electrico' y 'fecha_venta' tienen menos de 5 nulos. Posiblemente podamos eliminar esos registros o sean los mismos. <br/>\n",
    "- ~~'marca' todo son WMB. Se puede eliminar la columna<br/>~~\n",
    "- 'km' se puede pasar a int32 o int 64<br/>\n",
    "- 'km' tiene valores negativos <br/>\n",
    "- 'potencia' se puede pasar a int8 <br/>\n",
    "- 'fecha_venta' es str(oject), se puede pasar a time<br/>\n",
    "- Desde 8-'volante_regulable' hasta 15-'alerta_lim_velocidad' son tipo 'object' (a excepción de 'gps'). Pasar a tipo 'bool'<br/>\n",
    "- ~~NO hay duplicados <br/>~~\n",
    "- ~~'Fecha_registro' tiene demasiados nulos (50%). Se elimina~~"
   ]
  },
  {
   "cell_type": "markdown",
   "metadata": {},
   "source": [
    "### __Preguntas a contestar:__"
   ]
  },
  {
   "cell_type": "markdown",
   "metadata": {},
   "source": [
    "- __Columnas eliminadas__\n",
    "    - No se han encontrado registros duplicados. <br/>\n",
    "    - Columna __marca__. Sólo tiene 2 valores, 'BMW' o Nulo. No aporta información. Además, los nulos representan un 20% del total.\n",
    "    - Columna __fecha_registro__. Tiene un 50% de nulos y no hay manera objetiva de imputarle valores fiables.\n",
    "    - Columna __asientos_traseros_plegables__. Tiene un 70% de nulos que no se pueden imputar."
   ]
  },
  {
   "cell_type": "markdown",
   "metadata": {},
   "source": [
    "- __Cómo se han tratado los nulos y cómo se han limpiado las columnas__\n",
    "\n",
    "  - __color__ : Tiene un 9.18% de nulos. Ya que no hay manera de imputarle valores al no tener relación directa con caracterísitcas propias de cada modelo, y por lo tanto no hay forma objetiva de saber de qué colro es cada coche con la iformación que tenemos, les imputamos el valor __otros__\n",
    "  - __tipo_coche__: Tiene un 30.14% de nulos, pero es información relevante para calcular el precio. Tras analizar si se pueden imputar de forma manual, llegamos a la conclusión de que hay demasiada variabilididad por lo que imputamos el valor __'otros'__\n",
    "  - __aire_acondicionado__: Tiene un 10.03% de nulos. Contiene información relevante para el precio de venta. Imputamos el valor __'sin_info'__\n",
    "  - __bluetooth__: Tiene un 15% de nulos. Contiene información relevante para el precio de venta. Imputamos el valor __'sin_info'__\n",
    "  - __'alerta_lim_velocidad'__: Tiene un 15% de nulos. Contiene información relevante para el precio de venta. Imputamos el valor __'sin_info'__"
   ]
  },
  {
   "cell_type": "markdown",
   "metadata": {},
   "source": [
    "- __Análisis univariable. Outliers, agrupaciones etc__"
   ]
  },
  {
   "cell_type": "markdown",
   "metadata": {},
   "source": []
  },
  {
   "cell_type": "markdown",
   "metadata": {},
   "source": [
    "- __Análisis de correlación__"
   ]
  },
  {
   "cell_type": "markdown",
   "metadata": {},
   "source": []
  },
  {
   "cell_type": "markdown",
   "metadata": {},
   "source": [
    "- __Análisis de variables Vs Target. Insights__"
   ]
  },
  {
   "cell_type": "markdown",
   "metadata": {},
   "source": []
  },
  {
   "cell_type": "markdown",
   "metadata": {},
   "source": [
    "- __Transformación de variables categóricas. Cuáles se van a transformar, por qué y con qué técnica__"
   ]
  },
  {
   "cell_type": "markdown",
   "metadata": {},
   "source": []
  },
  {
   "cell_type": "markdown",
   "metadata": {},
   "source": [
    "- __Normalización de variables numéricas__"
   ]
  },
  {
   "cell_type": "markdown",
   "metadata": {},
   "source": []
  },
  {
   "cell_type": "markdown",
   "metadata": {},
   "source": [
    "- __Análisis de correlación final__"
   ]
  },
  {
   "cell_type": "markdown",
   "metadata": {},
   "source": []
  }
 ],
 "metadata": {
  "kernelspec": {
   "display_name": "Python 3",
   "language": "python",
   "name": "python3"
  },
  "language_info": {
   "name": "python",
   "version": "3.12.0"
  }
 },
 "nbformat": 4,
 "nbformat_minor": 2
}
