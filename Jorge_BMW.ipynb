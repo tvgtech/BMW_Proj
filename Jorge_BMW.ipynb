{
 "cells": [
  {
   "cell_type": "markdown",
   "metadata": {},
   "source": [
    "<h3>1.- Importación de librerías</h3>"
   ]
  },
  {
   "cell_type": "code",
   "execution_count": 133,
   "metadata": {},
   "outputs": [],
   "source": [
    "# Importamos las librerías necesarias\n",
    "\n",
    "import pandas as pd\n",
    "import numpy as np\n",
    "import matplotlib.pyplot as plt\n",
    "import seaborn as sns"
   ]
  },
  {
   "cell_type": "markdown",
   "metadata": {},
   "source": [
    "<h3>2.- Importación del Dataset</h3>"
   ]
  },
  {
   "cell_type": "code",
   "execution_count": 134,
   "metadata": {},
   "outputs": [],
   "source": [
    "# Importamos el Dataset leyendo el archivo csv en un DataFrame\n",
    "\n",
    "df_bmw0 = pd.read_csv(\"dataset/bmw_pricing_v3.csv\")"
   ]
  },
  {
   "cell_type": "markdown",
   "metadata": {},
   "source": [
    "<h3>3.- Exploración Inicial del Dataset</h3>"
   ]
  },
  {
   "cell_type": "markdown",
   "metadata": {},
   "source": [
    "Ejemplo de columnas"
   ]
  },
  {
   "cell_type": "code",
   "execution_count": 135,
   "metadata": {},
   "outputs": [
    {
     "data": {
      "text/html": [
       "<div>\n",
       "<style scoped>\n",
       "    .dataframe tbody tr th:only-of-type {\n",
       "        vertical-align: middle;\n",
       "    }\n",
       "\n",
       "    .dataframe tbody tr th {\n",
       "        vertical-align: top;\n",
       "    }\n",
       "\n",
       "    .dataframe thead th {\n",
       "        text-align: right;\n",
       "    }\n",
       "</style>\n",
       "<table border=\"1\" class=\"dataframe\">\n",
       "  <thead>\n",
       "    <tr style=\"text-align: right;\">\n",
       "      <th></th>\n",
       "      <th>marca</th>\n",
       "      <th>modelo</th>\n",
       "      <th>km</th>\n",
       "      <th>potencia</th>\n",
       "      <th>fecha_registro</th>\n",
       "      <th>tipo_gasolina</th>\n",
       "      <th>color</th>\n",
       "      <th>tipo_coche</th>\n",
       "      <th>volante_regulable</th>\n",
       "      <th>aire_acondicionado</th>\n",
       "      <th>camara_trasera</th>\n",
       "      <th>asientos_traseros_plegables</th>\n",
       "      <th>elevalunas_electrico</th>\n",
       "      <th>bluetooth</th>\n",
       "      <th>gps</th>\n",
       "      <th>alerta_lim_velocidad</th>\n",
       "      <th>precio</th>\n",
       "      <th>fecha_venta</th>\n",
       "    </tr>\n",
       "  </thead>\n",
       "  <tbody>\n",
       "    <tr>\n",
       "      <th>2201</th>\n",
       "      <td>BMW</td>\n",
       "      <td>520</td>\n",
       "      <td>146402.0</td>\n",
       "      <td>137.0</td>\n",
       "      <td>2012-08-01</td>\n",
       "      <td>diesel</td>\n",
       "      <td>grey</td>\n",
       "      <td>NaN</td>\n",
       "      <td>True</td>\n",
       "      <td>True</td>\n",
       "      <td>False</td>\n",
       "      <td>NaN</td>\n",
       "      <td>False</td>\n",
       "      <td>False</td>\n",
       "      <td>True</td>\n",
       "      <td>True</td>\n",
       "      <td>16200.0</td>\n",
       "      <td>2018-05-01</td>\n",
       "    </tr>\n",
       "    <tr>\n",
       "      <th>3930</th>\n",
       "      <td>BMW</td>\n",
       "      <td>X3</td>\n",
       "      <td>78087.0</td>\n",
       "      <td>105.0</td>\n",
       "      <td>2013-01-01</td>\n",
       "      <td>diesel</td>\n",
       "      <td>black</td>\n",
       "      <td>NaN</td>\n",
       "      <td>False</td>\n",
       "      <td>True</td>\n",
       "      <td>False</td>\n",
       "      <td>NaN</td>\n",
       "      <td>False</td>\n",
       "      <td>False</td>\n",
       "      <td>True</td>\n",
       "      <td>NaN</td>\n",
       "      <td>21700.0</td>\n",
       "      <td>2018-02-01</td>\n",
       "    </tr>\n",
       "    <tr>\n",
       "      <th>4572</th>\n",
       "      <td>NaN</td>\n",
       "      <td>X4</td>\n",
       "      <td>54433.0</td>\n",
       "      <td>140.0</td>\n",
       "      <td>2015-06-01</td>\n",
       "      <td>diesel</td>\n",
       "      <td>white</td>\n",
       "      <td>NaN</td>\n",
       "      <td>False</td>\n",
       "      <td>False</td>\n",
       "      <td>False</td>\n",
       "      <td>NaN</td>\n",
       "      <td>False</td>\n",
       "      <td>False</td>\n",
       "      <td>False</td>\n",
       "      <td>False</td>\n",
       "      <td>33200.0</td>\n",
       "      <td>2018-07-01</td>\n",
       "    </tr>\n",
       "    <tr>\n",
       "      <th>3755</th>\n",
       "      <td>NaN</td>\n",
       "      <td>X3</td>\n",
       "      <td>73086.0</td>\n",
       "      <td>135.0</td>\n",
       "      <td>NaN</td>\n",
       "      <td>diesel</td>\n",
       "      <td>black</td>\n",
       "      <td>NaN</td>\n",
       "      <td>False</td>\n",
       "      <td>False</td>\n",
       "      <td>False</td>\n",
       "      <td>False</td>\n",
       "      <td>False</td>\n",
       "      <td>False</td>\n",
       "      <td>False</td>\n",
       "      <td>True</td>\n",
       "      <td>17500.0</td>\n",
       "      <td>2018-09-01</td>\n",
       "    </tr>\n",
       "    <tr>\n",
       "      <th>64</th>\n",
       "      <td>BMW</td>\n",
       "      <td>420</td>\n",
       "      <td>61300.0</td>\n",
       "      <td>135.0</td>\n",
       "      <td>NaN</td>\n",
       "      <td>diesel</td>\n",
       "      <td>NaN</td>\n",
       "      <td>NaN</td>\n",
       "      <td>True</td>\n",
       "      <td>True</td>\n",
       "      <td>False</td>\n",
       "      <td>NaN</td>\n",
       "      <td>True</td>\n",
       "      <td>False</td>\n",
       "      <td>True</td>\n",
       "      <td>True</td>\n",
       "      <td>27700.0</td>\n",
       "      <td>2018-02-01</td>\n",
       "    </tr>\n",
       "    <tr>\n",
       "      <th>1639</th>\n",
       "      <td>BMW</td>\n",
       "      <td>525</td>\n",
       "      <td>193148.0</td>\n",
       "      <td>155.0</td>\n",
       "      <td>2012-03-01</td>\n",
       "      <td>diesel</td>\n",
       "      <td>grey</td>\n",
       "      <td>estate</td>\n",
       "      <td>True</td>\n",
       "      <td>True</td>\n",
       "      <td>False</td>\n",
       "      <td>NaN</td>\n",
       "      <td>True</td>\n",
       "      <td>False</td>\n",
       "      <td>True</td>\n",
       "      <td>False</td>\n",
       "      <td>14100.0</td>\n",
       "      <td>2018-08-01</td>\n",
       "    </tr>\n",
       "    <tr>\n",
       "      <th>271</th>\n",
       "      <td>NaN</td>\n",
       "      <td>320</td>\n",
       "      <td>236259.0</td>\n",
       "      <td>135.0</td>\n",
       "      <td>2012-01-01</td>\n",
       "      <td>diesel</td>\n",
       "      <td>blue</td>\n",
       "      <td>estate</td>\n",
       "      <td>False</td>\n",
       "      <td>False</td>\n",
       "      <td>False</td>\n",
       "      <td>NaN</td>\n",
       "      <td>False</td>\n",
       "      <td>False</td>\n",
       "      <td>True</td>\n",
       "      <td>False</td>\n",
       "      <td>6400.0</td>\n",
       "      <td>2018-01-01</td>\n",
       "    </tr>\n",
       "    <tr>\n",
       "      <th>1284</th>\n",
       "      <td>BMW</td>\n",
       "      <td>320</td>\n",
       "      <td>101974.0</td>\n",
       "      <td>135.0</td>\n",
       "      <td>2014-06-01</td>\n",
       "      <td>diesel</td>\n",
       "      <td>grey</td>\n",
       "      <td>estate</td>\n",
       "      <td>False</td>\n",
       "      <td>False</td>\n",
       "      <td>False</td>\n",
       "      <td>NaN</td>\n",
       "      <td>False</td>\n",
       "      <td>False</td>\n",
       "      <td>True</td>\n",
       "      <td>NaN</td>\n",
       "      <td>14900.0</td>\n",
       "      <td>2018-06-01</td>\n",
       "    </tr>\n",
       "    <tr>\n",
       "      <th>1966</th>\n",
       "      <td>BMW</td>\n",
       "      <td>318 Gran Turismo</td>\n",
       "      <td>178834.0</td>\n",
       "      <td>100.0</td>\n",
       "      <td>2014-01-01</td>\n",
       "      <td>diesel</td>\n",
       "      <td>NaN</td>\n",
       "      <td>NaN</td>\n",
       "      <td>True</td>\n",
       "      <td>True</td>\n",
       "      <td>False</td>\n",
       "      <td>NaN</td>\n",
       "      <td>True</td>\n",
       "      <td>False</td>\n",
       "      <td>True</td>\n",
       "      <td>False</td>\n",
       "      <td>13100.0</td>\n",
       "      <td>2018-08-01</td>\n",
       "    </tr>\n",
       "    <tr>\n",
       "      <th>782</th>\n",
       "      <td>BMW</td>\n",
       "      <td>520</td>\n",
       "      <td>167112.0</td>\n",
       "      <td>135.0</td>\n",
       "      <td>2013-11-01</td>\n",
       "      <td>diesel</td>\n",
       "      <td>black</td>\n",
       "      <td>NaN</td>\n",
       "      <td>True</td>\n",
       "      <td>True</td>\n",
       "      <td>False</td>\n",
       "      <td>NaN</td>\n",
       "      <td>True</td>\n",
       "      <td>False</td>\n",
       "      <td>True</td>\n",
       "      <td>True</td>\n",
       "      <td>18900.0</td>\n",
       "      <td>2018-03-01</td>\n",
       "    </tr>\n",
       "  </tbody>\n",
       "</table>\n",
       "</div>"
      ],
      "text/plain": [
       "     marca            modelo        km  potencia fecha_registro tipo_gasolina  \\\n",
       "2201   BMW               520  146402.0     137.0     2012-08-01        diesel   \n",
       "3930   BMW                X3   78087.0     105.0     2013-01-01        diesel   \n",
       "4572   NaN                X4   54433.0     140.0     2015-06-01        diesel   \n",
       "3755   NaN                X3   73086.0     135.0            NaN        diesel   \n",
       "64     BMW               420   61300.0     135.0            NaN        diesel   \n",
       "1639   BMW               525  193148.0     155.0     2012-03-01        diesel   \n",
       "271    NaN               320  236259.0     135.0     2012-01-01        diesel   \n",
       "1284   BMW               320  101974.0     135.0     2014-06-01        diesel   \n",
       "1966   BMW  318 Gran Turismo  178834.0     100.0     2014-01-01        diesel   \n",
       "782    BMW               520  167112.0     135.0     2013-11-01        diesel   \n",
       "\n",
       "      color tipo_coche volante_regulable aire_acondicionado camara_trasera  \\\n",
       "2201   grey        NaN              True               True          False   \n",
       "3930  black        NaN             False               True          False   \n",
       "4572  white        NaN             False              False          False   \n",
       "3755  black        NaN             False              False          False   \n",
       "64      NaN        NaN              True               True          False   \n",
       "1639   grey     estate              True               True          False   \n",
       "271    blue     estate             False              False          False   \n",
       "1284   grey     estate             False              False          False   \n",
       "1966    NaN        NaN              True               True          False   \n",
       "782   black        NaN              True               True          False   \n",
       "\n",
       "     asientos_traseros_plegables elevalunas_electrico bluetooth    gps  \\\n",
       "2201                         NaN                False     False   True   \n",
       "3930                         NaN                False     False   True   \n",
       "4572                         NaN                False     False  False   \n",
       "3755                       False                False     False  False   \n",
       "64                           NaN                 True     False   True   \n",
       "1639                         NaN                 True     False   True   \n",
       "271                          NaN                False     False   True   \n",
       "1284                         NaN                False     False   True   \n",
       "1966                         NaN                 True     False   True   \n",
       "782                          NaN                 True     False   True   \n",
       "\n",
       "     alerta_lim_velocidad   precio fecha_venta  \n",
       "2201                 True  16200.0  2018-05-01  \n",
       "3930                  NaN  21700.0  2018-02-01  \n",
       "4572                False  33200.0  2018-07-01  \n",
       "3755                 True  17500.0  2018-09-01  \n",
       "64                   True  27700.0  2018-02-01  \n",
       "1639                False  14100.0  2018-08-01  \n",
       "271                 False   6400.0  2018-01-01  \n",
       "1284                  NaN  14900.0  2018-06-01  \n",
       "1966                False  13100.0  2018-08-01  \n",
       "782                  True  18900.0  2018-03-01  "
      ]
     },
     "execution_count": 135,
     "metadata": {},
     "output_type": "execute_result"
    }
   ],
   "source": [
    "df_bmw0.sample(10)"
   ]
  },
  {
   "cell_type": "markdown",
   "metadata": {},
   "source": [
    "Número de filas y columnas"
   ]
  },
  {
   "cell_type": "code",
   "execution_count": 136,
   "metadata": {},
   "outputs": [
    {
     "data": {
      "text/plain": [
       "(4843, 18)"
      ]
     },
     "execution_count": 136,
     "metadata": {},
     "output_type": "execute_result"
    }
   ],
   "source": [
    "df_bmw0.shape"
   ]
  },
  {
   "cell_type": "markdown",
   "metadata": {},
   "source": [
    "Columnas y tipo de Datos"
   ]
  },
  {
   "cell_type": "code",
   "execution_count": 137,
   "metadata": {},
   "outputs": [
    {
     "name": "stdout",
     "output_type": "stream",
     "text": [
      "<class 'pandas.core.frame.DataFrame'>\n",
      "RangeIndex: 4843 entries, 0 to 4842\n",
      "Data columns (total 18 columns):\n",
      " #   Column                       Non-Null Count  Dtype  \n",
      "---  ------                       --------------  -----  \n",
      " 0   marca                        3873 non-null   object \n",
      " 1   modelo                       4840 non-null   object \n",
      " 2   km                           4841 non-null   float64\n",
      " 3   potencia                     4842 non-null   float64\n",
      " 4   fecha_registro               2420 non-null   object \n",
      " 5   tipo_gasolina                4838 non-null   object \n",
      " 6   color                        4398 non-null   object \n",
      " 7   tipo_coche                   3383 non-null   object \n",
      " 8   volante_regulable            4839 non-null   object \n",
      " 9   aire_acondicionado           4357 non-null   object \n",
      " 10  camara_trasera               4841 non-null   object \n",
      " 11  asientos_traseros_plegables  1452 non-null   object \n",
      " 12  elevalunas_electrico         4841 non-null   object \n",
      " 13  bluetooth                    4115 non-null   object \n",
      " 14  gps                          4843 non-null   bool   \n",
      " 15  alerta_lim_velocidad         4115 non-null   object \n",
      " 16  precio                       4837 non-null   float64\n",
      " 17  fecha_venta                  4842 non-null   object \n",
      "dtypes: bool(1), float64(3), object(14)\n",
      "memory usage: 648.1+ KB\n"
     ]
    }
   ],
   "source": [
    "df_bmw0.info()"
   ]
  },
  {
   "cell_type": "markdown",
   "metadata": {},
   "source": [
    "Número de nulos"
   ]
  },
  {
   "cell_type": "code",
   "execution_count": 138,
   "metadata": {},
   "outputs": [
    {
     "data": {
      "text/plain": [
       "marca                           970\n",
       "modelo                            3\n",
       "km                                2\n",
       "potencia                          1\n",
       "fecha_registro                 2423\n",
       "tipo_gasolina                     5\n",
       "color                           445\n",
       "tipo_coche                     1460\n",
       "volante_regulable                 4\n",
       "aire_acondicionado              486\n",
       "camara_trasera                    2\n",
       "asientos_traseros_plegables    3391\n",
       "elevalunas_electrico              2\n",
       "bluetooth                       728\n",
       "gps                               0\n",
       "alerta_lim_velocidad            728\n",
       "precio                            6\n",
       "fecha_venta                       1\n",
       "dtype: int64"
      ]
     },
     "execution_count": 138,
     "metadata": {},
     "output_type": "execute_result"
    }
   ],
   "source": [
    "df_bmw0.isnull().sum()"
   ]
  },
  {
   "cell_type": "markdown",
   "metadata": {},
   "source": [
    "### Comentarios\n",
    "\n",
    " - El Dataset tiene 4843 registros\n",
    "\n",
    " - Todas las columnas (excepto la de gps) tienen algún nulo, aunque hay 9 de ellas que tienen solo algunos valores nulos sueltos que podrán imputarse fácilmente.\n",
    "\n",
    " - Hay 3 columnas (color, bluetooth y alerta_lim_velocidad) que tienen un número moderado de nulos (entre el 10% y el 20% del total de registros)\n",
    "\n",
    " - La columna tipo_coche tiene un 33% de valores nulos\n",
    "\n",
    " - La columna fecha_registro tiene un 50% de valores nulos\n",
    "\n",
    " - La columna asientos_traseros_plegables tiene un 70% de valores nulos\n",
    "\n",
    " - Tenemos 3 columnas numéricas (km, potencia y precio), 1 columna booleana (gps), y el resto de las columnas son objects (strings)\n",
    "\n",
    " - A la vista de los datos, fecha_registro y fecha_venta podrían transformarse a tipo Date\n",
    "\n",
    " - A la vista de los datos, las columnas volante_regulable, aire-acondicionado, camara_trasera, asientos_traseros_plegables, \n",
    "elevalunas_electrico, bluetooh, alerta_lim_velocidad podrían transformarse a tipo Booleano."
   ]
  },
  {
   "cell_type": "markdown",
   "metadata": {},
   "source": [
    "<h3>4.- Comprobación de registros duplicados</h3>"
   ]
  },
  {
   "cell_type": "code",
   "execution_count": 139,
   "metadata": {},
   "outputs": [
    {
     "data": {
      "text/plain": [
       "(0, 18)"
      ]
     },
     "execution_count": 139,
     "metadata": {},
     "output_type": "execute_result"
    }
   ],
   "source": [
    "df_bmw0[df_bmw0.duplicated()].shape"
   ]
  },
  {
   "cell_type": "markdown",
   "metadata": {},
   "source": [
    "No hay 2 registros completamente idénticos, aunque eso no descartaría por completo los duplicados (podría haber registros iguales donde se haya modificado solamente el valor de alguna de las columnas). Como comprobación rápida, vamos a ver si hay coches de la misma marca y modelo, con el mismo kilometraje, y que tengan la misma fecha de registro y de venta (si los hay, podría ser que se hubiera introdcido el mismo registro por duplicado, aunque no todos los datos sean idénticos)."
   ]
  },
  {
   "cell_type": "code",
   "execution_count": 140,
   "metadata": {},
   "outputs": [
    {
     "data": {
      "text/plain": [
       "(0, 18)"
      ]
     },
     "execution_count": 140,
     "metadata": {},
     "output_type": "execute_result"
    }
   ],
   "source": [
    "df_bmw0[df_bmw0[['marca','modelo','km','fecha_registro', 'fecha_venta']].duplicated(keep=False)].shape"
   ]
  },
  {
   "cell_type": "markdown",
   "metadata": {},
   "source": [
    "A la vista de los resultados, podemos deducir que no hay registros duplicados."
   ]
  },
  {
   "cell_type": "markdown",
   "metadata": {},
   "source": [
    "<h3>5.- Análisis de nulos</h3>"
   ]
  },
  {
   "cell_type": "code",
   "execution_count": 141,
   "metadata": {},
   "outputs": [
    {
     "data": {
      "text/plain": [
       "marca                           970\n",
       "modelo                            3\n",
       "km                                2\n",
       "potencia                          1\n",
       "fecha_registro                 2423\n",
       "tipo_gasolina                     5\n",
       "color                           445\n",
       "tipo_coche                     1460\n",
       "volante_regulable                 4\n",
       "aire_acondicionado              486\n",
       "camara_trasera                    2\n",
       "asientos_traseros_plegables    3391\n",
       "elevalunas_electrico              2\n",
       "bluetooth                       728\n",
       "gps                               0\n",
       "alerta_lim_velocidad            728\n",
       "precio                            6\n",
       "fecha_venta                       1\n",
       "dtype: int64"
      ]
     },
     "execution_count": 141,
     "metadata": {},
     "output_type": "execute_result"
    }
   ],
   "source": [
    "# Como vamos a empezar a realizar cambios, hacemos una copia del DataFrame y empezamos a hacer un análisis de los nulos\n",
    "\n",
    "df_bmw1 = df_bmw0.copy()\n",
    "df_bmw1.isnull().sum()"
   ]
  },
  {
   "cell_type": "markdown",
   "metadata": {},
   "source": [
    "Analizamos cada columna independientemente"
   ]
  },
  {
   "cell_type": "markdown",
   "metadata": {},
   "source": [
    "### 5.1 Columna Marca"
   ]
  },
  {
   "cell_type": "code",
   "execution_count": 142,
   "metadata": {},
   "outputs": [
    {
     "data": {
      "text/plain": [
       "marca\n",
       "BMW    79.971092\n",
       "NaN    20.028908\n",
       "Name: proportion, dtype: float64"
      ]
     },
     "execution_count": 142,
     "metadata": {},
     "output_type": "execute_result"
    }
   ],
   "source": [
    "# La columna 'marca' es de tipo object (string). Hacemos un value_counts() de esa columna para ver la distribución de valores, y cuáto representan los nulos\n",
    "\n",
    "df_bmw1['marca'].value_counts(dropna=False, normalize=True)*100"
   ]
  },
  {
   "cell_type": "markdown",
   "metadata": {},
   "source": [
    "El 80% de los registros son de la marca BMW, y tenemos un 20% de nulos. A priori, esta columna no agrega información (ya que se supone que todos los coches son BMW). Vamos a hacer una comprobación, para ver si podemso imputar la marca BMW a algunos de los modelos donde la marca es null. Para ello, vamos a obtener una lista de modelos don el campo marca es BMW, y otra lista donde el campo marca es null, y las compararemos. Los modelos que se encuentren en ambas listas, podemos suponer que son de BMW."
   ]
  },
  {
   "cell_type": "code",
   "execution_count": 174,
   "metadata": {},
   "outputs": [
    {
     "data": {
      "text/plain": [
       "73"
      ]
     },
     "execution_count": 174,
     "metadata": {},
     "output_type": "execute_result"
    }
   ],
   "source": [
    "#Creamos una lista con los modelos que sí tienen Marca (BMW)\n",
    "\n",
    "lista_modelos_con_marca = df_bmw1[df_bmw1['marca'].notnull()]['modelo'].unique().tolist()\n",
    "len(lista_modelos_con_marca)"
   ]
  },
  {
   "cell_type": "code",
   "execution_count": 175,
   "metadata": {},
   "outputs": [
    {
     "data": {
      "text/plain": [
       "51"
      ]
     },
     "execution_count": 175,
     "metadata": {},
     "output_type": "execute_result"
    }
   ],
   "source": [
    "#Creamos otra lista, con los modelos que no tienen marca \n",
    "\n",
    "lista_modelos_sin_marca = df_bmw1[df_bmw1['marca'].isnull()]['modelo'].unique().tolist()\n",
    "len(lista_modelos_sin_marca)"
   ]
  },
  {
   "cell_type": "code",
   "execution_count": 176,
   "metadata": {},
   "outputs": [],
   "source": [
    "#Creamos una lista con los índices de los elementos de la lista de modelos sin marca que queremos eliminar (los que ya se encuentran en la lista de modelos con marca BMW)\n",
    "\n",
    "indices_a_eliminar = []\n",
    "\n",
    "for modelo in lista_modelos_sin_marca:\n",
    "    if modelo in lista_modelos_con_marca:\n",
    "        indices_a_eliminar.append(lista_modelos_sin_marca.index(modelo))"
   ]
  },
  {
   "cell_type": "code",
   "execution_count": 177,
   "metadata": {},
   "outputs": [],
   "source": [
    "# Si intentamos eliminar esos índices de la lista de modelos sin marca, tendremos un error, ya que al eliminar un elemento, todos los demas se desplazan una posición a la izquierda modificando su índice.\n",
    "# Para evitarlo, le daremos la vuelta a la lista e iremos elimianndo de atrás hacia adelante.\n",
    "\n",
    "indices_a_eliminar.sort(reverse=True)\n",
    "\n",
    "# Eliminar los elementos de la lista de modelos sin marca, basados en los índices proporcionados\n",
    "for indice in indices_a_eliminar:\n",
    "    if indice < len(lista_modelos_sin_marca):\n",
    "        del lista_modelos_sin_marca[indice]"
   ]
  },
  {
   "cell_type": "code",
   "execution_count": 184,
   "metadata": {},
   "outputs": [
    {
     "data": {
      "text/plain": [
       "['M235', '630', '220 Active Tourer', '225 Active Tourer']"
      ]
     },
     "execution_count": 184,
     "metadata": {},
     "output_type": "execute_result"
    }
   ],
   "source": [
    "# Comprobamos los modelos que no tienen asociada la marca BMV\n",
    "lista_modelos_sin_marca"
   ]
  },
  {
   "cell_type": "code",
   "execution_count": 185,
   "metadata": {},
   "outputs": [
    {
     "data": {
      "text/html": [
       "<div>\n",
       "<style scoped>\n",
       "    .dataframe tbody tr th:only-of-type {\n",
       "        vertical-align: middle;\n",
       "    }\n",
       "\n",
       "    .dataframe tbody tr th {\n",
       "        vertical-align: top;\n",
       "    }\n",
       "\n",
       "    .dataframe thead th {\n",
       "        text-align: right;\n",
       "    }\n",
       "</style>\n",
       "<table border=\"1\" class=\"dataframe\">\n",
       "  <thead>\n",
       "    <tr style=\"text-align: right;\">\n",
       "      <th></th>\n",
       "      <th>marca</th>\n",
       "      <th>modelo</th>\n",
       "      <th>km</th>\n",
       "      <th>potencia</th>\n",
       "      <th>fecha_registro</th>\n",
       "      <th>tipo_gasolina</th>\n",
       "      <th>color</th>\n",
       "      <th>tipo_coche</th>\n",
       "      <th>volante_regulable</th>\n",
       "      <th>aire_acondicionado</th>\n",
       "      <th>camara_trasera</th>\n",
       "      <th>asientos_traseros_plegables</th>\n",
       "      <th>elevalunas_electrico</th>\n",
       "      <th>bluetooth</th>\n",
       "      <th>gps</th>\n",
       "      <th>alerta_lim_velocidad</th>\n",
       "      <th>precio</th>\n",
       "      <th>fecha_venta</th>\n",
       "    </tr>\n",
       "  </thead>\n",
       "  <tbody>\n",
       "    <tr>\n",
       "      <th>57</th>\n",
       "      <td>NaN</td>\n",
       "      <td>M235</td>\n",
       "      <td>34082.0</td>\n",
       "      <td>240.0</td>\n",
       "      <td>NaN</td>\n",
       "      <td>petrol</td>\n",
       "      <td>grey</td>\n",
       "      <td>coupe</td>\n",
       "      <td>False</td>\n",
       "      <td>True</td>\n",
       "      <td>True</td>\n",
       "      <td>False</td>\n",
       "      <td>True</td>\n",
       "      <td>True</td>\n",
       "      <td>True</td>\n",
       "      <td>NaN</td>\n",
       "      <td>30200.0</td>\n",
       "      <td>2018-01-01</td>\n",
       "    </tr>\n",
       "    <tr>\n",
       "      <th>84</th>\n",
       "      <td>NaN</td>\n",
       "      <td>M235</td>\n",
       "      <td>69736.0</td>\n",
       "      <td>240.0</td>\n",
       "      <td>NaN</td>\n",
       "      <td>petrol</td>\n",
       "      <td>grey</td>\n",
       "      <td>NaN</td>\n",
       "      <td>True</td>\n",
       "      <td>True</td>\n",
       "      <td>True</td>\n",
       "      <td>False</td>\n",
       "      <td>True</td>\n",
       "      <td>True</td>\n",
       "      <td>True</td>\n",
       "      <td>False</td>\n",
       "      <td>30000.0</td>\n",
       "      <td>2018-05-01</td>\n",
       "    </tr>\n",
       "    <tr>\n",
       "      <th>102</th>\n",
       "      <td>NaN</td>\n",
       "      <td>M235</td>\n",
       "      <td>37619.0</td>\n",
       "      <td>240.0</td>\n",
       "      <td>NaN</td>\n",
       "      <td>petrol</td>\n",
       "      <td>black</td>\n",
       "      <td>NaN</td>\n",
       "      <td>True</td>\n",
       "      <td>False</td>\n",
       "      <td>False</td>\n",
       "      <td>NaN</td>\n",
       "      <td>True</td>\n",
       "      <td>True</td>\n",
       "      <td>True</td>\n",
       "      <td>True</td>\n",
       "      <td>27700.0</td>\n",
       "      <td>2018-05-01</td>\n",
       "    </tr>\n",
       "    <tr>\n",
       "      <th>107</th>\n",
       "      <td>NaN</td>\n",
       "      <td>630</td>\n",
       "      <td>149943.0</td>\n",
       "      <td>190.0</td>\n",
       "      <td>NaN</td>\n",
       "      <td>petrol</td>\n",
       "      <td>black</td>\n",
       "      <td>coupe</td>\n",
       "      <td>True</td>\n",
       "      <td>True</td>\n",
       "      <td>True</td>\n",
       "      <td>False</td>\n",
       "      <td>True</td>\n",
       "      <td>True</td>\n",
       "      <td>True</td>\n",
       "      <td>True</td>\n",
       "      <td>10500.0</td>\n",
       "      <td>2018-05-01</td>\n",
       "    </tr>\n",
       "    <tr>\n",
       "      <th>4804</th>\n",
       "      <td>NaN</td>\n",
       "      <td>220 Active Tourer</td>\n",
       "      <td>153358.0</td>\n",
       "      <td>140.0</td>\n",
       "      <td>2015-06-01</td>\n",
       "      <td>diesel</td>\n",
       "      <td>grey</td>\n",
       "      <td>van</td>\n",
       "      <td>False</td>\n",
       "      <td>NaN</td>\n",
       "      <td>False</td>\n",
       "      <td>NaN</td>\n",
       "      <td>False</td>\n",
       "      <td>False</td>\n",
       "      <td>True</td>\n",
       "      <td>True</td>\n",
       "      <td>11700.0</td>\n",
       "      <td>2018-02-01</td>\n",
       "    </tr>\n",
       "    <tr>\n",
       "      <th>4825</th>\n",
       "      <td>NaN</td>\n",
       "      <td>225 Active Tourer</td>\n",
       "      <td>33300.0</td>\n",
       "      <td>170.0</td>\n",
       "      <td>NaN</td>\n",
       "      <td>petrol</td>\n",
       "      <td>NaN</td>\n",
       "      <td>van</td>\n",
       "      <td>True</td>\n",
       "      <td>True</td>\n",
       "      <td>False</td>\n",
       "      <td>NaN</td>\n",
       "      <td>False</td>\n",
       "      <td>False</td>\n",
       "      <td>False</td>\n",
       "      <td>True</td>\n",
       "      <td>19200.0</td>\n",
       "      <td>2018-05-01</td>\n",
       "    </tr>\n",
       "  </tbody>\n",
       "</table>\n",
       "</div>"
      ],
      "text/plain": [
       "     marca             modelo        km  potencia fecha_registro  \\\n",
       "57     NaN               M235   34082.0     240.0            NaN   \n",
       "84     NaN               M235   69736.0     240.0            NaN   \n",
       "102    NaN               M235   37619.0     240.0            NaN   \n",
       "107    NaN                630  149943.0     190.0            NaN   \n",
       "4804   NaN  220 Active Tourer  153358.0     140.0     2015-06-01   \n",
       "4825   NaN  225 Active Tourer   33300.0     170.0            NaN   \n",
       "\n",
       "     tipo_gasolina  color tipo_coche volante_regulable aire_acondicionado  \\\n",
       "57          petrol   grey      coupe             False               True   \n",
       "84          petrol   grey        NaN              True               True   \n",
       "102         petrol  black        NaN              True              False   \n",
       "107         petrol  black      coupe              True               True   \n",
       "4804        diesel   grey        van             False                NaN   \n",
       "4825        petrol    NaN        van              True               True   \n",
       "\n",
       "     camara_trasera asientos_traseros_plegables elevalunas_electrico  \\\n",
       "57             True                       False                 True   \n",
       "84             True                       False                 True   \n",
       "102           False                         NaN                 True   \n",
       "107            True                       False                 True   \n",
       "4804          False                         NaN                False   \n",
       "4825          False                         NaN                False   \n",
       "\n",
       "     bluetooth    gps alerta_lim_velocidad   precio fecha_venta  \n",
       "57        True   True                  NaN  30200.0  2018-01-01  \n",
       "84        True   True                False  30000.0  2018-05-01  \n",
       "102       True   True                 True  27700.0  2018-05-01  \n",
       "107       True   True                 True  10500.0  2018-05-01  \n",
       "4804     False   True                 True  11700.0  2018-02-01  \n",
       "4825     False  False                 True  19200.0  2018-05-01  "
      ]
     },
     "execution_count": 185,
     "metadata": {},
     "output_type": "execute_result"
    }
   ],
   "source": [
    "# Vemos cuántos registros son en el DataFrame\n",
    "\n",
    "df_bmw1[df_bmw1.modelo.isin(lista_modelos_sin_marca)]"
   ]
  },
  {
   "cell_type": "markdown",
   "metadata": {},
   "source": [
    "### Conclusiones sobre la marca\n",
    "\n",
    "De todos los registros que no tienen marca, los que tienen modelo la mayoría corresponde con un modelo de BMW, por lo que podría imputarse que la marca es BMW.\n",
    "Solamente hay 6 registros sin marca, cuyo modelo no se encuentra entre los registros que sí tienen marca. \n",
    "En cualquier caso, dado que esa columna tiene casi exclusivamente un valor, no aporta información, por lo que la eliminaremos del Dataset.\n"
   ]
  }
 ],
 "metadata": {
  "kernelspec": {
   "display_name": ".venv",
   "language": "python",
   "name": "python3"
  },
  "language_info": {
   "codemirror_mode": {
    "name": "ipython",
    "version": 3
   },
   "file_extension": ".py",
   "mimetype": "text/x-python",
   "name": "python",
   "nbconvert_exporter": "python",
   "pygments_lexer": "ipython3",
   "version": "3.9.6"
  }
 },
 "nbformat": 4,
 "nbformat_minor": 2
}
