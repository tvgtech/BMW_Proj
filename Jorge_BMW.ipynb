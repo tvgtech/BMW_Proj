{
 "cells": [
  {
   "cell_type": "markdown",
   "metadata": {},
   "source": [
    "<h3>1.- Importación de librerías</h3>"
   ]
  },
  {
   "cell_type": "code",
   "execution_count": 2,
   "metadata": {},
   "outputs": [],
   "source": [
    "# Importamos las librerías necesarias\n",
    "\n",
    "import pandas as pd\n",
    "import numpy as np\n",
    "import matplotlib.pyplot as plt\n",
    "import seaborn as sns"
   ]
  },
  {
   "cell_type": "markdown",
   "metadata": {},
   "source": [
    "<h3>2.- Importación del Dataset</h3>"
   ]
  },
  {
   "cell_type": "code",
   "execution_count": 3,
   "metadata": {},
   "outputs": [],
   "source": [
    "# Importamos el Dataset leyendo el archivo csv en un DataFrame\n",
    "\n",
    "df_bmw0 = pd.read_csv(\"dataset/bmw_pricing_v3.csv\")"
   ]
  },
  {
   "cell_type": "markdown",
   "metadata": {},
   "source": [
    "<h3>3.- Exploración Inicial del Dataset</h3>"
   ]
  },
  {
   "cell_type": "markdown",
   "metadata": {},
   "source": [
    "Ejemplo de columnas"
   ]
  },
  {
   "cell_type": "code",
   "execution_count": 4,
   "metadata": {},
   "outputs": [
    {
     "data": {
      "text/html": [
       "<div>\n",
       "<style scoped>\n",
       "    .dataframe tbody tr th:only-of-type {\n",
       "        vertical-align: middle;\n",
       "    }\n",
       "\n",
       "    .dataframe tbody tr th {\n",
       "        vertical-align: top;\n",
       "    }\n",
       "\n",
       "    .dataframe thead th {\n",
       "        text-align: right;\n",
       "    }\n",
       "</style>\n",
       "<table border=\"1\" class=\"dataframe\">\n",
       "  <thead>\n",
       "    <tr style=\"text-align: right;\">\n",
       "      <th></th>\n",
       "      <th>marca</th>\n",
       "      <th>modelo</th>\n",
       "      <th>km</th>\n",
       "      <th>potencia</th>\n",
       "      <th>fecha_registro</th>\n",
       "      <th>tipo_gasolina</th>\n",
       "      <th>color</th>\n",
       "      <th>tipo_coche</th>\n",
       "      <th>volante_regulable</th>\n",
       "      <th>aire_acondicionado</th>\n",
       "      <th>camara_trasera</th>\n",
       "      <th>asientos_traseros_plegables</th>\n",
       "      <th>elevalunas_electrico</th>\n",
       "      <th>bluetooth</th>\n",
       "      <th>gps</th>\n",
       "      <th>alerta_lim_velocidad</th>\n",
       "      <th>precio</th>\n",
       "      <th>fecha_venta</th>\n",
       "    </tr>\n",
       "  </thead>\n",
       "  <tbody>\n",
       "    <tr>\n",
       "      <th>4032</th>\n",
       "      <td>BMW</td>\n",
       "      <td>X3</td>\n",
       "      <td>119034.0</td>\n",
       "      <td>135.0</td>\n",
       "      <td>NaN</td>\n",
       "      <td>diesel</td>\n",
       "      <td>silver</td>\n",
       "      <td>suv</td>\n",
       "      <td>False</td>\n",
       "      <td>False</td>\n",
       "      <td>False</td>\n",
       "      <td>NaN</td>\n",
       "      <td>False</td>\n",
       "      <td>False</td>\n",
       "      <td>True</td>\n",
       "      <td>False</td>\n",
       "      <td>14400.0</td>\n",
       "      <td>2018-06-01</td>\n",
       "    </tr>\n",
       "    <tr>\n",
       "      <th>2918</th>\n",
       "      <td>BMW</td>\n",
       "      <td>520</td>\n",
       "      <td>125783.0</td>\n",
       "      <td>135.0</td>\n",
       "      <td>2012-12-01</td>\n",
       "      <td>diesel</td>\n",
       "      <td>grey</td>\n",
       "      <td>sedan</td>\n",
       "      <td>True</td>\n",
       "      <td>True</td>\n",
       "      <td>True</td>\n",
       "      <td>NaN</td>\n",
       "      <td>False</td>\n",
       "      <td>False</td>\n",
       "      <td>True</td>\n",
       "      <td>NaN</td>\n",
       "      <td>14900.0</td>\n",
       "      <td>2018-03-01</td>\n",
       "    </tr>\n",
       "    <tr>\n",
       "      <th>4253</th>\n",
       "      <td>NaN</td>\n",
       "      <td>X3</td>\n",
       "      <td>117115.0</td>\n",
       "      <td>135.0</td>\n",
       "      <td>2013-10-01</td>\n",
       "      <td>diesel</td>\n",
       "      <td>black</td>\n",
       "      <td>NaN</td>\n",
       "      <td>True</td>\n",
       "      <td>True</td>\n",
       "      <td>False</td>\n",
       "      <td>NaN</td>\n",
       "      <td>True</td>\n",
       "      <td>True</td>\n",
       "      <td>True</td>\n",
       "      <td>True</td>\n",
       "      <td>22300.0</td>\n",
       "      <td>2018-05-01</td>\n",
       "    </tr>\n",
       "    <tr>\n",
       "      <th>1343</th>\n",
       "      <td>BMW</td>\n",
       "      <td>320</td>\n",
       "      <td>274948.0</td>\n",
       "      <td>135.0</td>\n",
       "      <td>NaN</td>\n",
       "      <td>diesel</td>\n",
       "      <td>grey</td>\n",
       "      <td>NaN</td>\n",
       "      <td>True</td>\n",
       "      <td>True</td>\n",
       "      <td>False</td>\n",
       "      <td>NaN</td>\n",
       "      <td>False</td>\n",
       "      <td>False</td>\n",
       "      <td>True</td>\n",
       "      <td>True</td>\n",
       "      <td>10700.0</td>\n",
       "      <td>2018-06-01</td>\n",
       "    </tr>\n",
       "    <tr>\n",
       "      <th>941</th>\n",
       "      <td>BMW</td>\n",
       "      <td>318</td>\n",
       "      <td>125677.0</td>\n",
       "      <td>100.0</td>\n",
       "      <td>NaN</td>\n",
       "      <td>diesel</td>\n",
       "      <td>blue</td>\n",
       "      <td>NaN</td>\n",
       "      <td>True</td>\n",
       "      <td>True</td>\n",
       "      <td>False</td>\n",
       "      <td>False</td>\n",
       "      <td>False</td>\n",
       "      <td>False</td>\n",
       "      <td>True</td>\n",
       "      <td>False</td>\n",
       "      <td>10900.0</td>\n",
       "      <td>2018-04-01</td>\n",
       "    </tr>\n",
       "    <tr>\n",
       "      <th>2406</th>\n",
       "      <td>BMW</td>\n",
       "      <td>420 Gran Coupé</td>\n",
       "      <td>65403.0</td>\n",
       "      <td>120.0</td>\n",
       "      <td>NaN</td>\n",
       "      <td>diesel</td>\n",
       "      <td>black</td>\n",
       "      <td>hatchback</td>\n",
       "      <td>True</td>\n",
       "      <td>True</td>\n",
       "      <td>True</td>\n",
       "      <td>NaN</td>\n",
       "      <td>True</td>\n",
       "      <td>NaN</td>\n",
       "      <td>True</td>\n",
       "      <td>True</td>\n",
       "      <td>24400.0</td>\n",
       "      <td>2018-08-01</td>\n",
       "    </tr>\n",
       "    <tr>\n",
       "      <th>2857</th>\n",
       "      <td>BMW</td>\n",
       "      <td>530</td>\n",
       "      <td>125738.0</td>\n",
       "      <td>190.0</td>\n",
       "      <td>NaN</td>\n",
       "      <td>diesel</td>\n",
       "      <td>white</td>\n",
       "      <td>sedan</td>\n",
       "      <td>False</td>\n",
       "      <td>True</td>\n",
       "      <td>False</td>\n",
       "      <td>NaN</td>\n",
       "      <td>True</td>\n",
       "      <td>NaN</td>\n",
       "      <td>True</td>\n",
       "      <td>True</td>\n",
       "      <td>28000.0</td>\n",
       "      <td>2018-03-01</td>\n",
       "    </tr>\n",
       "    <tr>\n",
       "      <th>4404</th>\n",
       "      <td>BMW</td>\n",
       "      <td>X5</td>\n",
       "      <td>181159.0</td>\n",
       "      <td>225.0</td>\n",
       "      <td>NaN</td>\n",
       "      <td>diesel</td>\n",
       "      <td>brown</td>\n",
       "      <td>suv</td>\n",
       "      <td>True</td>\n",
       "      <td>True</td>\n",
       "      <td>False</td>\n",
       "      <td>True</td>\n",
       "      <td>True</td>\n",
       "      <td>False</td>\n",
       "      <td>True</td>\n",
       "      <td>True</td>\n",
       "      <td>16800.0</td>\n",
       "      <td>2018-06-01</td>\n",
       "    </tr>\n",
       "    <tr>\n",
       "      <th>2193</th>\n",
       "      <td>BMW</td>\n",
       "      <td>116</td>\n",
       "      <td>127577.0</td>\n",
       "      <td>85.0</td>\n",
       "      <td>NaN</td>\n",
       "      <td>diesel</td>\n",
       "      <td>white</td>\n",
       "      <td>NaN</td>\n",
       "      <td>False</td>\n",
       "      <td>NaN</td>\n",
       "      <td>False</td>\n",
       "      <td>NaN</td>\n",
       "      <td>False</td>\n",
       "      <td>False</td>\n",
       "      <td>True</td>\n",
       "      <td>False</td>\n",
       "      <td>8900.0</td>\n",
       "      <td>2018-08-01</td>\n",
       "    </tr>\n",
       "    <tr>\n",
       "      <th>3641</th>\n",
       "      <td>BMW</td>\n",
       "      <td>116</td>\n",
       "      <td>103856.0</td>\n",
       "      <td>85.0</td>\n",
       "      <td>2011-03-01</td>\n",
       "      <td>diesel</td>\n",
       "      <td>black</td>\n",
       "      <td>NaN</td>\n",
       "      <td>False</td>\n",
       "      <td>NaN</td>\n",
       "      <td>False</td>\n",
       "      <td>NaN</td>\n",
       "      <td>False</td>\n",
       "      <td>False</td>\n",
       "      <td>True</td>\n",
       "      <td>False</td>\n",
       "      <td>3600.0</td>\n",
       "      <td>2018-03-01</td>\n",
       "    </tr>\n",
       "  </tbody>\n",
       "</table>\n",
       "</div>"
      ],
      "text/plain": [
       "     marca          modelo        km  potencia fecha_registro tipo_gasolina  \\\n",
       "4032   BMW              X3  119034.0     135.0            NaN        diesel   \n",
       "2918   BMW             520  125783.0     135.0     2012-12-01        diesel   \n",
       "4253   NaN              X3  117115.0     135.0     2013-10-01        diesel   \n",
       "1343   BMW             320  274948.0     135.0            NaN        diesel   \n",
       "941    BMW             318  125677.0     100.0            NaN        diesel   \n",
       "2406   BMW  420 Gran Coupé   65403.0     120.0            NaN        diesel   \n",
       "2857   BMW             530  125738.0     190.0            NaN        diesel   \n",
       "4404   BMW              X5  181159.0     225.0            NaN        diesel   \n",
       "2193   BMW             116  127577.0      85.0            NaN        diesel   \n",
       "3641   BMW             116  103856.0      85.0     2011-03-01        diesel   \n",
       "\n",
       "       color tipo_coche volante_regulable aire_acondicionado camara_trasera  \\\n",
       "4032  silver        suv             False              False          False   \n",
       "2918    grey      sedan              True               True           True   \n",
       "4253   black        NaN              True               True          False   \n",
       "1343    grey        NaN              True               True          False   \n",
       "941     blue        NaN              True               True          False   \n",
       "2406   black  hatchback              True               True           True   \n",
       "2857   white      sedan             False               True          False   \n",
       "4404   brown        suv              True               True          False   \n",
       "2193   white        NaN             False                NaN          False   \n",
       "3641   black        NaN             False                NaN          False   \n",
       "\n",
       "     asientos_traseros_plegables elevalunas_electrico bluetooth   gps  \\\n",
       "4032                         NaN                False     False  True   \n",
       "2918                         NaN                False     False  True   \n",
       "4253                         NaN                 True      True  True   \n",
       "1343                         NaN                False     False  True   \n",
       "941                        False                False     False  True   \n",
       "2406                         NaN                 True       NaN  True   \n",
       "2857                         NaN                 True       NaN  True   \n",
       "4404                        True                 True     False  True   \n",
       "2193                         NaN                False     False  True   \n",
       "3641                         NaN                False     False  True   \n",
       "\n",
       "     alerta_lim_velocidad   precio fecha_venta  \n",
       "4032                False  14400.0  2018-06-01  \n",
       "2918                  NaN  14900.0  2018-03-01  \n",
       "4253                 True  22300.0  2018-05-01  \n",
       "1343                 True  10700.0  2018-06-01  \n",
       "941                 False  10900.0  2018-04-01  \n",
       "2406                 True  24400.0  2018-08-01  \n",
       "2857                 True  28000.0  2018-03-01  \n",
       "4404                 True  16800.0  2018-06-01  \n",
       "2193                False   8900.0  2018-08-01  \n",
       "3641                False   3600.0  2018-03-01  "
      ]
     },
     "execution_count": 4,
     "metadata": {},
     "output_type": "execute_result"
    }
   ],
   "source": [
    "df_bmw0.sample(10)"
   ]
  },
  {
   "cell_type": "markdown",
   "metadata": {},
   "source": [
    "Número de filas y columnas"
   ]
  },
  {
   "cell_type": "code",
   "execution_count": 5,
   "metadata": {},
   "outputs": [
    {
     "data": {
      "text/plain": [
       "(4843, 18)"
      ]
     },
     "execution_count": 5,
     "metadata": {},
     "output_type": "execute_result"
    }
   ],
   "source": [
    "df_bmw0.shape"
   ]
  },
  {
   "cell_type": "markdown",
   "metadata": {},
   "source": [
    "Columnas y tipo de Datos"
   ]
  },
  {
   "cell_type": "code",
   "execution_count": 6,
   "metadata": {},
   "outputs": [
    {
     "name": "stdout",
     "output_type": "stream",
     "text": [
      "<class 'pandas.core.frame.DataFrame'>\n",
      "RangeIndex: 4843 entries, 0 to 4842\n",
      "Data columns (total 18 columns):\n",
      " #   Column                       Non-Null Count  Dtype  \n",
      "---  ------                       --------------  -----  \n",
      " 0   marca                        3873 non-null   object \n",
      " 1   modelo                       4840 non-null   object \n",
      " 2   km                           4841 non-null   float64\n",
      " 3   potencia                     4842 non-null   float64\n",
      " 4   fecha_registro               2420 non-null   object \n",
      " 5   tipo_gasolina                4838 non-null   object \n",
      " 6   color                        4398 non-null   object \n",
      " 7   tipo_coche                   3383 non-null   object \n",
      " 8   volante_regulable            4839 non-null   object \n",
      " 9   aire_acondicionado           4357 non-null   object \n",
      " 10  camara_trasera               4841 non-null   object \n",
      " 11  asientos_traseros_plegables  1452 non-null   object \n",
      " 12  elevalunas_electrico         4841 non-null   object \n",
      " 13  bluetooth                    4115 non-null   object \n",
      " 14  gps                          4843 non-null   bool   \n",
      " 15  alerta_lim_velocidad         4115 non-null   object \n",
      " 16  precio                       4837 non-null   float64\n",
      " 17  fecha_venta                  4842 non-null   object \n",
      "dtypes: bool(1), float64(3), object(14)\n",
      "memory usage: 648.1+ KB\n"
     ]
    }
   ],
   "source": [
    "df_bmw0.info()"
   ]
  },
  {
   "cell_type": "markdown",
   "metadata": {},
   "source": [
    "Número de nulos"
   ]
  },
  {
   "cell_type": "code",
   "execution_count": 7,
   "metadata": {},
   "outputs": [
    {
     "data": {
      "text/plain": [
       "marca                           970\n",
       "modelo                            3\n",
       "km                                2\n",
       "potencia                          1\n",
       "fecha_registro                 2423\n",
       "tipo_gasolina                     5\n",
       "color                           445\n",
       "tipo_coche                     1460\n",
       "volante_regulable                 4\n",
       "aire_acondicionado              486\n",
       "camara_trasera                    2\n",
       "asientos_traseros_plegables    3391\n",
       "elevalunas_electrico              2\n",
       "bluetooth                       728\n",
       "gps                               0\n",
       "alerta_lim_velocidad            728\n",
       "precio                            6\n",
       "fecha_venta                       1\n",
       "dtype: int64"
      ]
     },
     "execution_count": 7,
     "metadata": {},
     "output_type": "execute_result"
    }
   ],
   "source": [
    "df_bmw0.isnull().sum()"
   ]
  },
  {
   "cell_type": "markdown",
   "metadata": {},
   "source": [
    "### Comentarios\n",
    "\n",
    " - El Dataset tiene 4843 registros\n",
    "\n",
    " - Todas las columnas (excepto la de gps) tienen algún nulo, aunque hay 9 de ellas que tienen solo algunos valores nulos sueltos que podrán imputarse fácilmente.\n",
    "\n",
    " - Hay 3 columnas (color, bluetooth y alerta_lim_velocidad) que tienen un número moderado de nulos (entre el 10% y el 20% del total de registros)\n",
    "\n",
    " - La columna tipo_coche tiene un 33% de valores nulos\n",
    "\n",
    " - La columna fecha_registro tiene un 50% de valores nulos\n",
    "\n",
    " - La columna asientos_traseros_plegables tiene un 70% de valores nulos\n",
    "\n",
    " - Tenemos 3 columnas numéricas (km, potencia y precio), 1 columna booleana (gps), y el resto de las columnas son objects (strings)\n",
    "\n",
    " - A la vista de los datos, fecha_registro y fecha_venta podrían transformarse a tipo Date\n",
    "\n",
    " - A la vista de los datos, las columnas volante_regulable, aire-acondicionado, camara_trasera, asientos_traseros_plegables, \n",
    "elevalunas_electrico, bluetooh, alerta_lim_velocidad podrían transformarse a tipo Booleano."
   ]
  },
  {
   "cell_type": "markdown",
   "metadata": {},
   "source": [
    "<h3>4.- Comprobación de registros duplicados</h3>"
   ]
  },
  {
   "cell_type": "code",
   "execution_count": 8,
   "metadata": {},
   "outputs": [
    {
     "data": {
      "text/plain": [
       "(0, 18)"
      ]
     },
     "execution_count": 8,
     "metadata": {},
     "output_type": "execute_result"
    }
   ],
   "source": [
    "df_bmw0[df_bmw0.duplicated()].shape"
   ]
  },
  {
   "cell_type": "markdown",
   "metadata": {},
   "source": [
    "No hay 2 registros completamente idénticos, aunque eso no descartaría por completo los duplicados (podría haber registros iguales donde se haya modificado solamente el valor de alguna de las columnas). Como comprobación rápida, vamos a ver si hay coches de la misma marca y modelo, con el mismo kilometraje, y que tengan la misma fecha de registro y de venta (si los hay, podría ser que se hubiera introdcido el mismo registro por duplicado, aunque no todos los datos sean idénticos)."
   ]
  },
  {
   "cell_type": "code",
   "execution_count": 14,
   "metadata": {},
   "outputs": [
    {
     "data": {
      "text/plain": [
       "(0, 18)"
      ]
     },
     "execution_count": 14,
     "metadata": {},
     "output_type": "execute_result"
    }
   ],
   "source": [
    "df_bmw0[df_bmw0[['marca','modelo','km','fecha_registro', 'fecha_venta']].duplicated(keep=False)].shape"
   ]
  },
  {
   "cell_type": "markdown",
   "metadata": {},
   "source": [
    "A la vista de los resultados, podemos deducir que no hay registros duplicados."
   ]
  },
  {
   "cell_type": "markdown",
   "metadata": {},
   "source": [
    "<h3>5.- Análisis de nulos</h3>"
   ]
  },
  {
   "cell_type": "code",
   "execution_count": 95,
   "metadata": {},
   "outputs": [
    {
     "data": {
      "text/plain": [
       "marca                           970\n",
       "modelo                            3\n",
       "km                                2\n",
       "potencia                          1\n",
       "fecha_registro                 2423\n",
       "tipo_gasolina                     5\n",
       "color                           445\n",
       "tipo_coche                     1460\n",
       "volante_regulable                 4\n",
       "aire_acondicionado              486\n",
       "camara_trasera                    2\n",
       "asientos_traseros_plegables    3391\n",
       "elevalunas_electrico              2\n",
       "bluetooth                       728\n",
       "gps                               0\n",
       "alerta_lim_velocidad            728\n",
       "precio                            6\n",
       "fecha_venta                       1\n",
       "dtype: int64"
      ]
     },
     "execution_count": 95,
     "metadata": {},
     "output_type": "execute_result"
    }
   ],
   "source": [
    "# Como vamos a empezar a realizar cambios, hacemos una copia del DataFrame y empezamos a hacer un análisis de los nulos\n",
    "\n",
    "df_bmw1 = df_bmw0.copy()\n",
    "df_bmw1.isnull().sum()"
   ]
  },
  {
   "cell_type": "markdown",
   "metadata": {},
   "source": [
    "Analizamos cada columna independientemente"
   ]
  },
  {
   "cell_type": "markdown",
   "metadata": {},
   "source": [
    "### 5.1 Columna Marca"
   ]
  },
  {
   "cell_type": "code",
   "execution_count": 96,
   "metadata": {},
   "outputs": [
    {
     "data": {
      "text/plain": [
       "marca\n",
       "BMW    79.971092\n",
       "NaN    20.028908\n",
       "Name: proportion, dtype: float64"
      ]
     },
     "execution_count": 96,
     "metadata": {},
     "output_type": "execute_result"
    }
   ],
   "source": [
    "# La columna 'marca' es de tipo object (string). Hacemos un value_counts() de esa columna para ver la distribución de valores, y cuáto representan los nulos\n",
    "\n",
    "df_bmw1['marca'].value_counts(dropna=False, normalize=True)*100"
   ]
  },
  {
   "cell_type": "markdown",
   "metadata": {},
   "source": [
    "El 80% de los registros son de la marca BMW, y tenemos un 20% de nulos. A priori, esta columna no agrega información (ya que se supone que todos los coches son BMW). Vamos a hacer una comprobación, obteniendo una lista de modelos con la marca BMW, y viendo si los modelos donde la marca es null se encuentran en esa lista."
   ]
  },
  {
   "cell_type": "code",
   "execution_count": 105,
   "metadata": {},
   "outputs": [
    {
     "data": {
      "text/plain": [
       "['M4',\n",
       " '320',\n",
       " '420',\n",
       " '425',\n",
       " '335',\n",
       " '325',\n",
       " '118',\n",
       " '120',\n",
       " '220',\n",
       " '650',\n",
       " 'Z4',\n",
       " '135',\n",
       " '318',\n",
       " '430',\n",
       " '218',\n",
       " 'M3',\n",
       " '330',\n",
       " '225',\n",
       " '316',\n",
       " '435',\n",
       " '640',\n",
       " '640 Gran Coupé',\n",
       " '435 Gran Coupé',\n",
       " 'i8',\n",
       " '430 Gran Coupé',\n",
       " '635',\n",
       " '520',\n",
       " nan,\n",
       " '525',\n",
       " '530',\n",
       " '535',\n",
       " '320 Gran Turismo',\n",
       " '116',\n",
       " '518',\n",
       " '328',\n",
       " '523',\n",
       " 'X3',\n",
       " 'M550',\n",
       " '325 Gran Turismo',\n",
       " '318 Gran Turismo',\n",
       " '125',\n",
       " 'i3',\n",
       " '520 Gran Turismo',\n",
       " '420 Gran Coupé',\n",
       " '530 Gran Turismo',\n",
       " '114',\n",
       " 'M135',\n",
       " '330 Gran Turismo',\n",
       " '418 Gran Coupé',\n",
       " '335 Gran Turismo',\n",
       " '730',\n",
       " '123',\n",
       " '535 Gran Turismo',\n",
       " '740',\n",
       " '750',\n",
       " '528',\n",
       " 'ActiveHybrid 5',\n",
       " '735',\n",
       " 'M5',\n",
       " 'X5',\n",
       " 'X1',\n",
       " 'X4',\n",
       " 'X6',\n",
       " 'X6 M',\n",
       " 'X5 M',\n",
       " 'X5 M50',\n",
       " '218 Active Tourer',\n",
       " '218 Gran Tourer',\n",
       " '216',\n",
       " '216 Gran Tourer',\n",
       " '216 Active Tourer',\n",
       " ' Active Tourer',\n",
       " '214 Gran Tourer']"
      ]
     },
     "execution_count": 105,
     "metadata": {},
     "output_type": "execute_result"
    }
   ],
   "source": [
    "#Creamos una lista con los modelos que sí tienen Marca (BMW)\n",
    "\n",
    "lista_modelos_con_marca = df_bmw1[df_bmw1['marca'].notnull()]['modelo'].unique().tolist()\n",
    "lista_modelos_con_marca"
   ]
  },
  {
   "cell_type": "code",
   "execution_count": 119,
   "metadata": {},
   "outputs": [
    {
     "data": {
      "text/plain": [
       "['118',\n",
       " 'Z4',\n",
       " '325',\n",
       " '218',\n",
       " '120',\n",
       " 'M235',\n",
       " '425',\n",
       " '435',\n",
       " '640',\n",
       " '420',\n",
       " '220',\n",
       " 'M4',\n",
       " '320',\n",
       " '630',\n",
       " '318',\n",
       " '520',\n",
       " '316',\n",
       " '535',\n",
       " '525',\n",
       " '518',\n",
       " '530',\n",
       " 'M550',\n",
       " '330',\n",
       " '116',\n",
       " '528',\n",
       " '328',\n",
       " '125',\n",
       " '420 Gran Coupé',\n",
       " '114',\n",
       " '320 Gran Turismo',\n",
       " '318 Gran Turismo',\n",
       " '530 Gran Turismo',\n",
       " '418 Gran Coupé',\n",
       " '520 Gran Turismo',\n",
       " '135',\n",
       " '435 Gran Coupé',\n",
       " '640 Gran Coupé',\n",
       " '740',\n",
       " '730',\n",
       " 'X1',\n",
       " 'X3',\n",
       " 'X5',\n",
       " 'X6',\n",
       " 'X4',\n",
       " 'X6 M',\n",
       " 'X5 M',\n",
       " 'X5 M50',\n",
       " '220 Active Tourer',\n",
       " '218 Active Tourer',\n",
       " '225 Active Tourer',\n",
       " '218 Gran Tourer']"
      ]
     },
     "execution_count": 119,
     "metadata": {},
     "output_type": "execute_result"
    }
   ],
   "source": [
    "#Creamos otra lista, con los modelos que no tienen marca \n",
    "\n",
    "lista_modelos_sin_marca = df_bmw1[df_bmw1['marca'].isnull()]['modelo'].unique().tolist()\n",
    "lista_modelos_sin_marca"
   ]
  }
 ],
 "metadata": {
  "kernelspec": {
   "display_name": ".venv",
   "language": "python",
   "name": "python3"
  },
  "language_info": {
   "codemirror_mode": {
    "name": "ipython",
    "version": 3
   },
   "file_extension": ".py",
   "mimetype": "text/x-python",
   "name": "python",
   "nbconvert_exporter": "python",
   "pygments_lexer": "ipython3",
   "version": "3.9.6"
  }
 },
 "nbformat": 4,
 "nbformat_minor": 2
}
