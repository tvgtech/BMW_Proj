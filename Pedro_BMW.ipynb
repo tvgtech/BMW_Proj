{
 "cells": [
  {
   "cell_type": "code",
   "execution_count": 7,
   "metadata": {},
   "outputs": [],
   "source": [
    "import pandas as pd\n",
    "import numpy as np\n",
    "import matplotlib.pyplot as plt\n",
    "import seaborn as sns"
   ]
  },
  {
   "cell_type": "markdown",
   "metadata": {},
   "source": [
    "### 1. Importar el dataset"
   ]
  },
  {
   "cell_type": "code",
   "execution_count": 8,
   "metadata": {},
   "outputs": [],
   "source": [
    "bmw_original = pd.read_csv('dataset/bmw_pricing_v3.csv')"
   ]
  },
  {
   "cell_type": "markdown",
   "metadata": {},
   "source": [
    "### 2. Información general del dataframe"
   ]
  },
  {
   "cell_type": "code",
   "execution_count": 9,
   "metadata": {},
   "outputs": [
    {
     "data": {
      "text/html": [
       "<div>\n",
       "<style scoped>\n",
       "    .dataframe tbody tr th:only-of-type {\n",
       "        vertical-align: middle;\n",
       "    }\n",
       "\n",
       "    .dataframe tbody tr th {\n",
       "        vertical-align: top;\n",
       "    }\n",
       "\n",
       "    .dataframe thead th {\n",
       "        text-align: right;\n",
       "    }\n",
       "</style>\n",
       "<table border=\"1\" class=\"dataframe\">\n",
       "  <thead>\n",
       "    <tr style=\"text-align: right;\">\n",
       "      <th></th>\n",
       "      <th>marca</th>\n",
       "      <th>modelo</th>\n",
       "      <th>km</th>\n",
       "      <th>potencia</th>\n",
       "      <th>fecha_registro</th>\n",
       "      <th>tipo_gasolina</th>\n",
       "      <th>color</th>\n",
       "      <th>tipo_coche</th>\n",
       "      <th>volante_regulable</th>\n",
       "      <th>aire_acondicionado</th>\n",
       "      <th>camara_trasera</th>\n",
       "      <th>asientos_traseros_plegables</th>\n",
       "      <th>elevalunas_electrico</th>\n",
       "      <th>bluetooth</th>\n",
       "      <th>gps</th>\n",
       "      <th>alerta_lim_velocidad</th>\n",
       "      <th>precio</th>\n",
       "      <th>fecha_venta</th>\n",
       "    </tr>\n",
       "  </thead>\n",
       "  <tbody>\n",
       "    <tr>\n",
       "      <th>0</th>\n",
       "      <td>NaN</td>\n",
       "      <td>118</td>\n",
       "      <td>140411.0</td>\n",
       "      <td>100.0</td>\n",
       "      <td>2012-02-01</td>\n",
       "      <td>diesel</td>\n",
       "      <td>black</td>\n",
       "      <td>NaN</td>\n",
       "      <td>True</td>\n",
       "      <td>True</td>\n",
       "      <td>False</td>\n",
       "      <td>NaN</td>\n",
       "      <td>True</td>\n",
       "      <td>NaN</td>\n",
       "      <td>True</td>\n",
       "      <td>NaN</td>\n",
       "      <td>11300.0</td>\n",
       "      <td>2018-01-01</td>\n",
       "    </tr>\n",
       "    <tr>\n",
       "      <th>1</th>\n",
       "      <td>BMW</td>\n",
       "      <td>M4</td>\n",
       "      <td>13929.0</td>\n",
       "      <td>317.0</td>\n",
       "      <td>NaN</td>\n",
       "      <td>petrol</td>\n",
       "      <td>grey</td>\n",
       "      <td>convertible</td>\n",
       "      <td>True</td>\n",
       "      <td>True</td>\n",
       "      <td>False</td>\n",
       "      <td>NaN</td>\n",
       "      <td>False</td>\n",
       "      <td>True</td>\n",
       "      <td>True</td>\n",
       "      <td>True</td>\n",
       "      <td>69700.0</td>\n",
       "      <td>2018-02-01</td>\n",
       "    </tr>\n",
       "    <tr>\n",
       "      <th>2</th>\n",
       "      <td>BMW</td>\n",
       "      <td>320</td>\n",
       "      <td>183297.0</td>\n",
       "      <td>120.0</td>\n",
       "      <td>2012-04-01</td>\n",
       "      <td>diesel</td>\n",
       "      <td>white</td>\n",
       "      <td>NaN</td>\n",
       "      <td>False</td>\n",
       "      <td>False</td>\n",
       "      <td>False</td>\n",
       "      <td>NaN</td>\n",
       "      <td>True</td>\n",
       "      <td>False</td>\n",
       "      <td>True</td>\n",
       "      <td>False</td>\n",
       "      <td>10200.0</td>\n",
       "      <td>2018-02-01</td>\n",
       "    </tr>\n",
       "    <tr>\n",
       "      <th>3</th>\n",
       "      <td>BMW</td>\n",
       "      <td>420</td>\n",
       "      <td>128035.0</td>\n",
       "      <td>135.0</td>\n",
       "      <td>NaN</td>\n",
       "      <td>diesel</td>\n",
       "      <td>red</td>\n",
       "      <td>convertible</td>\n",
       "      <td>True</td>\n",
       "      <td>True</td>\n",
       "      <td>False</td>\n",
       "      <td>NaN</td>\n",
       "      <td>True</td>\n",
       "      <td>True</td>\n",
       "      <td>True</td>\n",
       "      <td>NaN</td>\n",
       "      <td>25100.0</td>\n",
       "      <td>2018-02-01</td>\n",
       "    </tr>\n",
       "    <tr>\n",
       "      <th>4</th>\n",
       "      <td>BMW</td>\n",
       "      <td>425</td>\n",
       "      <td>97097.0</td>\n",
       "      <td>160.0</td>\n",
       "      <td>NaN</td>\n",
       "      <td>diesel</td>\n",
       "      <td>silver</td>\n",
       "      <td>NaN</td>\n",
       "      <td>True</td>\n",
       "      <td>True</td>\n",
       "      <td>False</td>\n",
       "      <td>False</td>\n",
       "      <td>False</td>\n",
       "      <td>True</td>\n",
       "      <td>True</td>\n",
       "      <td>True</td>\n",
       "      <td>33400.0</td>\n",
       "      <td>2018-04-01</td>\n",
       "    </tr>\n",
       "  </tbody>\n",
       "</table>\n",
       "</div>"
      ],
      "text/plain": [
       "  marca modelo        km  potencia fecha_registro tipo_gasolina   color  \\\n",
       "0   NaN    118  140411.0     100.0     2012-02-01        diesel   black   \n",
       "1   BMW     M4   13929.0     317.0            NaN        petrol    grey   \n",
       "2   BMW    320  183297.0     120.0     2012-04-01        diesel   white   \n",
       "3   BMW    420  128035.0     135.0            NaN        diesel     red   \n",
       "4   BMW    425   97097.0     160.0            NaN        diesel  silver   \n",
       "\n",
       "    tipo_coche volante_regulable aire_acondicionado camara_trasera  \\\n",
       "0          NaN              True               True          False   \n",
       "1  convertible              True               True          False   \n",
       "2          NaN             False              False          False   \n",
       "3  convertible              True               True          False   \n",
       "4          NaN              True               True          False   \n",
       "\n",
       "  asientos_traseros_plegables elevalunas_electrico bluetooth   gps  \\\n",
       "0                         NaN                 True       NaN  True   \n",
       "1                         NaN                False      True  True   \n",
       "2                         NaN                 True     False  True   \n",
       "3                         NaN                 True      True  True   \n",
       "4                       False                False      True  True   \n",
       "\n",
       "  alerta_lim_velocidad   precio fecha_venta  \n",
       "0                  NaN  11300.0  2018-01-01  \n",
       "1                 True  69700.0  2018-02-01  \n",
       "2                False  10200.0  2018-02-01  \n",
       "3                  NaN  25100.0  2018-02-01  \n",
       "4                 True  33400.0  2018-04-01  "
      ]
     },
     "execution_count": 9,
     "metadata": {},
     "output_type": "execute_result"
    }
   ],
   "source": [
    "bmw_original.head()"
   ]
  },
  {
   "cell_type": "code",
   "execution_count": 10,
   "metadata": {},
   "outputs": [
    {
     "data": {
      "text/plain": [
       "(4843, 18)"
      ]
     },
     "execution_count": 10,
     "metadata": {},
     "output_type": "execute_result"
    }
   ],
   "source": [
    "bmw_original.shape"
   ]
  },
  {
   "cell_type": "code",
   "execution_count": 11,
   "metadata": {},
   "outputs": [
    {
     "name": "stdout",
     "output_type": "stream",
     "text": [
      "<class 'pandas.core.frame.DataFrame'>\n",
      "RangeIndex: 4843 entries, 0 to 4842\n",
      "Data columns (total 18 columns):\n",
      " #   Column                       Non-Null Count  Dtype  \n",
      "---  ------                       --------------  -----  \n",
      " 0   marca                        3873 non-null   object \n",
      " 1   modelo                       4840 non-null   object \n",
      " 2   km                           4841 non-null   float64\n",
      " 3   potencia                     4842 non-null   float64\n",
      " 4   fecha_registro               2420 non-null   object \n",
      " 5   tipo_gasolina                4838 non-null   object \n",
      " 6   color                        4398 non-null   object \n",
      " 7   tipo_coche                   3383 non-null   object \n",
      " 8   volante_regulable            4839 non-null   object \n",
      " 9   aire_acondicionado           4357 non-null   object \n",
      " 10  camara_trasera               4841 non-null   object \n",
      " 11  asientos_traseros_plegables  1452 non-null   object \n",
      " 12  elevalunas_electrico         4841 non-null   object \n",
      " 13  bluetooth                    4115 non-null   object \n",
      " 14  gps                          4843 non-null   bool   \n",
      " 15  alerta_lim_velocidad         4115 non-null   object \n",
      " 16  precio                       4837 non-null   float64\n",
      " 17  fecha_venta                  4842 non-null   object \n",
      "dtypes: bool(1), float64(3), object(14)\n",
      "memory usage: 648.1+ KB\n"
     ]
    }
   ],
   "source": [
    "bmw_original.info()"
   ]
  },
  {
   "cell_type": "markdown",
   "metadata": {},
   "source": [
    "#### Primeras observaciones:\n",
    " - Las columnas aparentemente booleanas que tienen nulos (volante_regulable, aire_acondicionado...) se cargan como \ttipo object\n",
    "\n",
    " - La columna gps es booleana porque no tiene nulos\n",
    " \n",
    " - Las columnas de fecha (fecha_registro, fecha_venta) se cargan como object"
   ]
  },
  {
   "cell_type": "markdown",
   "metadata": {},
   "source": [
    "### 3. Duplicados"
   ]
  },
  {
   "cell_type": "code",
   "execution_count": 15,
   "metadata": {},
   "outputs": [
    {
     "data": {
      "text/plain": [
       "0"
      ]
     },
     "execution_count": 15,
     "metadata": {},
     "output_type": "execute_result"
    }
   ],
   "source": [
    "bmw_original[bmw_original.duplicated()].shape[0]"
   ]
  },
  {
   "cell_type": "markdown",
   "metadata": {},
   "source": [
    "Aparentemente, no hay registros duplicados. Compruebo que no existe ningún modelo con la misma fecha de venta y número de km repetidos "
   ]
  },
  {
   "cell_type": "code",
   "execution_count": 23,
   "metadata": {},
   "outputs": [
    {
     "data": {
      "text/plain": [
       "0"
      ]
     },
     "execution_count": 23,
     "metadata": {},
     "output_type": "execute_result"
    }
   ],
   "source": [
    "bmw_original[bmw_original[['modelo', 'fecha_venta', 'km']].duplicated(keep=False)].sort_values(by=['fecha_venta', 'modelo']).shape[0]"
   ]
  },
  {
   "cell_type": "markdown",
   "metadata": {},
   "source": [
    "Por lo tanto, no hay duplicados"
   ]
  },
  {
   "cell_type": "markdown",
   "metadata": {},
   "source": [
    "### 4. Nulos"
   ]
  },
  {
   "cell_type": "code",
   "execution_count": 32,
   "metadata": {},
   "outputs": [
    {
     "data": {
      "text/plain": [
       "marca                           970\n",
       "modelo                            3\n",
       "km                                2\n",
       "potencia                          1\n",
       "fecha_registro                 2423\n",
       "tipo_gasolina                     5\n",
       "color                           445\n",
       "tipo_coche                     1460\n",
       "volante_regulable                 4\n",
       "aire_acondicionado              486\n",
       "camara_trasera                    2\n",
       "asientos_traseros_plegables    3391\n",
       "elevalunas_electrico              2\n",
       "bluetooth                       728\n",
       "gps                               0\n",
       "alerta_lim_velocidad            728\n",
       "precio                            6\n",
       "fecha_venta                       1\n",
       "dtype: int64"
      ]
     },
     "execution_count": 32,
     "metadata": {},
     "output_type": "execute_result"
    }
   ],
   "source": [
    "bmw_original.isnull().sum()"
   ]
  },
  {
   "cell_type": "markdown",
   "metadata": {},
   "source": [
    "### 4.1 Columnas con muchos nulos"
   ]
  },
  {
   "cell_type": "code",
   "execution_count": 96,
   "metadata": {},
   "outputs": [],
   "source": [
    "# Creo copia del df para tratar los nulos\n",
    "\n",
    "bmw4_1 = bmw_original.copy()"
   ]
  },
  {
   "cell_type": "code",
   "execution_count": 97,
   "metadata": {},
   "outputs": [
    {
     "name": "stdout",
     "output_type": "stream",
     "text": [
      "['marca', 'fecha_registro', 'tipo_coche', 'asientos_traseros_plegables']\n"
     ]
    }
   ],
   "source": [
    "# Muestro las columnas que tienen más del 20% de valores nulos\n",
    "\n",
    "columnas_MasNulos = []\n",
    "\n",
    "for col in bmw4_1.columns:\n",
    "    if ((bmw4_1[col].isnull().sum() / bmw4_1.shape[0]) * 100 >= 20):\n",
    "        columnas_MasNulos.append(col)\n",
    "\n",
    "print(columnas_MasNulos)"
   ]
  },
  {
   "cell_type": "markdown",
   "metadata": {},
   "source": [
    "### 4.1.1 Columna marca"
   ]
  },
  {
   "cell_type": "code",
   "execution_count": 77,
   "metadata": {},
   "outputs": [],
   "source": [
    "bmw4_1_1 = bmw4_1.copy()"
   ]
  },
  {
   "cell_type": "code",
   "execution_count": 81,
   "metadata": {},
   "outputs": [
    {
     "data": {
      "text/plain": [
       "marca\n",
       "BMW    79.97\n",
       "NaN    20.03\n",
       "Name: proportion, dtype: float64"
      ]
     },
     "execution_count": 81,
     "metadata": {},
     "output_type": "execute_result"
    }
   ],
   "source": [
    "round(bmw4_1_1['marca'].value_counts(dropna=False, normalize=True) * 100, 2)"
   ]
  },
  {
   "cell_type": "code",
   "execution_count": 82,
   "metadata": {},
   "outputs": [
    {
     "data": {
      "text/plain": [
       "modelo\n",
       "320                  142\n",
       "520                  123\n",
       "318                  116\n",
       "X3                   105\n",
       "116                   78\n",
       "X1                    55\n",
       "X5                    49\n",
       "316                   45\n",
       "525                   34\n",
       "118                   30\n",
       "530                   29\n",
       "318 Gran Turismo      19\n",
       "518                   14\n",
       "320 Gran Turismo      13\n",
       "535                    9\n",
       "420                    8\n",
       "X4                     8\n",
       "X6                     7\n",
       "420 Gran Coupé         7\n",
       "640 Gran Coupé         6\n",
       "325                    6\n",
       "730                    6\n",
       "120                    6\n",
       "X5 M                   5\n",
       "530 Gran Turismo       4\n",
       "M550                   4\n",
       "X6 M                   3\n",
       "114                    3\n",
       "330                    3\n",
       "M235                   3\n",
       "740                    2\n",
       "218                    2\n",
       "435 Gran Coupé         2\n",
       "125                    2\n",
       "520 Gran Turismo       2\n",
       "418 Gran Coupé         2\n",
       "Z4                     2\n",
       "435                    2\n",
       "218 Active Tourer      2\n",
       "X5 M50                 1\n",
       "225 Active Tourer      1\n",
       "220 Active Tourer      1\n",
       "328                    1\n",
       "135                    1\n",
       "528                    1\n",
       "630                    1\n",
       "M4                     1\n",
       "220                    1\n",
       "640                    1\n",
       "425                    1\n",
       "218 Gran Tourer        1\n",
       "Name: count, dtype: int64"
      ]
     },
     "execution_count": 82,
     "metadata": {},
     "output_type": "execute_result"
    }
   ],
   "source": [
    "bmw4_1_1[bmw4_1_1['marca'].isnull()]['modelo'].value_counts()"
   ]
  },
  {
   "cell_type": "markdown",
   "metadata": {},
   "source": [
    "Esta columna no es significativa. Todos los modelos son de la marca BMW. Por lo tanto se elimina"
   ]
  },
  {
   "cell_type": "code",
   "execution_count": 83,
   "metadata": {},
   "outputs": [],
   "source": [
    "del(bmw4_1_1['marca'])"
   ]
  },
  {
   "cell_type": "code",
   "execution_count": 84,
   "metadata": {},
   "outputs": [
    {
     "data": {
      "text/plain": [
       "modelo                            3\n",
       "km                                2\n",
       "potencia                          1\n",
       "fecha_registro                 2423\n",
       "tipo_gasolina                     5\n",
       "color                           445\n",
       "tipo_coche                     1460\n",
       "volante_regulable                 4\n",
       "aire_acondicionado              486\n",
       "camara_trasera                    2\n",
       "asientos_traseros_plegables    3391\n",
       "elevalunas_electrico              2\n",
       "bluetooth                       728\n",
       "gps                               0\n",
       "alerta_lim_velocidad            728\n",
       "precio                            6\n",
       "fecha_venta                       1\n",
       "dtype: int64"
      ]
     },
     "execution_count": 84,
     "metadata": {},
     "output_type": "execute_result"
    }
   ],
   "source": [
    "bmw4_1_1.isnull().sum()"
   ]
  },
  {
   "cell_type": "markdown",
   "metadata": {},
   "source": [
    "### 4.1.2 Columna fecha_registro"
   ]
  },
  {
   "cell_type": "code",
   "execution_count": 85,
   "metadata": {},
   "outputs": [],
   "source": [
    "bmw4_1_2 = bmw4_1_1.copy()"
   ]
  },
  {
   "cell_type": "code",
   "execution_count": 86,
   "metadata": {},
   "outputs": [
    {
     "data": {
      "text/plain": [
       "fecha_registro\n",
       "NaN           50.03\n",
       "2013-07-01     1.92\n",
       "2014-03-01     1.71\n",
       "2014-05-01     1.67\n",
       "2013-01-01     1.61\n",
       "              ...  \n",
       "2007-01-01     0.02\n",
       "1990-03-01     0.02\n",
       "2006-11-01     0.02\n",
       "1994-01-01     0.02\n",
       "2005-09-01     0.02\n",
       "Name: proportion, Length: 181, dtype: float64"
      ]
     },
     "execution_count": 86,
     "metadata": {},
     "output_type": "execute_result"
    }
   ],
   "source": [
    "round(bmw4_1_2['fecha_registro'].value_counts(dropna=False, normalize=True) * 100, 2)"
   ]
  },
  {
   "cell_type": "code",
   "execution_count": 87,
   "metadata": {},
   "outputs": [
    {
     "data": {
      "text/html": [
       "<div>\n",
       "<style scoped>\n",
       "    .dataframe tbody tr th:only-of-type {\n",
       "        vertical-align: middle;\n",
       "    }\n",
       "\n",
       "    .dataframe tbody tr th {\n",
       "        vertical-align: top;\n",
       "    }\n",
       "\n",
       "    .dataframe thead th {\n",
       "        text-align: right;\n",
       "    }\n",
       "</style>\n",
       "<table border=\"1\" class=\"dataframe\">\n",
       "  <thead>\n",
       "    <tr style=\"text-align: right;\">\n",
       "      <th></th>\n",
       "      <th>modelo</th>\n",
       "      <th>km</th>\n",
       "      <th>potencia</th>\n",
       "      <th>fecha_registro</th>\n",
       "      <th>tipo_gasolina</th>\n",
       "      <th>color</th>\n",
       "      <th>tipo_coche</th>\n",
       "      <th>volante_regulable</th>\n",
       "      <th>aire_acondicionado</th>\n",
       "      <th>camara_trasera</th>\n",
       "      <th>asientos_traseros_plegables</th>\n",
       "      <th>elevalunas_electrico</th>\n",
       "      <th>bluetooth</th>\n",
       "      <th>gps</th>\n",
       "      <th>alerta_lim_velocidad</th>\n",
       "      <th>precio</th>\n",
       "      <th>fecha_venta</th>\n",
       "    </tr>\n",
       "  </thead>\n",
       "  <tbody>\n",
       "    <tr>\n",
       "      <th>1</th>\n",
       "      <td>M4</td>\n",
       "      <td>13929.0</td>\n",
       "      <td>317.0</td>\n",
       "      <td>NaN</td>\n",
       "      <td>petrol</td>\n",
       "      <td>grey</td>\n",
       "      <td>convertible</td>\n",
       "      <td>True</td>\n",
       "      <td>True</td>\n",
       "      <td>False</td>\n",
       "      <td>NaN</td>\n",
       "      <td>False</td>\n",
       "      <td>True</td>\n",
       "      <td>True</td>\n",
       "      <td>True</td>\n",
       "      <td>69700.0</td>\n",
       "      <td>2018-02-01</td>\n",
       "    </tr>\n",
       "    <tr>\n",
       "      <th>3</th>\n",
       "      <td>420</td>\n",
       "      <td>128035.0</td>\n",
       "      <td>135.0</td>\n",
       "      <td>NaN</td>\n",
       "      <td>diesel</td>\n",
       "      <td>red</td>\n",
       "      <td>convertible</td>\n",
       "      <td>True</td>\n",
       "      <td>True</td>\n",
       "      <td>False</td>\n",
       "      <td>NaN</td>\n",
       "      <td>True</td>\n",
       "      <td>True</td>\n",
       "      <td>True</td>\n",
       "      <td>NaN</td>\n",
       "      <td>25100.0</td>\n",
       "      <td>2018-02-01</td>\n",
       "    </tr>\n",
       "    <tr>\n",
       "      <th>4</th>\n",
       "      <td>425</td>\n",
       "      <td>97097.0</td>\n",
       "      <td>160.0</td>\n",
       "      <td>NaN</td>\n",
       "      <td>diesel</td>\n",
       "      <td>silver</td>\n",
       "      <td>NaN</td>\n",
       "      <td>True</td>\n",
       "      <td>True</td>\n",
       "      <td>False</td>\n",
       "      <td>False</td>\n",
       "      <td>False</td>\n",
       "      <td>True</td>\n",
       "      <td>True</td>\n",
       "      <td>True</td>\n",
       "      <td>33400.0</td>\n",
       "      <td>2018-04-01</td>\n",
       "    </tr>\n",
       "    <tr>\n",
       "      <th>6</th>\n",
       "      <td>325</td>\n",
       "      <td>205219.0</td>\n",
       "      <td>145.0</td>\n",
       "      <td>NaN</td>\n",
       "      <td>diesel</td>\n",
       "      <td>grey</td>\n",
       "      <td>convertible</td>\n",
       "      <td>True</td>\n",
       "      <td>True</td>\n",
       "      <td>False</td>\n",
       "      <td>NaN</td>\n",
       "      <td>True</td>\n",
       "      <td>True</td>\n",
       "      <td>True</td>\n",
       "      <td>True</td>\n",
       "      <td>12400.0</td>\n",
       "      <td>2018-02-01</td>\n",
       "    </tr>\n",
       "    <tr>\n",
       "      <th>8</th>\n",
       "      <td>Z4</td>\n",
       "      <td>123886.0</td>\n",
       "      <td>125.0</td>\n",
       "      <td>NaN</td>\n",
       "      <td>petrol</td>\n",
       "      <td>black</td>\n",
       "      <td>convertible</td>\n",
       "      <td>True</td>\n",
       "      <td>False</td>\n",
       "      <td>False</td>\n",
       "      <td>False</td>\n",
       "      <td>False</td>\n",
       "      <td>NaN</td>\n",
       "      <td>True</td>\n",
       "      <td>False</td>\n",
       "      <td>6200.0</td>\n",
       "      <td>2018-03-01</td>\n",
       "    </tr>\n",
       "    <tr>\n",
       "      <th>...</th>\n",
       "      <td>...</td>\n",
       "      <td>...</td>\n",
       "      <td>...</td>\n",
       "      <td>...</td>\n",
       "      <td>...</td>\n",
       "      <td>...</td>\n",
       "      <td>...</td>\n",
       "      <td>...</td>\n",
       "      <td>...</td>\n",
       "      <td>...</td>\n",
       "      <td>...</td>\n",
       "      <td>...</td>\n",
       "      <td>...</td>\n",
       "      <td>...</td>\n",
       "      <td>...</td>\n",
       "      <td>...</td>\n",
       "      <td>...</td>\n",
       "    </tr>\n",
       "    <tr>\n",
       "      <th>4834</th>\n",
       "      <td>218 Gran Tourer</td>\n",
       "      <td>47782.0</td>\n",
       "      <td>110.0</td>\n",
       "      <td>NaN</td>\n",
       "      <td>diesel</td>\n",
       "      <td>blue</td>\n",
       "      <td>NaN</td>\n",
       "      <td>False</td>\n",
       "      <td>NaN</td>\n",
       "      <td>False</td>\n",
       "      <td>NaN</td>\n",
       "      <td>False</td>\n",
       "      <td>False</td>\n",
       "      <td>True</td>\n",
       "      <td>True</td>\n",
       "      <td>14900.0</td>\n",
       "      <td>2018-07-01</td>\n",
       "    </tr>\n",
       "    <tr>\n",
       "      <th>4835</th>\n",
       "      <td>218 Active Tourer</td>\n",
       "      <td>165707.0</td>\n",
       "      <td>110.0</td>\n",
       "      <td>NaN</td>\n",
       "      <td>diesel</td>\n",
       "      <td>black</td>\n",
       "      <td>van</td>\n",
       "      <td>False</td>\n",
       "      <td>True</td>\n",
       "      <td>False</td>\n",
       "      <td>NaN</td>\n",
       "      <td>False</td>\n",
       "      <td>NaN</td>\n",
       "      <td>True</td>\n",
       "      <td>True</td>\n",
       "      <td>13600.0</td>\n",
       "      <td>2018-07-01</td>\n",
       "    </tr>\n",
       "    <tr>\n",
       "      <th>4837</th>\n",
       "      <td>218 Gran Tourer</td>\n",
       "      <td>66770.0</td>\n",
       "      <td>110.0</td>\n",
       "      <td>NaN</td>\n",
       "      <td>diesel</td>\n",
       "      <td>blue</td>\n",
       "      <td>van</td>\n",
       "      <td>False</td>\n",
       "      <td>True</td>\n",
       "      <td>False</td>\n",
       "      <td>NaN</td>\n",
       "      <td>False</td>\n",
       "      <td>False</td>\n",
       "      <td>True</td>\n",
       "      <td>False</td>\n",
       "      <td>13400.0</td>\n",
       "      <td>2018-07-01</td>\n",
       "    </tr>\n",
       "    <tr>\n",
       "      <th>4838</th>\n",
       "      <td>218 Gran Tourer</td>\n",
       "      <td>39743.0</td>\n",
       "      <td>110.0</td>\n",
       "      <td>NaN</td>\n",
       "      <td>diesel</td>\n",
       "      <td>black</td>\n",
       "      <td>NaN</td>\n",
       "      <td>False</td>\n",
       "      <td>True</td>\n",
       "      <td>False</td>\n",
       "      <td>NaN</td>\n",
       "      <td>False</td>\n",
       "      <td>False</td>\n",
       "      <td>True</td>\n",
       "      <td>False</td>\n",
       "      <td>14600.0</td>\n",
       "      <td>2018-08-01</td>\n",
       "    </tr>\n",
       "    <tr>\n",
       "      <th>4842</th>\n",
       "      <td>525</td>\n",
       "      <td>195840.0</td>\n",
       "      <td>160.0</td>\n",
       "      <td>NaN</td>\n",
       "      <td>diesel</td>\n",
       "      <td>grey</td>\n",
       "      <td>NaN</td>\n",
       "      <td>True</td>\n",
       "      <td>NaN</td>\n",
       "      <td>False</td>\n",
       "      <td>NaN</td>\n",
       "      <td>True</td>\n",
       "      <td>False</td>\n",
       "      <td>True</td>\n",
       "      <td>True</td>\n",
       "      <td>15500.0</td>\n",
       "      <td>2018-09-01</td>\n",
       "    </tr>\n",
       "  </tbody>\n",
       "</table>\n",
       "<p>2423 rows × 17 columns</p>\n",
       "</div>"
      ],
      "text/plain": [
       "                 modelo        km  potencia fecha_registro tipo_gasolina  \\\n",
       "1                    M4   13929.0     317.0            NaN        petrol   \n",
       "3                   420  128035.0     135.0            NaN        diesel   \n",
       "4                   425   97097.0     160.0            NaN        diesel   \n",
       "6                   325  205219.0     145.0            NaN        diesel   \n",
       "8                    Z4  123886.0     125.0            NaN        petrol   \n",
       "...                 ...       ...       ...            ...           ...   \n",
       "4834    218 Gran Tourer   47782.0     110.0            NaN        diesel   \n",
       "4835  218 Active Tourer  165707.0     110.0            NaN        diesel   \n",
       "4837    218 Gran Tourer   66770.0     110.0            NaN        diesel   \n",
       "4838    218 Gran Tourer   39743.0     110.0            NaN        diesel   \n",
       "4842                525  195840.0     160.0            NaN        diesel   \n",
       "\n",
       "       color   tipo_coche volante_regulable aire_acondicionado camara_trasera  \\\n",
       "1       grey  convertible              True               True          False   \n",
       "3        red  convertible              True               True          False   \n",
       "4     silver          NaN              True               True          False   \n",
       "6       grey  convertible              True               True          False   \n",
       "8      black  convertible              True              False          False   \n",
       "...      ...          ...               ...                ...            ...   \n",
       "4834    blue          NaN             False                NaN          False   \n",
       "4835   black          van             False               True          False   \n",
       "4837    blue          van             False               True          False   \n",
       "4838   black          NaN             False               True          False   \n",
       "4842    grey          NaN              True                NaN          False   \n",
       "\n",
       "     asientos_traseros_plegables elevalunas_electrico bluetooth   gps  \\\n",
       "1                            NaN                False      True  True   \n",
       "3                            NaN                 True      True  True   \n",
       "4                          False                False      True  True   \n",
       "6                            NaN                 True      True  True   \n",
       "8                          False                False       NaN  True   \n",
       "...                          ...                  ...       ...   ...   \n",
       "4834                         NaN                False     False  True   \n",
       "4835                         NaN                False       NaN  True   \n",
       "4837                         NaN                False     False  True   \n",
       "4838                         NaN                False     False  True   \n",
       "4842                         NaN                 True     False  True   \n",
       "\n",
       "     alerta_lim_velocidad   precio fecha_venta  \n",
       "1                    True  69700.0  2018-02-01  \n",
       "3                     NaN  25100.0  2018-02-01  \n",
       "4                    True  33400.0  2018-04-01  \n",
       "6                    True  12400.0  2018-02-01  \n",
       "8                   False   6200.0  2018-03-01  \n",
       "...                   ...      ...         ...  \n",
       "4834                 True  14900.0  2018-07-01  \n",
       "4835                 True  13600.0  2018-07-01  \n",
       "4837                False  13400.0  2018-07-01  \n",
       "4838                False  14600.0  2018-08-01  \n",
       "4842                 True  15500.0  2018-09-01  \n",
       "\n",
       "[2423 rows x 17 columns]"
      ]
     },
     "execution_count": 87,
     "metadata": {},
     "output_type": "execute_result"
    }
   ],
   "source": [
    "bmw4_1_2[bmw4_1_2['fecha_registro'].isnull()]"
   ]
  },
  {
   "cell_type": "markdown",
   "metadata": {},
   "source": [
    "Considero que esta columna no es muy significativa y contiene demasiados valores nulos. Por tanto, la elimino"
   ]
  },
  {
   "cell_type": "code",
   "execution_count": 88,
   "metadata": {},
   "outputs": [],
   "source": [
    "del(bmw4_1_2['fecha_registro'])"
   ]
  },
  {
   "cell_type": "code",
   "execution_count": 89,
   "metadata": {},
   "outputs": [
    {
     "data": {
      "text/plain": [
       "modelo                            3\n",
       "km                                2\n",
       "potencia                          1\n",
       "tipo_gasolina                     5\n",
       "color                           445\n",
       "tipo_coche                     1460\n",
       "volante_regulable                 4\n",
       "aire_acondicionado              486\n",
       "camara_trasera                    2\n",
       "asientos_traseros_plegables    3391\n",
       "elevalunas_electrico              2\n",
       "bluetooth                       728\n",
       "gps                               0\n",
       "alerta_lim_velocidad            728\n",
       "precio                            6\n",
       "fecha_venta                       1\n",
       "dtype: int64"
      ]
     },
     "execution_count": 89,
     "metadata": {},
     "output_type": "execute_result"
    }
   ],
   "source": [
    "bmw4_1_2.isnull().sum()"
   ]
  },
  {
   "cell_type": "markdown",
   "metadata": {},
   "source": [
    "### 4.1.3 Columna tipo_coche"
   ]
  },
  {
   "cell_type": "code",
   "execution_count": 90,
   "metadata": {},
   "outputs": [],
   "source": [
    "bmw4_1_3 = bmw4_1_2.copy()"
   ]
  },
  {
   "cell_type": "code",
   "execution_count": 91,
   "metadata": {},
   "outputs": [
    {
     "data": {
      "text/plain": [
       "tipo_coche\n",
       "NaN            30.15\n",
       "estate         22.86\n",
       "sedan          16.95\n",
       "suv            15.59\n",
       "hatchback      10.08\n",
       "subcompact      1.59\n",
       "coupe           1.57\n",
       "convertible     0.62\n",
       "van             0.60\n",
       "Name: proportion, dtype: float64"
      ]
     },
     "execution_count": 91,
     "metadata": {},
     "output_type": "execute_result"
    }
   ],
   "source": [
    "round(bmw4_1_3['tipo_coche'].value_counts(dropna=False, normalize=True) * 100, 2)"
   ]
  },
  {
   "cell_type": "markdown",
   "metadata": {},
   "source": [
    "Esta columna tiene bastantes nulos, pero considero que es representativa. Existen distintos valores con porcentajes altos\n",
    "\n",
    "No la elimino. De momento se queda así, pero más adelante le daré un valor a los nulos."
   ]
  },
  {
   "cell_type": "markdown",
   "metadata": {},
   "source": [
    "### 4.1.4 Columna asientos_traseros_plegables"
   ]
  },
  {
   "cell_type": "code",
   "execution_count": 98,
   "metadata": {},
   "outputs": [],
   "source": [
    "bmw4_1_4 = bmw4_1_3.copy()"
   ]
  },
  {
   "cell_type": "code",
   "execution_count": 99,
   "metadata": {},
   "outputs": [
    {
     "data": {
      "text/plain": [
       "asientos_traseros_plegables\n",
       "NaN      70.02\n",
       "False    23.75\n",
       "True      6.24\n",
       "Name: proportion, dtype: float64"
      ]
     },
     "execution_count": 99,
     "metadata": {},
     "output_type": "execute_result"
    }
   ],
   "source": [
    "round(bmw4_1_4['asientos_traseros_plegables'].value_counts(dropna=False, normalize=True) * 100, 2)"
   ]
  },
  {
   "cell_type": "markdown",
   "metadata": {},
   "source": [
    "Esta columna es de tipo booleano y tiene demasiados valores nulos. La elimino"
   ]
  },
  {
   "cell_type": "code",
   "execution_count": 100,
   "metadata": {},
   "outputs": [],
   "source": [
    "del(bmw4_1_4['asientos_traseros_plegables'])"
   ]
  },
  {
   "cell_type": "code",
   "execution_count": 101,
   "metadata": {},
   "outputs": [
    {
     "data": {
      "text/plain": [
       "modelo                     3\n",
       "km                         2\n",
       "potencia                   1\n",
       "tipo_gasolina              5\n",
       "color                    445\n",
       "tipo_coche              1460\n",
       "volante_regulable          4\n",
       "aire_acondicionado       486\n",
       "camara_trasera             2\n",
       "elevalunas_electrico       2\n",
       "bluetooth                728\n",
       "gps                        0\n",
       "alerta_lim_velocidad     728\n",
       "precio                     6\n",
       "fecha_venta                1\n",
       "dtype: int64"
      ]
     },
     "execution_count": 101,
     "metadata": {},
     "output_type": "execute_result"
    }
   ],
   "source": [
    "bmw4_1_4.isnull().sum()"
   ]
  },
  {
   "cell_type": "markdown",
   "metadata": {},
   "source": [
    "### 4.2 Registros con varios nulos"
   ]
  },
  {
   "cell_type": "code",
   "execution_count": 102,
   "metadata": {},
   "outputs": [],
   "source": [
    "bmw4_2 = bmw4_1_4.copy()"
   ]
  },
  {
   "cell_type": "code",
   "execution_count": 105,
   "metadata": {},
   "outputs": [
    {
     "name": "stdout",
     "output_type": "stream",
     "text": [
      "[0, 11, 12, 18, 23, 26, 33, 34, 36, 41, 45, 49, 56, 63, 64, 66, 81, 82, 86, 92, 100, 106, 117, 119, 128, 130, 134, 137, 138, 141, 148, 149, 155, 168, 169, 173, 177, 182, 183, 199, 202, 203, 206, 217, 225, 230, 237, 244, 257, 261, 263, 273, 276, 281, 291, 297, 302, 308, 310, 314, 317, 318, 321, 323, 327, 328, 333, 335, 336, 348, 349, 358, 360, 370, 373, 374, 376, 385, 398, 409, 412, 429, 434, 442, 450, 452, 456, 459, 464, 474, 476, 477, 480, 485, 489, 503, 505, 507, 509, 511, 512, 513, 528, 537, 538, 541, 544, 549, 558, 561, 563, 569, 570, 584, 587, 594, 599, 600, 601, 609, 611, 614, 615, 620, 630, 641, 645, 649, 657, 662, 668, 672, 684, 689, 691, 692, 693, 697, 698, 711, 723, 733, 737, 747, 751, 753, 758, 766, 778, 780, 791, 809, 819, 820, 824, 827, 849, 851, 852, 855, 863, 868, 873, 880, 883, 886, 890, 893, 895, 896, 899, 902, 914, 928, 930, 932, 946, 951, 953, 955, 957, 959, 964, 973, 974, 979, 981, 985, 994, 998, 1013, 1016, 1019, 1033, 1036, 1040, 1043, 1045, 1049, 1051, 1064, 1067, 1080, 1088, 1094, 1108, 1120, 1122, 1130, 1131, 1141, 1147, 1148, 1153, 1156, 1157, 1163, 1172, 1177, 1186, 1195, 1196, 1199, 1211, 1213, 1215, 1218, 1220, 1222, 1227, 1229, 1232, 1234, 1235, 1239, 1243, 1258, 1259, 1261, 1262, 1270, 1277, 1287, 1292, 1293, 1300, 1304, 1306, 1308, 1312, 1314, 1320, 1327, 1329, 1331, 1335, 1341, 1342, 1346, 1357, 1360, 1372, 1375, 1376, 1389, 1400, 1401, 1410, 1429, 1435, 1440, 1441, 1445, 1449, 1452, 1454, 1462, 1466, 1478, 1479, 1484, 1490, 1491, 1500, 1515, 1524, 1527, 1528, 1534, 1541, 1543, 1544, 1545, 1546, 1553, 1558, 1577, 1579, 1582, 1584, 1587, 1590, 1605, 1610, 1613, 1618, 1633, 1638, 1640, 1647, 1650, 1660, 1668, 1687, 1689, 1690, 1698, 1701, 1713, 1716, 1719, 1720, 1722, 1725, 1726, 1730, 1734, 1736, 1737, 1741, 1742, 1743, 1751, 1752, 1759, 1762, 1767, 1771, 1773, 1779, 1786, 1796, 1800, 1806, 1812, 1814, 1821, 1829, 1837, 1838, 1839, 1845, 1849, 1872, 1874, 1878, 1879, 1882, 1889, 1895, 1911, 1914, 1920, 1921, 1931, 1934, 1948, 1959, 1966, 1968, 1977, 1993, 1994, 1998, 2001, 2005, 2016, 2027, 2033, 2034, 2038, 2041, 2048, 2053, 2056, 2059, 2061, 2070, 2071, 2072, 2080, 2086, 2088, 2091, 2096, 2098, 2106, 2109, 2110, 2114, 2121, 2144, 2154, 2155, 2158, 2164, 2165, 2168, 2169, 2177, 2193, 2197, 2206, 2212, 2215, 2216, 2218, 2229, 2231, 2235, 2237, 2248, 2250, 2254, 2257, 2275, 2285, 2288, 2289, 2295, 2297, 2298, 2307, 2308, 2327, 2328, 2329, 2331, 2332, 2335, 2341, 2343, 2345, 2351, 2357, 2361, 2369, 2381, 2382, 2384, 2389, 2392, 2393, 2395, 2396, 2422, 2426, 2433, 2437, 2468, 2473, 2474, 2500, 2507, 2514, 2517, 2533, 2534, 2537, 2540, 2542, 2543, 2545, 2555, 2559, 2560, 2561, 2563, 2574, 2582, 2597, 2600, 2602, 2603, 2606, 2609, 2615, 2627, 2629, 2641, 2646, 2650, 2652, 2665, 2666, 2672, 2684, 2687, 2694, 2713, 2716, 2718, 2735, 2738, 2742, 2743, 2745, 2746, 2747, 2748, 2754, 2761, 2763, 2770, 2773, 2782, 2785, 2786, 2791, 2795, 2796, 2806, 2811, 2813, 2819, 2822, 2828, 2835, 2837, 2841, 2848, 2850, 2856, 2858, 2866, 2873, 2874, 2878, 2886, 2897, 2899, 2914, 2921, 2937, 2941, 2942, 2943, 2951, 2953, 2960, 2962, 2968, 2971, 2973, 2977, 2989, 3003, 3004, 3005, 3006, 3018, 3019, 3027, 3035, 3038, 3039, 3047, 3050, 3051, 3060, 3069, 3076, 3083, 3086, 3088, 3091, 3095, 3103, 3107, 3118, 3122, 3141, 3142, 3148, 3149, 3152, 3155, 3156, 3158, 3159, 3160, 3164, 3165, 3170, 3171, 3176, 3181, 3184, 3185, 3189, 3190, 3192, 3194, 3203, 3207, 3211, 3212, 3214, 3217, 3222, 3228, 3240, 3244, 3253, 3256, 3269, 3276, 3288, 3296, 3303, 3310, 3323, 3328, 3337, 3364, 3372, 3377, 3389, 3391, 3394, 3399, 3401, 3402, 3409, 3412, 3413, 3415, 3418, 3426, 3436, 3438, 3453, 3460, 3471, 3477, 3485, 3498, 3507, 3509, 3511, 3518, 3531, 3540, 3559, 3565, 3566, 3573, 3581, 3593, 3596, 3597, 3602, 3610, 3614, 3632, 3634, 3640, 3641, 3644, 3651, 3654, 3658, 3681, 3690, 3703, 3718, 3721, 3722, 3729, 3732, 3735, 3739, 3743, 3749, 3750, 3752, 3767, 3770, 3775, 3778, 3779, 3787, 3788, 3791, 3796, 3800, 3825, 3826, 3828, 3830, 3831, 3835, 3846, 3848, 3849, 3851, 3856, 3859, 3862, 3868, 3878, 3883, 3886, 3923, 3924, 3930, 3943, 3949, 3961, 3973, 3976, 3979, 3988, 3997, 4000, 4006, 4033, 4036, 4040, 4044, 4047, 4055, 4056, 4063, 4071, 4077, 4079, 4086, 4090, 4091, 4105, 4109, 4123, 4135, 4142, 4170, 4184, 4188, 4196, 4201, 4207, 4211, 4220, 4248, 4254, 4258, 4260, 4262, 4273, 4297, 4301, 4310, 4316, 4317, 4319, 4322, 4326, 4330, 4333, 4337, 4338, 4347, 4351, 4361, 4369, 4379, 4382, 4383, 4384, 4390, 4426, 4438, 4447, 4463, 4465, 4466, 4467, 4472, 4474, 4476, 4477, 4480, 4486, 4487, 4492, 4494, 4498, 4499, 4500, 4507, 4510, 4514, 4527, 4534, 4535, 4536, 4544, 4545, 4549, 4552, 4553, 4558, 4562, 4568, 4571, 4587, 4590, 4596, 4601, 4610, 4613, 4618, 4636, 4644, 4662, 4670, 4678, 4688, 4692, 4695, 4709, 4710, 4714, 4715, 4724, 4735, 4744, 4754, 4755, 4757, 4773, 4777, 4780, 4784, 4789, 4791, 4793, 4796, 4800, 4802, 4805, 4809, 4818, 4820, 4830, 4834, 4842]\n",
      "\n",
      "Hay 857 registros con más de 1 valor nulo -> 17.7 %\n"
     ]
    }
   ],
   "source": [
    "# Creo una lista para almacenar los índices de los registros que tienen 2 o más nulos\n",
    "registros_2Nulos = []\n",
    "\n",
    "for i in bmw4_2.index:\n",
    "    if (bmw4_2.loc[i, :].isnull().sum() >= 2):\n",
    "        registros_2Nulos.append(i)\n",
    "\n",
    "print(registros_2Nulos, end='\\n\\n')\n",
    "print(f\"Hay {len(registros_2Nulos)} registros con más de 1 valor nulo -> {round(len(registros_2Nulos) / bmw4_2.shape[0]  * 100,2)} %\")"
   ]
  },
  {
   "cell_type": "code",
   "execution_count": 106,
   "metadata": {},
   "outputs": [
    {
     "data": {
      "text/html": [
       "<div>\n",
       "<style scoped>\n",
       "    .dataframe tbody tr th:only-of-type {\n",
       "        vertical-align: middle;\n",
       "    }\n",
       "\n",
       "    .dataframe tbody tr th {\n",
       "        vertical-align: top;\n",
       "    }\n",
       "\n",
       "    .dataframe thead th {\n",
       "        text-align: right;\n",
       "    }\n",
       "</style>\n",
       "<table border=\"1\" class=\"dataframe\">\n",
       "  <thead>\n",
       "    <tr style=\"text-align: right;\">\n",
       "      <th></th>\n",
       "      <th>modelo</th>\n",
       "      <th>km</th>\n",
       "      <th>potencia</th>\n",
       "      <th>tipo_gasolina</th>\n",
       "      <th>color</th>\n",
       "      <th>tipo_coche</th>\n",
       "      <th>volante_regulable</th>\n",
       "      <th>aire_acondicionado</th>\n",
       "      <th>camara_trasera</th>\n",
       "      <th>elevalunas_electrico</th>\n",
       "      <th>bluetooth</th>\n",
       "      <th>gps</th>\n",
       "      <th>alerta_lim_velocidad</th>\n",
       "      <th>precio</th>\n",
       "      <th>fecha_venta</th>\n",
       "    </tr>\n",
       "  </thead>\n",
       "  <tbody>\n",
       "    <tr>\n",
       "      <th>0</th>\n",
       "      <td>118</td>\n",
       "      <td>140411.0</td>\n",
       "      <td>100.0</td>\n",
       "      <td>diesel</td>\n",
       "      <td>black</td>\n",
       "      <td>NaN</td>\n",
       "      <td>True</td>\n",
       "      <td>True</td>\n",
       "      <td>False</td>\n",
       "      <td>True</td>\n",
       "      <td>NaN</td>\n",
       "      <td>True</td>\n",
       "      <td>NaN</td>\n",
       "      <td>11300.0</td>\n",
       "      <td>2018-01-01</td>\n",
       "    </tr>\n",
       "    <tr>\n",
       "      <th>11</th>\n",
       "      <td>325</td>\n",
       "      <td>228000.0</td>\n",
       "      <td>145.0</td>\n",
       "      <td>diesel</td>\n",
       "      <td>black</td>\n",
       "      <td>NaN</td>\n",
       "      <td>True</td>\n",
       "      <td>True</td>\n",
       "      <td>False</td>\n",
       "      <td>True</td>\n",
       "      <td>False</td>\n",
       "      <td>True</td>\n",
       "      <td>NaN</td>\n",
       "      <td>13300.0</td>\n",
       "      <td>2018-03-01</td>\n",
       "    </tr>\n",
       "    <tr>\n",
       "      <th>12</th>\n",
       "      <td>420</td>\n",
       "      <td>132025.0</td>\n",
       "      <td>135.0</td>\n",
       "      <td>diesel</td>\n",
       "      <td>blue</td>\n",
       "      <td>NaN</td>\n",
       "      <td>True</td>\n",
       "      <td>NaN</td>\n",
       "      <td>False</td>\n",
       "      <td>True</td>\n",
       "      <td>True</td>\n",
       "      <td>True</td>\n",
       "      <td>NaN</td>\n",
       "      <td>21700.0</td>\n",
       "      <td>2018-03-01</td>\n",
       "    </tr>\n",
       "    <tr>\n",
       "      <th>18</th>\n",
       "      <td>325</td>\n",
       "      <td>205474.0</td>\n",
       "      <td>145.0</td>\n",
       "      <td>diesel</td>\n",
       "      <td>NaN</td>\n",
       "      <td>NaN</td>\n",
       "      <td>True</td>\n",
       "      <td>True</td>\n",
       "      <td>False</td>\n",
       "      <td>True</td>\n",
       "      <td>NaN</td>\n",
       "      <td>True</td>\n",
       "      <td>NaN</td>\n",
       "      <td>11000.0</td>\n",
       "      <td>2018-04-01</td>\n",
       "    </tr>\n",
       "    <tr>\n",
       "      <th>23</th>\n",
       "      <td>220</td>\n",
       "      <td>46963.0</td>\n",
       "      <td>140.0</td>\n",
       "      <td>diesel</td>\n",
       "      <td>orange</td>\n",
       "      <td>NaN</td>\n",
       "      <td>False</td>\n",
       "      <td>True</td>\n",
       "      <td>False</td>\n",
       "      <td>False</td>\n",
       "      <td>NaN</td>\n",
       "      <td>True</td>\n",
       "      <td>True</td>\n",
       "      <td>23300.0</td>\n",
       "      <td>2018-05-01</td>\n",
       "    </tr>\n",
       "    <tr>\n",
       "      <th>...</th>\n",
       "      <td>...</td>\n",
       "      <td>...</td>\n",
       "      <td>...</td>\n",
       "      <td>...</td>\n",
       "      <td>...</td>\n",
       "      <td>...</td>\n",
       "      <td>...</td>\n",
       "      <td>...</td>\n",
       "      <td>...</td>\n",
       "      <td>...</td>\n",
       "      <td>...</td>\n",
       "      <td>...</td>\n",
       "      <td>...</td>\n",
       "      <td>...</td>\n",
       "      <td>...</td>\n",
       "    </tr>\n",
       "    <tr>\n",
       "      <th>4818</th>\n",
       "      <td>X3</td>\n",
       "      <td>110039.0</td>\n",
       "      <td>130.0</td>\n",
       "      <td>diesel</td>\n",
       "      <td>NaN</td>\n",
       "      <td>NaN</td>\n",
       "      <td>False</td>\n",
       "      <td>NaN</td>\n",
       "      <td>False</td>\n",
       "      <td>False</td>\n",
       "      <td>False</td>\n",
       "      <td>True</td>\n",
       "      <td>False</td>\n",
       "      <td>1300.0</td>\n",
       "      <td>2018-05-01</td>\n",
       "    </tr>\n",
       "    <tr>\n",
       "      <th>4820</th>\n",
       "      <td>Active Tourer</td>\n",
       "      <td>48380.0</td>\n",
       "      <td>100.0</td>\n",
       "      <td>diesel</td>\n",
       "      <td>black</td>\n",
       "      <td>van</td>\n",
       "      <td>True</td>\n",
       "      <td>NaN</td>\n",
       "      <td>False</td>\n",
       "      <td>False</td>\n",
       "      <td>NaN</td>\n",
       "      <td>True</td>\n",
       "      <td>False</td>\n",
       "      <td>19000.0</td>\n",
       "      <td>2018-05-01</td>\n",
       "    </tr>\n",
       "    <tr>\n",
       "      <th>4830</th>\n",
       "      <td>216 Gran Tourer</td>\n",
       "      <td>48012.0</td>\n",
       "      <td>85.0</td>\n",
       "      <td>diesel</td>\n",
       "      <td>blue</td>\n",
       "      <td>NaN</td>\n",
       "      <td>True</td>\n",
       "      <td>True</td>\n",
       "      <td>False</td>\n",
       "      <td>False</td>\n",
       "      <td>True</td>\n",
       "      <td>True</td>\n",
       "      <td>NaN</td>\n",
       "      <td>15600.0</td>\n",
       "      <td>2018-06-01</td>\n",
       "    </tr>\n",
       "    <tr>\n",
       "      <th>4834</th>\n",
       "      <td>218 Gran Tourer</td>\n",
       "      <td>47782.0</td>\n",
       "      <td>110.0</td>\n",
       "      <td>diesel</td>\n",
       "      <td>blue</td>\n",
       "      <td>NaN</td>\n",
       "      <td>False</td>\n",
       "      <td>NaN</td>\n",
       "      <td>False</td>\n",
       "      <td>False</td>\n",
       "      <td>False</td>\n",
       "      <td>True</td>\n",
       "      <td>True</td>\n",
       "      <td>14900.0</td>\n",
       "      <td>2018-07-01</td>\n",
       "    </tr>\n",
       "    <tr>\n",
       "      <th>4842</th>\n",
       "      <td>525</td>\n",
       "      <td>195840.0</td>\n",
       "      <td>160.0</td>\n",
       "      <td>diesel</td>\n",
       "      <td>grey</td>\n",
       "      <td>NaN</td>\n",
       "      <td>True</td>\n",
       "      <td>NaN</td>\n",
       "      <td>False</td>\n",
       "      <td>True</td>\n",
       "      <td>False</td>\n",
       "      <td>True</td>\n",
       "      <td>True</td>\n",
       "      <td>15500.0</td>\n",
       "      <td>2018-09-01</td>\n",
       "    </tr>\n",
       "  </tbody>\n",
       "</table>\n",
       "<p>857 rows × 15 columns</p>\n",
       "</div>"
      ],
      "text/plain": [
       "               modelo        km  potencia tipo_gasolina   color tipo_coche  \\\n",
       "0                 118  140411.0     100.0        diesel   black        NaN   \n",
       "11                325  228000.0     145.0        diesel   black        NaN   \n",
       "12                420  132025.0     135.0        diesel    blue        NaN   \n",
       "18                325  205474.0     145.0        diesel     NaN        NaN   \n",
       "23                220   46963.0     140.0        diesel  orange        NaN   \n",
       "...               ...       ...       ...           ...     ...        ...   \n",
       "4818               X3  110039.0     130.0        diesel     NaN        NaN   \n",
       "4820    Active Tourer   48380.0     100.0        diesel   black        van   \n",
       "4830  216 Gran Tourer   48012.0      85.0        diesel    blue        NaN   \n",
       "4834  218 Gran Tourer   47782.0     110.0        diesel    blue        NaN   \n",
       "4842              525  195840.0     160.0        diesel    grey        NaN   \n",
       "\n",
       "     volante_regulable aire_acondicionado camara_trasera elevalunas_electrico  \\\n",
       "0                 True               True          False                 True   \n",
       "11                True               True          False                 True   \n",
       "12                True                NaN          False                 True   \n",
       "18                True               True          False                 True   \n",
       "23               False               True          False                False   \n",
       "...                ...                ...            ...                  ...   \n",
       "4818             False                NaN          False                False   \n",
       "4820              True                NaN          False                False   \n",
       "4830              True               True          False                False   \n",
       "4834             False                NaN          False                False   \n",
       "4842              True                NaN          False                 True   \n",
       "\n",
       "     bluetooth   gps alerta_lim_velocidad   precio fecha_venta  \n",
       "0          NaN  True                  NaN  11300.0  2018-01-01  \n",
       "11       False  True                  NaN  13300.0  2018-03-01  \n",
       "12        True  True                  NaN  21700.0  2018-03-01  \n",
       "18         NaN  True                  NaN  11000.0  2018-04-01  \n",
       "23         NaN  True                 True  23300.0  2018-05-01  \n",
       "...        ...   ...                  ...      ...         ...  \n",
       "4818     False  True                False   1300.0  2018-05-01  \n",
       "4820       NaN  True                False  19000.0  2018-05-01  \n",
       "4830      True  True                  NaN  15600.0  2018-06-01  \n",
       "4834     False  True                 True  14900.0  2018-07-01  \n",
       "4842     False  True                 True  15500.0  2018-09-01  \n",
       "\n",
       "[857 rows x 15 columns]"
      ]
     },
     "execution_count": 106,
     "metadata": {},
     "output_type": "execute_result"
    }
   ],
   "source": [
    "bmw4_2.loc[registros_2Nulos, :]"
   ]
  },
  {
   "cell_type": "markdown",
   "metadata": {},
   "source": [
    "Hay demasiados registros, no podemos eliminarlos todos. Voy a filtrar por las columnas más representativas (a mi criterio)"
   ]
  },
  {
   "cell_type": "code",
   "execution_count": 107,
   "metadata": {},
   "outputs": [],
   "source": [
    "col_significativas = ['modelo', 'km', 'potencia', 'precio', 'fecha_venta']"
   ]
  },
  {
   "cell_type": "code",
   "execution_count": 108,
   "metadata": {},
   "outputs": [
    {
     "name": "stdout",
     "output_type": "stream",
     "text": [
      "[]\n",
      "Hay 0 registros con más de 1 valor significativo nulo\n"
     ]
    }
   ],
   "source": [
    "registros_2Nulos_Significativos = []\n",
    "\n",
    "for i in bmw4_2.index:\n",
    "    if (bmw4_2.loc[i, col_significativas].isnull().sum() >= 2):\n",
    "        registros_2Nulos.append(i)\n",
    "\n",
    "print(registros_2Nulos_Significativos)\n",
    "print(f\"Hay {len(registros_2Nulos_Significativos)} registros con más de 1 valor significativo nulo\")"
   ]
  },
  {
   "cell_type": "markdown",
   "metadata": {},
   "source": [
    "Como no existen registros con más de una columna significativa nula, voy a ver que numero de registros tienen 3, 4 y 5 valores nulos. \n",
    "\n",
    "Si el porcentaje respecto al total de df es pequeño, elimino estos registros"
   ]
  },
  {
   "cell_type": "code",
   "execution_count": 109,
   "metadata": {},
   "outputs": [
    {
     "name": "stdout",
     "output_type": "stream",
     "text": [
      "{3: [0, 12, 18, 26, 49, 134, 173, 182, 217, 230, 273, 291, 409, 412, 442, 450, 485, 505, 513, 614, 691, 692, 693, 697, 711, 824, 849, 852, 880, 895, 914, 955, 973, 974, 981, 1013, 1043, 1051, 1067, 1131, 1141, 1186, 1195, 1229, 1258, 1452, 1491, 1515, 1544, 1546, 1587, 1605, 1660, 1689, 1690, 1730, 1742, 1759, 1895, 1911, 1914, 1998, 2001, 2027, 2048, 2059, 2165, 2206, 2254, 2395, 2437, 2473, 2514, 2537, 2545, 2609, 2627, 2629, 2641, 2650, 2713, 2742, 2791, 2796, 2811, 2856, 2899, 2921, 2968, 3018, 3027, 3035, 3156, 3165, 3176, 3228, 3240, 3389, 3394, 3399, 3401, 3412, 3498, 3573, 3593, 3722, 3732, 3735, 3749, 3787, 3878, 3973, 3976, 4000, 4040, 4055, 4056, 4188, 4260, 4316, 4379, 4463, 4466, 4474, 4476, 4510, 4534, 4549, 4618, 4715, 4757, 4784, 4793, 4805, 4818], 4: [18, 173, 697, 711, 1043, 1742, 2027, 2165, 2791, 2968, 4379], 5: []}\n",
      "\n",
      "Hay 135 registros con 3 valores nulos \t->\t2.8\t%\n",
      "Hay 11 registros con 4 valores nulos \t->\t0.2\t%\n",
      "Hay 0 registros con 5 valores nulos \t->\t0.0\t%\n"
     ]
    }
   ],
   "source": [
    "# Creo una lista para almacenar los índices de los registros que tienen 2 o más nulos\n",
    "registros_MasNulos = {\n",
    "    3 : [],\n",
    "    4 : [],\n",
    "    5 : []\n",
    "}\n",
    "\n",
    "for nulos in range(3, 6):\n",
    "    for i in bmw4_2.index:\n",
    "        if (bmw4_2.loc[i, :].isnull().sum() >= nulos):\n",
    "            registros_MasNulos[nulos].append(i)\n",
    "\n",
    "print(registros_MasNulos, end='\\n\\n')\n",
    "for key, value in registros_MasNulos.items():\n",
    "    print(f\"Hay {len(value)} registros con {key} valores nulos \\t->\\t{round((len(value) / bmw4_2.shape[0]) * 100, 1)}\\t%\")"
   ]
  },
  {
   "cell_type": "markdown",
   "metadata": {},
   "source": [
    "Voy a evaluar la eliminación de los registros con 3 nulos"
   ]
  },
  {
   "cell_type": "code",
   "execution_count": 110,
   "metadata": {},
   "outputs": [
    {
     "data": {
      "text/html": [
       "<div>\n",
       "<style scoped>\n",
       "    .dataframe tbody tr th:only-of-type {\n",
       "        vertical-align: middle;\n",
       "    }\n",
       "\n",
       "    .dataframe tbody tr th {\n",
       "        vertical-align: top;\n",
       "    }\n",
       "\n",
       "    .dataframe thead th {\n",
       "        text-align: right;\n",
       "    }\n",
       "</style>\n",
       "<table border=\"1\" class=\"dataframe\">\n",
       "  <thead>\n",
       "    <tr style=\"text-align: right;\">\n",
       "      <th></th>\n",
       "      <th>modelo</th>\n",
       "      <th>km</th>\n",
       "      <th>potencia</th>\n",
       "      <th>tipo_gasolina</th>\n",
       "      <th>color</th>\n",
       "      <th>tipo_coche</th>\n",
       "      <th>volante_regulable</th>\n",
       "      <th>aire_acondicionado</th>\n",
       "      <th>camara_trasera</th>\n",
       "      <th>elevalunas_electrico</th>\n",
       "      <th>bluetooth</th>\n",
       "      <th>gps</th>\n",
       "      <th>alerta_lim_velocidad</th>\n",
       "      <th>precio</th>\n",
       "      <th>fecha_venta</th>\n",
       "    </tr>\n",
       "  </thead>\n",
       "  <tbody>\n",
       "    <tr>\n",
       "      <th>0</th>\n",
       "      <td>118</td>\n",
       "      <td>140411.0</td>\n",
       "      <td>100.0</td>\n",
       "      <td>diesel</td>\n",
       "      <td>black</td>\n",
       "      <td>NaN</td>\n",
       "      <td>True</td>\n",
       "      <td>True</td>\n",
       "      <td>False</td>\n",
       "      <td>True</td>\n",
       "      <td>NaN</td>\n",
       "      <td>True</td>\n",
       "      <td>NaN</td>\n",
       "      <td>11300.0</td>\n",
       "      <td>2018-01-01</td>\n",
       "    </tr>\n",
       "    <tr>\n",
       "      <th>12</th>\n",
       "      <td>420</td>\n",
       "      <td>132025.0</td>\n",
       "      <td>135.0</td>\n",
       "      <td>diesel</td>\n",
       "      <td>blue</td>\n",
       "      <td>NaN</td>\n",
       "      <td>True</td>\n",
       "      <td>NaN</td>\n",
       "      <td>False</td>\n",
       "      <td>True</td>\n",
       "      <td>True</td>\n",
       "      <td>True</td>\n",
       "      <td>NaN</td>\n",
       "      <td>21700.0</td>\n",
       "      <td>2018-03-01</td>\n",
       "    </tr>\n",
       "    <tr>\n",
       "      <th>18</th>\n",
       "      <td>325</td>\n",
       "      <td>205474.0</td>\n",
       "      <td>145.0</td>\n",
       "      <td>diesel</td>\n",
       "      <td>NaN</td>\n",
       "      <td>NaN</td>\n",
       "      <td>True</td>\n",
       "      <td>True</td>\n",
       "      <td>False</td>\n",
       "      <td>True</td>\n",
       "      <td>NaN</td>\n",
       "      <td>True</td>\n",
       "      <td>NaN</td>\n",
       "      <td>11000.0</td>\n",
       "      <td>2018-04-01</td>\n",
       "    </tr>\n",
       "    <tr>\n",
       "      <th>26</th>\n",
       "      <td>430</td>\n",
       "      <td>113678.0</td>\n",
       "      <td>190.0</td>\n",
       "      <td>diesel</td>\n",
       "      <td>black</td>\n",
       "      <td>NaN</td>\n",
       "      <td>True</td>\n",
       "      <td>True</td>\n",
       "      <td>False</td>\n",
       "      <td>True</td>\n",
       "      <td>NaN</td>\n",
       "      <td>True</td>\n",
       "      <td>NaN</td>\n",
       "      <td>30100.0</td>\n",
       "      <td>2018-05-01</td>\n",
       "    </tr>\n",
       "    <tr>\n",
       "      <th>49</th>\n",
       "      <td>118</td>\n",
       "      <td>147180.0</td>\n",
       "      <td>100.0</td>\n",
       "      <td>diesel</td>\n",
       "      <td>NaN</td>\n",
       "      <td>coupe</td>\n",
       "      <td>True</td>\n",
       "      <td>NaN</td>\n",
       "      <td>True</td>\n",
       "      <td>False</td>\n",
       "      <td>False</td>\n",
       "      <td>True</td>\n",
       "      <td>NaN</td>\n",
       "      <td>8400.0</td>\n",
       "      <td>2018-07-01</td>\n",
       "    </tr>\n",
       "    <tr>\n",
       "      <th>...</th>\n",
       "      <td>...</td>\n",
       "      <td>...</td>\n",
       "      <td>...</td>\n",
       "      <td>...</td>\n",
       "      <td>...</td>\n",
       "      <td>...</td>\n",
       "      <td>...</td>\n",
       "      <td>...</td>\n",
       "      <td>...</td>\n",
       "      <td>...</td>\n",
       "      <td>...</td>\n",
       "      <td>...</td>\n",
       "      <td>...</td>\n",
       "      <td>...</td>\n",
       "      <td>...</td>\n",
       "    </tr>\n",
       "    <tr>\n",
       "      <th>4757</th>\n",
       "      <td>X4</td>\n",
       "      <td>61989.0</td>\n",
       "      <td>140.0</td>\n",
       "      <td>diesel</td>\n",
       "      <td>NaN</td>\n",
       "      <td>NaN</td>\n",
       "      <td>False</td>\n",
       "      <td>False</td>\n",
       "      <td>False</td>\n",
       "      <td>False</td>\n",
       "      <td>NaN</td>\n",
       "      <td>False</td>\n",
       "      <td>True</td>\n",
       "      <td>28600.0</td>\n",
       "      <td>2018-09-01</td>\n",
       "    </tr>\n",
       "    <tr>\n",
       "      <th>4784</th>\n",
       "      <td>X1</td>\n",
       "      <td>120600.0</td>\n",
       "      <td>85.0</td>\n",
       "      <td>diesel</td>\n",
       "      <td>black</td>\n",
       "      <td>NaN</td>\n",
       "      <td>False</td>\n",
       "      <td>NaN</td>\n",
       "      <td>True</td>\n",
       "      <td>False</td>\n",
       "      <td>False</td>\n",
       "      <td>False</td>\n",
       "      <td>NaN</td>\n",
       "      <td>11100.0</td>\n",
       "      <td>2018-09-01</td>\n",
       "    </tr>\n",
       "    <tr>\n",
       "      <th>4793</th>\n",
       "      <td>X5 M</td>\n",
       "      <td>125197.0</td>\n",
       "      <td>230.0</td>\n",
       "      <td>diesel</td>\n",
       "      <td>blue</td>\n",
       "      <td>NaN</td>\n",
       "      <td>True</td>\n",
       "      <td>NaN</td>\n",
       "      <td>True</td>\n",
       "      <td>True</td>\n",
       "      <td>True</td>\n",
       "      <td>True</td>\n",
       "      <td>NaN</td>\n",
       "      <td>42700.0</td>\n",
       "      <td>2018-09-01</td>\n",
       "    </tr>\n",
       "    <tr>\n",
       "      <th>4805</th>\n",
       "      <td>218 Active Tourer</td>\n",
       "      <td>35382.0</td>\n",
       "      <td>110.0</td>\n",
       "      <td>diesel</td>\n",
       "      <td>NaN</td>\n",
       "      <td>van</td>\n",
       "      <td>False</td>\n",
       "      <td>NaN</td>\n",
       "      <td>False</td>\n",
       "      <td>False</td>\n",
       "      <td>NaN</td>\n",
       "      <td>True</td>\n",
       "      <td>True</td>\n",
       "      <td>13100.0</td>\n",
       "      <td>2018-02-01</td>\n",
       "    </tr>\n",
       "    <tr>\n",
       "      <th>4818</th>\n",
       "      <td>X3</td>\n",
       "      <td>110039.0</td>\n",
       "      <td>130.0</td>\n",
       "      <td>diesel</td>\n",
       "      <td>NaN</td>\n",
       "      <td>NaN</td>\n",
       "      <td>False</td>\n",
       "      <td>NaN</td>\n",
       "      <td>False</td>\n",
       "      <td>False</td>\n",
       "      <td>False</td>\n",
       "      <td>True</td>\n",
       "      <td>False</td>\n",
       "      <td>1300.0</td>\n",
       "      <td>2018-05-01</td>\n",
       "    </tr>\n",
       "  </tbody>\n",
       "</table>\n",
       "<p>135 rows × 15 columns</p>\n",
       "</div>"
      ],
      "text/plain": [
       "                 modelo        km  potencia tipo_gasolina  color tipo_coche  \\\n",
       "0                   118  140411.0     100.0        diesel  black        NaN   \n",
       "12                  420  132025.0     135.0        diesel   blue        NaN   \n",
       "18                  325  205474.0     145.0        diesel    NaN        NaN   \n",
       "26                  430  113678.0     190.0        diesel  black        NaN   \n",
       "49                  118  147180.0     100.0        diesel    NaN      coupe   \n",
       "...                 ...       ...       ...           ...    ...        ...   \n",
       "4757                 X4   61989.0     140.0        diesel    NaN        NaN   \n",
       "4784                 X1  120600.0      85.0        diesel  black        NaN   \n",
       "4793               X5 M  125197.0     230.0        diesel   blue        NaN   \n",
       "4805  218 Active Tourer   35382.0     110.0        diesel    NaN        van   \n",
       "4818                 X3  110039.0     130.0        diesel    NaN        NaN   \n",
       "\n",
       "     volante_regulable aire_acondicionado camara_trasera elevalunas_electrico  \\\n",
       "0                 True               True          False                 True   \n",
       "12                True                NaN          False                 True   \n",
       "18                True               True          False                 True   \n",
       "26                True               True          False                 True   \n",
       "49                True                NaN           True                False   \n",
       "...                ...                ...            ...                  ...   \n",
       "4757             False              False          False                False   \n",
       "4784             False                NaN           True                False   \n",
       "4793              True                NaN           True                 True   \n",
       "4805             False                NaN          False                False   \n",
       "4818             False                NaN          False                False   \n",
       "\n",
       "     bluetooth    gps alerta_lim_velocidad   precio fecha_venta  \n",
       "0          NaN   True                  NaN  11300.0  2018-01-01  \n",
       "12        True   True                  NaN  21700.0  2018-03-01  \n",
       "18         NaN   True                  NaN  11000.0  2018-04-01  \n",
       "26         NaN   True                  NaN  30100.0  2018-05-01  \n",
       "49       False   True                  NaN   8400.0  2018-07-01  \n",
       "...        ...    ...                  ...      ...         ...  \n",
       "4757       NaN  False                 True  28600.0  2018-09-01  \n",
       "4784     False  False                  NaN  11100.0  2018-09-01  \n",
       "4793      True   True                  NaN  42700.0  2018-09-01  \n",
       "4805       NaN   True                 True  13100.0  2018-02-01  \n",
       "4818     False   True                False   1300.0  2018-05-01  \n",
       "\n",
       "[135 rows x 15 columns]"
      ]
     },
     "execution_count": 110,
     "metadata": {},
     "output_type": "execute_result"
    }
   ],
   "source": [
    "bmw4_2.loc[registros_MasNulos[3], :]"
   ]
  },
  {
   "cell_type": "markdown",
   "metadata": {},
   "source": [
    "Se observa que los valores nulos no se corresponden con las columnas más significativas\n",
    "\n",
    "Eliminar estos registros me parece perder información. Por lo tanto, no los elimino.\n",
    "\n",
    "Evaluo los registros con 4 o más valores nulos"
   ]
  },
  {
   "cell_type": "code",
   "execution_count": 111,
   "metadata": {},
   "outputs": [
    {
     "data": {
      "text/html": [
       "<div>\n",
       "<style scoped>\n",
       "    .dataframe tbody tr th:only-of-type {\n",
       "        vertical-align: middle;\n",
       "    }\n",
       "\n",
       "    .dataframe tbody tr th {\n",
       "        vertical-align: top;\n",
       "    }\n",
       "\n",
       "    .dataframe thead th {\n",
       "        text-align: right;\n",
       "    }\n",
       "</style>\n",
       "<table border=\"1\" class=\"dataframe\">\n",
       "  <thead>\n",
       "    <tr style=\"text-align: right;\">\n",
       "      <th></th>\n",
       "      <th>modelo</th>\n",
       "      <th>km</th>\n",
       "      <th>potencia</th>\n",
       "      <th>tipo_gasolina</th>\n",
       "      <th>color</th>\n",
       "      <th>tipo_coche</th>\n",
       "      <th>volante_regulable</th>\n",
       "      <th>aire_acondicionado</th>\n",
       "      <th>camara_trasera</th>\n",
       "      <th>elevalunas_electrico</th>\n",
       "      <th>bluetooth</th>\n",
       "      <th>gps</th>\n",
       "      <th>alerta_lim_velocidad</th>\n",
       "      <th>precio</th>\n",
       "      <th>fecha_venta</th>\n",
       "    </tr>\n",
       "  </thead>\n",
       "  <tbody>\n",
       "    <tr>\n",
       "      <th>18</th>\n",
       "      <td>325</td>\n",
       "      <td>205474.0</td>\n",
       "      <td>145.0</td>\n",
       "      <td>diesel</td>\n",
       "      <td>NaN</td>\n",
       "      <td>NaN</td>\n",
       "      <td>True</td>\n",
       "      <td>True</td>\n",
       "      <td>False</td>\n",
       "      <td>True</td>\n",
       "      <td>NaN</td>\n",
       "      <td>True</td>\n",
       "      <td>NaN</td>\n",
       "      <td>11000.0</td>\n",
       "      <td>2018-04-01</td>\n",
       "    </tr>\n",
       "    <tr>\n",
       "      <th>173</th>\n",
       "      <td>NaN</td>\n",
       "      <td>146338.0</td>\n",
       "      <td>105.0</td>\n",
       "      <td>diesel</td>\n",
       "      <td>black</td>\n",
       "      <td>NaN</td>\n",
       "      <td>False</td>\n",
       "      <td>True</td>\n",
       "      <td>False</td>\n",
       "      <td>False</td>\n",
       "      <td>NaN</td>\n",
       "      <td>True</td>\n",
       "      <td>NaN</td>\n",
       "      <td>13300.0</td>\n",
       "      <td>2018-08-01</td>\n",
       "    </tr>\n",
       "    <tr>\n",
       "      <th>697</th>\n",
       "      <td>318</td>\n",
       "      <td>146248.0</td>\n",
       "      <td>100.0</td>\n",
       "      <td>diesel</td>\n",
       "      <td>NaN</td>\n",
       "      <td>NaN</td>\n",
       "      <td>True</td>\n",
       "      <td>True</td>\n",
       "      <td>True</td>\n",
       "      <td>False</td>\n",
       "      <td>NaN</td>\n",
       "      <td>True</td>\n",
       "      <td>NaN</td>\n",
       "      <td>11300.0</td>\n",
       "      <td>2018-03-01</td>\n",
       "    </tr>\n",
       "    <tr>\n",
       "      <th>711</th>\n",
       "      <td>530</td>\n",
       "      <td>223328.0</td>\n",
       "      <td>190.0</td>\n",
       "      <td>diesel</td>\n",
       "      <td>black</td>\n",
       "      <td>NaN</td>\n",
       "      <td>True</td>\n",
       "      <td>NaN</td>\n",
       "      <td>True</td>\n",
       "      <td>False</td>\n",
       "      <td>NaN</td>\n",
       "      <td>True</td>\n",
       "      <td>NaN</td>\n",
       "      <td>15800.0</td>\n",
       "      <td>2018-03-01</td>\n",
       "    </tr>\n",
       "    <tr>\n",
       "      <th>1043</th>\n",
       "      <td>520</td>\n",
       "      <td>172414.0</td>\n",
       "      <td>120.0</td>\n",
       "      <td>diesel</td>\n",
       "      <td>NaN</td>\n",
       "      <td>NaN</td>\n",
       "      <td>True</td>\n",
       "      <td>True</td>\n",
       "      <td>False</td>\n",
       "      <td>False</td>\n",
       "      <td>NaN</td>\n",
       "      <td>True</td>\n",
       "      <td>NaN</td>\n",
       "      <td>15400.0</td>\n",
       "      <td>2018-05-01</td>\n",
       "    </tr>\n",
       "    <tr>\n",
       "      <th>1742</th>\n",
       "      <td>318</td>\n",
       "      <td>78430.0</td>\n",
       "      <td>100.0</td>\n",
       "      <td>diesel</td>\n",
       "      <td>NaN</td>\n",
       "      <td>NaN</td>\n",
       "      <td>True</td>\n",
       "      <td>NaN</td>\n",
       "      <td>False</td>\n",
       "      <td>False</td>\n",
       "      <td>NaN</td>\n",
       "      <td>True</td>\n",
       "      <td>False</td>\n",
       "      <td>15500.0</td>\n",
       "      <td>2018-09-01</td>\n",
       "    </tr>\n",
       "    <tr>\n",
       "      <th>2027</th>\n",
       "      <td>116</td>\n",
       "      <td>186903.0</td>\n",
       "      <td>85.0</td>\n",
       "      <td>diesel</td>\n",
       "      <td>NaN</td>\n",
       "      <td>NaN</td>\n",
       "      <td>False</td>\n",
       "      <td>NaN</td>\n",
       "      <td>False</td>\n",
       "      <td>False</td>\n",
       "      <td>NaN</td>\n",
       "      <td>True</td>\n",
       "      <td>False</td>\n",
       "      <td>10200.0</td>\n",
       "      <td>2018-08-01</td>\n",
       "    </tr>\n",
       "    <tr>\n",
       "      <th>2165</th>\n",
       "      <td>435 Gran Coupé</td>\n",
       "      <td>64985.0</td>\n",
       "      <td>230.0</td>\n",
       "      <td>diesel</td>\n",
       "      <td>NaN</td>\n",
       "      <td>NaN</td>\n",
       "      <td>True</td>\n",
       "      <td>True</td>\n",
       "      <td>True</td>\n",
       "      <td>False</td>\n",
       "      <td>NaN</td>\n",
       "      <td>True</td>\n",
       "      <td>NaN</td>\n",
       "      <td>34500.0</td>\n",
       "      <td>2018-05-01</td>\n",
       "    </tr>\n",
       "    <tr>\n",
       "      <th>2791</th>\n",
       "      <td>118</td>\n",
       "      <td>105764.0</td>\n",
       "      <td>105.0</td>\n",
       "      <td>diesel</td>\n",
       "      <td>NaN</td>\n",
       "      <td>NaN</td>\n",
       "      <td>False</td>\n",
       "      <td>False</td>\n",
       "      <td>False</td>\n",
       "      <td>False</td>\n",
       "      <td>NaN</td>\n",
       "      <td>True</td>\n",
       "      <td>NaN</td>\n",
       "      <td>10800.0</td>\n",
       "      <td>2018-03-01</td>\n",
       "    </tr>\n",
       "    <tr>\n",
       "      <th>2968</th>\n",
       "      <td>535</td>\n",
       "      <td>153039.0</td>\n",
       "      <td>230.0</td>\n",
       "      <td>diesel</td>\n",
       "      <td>NaN</td>\n",
       "      <td>NaN</td>\n",
       "      <td>True</td>\n",
       "      <td>NaN</td>\n",
       "      <td>False</td>\n",
       "      <td>True</td>\n",
       "      <td>False</td>\n",
       "      <td>True</td>\n",
       "      <td>NaN</td>\n",
       "      <td>23000.0</td>\n",
       "      <td>2018-04-01</td>\n",
       "    </tr>\n",
       "    <tr>\n",
       "      <th>4379</th>\n",
       "      <td>X3</td>\n",
       "      <td>12541.0</td>\n",
       "      <td>120.0</td>\n",
       "      <td>diesel</td>\n",
       "      <td>NaN</td>\n",
       "      <td>NaN</td>\n",
       "      <td>True</td>\n",
       "      <td>True</td>\n",
       "      <td>True</td>\n",
       "      <td>False</td>\n",
       "      <td>NaN</td>\n",
       "      <td>True</td>\n",
       "      <td>NaN</td>\n",
       "      <td>18600.0</td>\n",
       "      <td>2018-06-01</td>\n",
       "    </tr>\n",
       "  </tbody>\n",
       "</table>\n",
       "</div>"
      ],
      "text/plain": [
       "              modelo        km  potencia tipo_gasolina  color tipo_coche  \\\n",
       "18               325  205474.0     145.0        diesel    NaN        NaN   \n",
       "173              NaN  146338.0     105.0        diesel  black        NaN   \n",
       "697              318  146248.0     100.0        diesel    NaN        NaN   \n",
       "711              530  223328.0     190.0        diesel  black        NaN   \n",
       "1043             520  172414.0     120.0        diesel    NaN        NaN   \n",
       "1742             318   78430.0     100.0        diesel    NaN        NaN   \n",
       "2027             116  186903.0      85.0        diesel    NaN        NaN   \n",
       "2165  435 Gran Coupé   64985.0     230.0        diesel    NaN        NaN   \n",
       "2791             118  105764.0     105.0        diesel    NaN        NaN   \n",
       "2968             535  153039.0     230.0        diesel    NaN        NaN   \n",
       "4379              X3   12541.0     120.0        diesel    NaN        NaN   \n",
       "\n",
       "     volante_regulable aire_acondicionado camara_trasera elevalunas_electrico  \\\n",
       "18                True               True          False                 True   \n",
       "173              False               True          False                False   \n",
       "697               True               True           True                False   \n",
       "711               True                NaN           True                False   \n",
       "1043              True               True          False                False   \n",
       "1742              True                NaN          False                False   \n",
       "2027             False                NaN          False                False   \n",
       "2165              True               True           True                False   \n",
       "2791             False              False          False                False   \n",
       "2968              True                NaN          False                 True   \n",
       "4379              True               True           True                False   \n",
       "\n",
       "     bluetooth   gps alerta_lim_velocidad   precio fecha_venta  \n",
       "18         NaN  True                  NaN  11000.0  2018-04-01  \n",
       "173        NaN  True                  NaN  13300.0  2018-08-01  \n",
       "697        NaN  True                  NaN  11300.0  2018-03-01  \n",
       "711        NaN  True                  NaN  15800.0  2018-03-01  \n",
       "1043       NaN  True                  NaN  15400.0  2018-05-01  \n",
       "1742       NaN  True                False  15500.0  2018-09-01  \n",
       "2027       NaN  True                False  10200.0  2018-08-01  \n",
       "2165       NaN  True                  NaN  34500.0  2018-05-01  \n",
       "2791       NaN  True                  NaN  10800.0  2018-03-01  \n",
       "2968     False  True                  NaN  23000.0  2018-04-01  \n",
       "4379       NaN  True                  NaN  18600.0  2018-06-01  "
      ]
     },
     "execution_count": 111,
     "metadata": {},
     "output_type": "execute_result"
    }
   ],
   "source": [
    "bmw4_2.loc[registros_MasNulos[4], :]"
   ]
  },
  {
   "cell_type": "markdown",
   "metadata": {},
   "source": [
    "Como son pocos registros, los elimino."
   ]
  },
  {
   "cell_type": "code",
   "execution_count": 113,
   "metadata": {},
   "outputs": [],
   "source": [
    "bmw4_2.drop(registros_MasNulos[4], inplace=True)"
   ]
  },
  {
   "cell_type": "code",
   "execution_count": 114,
   "metadata": {},
   "outputs": [
    {
     "data": {
      "text/plain": [
       "modelo                     2\n",
       "km                         2\n",
       "potencia                   1\n",
       "tipo_gasolina              5\n",
       "color                    436\n",
       "tipo_coche              1449\n",
       "volante_regulable          4\n",
       "aire_acondicionado       482\n",
       "camara_trasera             2\n",
       "elevalunas_electrico       2\n",
       "bluetooth                718\n",
       "gps                        0\n",
       "alerta_lim_velocidad     719\n",
       "precio                     6\n",
       "fecha_venta                1\n",
       "dtype: int64"
      ]
     },
     "execution_count": 114,
     "metadata": {},
     "output_type": "execute_result"
    }
   ],
   "source": [
    "bmw4_2.isnull().sum()"
   ]
  },
  {
   "cell_type": "markdown",
   "metadata": {},
   "source": [
    "### 4.3 Columnas con nulos"
   ]
  },
  {
   "cell_type": "code",
   "execution_count": 116,
   "metadata": {},
   "outputs": [],
   "source": [
    "bmw4_3 = bmw4_2.copy()"
   ]
  },
  {
   "cell_type": "code",
   "execution_count": 118,
   "metadata": {},
   "outputs": [
    {
     "data": {
      "text/plain": [
       "['modelo',\n",
       " 'km',\n",
       " 'potencia',\n",
       " 'tipo_gasolina',\n",
       " 'color',\n",
       " 'tipo_coche',\n",
       " 'volante_regulable',\n",
       " 'aire_acondicionado',\n",
       " 'camara_trasera',\n",
       " 'elevalunas_electrico',\n",
       " 'bluetooth',\n",
       " 'alerta_lim_velocidad',\n",
       " 'precio',\n",
       " 'fecha_venta']"
      ]
     },
     "execution_count": 118,
     "metadata": {},
     "output_type": "execute_result"
    }
   ],
   "source": [
    "columnas_Nulos = []\n",
    "\n",
    "for col in bmw4_3.columns:\n",
    "    if (bmw4_3[col].isnull().any()):\n",
    "        columnas_Nulos.append(col)\n",
    "\n",
    "columnas_Nulos"
   ]
  },
  {
   "cell_type": "markdown",
   "metadata": {},
   "source": [
    "Hay que vaciar esta lista"
   ]
  },
  {
   "cell_type": "code",
   "execution_count": 119,
   "metadata": {},
   "outputs": [
    {
     "name": "stdout",
     "output_type": "stream",
     "text": [
      "<class 'pandas.core.frame.DataFrame'>\n",
      "Index: 4832 entries, 0 to 4842\n",
      "Data columns (total 15 columns):\n",
      " #   Column                Non-Null Count  Dtype  \n",
      "---  ------                --------------  -----  \n",
      " 0   modelo                4830 non-null   object \n",
      " 1   km                    4830 non-null   float64\n",
      " 2   potencia              4831 non-null   float64\n",
      " 3   tipo_gasolina         4827 non-null   object \n",
      " 4   color                 4396 non-null   object \n",
      " 5   tipo_coche            3383 non-null   object \n",
      " 6   volante_regulable     4828 non-null   object \n",
      " 7   aire_acondicionado    4350 non-null   object \n",
      " 8   camara_trasera        4830 non-null   object \n",
      " 9   elevalunas_electrico  4830 non-null   object \n",
      " 10  bluetooth             4114 non-null   object \n",
      " 11  gps                   4832 non-null   bool   \n",
      " 12  alerta_lim_velocidad  4113 non-null   object \n",
      " 13  precio                4826 non-null   float64\n",
      " 14  fecha_venta           4831 non-null   object \n",
      "dtypes: bool(1), float64(3), object(11)\n",
      "memory usage: 571.0+ KB\n"
     ]
    }
   ],
   "source": [
    "bmw4_3.info()"
   ]
  },
  {
   "cell_type": "markdown",
   "metadata": {},
   "source": [
    "### 4.3.1 modelo"
   ]
  },
  {
   "cell_type": "code",
   "execution_count": null,
   "metadata": {},
   "outputs": [],
   "source": []
  },
  {
   "cell_type": "markdown",
   "metadata": {},
   "source": [
    "### 4.3.2 km"
   ]
  },
  {
   "cell_type": "code",
   "execution_count": null,
   "metadata": {},
   "outputs": [],
   "source": []
  },
  {
   "cell_type": "markdown",
   "metadata": {},
   "source": [
    "### 4.3.3 potencia"
   ]
  },
  {
   "cell_type": "code",
   "execution_count": null,
   "metadata": {},
   "outputs": [],
   "source": []
  },
  {
   "cell_type": "markdown",
   "metadata": {},
   "source": [
    "### 4.3.4 tipo_gasolina"
   ]
  },
  {
   "cell_type": "code",
   "execution_count": null,
   "metadata": {},
   "outputs": [],
   "source": []
  },
  {
   "cell_type": "markdown",
   "metadata": {},
   "source": [
    "### 4.3.5 color"
   ]
  },
  {
   "cell_type": "code",
   "execution_count": null,
   "metadata": {},
   "outputs": [],
   "source": []
  },
  {
   "cell_type": "markdown",
   "metadata": {},
   "source": [
    "### 4.3.6 tipo_coche"
   ]
  },
  {
   "cell_type": "code",
   "execution_count": null,
   "metadata": {},
   "outputs": [],
   "source": []
  },
  {
   "cell_type": "markdown",
   "metadata": {},
   "source": [
    "### 4.3.7 volante_regulable"
   ]
  },
  {
   "cell_type": "code",
   "execution_count": null,
   "metadata": {},
   "outputs": [],
   "source": []
  },
  {
   "cell_type": "markdown",
   "metadata": {},
   "source": [
    "### 4.3.8 aire_acondicionado"
   ]
  },
  {
   "cell_type": "code",
   "execution_count": null,
   "metadata": {},
   "outputs": [],
   "source": []
  },
  {
   "cell_type": "markdown",
   "metadata": {},
   "source": [
    "### 4.3.9 camara_trasera"
   ]
  },
  {
   "cell_type": "code",
   "execution_count": null,
   "metadata": {},
   "outputs": [],
   "source": []
  },
  {
   "cell_type": "markdown",
   "metadata": {},
   "source": [
    "### 4.3.10 elevalunas_electrico"
   ]
  },
  {
   "cell_type": "code",
   "execution_count": null,
   "metadata": {},
   "outputs": [],
   "source": []
  },
  {
   "cell_type": "markdown",
   "metadata": {},
   "source": [
    "### 4.3.11 bluetooth"
   ]
  },
  {
   "cell_type": "code",
   "execution_count": null,
   "metadata": {},
   "outputs": [],
   "source": []
  },
  {
   "cell_type": "markdown",
   "metadata": {},
   "source": [
    "### 4.3.12 gps"
   ]
  },
  {
   "cell_type": "code",
   "execution_count": null,
   "metadata": {},
   "outputs": [],
   "source": []
  },
  {
   "cell_type": "markdown",
   "metadata": {},
   "source": [
    "### 4.3.13 alerta_lim_velocidad"
   ]
  },
  {
   "cell_type": "code",
   "execution_count": null,
   "metadata": {},
   "outputs": [],
   "source": []
  },
  {
   "cell_type": "markdown",
   "metadata": {},
   "source": [
    "### 4.3.14 precio"
   ]
  },
  {
   "cell_type": "code",
   "execution_count": null,
   "metadata": {},
   "outputs": [],
   "source": []
  },
  {
   "cell_type": "markdown",
   "metadata": {},
   "source": [
    "### 4.3.14 fecha_venta"
   ]
  },
  {
   "cell_type": "code",
   "execution_count": null,
   "metadata": {},
   "outputs": [],
   "source": []
  },
  {
   "cell_type": "code",
   "execution_count": null,
   "metadata": {},
   "outputs": [],
   "source": []
  },
  {
   "cell_type": "markdown",
   "metadata": {},
   "source": [
    "### 5. Análisis univariable"
   ]
  }
 ],
 "metadata": {
  "kernelspec": {
   "display_name": ".venv",
   "language": "python",
   "name": "python3"
  },
  "language_info": {
   "codemirror_mode": {
    "name": "ipython",
    "version": 3
   },
   "file_extension": ".py",
   "mimetype": "text/x-python",
   "name": "python",
   "nbconvert_exporter": "python",
   "pygments_lexer": "ipython3",
   "version": "3.12.0"
  }
 },
 "nbformat": 4,
 "nbformat_minor": 2
}
